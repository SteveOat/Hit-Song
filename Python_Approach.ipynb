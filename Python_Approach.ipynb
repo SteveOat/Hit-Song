{
  "nbformat": 4,
  "nbformat_minor": 0,
  "metadata": {
    "colab": {
      "provenance": [],
      "include_colab_link": true
    },
    "kernelspec": {
      "name": "python3",
      "display_name": "Python 3"
    },
    "language_info": {
      "name": "python"
    }
  },
  "cells": [
    {
      "cell_type": "markdown",
      "metadata": {
        "id": "view-in-github",
        "colab_type": "text"
      },
      "source": [
        "<a href=\"https://colab.research.google.com/github/SteveOat/Hit-Song/blob/main/Python_Approach.ipynb\" target=\"_parent\"><img src=\"https://colab.research.google.com/assets/colab-badge.svg\" alt=\"Open In Colab\"/></a>"
      ]
    },
    {
      "cell_type": "markdown",
      "source": [
        "<h1>Key finding"
      ],
      "metadata": {
        "id": "AdZrfiu04u2X"
      }
    },
    {
      "cell_type": "markdown",
      "source": [
        "Working on Spotify's api data\n",
        "1. Visualize characteristics of hit songs on Billboard charts.\n",
        "2. Find the most streamed genre on platform.\n",
        "3. Does the artist's fame affect whether a song makes it onto the Billboard charts?"
      ],
      "metadata": {
        "id": "W6m3fZn0AFGk"
      }
    },
    {
      "cell_type": "markdown",
      "source": [
        "<hr>"
      ],
      "metadata": {
        "id": "Ow3d5Yg2gTFI"
      }
    },
    {
      "cell_type": "markdown",
      "source": [
        "<h1>Import Libraries"
      ],
      "metadata": {
        "id": "Kg8VRPuFgYfg"
      }
    },
    {
      "cell_type": "code",
      "execution_count": 1,
      "metadata": {
        "id": "OxecRdkNA7ji",
        "colab": {
          "base_uri": "https://localhost:8080/"
        },
        "outputId": "c66f6d66-fb1c-4290-c3fd-3cdff0c4c4b1"
      },
      "outputs": [
        {
          "output_type": "stream",
          "name": "stdout",
          "text": [
            "Requirement already satisfied: plotly==5.15.0 in /usr/local/lib/python3.10/dist-packages (5.15.0)\n",
            "Requirement already satisfied: tenacity>=6.2.0 in /usr/local/lib/python3.10/dist-packages (from plotly==5.15.0) (9.0.0)\n",
            "Requirement already satisfied: packaging in /usr/local/lib/python3.10/dist-packages (from plotly==5.15.0) (24.1)\n"
          ]
        }
      ],
      "source": [
        "import pandas as pd\n",
        "import numpy as np\n",
        "from IPython.display import display_html\n",
        "\n",
        "!pip install plotly==5.15.0\n",
        "import plotly.express as px\n",
        "import plotly.graph_objects as go\n",
        "\n",
        "df_1 = pd.read_csv('Hot100.csv')\n",
        "df_2 = pd.read_csv('spotify_full_list_20102023.csv')"
      ]
    },
    {
      "cell_type": "markdown",
      "source": [
        "<h1>Preparing Data"
      ],
      "metadata": {
        "id": "hmBSQywindGJ"
      }
    },
    {
      "cell_type": "markdown",
      "source": [
        ">Remove **Bracket \"()\"**  from \"Track\" column to match the text format of song's name."
      ],
      "metadata": {
        "id": "bUYkK45ZDSfg"
      }
    },
    {
      "cell_type": "code",
      "source": [
        "df_1['Track'] = df_1['Track'].str.replace(r'\\(.*\\)', '', regex=True)\n",
        "df_2['Artist and Title'] = df_2['Artist and Title'].str.replace(r'\\(.*\\)', '', regex=True)\n"
      ],
      "metadata": {
        "id": "1uPtIQiVT-dV"
      },
      "execution_count": 2,
      "outputs": []
    },
    {
      "cell_type": "markdown",
      "source": [
        ">Remove **Space \" \"** and transform every text to lowercase\n",
        "\n",
        ">Splits **\"Artist and Title\"** into **\"Artist\"** , **\"Track\"**  \n"
      ],
      "metadata": {
        "id": "d2AAi3jLhUT9"
      }
    },
    {
      "cell_type": "code",
      "source": [
        "df_1['Track'] = df_1['Track'].str.replace(' ','').str.lower()\n",
        "df_1['Artist_No_Space'] = df_1['Artist'].str.replace(' ','').str.lower()\n",
        "\n",
        "df_2[['Artist', 'Track']] = df_2['Artist and Title'].str.split('-', n=1, expand=True)\n",
        "\n",
        "df_2['Artist'] = df_2['Artist'].str.replace(' ','').str.lower()\n",
        "df_2['Track'] = df_2['Track'].str.replace(' ','').str.lower()\n",
        "\n",
        "df_2.columns"
      ],
      "metadata": {
        "id": "HLskID3FCYso",
        "colab": {
          "base_uri": "https://localhost:8080/"
        },
        "outputId": "696823ed-1b63-4a15-9c64-fe31138770bc"
      },
      "execution_count": 3,
      "outputs": [
        {
          "output_type": "execute_result",
          "data": {
            "text/plain": [
              "Index(['Unnamed: 0', 'Artist and Title', 'Artist', 'Streams', 'Daily', 'year',\n",
              "       'main_genre', 'genres', 'first_genre', 'second_genre', 'third_genre',\n",
              "       'Track'],\n",
              "      dtype='object')"
            ]
          },
          "metadata": {},
          "execution_count": 3
        }
      ]
    },
    {
      "cell_type": "markdown",
      "source": [
        ">Merge the tables and filled *NaN* value in **\"main_genre\"** with *Unknown*\n",
        "\n",
        ">Remove duplicate **\"Artist\"** column"
      ],
      "metadata": {
        "id": "6AwpyH6nkMml"
      }
    },
    {
      "cell_type": "code",
      "source": [
        "df_column = df_2[['Track', 'Artist', 'main_genre','Streams']]\n",
        "\n",
        "df_pre_final = pd.merge( df_1, df_column, left_on=['Track','Artist_No_Space'], right_on=['Track','Artist'], how='left' )\n",
        "df_pre_final['main_genre'] = df_pre_final['main_genre'].fillna('Unknown')\n",
        "df_pre_final = df_pre_final.drop(columns=['Artist_y'])\n",
        "\n",
        "df_final = df_pre_final.rename(columns={'Artist_x': 'Artist'})"
      ],
      "metadata": {
        "id": "56O4E4lpM32s"
      },
      "execution_count": 4,
      "outputs": []
    },
    {
      "cell_type": "markdown",
      "source": [
        ">Create new column by combining rows that have the same song name but are sung by different artists to differentiate them."
      ],
      "metadata": {
        "id": "x8FHL3Fxxbg4"
      }
    },
    {
      "cell_type": "code",
      "source": [
        "df_final['Track_n_artist'] = df_final['Track'] + '_' + df_final['Artist_No_Space']\n",
        "\n",
        "df_final.head()"
      ],
      "metadata": {
        "colab": {
          "base_uri": "https://localhost:8080/",
          "height": 360
        },
        "id": "f12-OBHExdST",
        "outputId": "f34b1748-2714-453a-be9f-c3f5bb5119ea"
      },
      "execution_count": 5,
      "outputs": [
        {
          "output_type": "execute_result",
          "data": {
            "text/plain": [
              "            Track         Artist                   Album  Year  Duration  \\\n",
              "0          7rings  Ariana Grande           thank u, next  2019    178626   \n",
              "1       breakfree  Ariana Grande  My Everything - Deluxe  2014    214840   \n",
              "2  dangerouswoman  Ariana Grande         Dangerous Woman  2016    235946   \n",
              "3     godisawoman  Ariana Grande               Sweetener  2018    197546   \n",
              "4         intoyou  Ariana Grande         Dangerous Woman  2016    244453   \n",
              "\n",
              "   Time_Signature  Danceability  Energy  Key  Loudness  ...  Acousticness  \\\n",
              "0               4         0.780   0.321    1   -10.747  ...       0.56200   \n",
              "1               4         0.686   0.702    7    -5.325  ...       0.00637   \n",
              "2               3         0.664   0.602    4    -5.369  ...       0.05290   \n",
              "3               4         0.602   0.658    1    -5.934  ...       0.02330   \n",
              "4               4         0.623   0.734    9    -5.948  ...       0.01620   \n",
              "\n",
              "   Instrumentalness  Liveness  Valence    Tempo  Popularity  Artist_No_Space  \\\n",
              "0          0.000000    0.0881    0.315  139.961          50     arianagrande   \n",
              "1          0.000045    0.2040    0.290  129.948          76     arianagrande   \n",
              "2          0.000000    0.3560    0.289  134.049          70     arianagrande   \n",
              "3          0.000060    0.2370    0.268  145.031          75     arianagrande   \n",
              "4          0.000002    0.1450    0.370  107.853          71     arianagrande   \n",
              "\n",
              "   main_genre       Streams               Track_n_artist  \n",
              "0         Pop  2.307550e+09          7rings_arianagrande  \n",
              "1         Pop  9.188317e+08       breakfree_arianagrande  \n",
              "2         Pop  1.161277e+09  dangerouswoman_arianagrande  \n",
              "3         Pop  1.079614e+09     godisawoman_arianagrande  \n",
              "4         Pop  1.405367e+09         intoyou_arianagrande  \n",
              "\n",
              "[5 rows x 22 columns]"
            ],
            "text/html": [
              "\n",
              "  <div id=\"df-062dbad3-5823-4d80-9fa5-6bde85358af7\" class=\"colab-df-container\">\n",
              "    <div>\n",
              "<style scoped>\n",
              "    .dataframe tbody tr th:only-of-type {\n",
              "        vertical-align: middle;\n",
              "    }\n",
              "\n",
              "    .dataframe tbody tr th {\n",
              "        vertical-align: top;\n",
              "    }\n",
              "\n",
              "    .dataframe thead th {\n",
              "        text-align: right;\n",
              "    }\n",
              "</style>\n",
              "<table border=\"1\" class=\"dataframe\">\n",
              "  <thead>\n",
              "    <tr style=\"text-align: right;\">\n",
              "      <th></th>\n",
              "      <th>Track</th>\n",
              "      <th>Artist</th>\n",
              "      <th>Album</th>\n",
              "      <th>Year</th>\n",
              "      <th>Duration</th>\n",
              "      <th>Time_Signature</th>\n",
              "      <th>Danceability</th>\n",
              "      <th>Energy</th>\n",
              "      <th>Key</th>\n",
              "      <th>Loudness</th>\n",
              "      <th>...</th>\n",
              "      <th>Acousticness</th>\n",
              "      <th>Instrumentalness</th>\n",
              "      <th>Liveness</th>\n",
              "      <th>Valence</th>\n",
              "      <th>Tempo</th>\n",
              "      <th>Popularity</th>\n",
              "      <th>Artist_No_Space</th>\n",
              "      <th>main_genre</th>\n",
              "      <th>Streams</th>\n",
              "      <th>Track_n_artist</th>\n",
              "    </tr>\n",
              "  </thead>\n",
              "  <tbody>\n",
              "    <tr>\n",
              "      <th>0</th>\n",
              "      <td>7rings</td>\n",
              "      <td>Ariana Grande</td>\n",
              "      <td>thank u, next</td>\n",
              "      <td>2019</td>\n",
              "      <td>178626</td>\n",
              "      <td>4</td>\n",
              "      <td>0.780</td>\n",
              "      <td>0.321</td>\n",
              "      <td>1</td>\n",
              "      <td>-10.747</td>\n",
              "      <td>...</td>\n",
              "      <td>0.56200</td>\n",
              "      <td>0.000000</td>\n",
              "      <td>0.0881</td>\n",
              "      <td>0.315</td>\n",
              "      <td>139.961</td>\n",
              "      <td>50</td>\n",
              "      <td>arianagrande</td>\n",
              "      <td>Pop</td>\n",
              "      <td>2.307550e+09</td>\n",
              "      <td>7rings_arianagrande</td>\n",
              "    </tr>\n",
              "    <tr>\n",
              "      <th>1</th>\n",
              "      <td>breakfree</td>\n",
              "      <td>Ariana Grande</td>\n",
              "      <td>My Everything - Deluxe</td>\n",
              "      <td>2014</td>\n",
              "      <td>214840</td>\n",
              "      <td>4</td>\n",
              "      <td>0.686</td>\n",
              "      <td>0.702</td>\n",
              "      <td>7</td>\n",
              "      <td>-5.325</td>\n",
              "      <td>...</td>\n",
              "      <td>0.00637</td>\n",
              "      <td>0.000045</td>\n",
              "      <td>0.2040</td>\n",
              "      <td>0.290</td>\n",
              "      <td>129.948</td>\n",
              "      <td>76</td>\n",
              "      <td>arianagrande</td>\n",
              "      <td>Pop</td>\n",
              "      <td>9.188317e+08</td>\n",
              "      <td>breakfree_arianagrande</td>\n",
              "    </tr>\n",
              "    <tr>\n",
              "      <th>2</th>\n",
              "      <td>dangerouswoman</td>\n",
              "      <td>Ariana Grande</td>\n",
              "      <td>Dangerous Woman</td>\n",
              "      <td>2016</td>\n",
              "      <td>235946</td>\n",
              "      <td>3</td>\n",
              "      <td>0.664</td>\n",
              "      <td>0.602</td>\n",
              "      <td>4</td>\n",
              "      <td>-5.369</td>\n",
              "      <td>...</td>\n",
              "      <td>0.05290</td>\n",
              "      <td>0.000000</td>\n",
              "      <td>0.3560</td>\n",
              "      <td>0.289</td>\n",
              "      <td>134.049</td>\n",
              "      <td>70</td>\n",
              "      <td>arianagrande</td>\n",
              "      <td>Pop</td>\n",
              "      <td>1.161277e+09</td>\n",
              "      <td>dangerouswoman_arianagrande</td>\n",
              "    </tr>\n",
              "    <tr>\n",
              "      <th>3</th>\n",
              "      <td>godisawoman</td>\n",
              "      <td>Ariana Grande</td>\n",
              "      <td>Sweetener</td>\n",
              "      <td>2018</td>\n",
              "      <td>197546</td>\n",
              "      <td>4</td>\n",
              "      <td>0.602</td>\n",
              "      <td>0.658</td>\n",
              "      <td>1</td>\n",
              "      <td>-5.934</td>\n",
              "      <td>...</td>\n",
              "      <td>0.02330</td>\n",
              "      <td>0.000060</td>\n",
              "      <td>0.2370</td>\n",
              "      <td>0.268</td>\n",
              "      <td>145.031</td>\n",
              "      <td>75</td>\n",
              "      <td>arianagrande</td>\n",
              "      <td>Pop</td>\n",
              "      <td>1.079614e+09</td>\n",
              "      <td>godisawoman_arianagrande</td>\n",
              "    </tr>\n",
              "    <tr>\n",
              "      <th>4</th>\n",
              "      <td>intoyou</td>\n",
              "      <td>Ariana Grande</td>\n",
              "      <td>Dangerous Woman</td>\n",
              "      <td>2016</td>\n",
              "      <td>244453</td>\n",
              "      <td>4</td>\n",
              "      <td>0.623</td>\n",
              "      <td>0.734</td>\n",
              "      <td>9</td>\n",
              "      <td>-5.948</td>\n",
              "      <td>...</td>\n",
              "      <td>0.01620</td>\n",
              "      <td>0.000002</td>\n",
              "      <td>0.1450</td>\n",
              "      <td>0.370</td>\n",
              "      <td>107.853</td>\n",
              "      <td>71</td>\n",
              "      <td>arianagrande</td>\n",
              "      <td>Pop</td>\n",
              "      <td>1.405367e+09</td>\n",
              "      <td>intoyou_arianagrande</td>\n",
              "    </tr>\n",
              "  </tbody>\n",
              "</table>\n",
              "<p>5 rows × 22 columns</p>\n",
              "</div>\n",
              "    <div class=\"colab-df-buttons\">\n",
              "\n",
              "  <div class=\"colab-df-container\">\n",
              "    <button class=\"colab-df-convert\" onclick=\"convertToInteractive('df-062dbad3-5823-4d80-9fa5-6bde85358af7')\"\n",
              "            title=\"Convert this dataframe to an interactive table.\"\n",
              "            style=\"display:none;\">\n",
              "\n",
              "  <svg xmlns=\"http://www.w3.org/2000/svg\" height=\"24px\" viewBox=\"0 -960 960 960\">\n",
              "    <path d=\"M120-120v-720h720v720H120Zm60-500h600v-160H180v160Zm220 220h160v-160H400v160Zm0 220h160v-160H400v160ZM180-400h160v-160H180v160Zm440 0h160v-160H620v160ZM180-180h160v-160H180v160Zm440 0h160v-160H620v160Z\"/>\n",
              "  </svg>\n",
              "    </button>\n",
              "\n",
              "  <style>\n",
              "    .colab-df-container {\n",
              "      display:flex;\n",
              "      gap: 12px;\n",
              "    }\n",
              "\n",
              "    .colab-df-convert {\n",
              "      background-color: #E8F0FE;\n",
              "      border: none;\n",
              "      border-radius: 50%;\n",
              "      cursor: pointer;\n",
              "      display: none;\n",
              "      fill: #1967D2;\n",
              "      height: 32px;\n",
              "      padding: 0 0 0 0;\n",
              "      width: 32px;\n",
              "    }\n",
              "\n",
              "    .colab-df-convert:hover {\n",
              "      background-color: #E2EBFA;\n",
              "      box-shadow: 0px 1px 2px rgba(60, 64, 67, 0.3), 0px 1px 3px 1px rgba(60, 64, 67, 0.15);\n",
              "      fill: #174EA6;\n",
              "    }\n",
              "\n",
              "    .colab-df-buttons div {\n",
              "      margin-bottom: 4px;\n",
              "    }\n",
              "\n",
              "    [theme=dark] .colab-df-convert {\n",
              "      background-color: #3B4455;\n",
              "      fill: #D2E3FC;\n",
              "    }\n",
              "\n",
              "    [theme=dark] .colab-df-convert:hover {\n",
              "      background-color: #434B5C;\n",
              "      box-shadow: 0px 1px 3px 1px rgba(0, 0, 0, 0.15);\n",
              "      filter: drop-shadow(0px 1px 2px rgba(0, 0, 0, 0.3));\n",
              "      fill: #FFFFFF;\n",
              "    }\n",
              "  </style>\n",
              "\n",
              "    <script>\n",
              "      const buttonEl =\n",
              "        document.querySelector('#df-062dbad3-5823-4d80-9fa5-6bde85358af7 button.colab-df-convert');\n",
              "      buttonEl.style.display =\n",
              "        google.colab.kernel.accessAllowed ? 'block' : 'none';\n",
              "\n",
              "      async function convertToInteractive(key) {\n",
              "        const element = document.querySelector('#df-062dbad3-5823-4d80-9fa5-6bde85358af7');\n",
              "        const dataTable =\n",
              "          await google.colab.kernel.invokeFunction('convertToInteractive',\n",
              "                                                    [key], {});\n",
              "        if (!dataTable) return;\n",
              "\n",
              "        const docLinkHtml = 'Like what you see? Visit the ' +\n",
              "          '<a target=\"_blank\" href=https://colab.research.google.com/notebooks/data_table.ipynb>data table notebook</a>'\n",
              "          + ' to learn more about interactive tables.';\n",
              "        element.innerHTML = '';\n",
              "        dataTable['output_type'] = 'display_data';\n",
              "        await google.colab.output.renderOutput(dataTable, element);\n",
              "        const docLink = document.createElement('div');\n",
              "        docLink.innerHTML = docLinkHtml;\n",
              "        element.appendChild(docLink);\n",
              "      }\n",
              "    </script>\n",
              "  </div>\n",
              "\n",
              "\n",
              "<div id=\"df-f497f873-19b8-4b33-80fc-e7bde61c5a45\">\n",
              "  <button class=\"colab-df-quickchart\" onclick=\"quickchart('df-f497f873-19b8-4b33-80fc-e7bde61c5a45')\"\n",
              "            title=\"Suggest charts\"\n",
              "            style=\"display:none;\">\n",
              "\n",
              "<svg xmlns=\"http://www.w3.org/2000/svg\" height=\"24px\"viewBox=\"0 0 24 24\"\n",
              "     width=\"24px\">\n",
              "    <g>\n",
              "        <path d=\"M19 3H5c-1.1 0-2 .9-2 2v14c0 1.1.9 2 2 2h14c1.1 0 2-.9 2-2V5c0-1.1-.9-2-2-2zM9 17H7v-7h2v7zm4 0h-2V7h2v10zm4 0h-2v-4h2v4z\"/>\n",
              "    </g>\n",
              "</svg>\n",
              "  </button>\n",
              "\n",
              "<style>\n",
              "  .colab-df-quickchart {\n",
              "      --bg-color: #E8F0FE;\n",
              "      --fill-color: #1967D2;\n",
              "      --hover-bg-color: #E2EBFA;\n",
              "      --hover-fill-color: #174EA6;\n",
              "      --disabled-fill-color: #AAA;\n",
              "      --disabled-bg-color: #DDD;\n",
              "  }\n",
              "\n",
              "  [theme=dark] .colab-df-quickchart {\n",
              "      --bg-color: #3B4455;\n",
              "      --fill-color: #D2E3FC;\n",
              "      --hover-bg-color: #434B5C;\n",
              "      --hover-fill-color: #FFFFFF;\n",
              "      --disabled-bg-color: #3B4455;\n",
              "      --disabled-fill-color: #666;\n",
              "  }\n",
              "\n",
              "  .colab-df-quickchart {\n",
              "    background-color: var(--bg-color);\n",
              "    border: none;\n",
              "    border-radius: 50%;\n",
              "    cursor: pointer;\n",
              "    display: none;\n",
              "    fill: var(--fill-color);\n",
              "    height: 32px;\n",
              "    padding: 0;\n",
              "    width: 32px;\n",
              "  }\n",
              "\n",
              "  .colab-df-quickchart:hover {\n",
              "    background-color: var(--hover-bg-color);\n",
              "    box-shadow: 0 1px 2px rgba(60, 64, 67, 0.3), 0 1px 3px 1px rgba(60, 64, 67, 0.15);\n",
              "    fill: var(--button-hover-fill-color);\n",
              "  }\n",
              "\n",
              "  .colab-df-quickchart-complete:disabled,\n",
              "  .colab-df-quickchart-complete:disabled:hover {\n",
              "    background-color: var(--disabled-bg-color);\n",
              "    fill: var(--disabled-fill-color);\n",
              "    box-shadow: none;\n",
              "  }\n",
              "\n",
              "  .colab-df-spinner {\n",
              "    border: 2px solid var(--fill-color);\n",
              "    border-color: transparent;\n",
              "    border-bottom-color: var(--fill-color);\n",
              "    animation:\n",
              "      spin 1s steps(1) infinite;\n",
              "  }\n",
              "\n",
              "  @keyframes spin {\n",
              "    0% {\n",
              "      border-color: transparent;\n",
              "      border-bottom-color: var(--fill-color);\n",
              "      border-left-color: var(--fill-color);\n",
              "    }\n",
              "    20% {\n",
              "      border-color: transparent;\n",
              "      border-left-color: var(--fill-color);\n",
              "      border-top-color: var(--fill-color);\n",
              "    }\n",
              "    30% {\n",
              "      border-color: transparent;\n",
              "      border-left-color: var(--fill-color);\n",
              "      border-top-color: var(--fill-color);\n",
              "      border-right-color: var(--fill-color);\n",
              "    }\n",
              "    40% {\n",
              "      border-color: transparent;\n",
              "      border-right-color: var(--fill-color);\n",
              "      border-top-color: var(--fill-color);\n",
              "    }\n",
              "    60% {\n",
              "      border-color: transparent;\n",
              "      border-right-color: var(--fill-color);\n",
              "    }\n",
              "    80% {\n",
              "      border-color: transparent;\n",
              "      border-right-color: var(--fill-color);\n",
              "      border-bottom-color: var(--fill-color);\n",
              "    }\n",
              "    90% {\n",
              "      border-color: transparent;\n",
              "      border-bottom-color: var(--fill-color);\n",
              "    }\n",
              "  }\n",
              "</style>\n",
              "\n",
              "  <script>\n",
              "    async function quickchart(key) {\n",
              "      const quickchartButtonEl =\n",
              "        document.querySelector('#' + key + ' button');\n",
              "      quickchartButtonEl.disabled = true;  // To prevent multiple clicks.\n",
              "      quickchartButtonEl.classList.add('colab-df-spinner');\n",
              "      try {\n",
              "        const charts = await google.colab.kernel.invokeFunction(\n",
              "            'suggestCharts', [key], {});\n",
              "      } catch (error) {\n",
              "        console.error('Error during call to suggestCharts:', error);\n",
              "      }\n",
              "      quickchartButtonEl.classList.remove('colab-df-spinner');\n",
              "      quickchartButtonEl.classList.add('colab-df-quickchart-complete');\n",
              "    }\n",
              "    (() => {\n",
              "      let quickchartButtonEl =\n",
              "        document.querySelector('#df-f497f873-19b8-4b33-80fc-e7bde61c5a45 button');\n",
              "      quickchartButtonEl.style.display =\n",
              "        google.colab.kernel.accessAllowed ? 'block' : 'none';\n",
              "    })();\n",
              "  </script>\n",
              "</div>\n",
              "\n",
              "    </div>\n",
              "  </div>\n"
            ],
            "application/vnd.google.colaboratory.intrinsic+json": {
              "type": "dataframe",
              "variable_name": "df_final"
            }
          },
          "metadata": {},
          "execution_count": 5
        }
      ]
    },
    {
      "cell_type": "markdown",
      "source": [
        "<hr>"
      ],
      "metadata": {
        "id": "pEbDewlAIpNK"
      }
    },
    {
      "cell_type": "markdown",
      "source": [
        "<h1>Clustering Data"
      ],
      "metadata": {
        "id": "wWYeua8mJMMy"
      }
    },
    {
      "cell_type": "markdown",
      "source": [
        "**1. Key**\n",
        "*   Musical key of the track, represented by integers (0 = C, 1 = C#/Db, etc.).\n",
        "\n"
      ],
      "metadata": {
        "id": "NlxbZ28Kn-Yk"
      }
    },
    {
      "cell_type": "code",
      "source": [
        "df_final['Cluster_Key'] = np.where(df_final['Key'] == 0, 'C',\n",
        "                                         np.where(df_final['Key'] == 1, 'C#/Db',\n",
        "                                        np.where(df_final['Key'] == 2, 'D',\n",
        "                                        np.where(df_final['Key'] == 3, 'Eb',\n",
        "                                        np.where(df_final['Key'] == 4, 'E',\n",
        "                                        np.where(df_final['Key'] == 5, 'F',\n",
        "                                        np.where(df_final['Key'] == 6, 'F#/Gb',\n",
        "                                        np.where(df_final['Key'] == 7, 'G',\n",
        "                                        np.where(df_final['Key'] == 8, 'G#/Ab',\n",
        "                                        np.where(df_final['Key'] == 9, 'A',\n",
        "                                        np.where(df_final['Key'] ==  10, 'A#/Bb',\n",
        "                                        np.where(df_final['Key'] ==  11, 'B',''))))))))))))"
      ],
      "metadata": {
        "id": "i_iXIkGRbub9"
      },
      "execution_count": 6,
      "outputs": []
    },
    {
      "cell_type": "markdown",
      "source": [
        "**2. Mode**\n",
        "* Indicates whether the track is in a major (1) or minor (0) key."
      ],
      "metadata": {
        "id": "RlzzQgUtJSnp"
      }
    },
    {
      "cell_type": "code",
      "source": [
        "df_final['Cluster_Mode'] = np.where(df_final['Mode'] == 0, 'Minor',\n",
        "                                      np.where(df_final['Mode'] == 1, 'Major',''))"
      ],
      "metadata": {
        "id": "967Hy7g1JfYm"
      },
      "execution_count": 7,
      "outputs": []
    },
    {
      "cell_type": "markdown",
      "source": [
        "**3. Duration**\n",
        "- Length of the track, usually in milliseconds.\n",
        " - Short: 0 - 180,000 ms (0 - 3 minutes)\n",
        " - Medium: 180,001 - 300,000 ms (3 - 5 minutes)\n",
        " - Long: 300,001 ms and above (5+ minutes)"
      ],
      "metadata": {
        "id": "ss5thT7yHOCs"
      }
    },
    {
      "cell_type": "code",
      "source": [
        "df_final['Cluster_Duration(Min)'] = np.where(df_final['Duration'] < 180000, '0-3mins',\n",
        "                                                  np.where(df_final['Duration'] < 300000, '3-5mins', '5+mins'))"
      ],
      "metadata": {
        "id": "JFs-ySmsD_Yu"
      },
      "execution_count": 8,
      "outputs": []
    },
    {
      "cell_type": "markdown",
      "source": [
        "**4. Danceability**\n",
        "- How suitable a track is for dancing, from 0.0 to 1.0.\n",
        " - Low: 0.0 - 0.4 (e.g., classical, ambient)\n",
        " - Medium: 0.4 - 0.7 (e.g., soft rock, indie)\n",
        " - High: 0.7 - 1.0 (e.g., pop, dance, hip-hop)"
      ],
      "metadata": {
        "id": "ScMhvQ3qgkyw"
      }
    },
    {
      "cell_type": "code",
      "source": [
        "df_final['Cluster_Danceability'] = np.where(df_final['Danceability'] <= 0.4, 'Low_Dance',\n",
        "                                               np.where(df_final['Danceability'] <= 0.7, 'Mid_Dance',\n",
        "                                               np.where(df_final['Danceability'] <=  1,'High_Dance','')))"
      ],
      "metadata": {
        "id": "-xXlv-e_gpip"
      },
      "execution_count": 9,
      "outputs": []
    },
    {
      "cell_type": "markdown",
      "source": [
        "**5. Energy**\n",
        "- Measure of intensity and activity in the track, from 0.0 to 1.0.\n",
        " - Low Energy: 0.0 - 0.4 (e.g., acoustic, ambient, soft ballads)\n",
        " - Medium Energy: 0.4 - 0.7 (e.g., indie rock, chill electronic)\n",
        " - High Energy: 0.7 - 1.0 (e.g., EDM, rock, fast-paced pop)"
      ],
      "metadata": {
        "id": "q7S_2bxZh-k9"
      }
    },
    {
      "cell_type": "code",
      "source": [
        "df_final['Cluster_Energy'] = np.where(df_final['Energy'] <= 0.4, 'Low_Energy',\n",
        "                                        np.where(df_final['Energy'] <= 0.7, 'Mid_Energy',\n",
        "                                        np.where(df_final['Energy'] <=  1, 'High_Energy','')))"
      ],
      "metadata": {
        "id": "IdsGzo-xiESu"
      },
      "execution_count": 10,
      "outputs": []
    },
    {
      "cell_type": "markdown",
      "source": [
        "**6.Loudness**\n",
        "- Spotify offers three loudness settings to control how normalization is applied:\n",
        "\n",
        " - Loud : This applies a normalization level of around -11 dB LUFS, suitable for noisier environments where higher volume is needed.\n",
        " - Normal (default) : This is the standard setting at -14 dB LUFS, aiming for balanced playback across all tracks.\n",
        " - Quiet : This setting lowers the loudness normalization target to -23 dB LUFS, ideal for quiet environments or more dynamic listening experiences."
      ],
      "metadata": {
        "id": "13iRr6ah79tD"
      }
    },
    {
      "cell_type": "code",
      "source": [
        "df_final['Cluster_Loudness'] = np.where(df_final['Loudness'] >= -11, 'High_Loud',\n",
        "                                            np.where(df_final['Loudness'] >= -14, 'Mid_Loud', 'Low_Loud'))"
      ],
      "metadata": {
        "id": "nRxU2U93ecGz"
      },
      "execution_count": 11,
      "outputs": []
    },
    {
      "cell_type": "markdown",
      "source": [
        "**7. Speechiness**\n",
        "-  Detects the presence of spoken words in a track, from 0.0 to 1.0.\n",
        " - Low Speechiness: 0.0 - 0.33 (e.g., music without much spoken word)\n",
        " - Medium Speechiness: 0.33 - 0.66 (e.g., tracks with both music and speech, like rap)\n",
        " - High Speechiness: 0.66 - 1.0 (e.g., podcasts, spoken word tracks)"
      ],
      "metadata": {
        "id": "GnY6QkWpkM2G"
      }
    },
    {
      "cell_type": "code",
      "source": [
        "df_final['Cluster_Speechiness'] = np.where(df_final['Speechiness'] <= 0.333, 'Low_Speech',\n",
        "                                               np.where(df_final['Speechiness'] <= 0.666, 'Mid_Speech',\n",
        "                                               np.where(df_final['Speechiness'] <=  1, 'High_Speech','')))"
      ],
      "metadata": {
        "id": "NYWuMDIVkRLQ"
      },
      "execution_count": 12,
      "outputs": []
    },
    {
      "cell_type": "markdown",
      "source": [
        "**8. Acousticness**\n",
        "- Confidence level that the track is acoustic, from 0.0 to 1.0.\n",
        " - Low Acousticness: 0.0 - 0.3 (e.g., electronic, heavily produced)\n",
        " - Medium Acousticness: 0.3 - 0.7 (e.g., some balance between acoustic and electronic elements)\n",
        " - High Acousticness: 0.7 - 1.0 (e.g., acoustic tracks, singer-songwriter)"
      ],
      "metadata": {
        "id": "qz5_sBCHkoDi"
      }
    },
    {
      "cell_type": "code",
      "source": [
        "df_final['Cluster_Acousticness'] = np.where(df_final['Acousticness'] <= 0.3, 'Low_Acoustic',\n",
        "                                                np.where(df_final['Acousticness'] <= 0.7, 'Mid_Acoustic',\n",
        "                                                np.where(df_final['Acousticness'] <=  1, 'High_Acoustic','')))"
      ],
      "metadata": {
        "id": "J2JxXaGOkvP_"
      },
      "execution_count": 13,
      "outputs": []
    },
    {
      "cell_type": "markdown",
      "source": [
        "**9. Instrumentalness**\n",
        "- Probability that the track contains no vocals, from 0.0 to 1.0.\n",
        " - Vocal-heavy: 0.0 - 0.1 (most mainstream music)\n",
        " - Medium Instrumentalness: 0.1 - 0.5 (vocals present but not dominant)\n",
        " - Instrumental: 0.5 - 1.0 (mostly instrumental, no vocals)"
      ],
      "metadata": {
        "id": "SOSqwFysk8L0"
      }
    },
    {
      "cell_type": "code",
      "source": [
        "df_final['Cluster_Instrumentalness'] = np.where(df_final['Instrumentalness'] <= 0.1, 'Low_Instru',\n",
        "                                                      np.where(df_final['Instrumentalness'] <= 0.5, 'Mid_Instru',\n",
        "                                                      np.where(df_final['Instrumentalness'] <=  1, 'High_Instru','')))"
      ],
      "metadata": {
        "id": "1sz9ME0jlAUI"
      },
      "execution_count": 14,
      "outputs": []
    },
    {
      "cell_type": "markdown",
      "source": [
        "**10. Liveness**\n",
        "Detects the presence of a live audience in the recording, from 0.0 to 1.0.\n",
        "- Studio quality group\n",
        " - Studio-like: 0.0 - 0.3 (recorded in a studio without live ambiance)\n",
        "- Outdoor quality group\n",
        " - Medium Liveness: 0.3 - 0.6 (some audience noise or live characteristics)\n",
        " - Live Recording: 0.6 - 1.0 (recorded live in concert with audience presence)\n"
      ],
      "metadata": {
        "id": "tNiyhFwVlSQo"
      }
    },
    {
      "cell_type": "code",
      "source": [
        "df_final['Cluster_Liveness'] = np.where(df_final['Liveness'] <= 0.3, 'Studio_Liveness','Outdoor_Liveness')"
      ],
      "metadata": {
        "id": "nAJKX6ZOlXSg"
      },
      "execution_count": 15,
      "outputs": []
    },
    {
      "cell_type": "markdown",
      "source": [
        "**11. Valence**\n",
        "- Describes the musical positiveness conveyed by a track, from 0.0 to 1.0.\n",
        " - Low Valence: 0.0 - 0.3 (e.g., sad, melancholic tracks)\n",
        " - Medium Valence: 0.3 - 0.6 (e.g., neutral or emotionally mixed tracks)\n",
        " - High Valence: 0.6 - 1.0 (e.g., happy, cheerful, upbeat tracks)"
      ],
      "metadata": {
        "id": "WVkKOC2alnXj"
      }
    },
    {
      "cell_type": "code",
      "source": [
        "df_final['Cluster_Valence'] = np.where(df_final['Valence'] <= 0.3, 'Low_Valence',\n",
        "                                         np.where(df_final['Valence'] <= 0.6, 'Mid_Valence',\n",
        "                                         np.where(df_final['Valence'] <=  1, 'High_Valence','')))"
      ],
      "metadata": {
        "id": "weRX37e0lsMP"
      },
      "execution_count": 16,
      "outputs": []
    },
    {
      "cell_type": "markdown",
      "source": [
        "**12. Tempo**\n",
        "- Speed of the track in beats per minute (BPM).\n",
        " - Slow: 0 - 60 BPM (e.g., ballads, ambient music)\n",
        " - Medium: 60 - 120 BPM (e.g., pop, mid-tempo rock)\n",
        " - Fast: 120 - 180+ BPM (e.g., dance, EDM, upbeat tracks)"
      ],
      "metadata": {
        "id": "TvGO-f0Ql4fc"
      }
    },
    {
      "cell_type": "code",
      "source": [
        "df_final['Cluster_Tempo'] = np.where(df_final['Tempo'] <= 60 , 'Low_Tempo',\n",
        "                                       np.where(df_final['Tempo'] <= 120 , 'Mid_Tempo', 'High_Tempo'))"
      ],
      "metadata": {
        "id": "lfz0pKb3l9yc"
      },
      "execution_count": 17,
      "outputs": []
    },
    {
      "cell_type": "markdown",
      "source": [
        "<hr>"
      ],
      "metadata": {
        "id": "3HPpbUQ5rDA2"
      }
    },
    {
      "cell_type": "markdown",
      "source": [
        "<h2>1. Visualize characteristics of hit songs on Billboard charts."
      ],
      "metadata": {
        "id": "zqwaDFDv_XT3"
      }
    },
    {
      "cell_type": "markdown",
      "source": [
        "> Key Signature"
      ],
      "metadata": {
        "id": "tFf1c9rQ88DD"
      }
    },
    {
      "cell_type": "code",
      "source": [
        "cluster_key_count = df_final.groupby('Cluster_Key')['Track'].count().reset_index()\n",
        "\n",
        "sort_key = ['C', 'C#/Db', 'D', 'Eb', 'E', 'F', 'F#/Gb', 'G', 'G#/Ab', 'A', 'A#/Bb', 'B']\n",
        "\n",
        "fig = px.bar(cluster_key_count, x='Cluster_Key', y='Track',\n",
        "             category_orders={'Cluster_Key': sort_key},\n",
        "             labels={'Track': 'Count of Track', 'Cluster_Key': 'Cluster Key'},\n",
        "             title='Track Count by Cluster Key',\n",
        "             text='Track')\n",
        "\n",
        "fig.update_traces(marker_color='skyblue', textposition='outside')\n",
        "\n",
        "fig.update_layout(xaxis_title='Cluster Key',\n",
        "                  yaxis_title='Count of Track',\n",
        "                  xaxis_tickangle=-45,\n",
        "                  uniformtext_minsize=8, uniformtext_mode='hide')\n",
        "\n",
        "fig.show()\n"
      ],
      "metadata": {
        "colab": {
          "base_uri": "https://localhost:8080/",
          "height": 542
        },
        "id": "_MWUOgZYyIxs",
        "outputId": "79566607-8b17-482e-ab6b-d932da6097e6"
      },
      "execution_count": 18,
      "outputs": [
        {
          "output_type": "display_data",
          "data": {
            "text/html": [
              "<html>\n",
              "<head><meta charset=\"utf-8\" /></head>\n",
              "<body>\n",
              "    <div>            <script src=\"https://cdnjs.cloudflare.com/ajax/libs/mathjax/2.7.5/MathJax.js?config=TeX-AMS-MML_SVG\"></script><script type=\"text/javascript\">if (window.MathJax && window.MathJax.Hub && window.MathJax.Hub.Config) {window.MathJax.Hub.Config({SVG: {font: \"STIX-Web\"}});}</script>                <script type=\"text/javascript\">window.PlotlyConfig = {MathJaxConfig: 'local'};</script>\n",
              "        <script charset=\"utf-8\" src=\"https://cdn.plot.ly/plotly-2.24.1.min.js\"></script>                <div id=\"4d486c20-605f-4354-bb70-9fea2bae35da\" class=\"plotly-graph-div\" style=\"height:525px; width:100%;\"></div>            <script type=\"text/javascript\">                                    window.PLOTLYENV=window.PLOTLYENV || {};                                    if (document.getElementById(\"4d486c20-605f-4354-bb70-9fea2bae35da\")) {                    Plotly.newPlot(                        \"4d486c20-605f-4354-bb70-9fea2bae35da\",                        [{\"alignmentgroup\":\"True\",\"hovertemplate\":\"Cluster Key=%{x}\\u003cbr\\u003eCount of Track=%{text}\\u003cextra\\u003e\\u003c\\u002fextra\\u003e\",\"legendgroup\":\"\",\"marker\":{\"color\":\"skyblue\",\"pattern\":{\"shape\":\"\"}},\"name\":\"\",\"offsetgroup\":\"\",\"orientation\":\"v\",\"showlegend\":false,\"text\":[51.0,39.0,75.0,74.0,72.0,48.0,44.0,17.0,42.0,60.0,71.0,51.0],\"textposition\":\"outside\",\"x\":[\"A\",\"A#\\u002fBb\",\"B\",\"C\",\"C#\\u002fDb\",\"D\",\"E\",\"Eb\",\"F\",\"F#\\u002fGb\",\"G\",\"G#\\u002fAb\"],\"xaxis\":\"x\",\"y\":[51,39,75,74,72,48,44,17,42,60,71,51],\"yaxis\":\"y\",\"type\":\"bar\"}],                        {\"template\":{\"data\":{\"histogram2dcontour\":[{\"type\":\"histogram2dcontour\",\"colorbar\":{\"outlinewidth\":0,\"ticks\":\"\"},\"colorscale\":[[0.0,\"#0d0887\"],[0.1111111111111111,\"#46039f\"],[0.2222222222222222,\"#7201a8\"],[0.3333333333333333,\"#9c179e\"],[0.4444444444444444,\"#bd3786\"],[0.5555555555555556,\"#d8576b\"],[0.6666666666666666,\"#ed7953\"],[0.7777777777777778,\"#fb9f3a\"],[0.8888888888888888,\"#fdca26\"],[1.0,\"#f0f921\"]]}],\"choropleth\":[{\"type\":\"choropleth\",\"colorbar\":{\"outlinewidth\":0,\"ticks\":\"\"}}],\"histogram2d\":[{\"type\":\"histogram2d\",\"colorbar\":{\"outlinewidth\":0,\"ticks\":\"\"},\"colorscale\":[[0.0,\"#0d0887\"],[0.1111111111111111,\"#46039f\"],[0.2222222222222222,\"#7201a8\"],[0.3333333333333333,\"#9c179e\"],[0.4444444444444444,\"#bd3786\"],[0.5555555555555556,\"#d8576b\"],[0.6666666666666666,\"#ed7953\"],[0.7777777777777778,\"#fb9f3a\"],[0.8888888888888888,\"#fdca26\"],[1.0,\"#f0f921\"]]}],\"heatmap\":[{\"type\":\"heatmap\",\"colorbar\":{\"outlinewidth\":0,\"ticks\":\"\"},\"colorscale\":[[0.0,\"#0d0887\"],[0.1111111111111111,\"#46039f\"],[0.2222222222222222,\"#7201a8\"],[0.3333333333333333,\"#9c179e\"],[0.4444444444444444,\"#bd3786\"],[0.5555555555555556,\"#d8576b\"],[0.6666666666666666,\"#ed7953\"],[0.7777777777777778,\"#fb9f3a\"],[0.8888888888888888,\"#fdca26\"],[1.0,\"#f0f921\"]]}],\"heatmapgl\":[{\"type\":\"heatmapgl\",\"colorbar\":{\"outlinewidth\":0,\"ticks\":\"\"},\"colorscale\":[[0.0,\"#0d0887\"],[0.1111111111111111,\"#46039f\"],[0.2222222222222222,\"#7201a8\"],[0.3333333333333333,\"#9c179e\"],[0.4444444444444444,\"#bd3786\"],[0.5555555555555556,\"#d8576b\"],[0.6666666666666666,\"#ed7953\"],[0.7777777777777778,\"#fb9f3a\"],[0.8888888888888888,\"#fdca26\"],[1.0,\"#f0f921\"]]}],\"contourcarpet\":[{\"type\":\"contourcarpet\",\"colorbar\":{\"outlinewidth\":0,\"ticks\":\"\"}}],\"contour\":[{\"type\":\"contour\",\"colorbar\":{\"outlinewidth\":0,\"ticks\":\"\"},\"colorscale\":[[0.0,\"#0d0887\"],[0.1111111111111111,\"#46039f\"],[0.2222222222222222,\"#7201a8\"],[0.3333333333333333,\"#9c179e\"],[0.4444444444444444,\"#bd3786\"],[0.5555555555555556,\"#d8576b\"],[0.6666666666666666,\"#ed7953\"],[0.7777777777777778,\"#fb9f3a\"],[0.8888888888888888,\"#fdca26\"],[1.0,\"#f0f921\"]]}],\"surface\":[{\"type\":\"surface\",\"colorbar\":{\"outlinewidth\":0,\"ticks\":\"\"},\"colorscale\":[[0.0,\"#0d0887\"],[0.1111111111111111,\"#46039f\"],[0.2222222222222222,\"#7201a8\"],[0.3333333333333333,\"#9c179e\"],[0.4444444444444444,\"#bd3786\"],[0.5555555555555556,\"#d8576b\"],[0.6666666666666666,\"#ed7953\"],[0.7777777777777778,\"#fb9f3a\"],[0.8888888888888888,\"#fdca26\"],[1.0,\"#f0f921\"]]}],\"mesh3d\":[{\"type\":\"mesh3d\",\"colorbar\":{\"outlinewidth\":0,\"ticks\":\"\"}}],\"scatter\":[{\"fillpattern\":{\"fillmode\":\"overlay\",\"size\":10,\"solidity\":0.2},\"type\":\"scatter\"}],\"parcoords\":[{\"type\":\"parcoords\",\"line\":{\"colorbar\":{\"outlinewidth\":0,\"ticks\":\"\"}}}],\"scatterpolargl\":[{\"type\":\"scatterpolargl\",\"marker\":{\"colorbar\":{\"outlinewidth\":0,\"ticks\":\"\"}}}],\"bar\":[{\"error_x\":{\"color\":\"#2a3f5f\"},\"error_y\":{\"color\":\"#2a3f5f\"},\"marker\":{\"line\":{\"color\":\"#E5ECF6\",\"width\":0.5},\"pattern\":{\"fillmode\":\"overlay\",\"size\":10,\"solidity\":0.2}},\"type\":\"bar\"}],\"scattergeo\":[{\"type\":\"scattergeo\",\"marker\":{\"colorbar\":{\"outlinewidth\":0,\"ticks\":\"\"}}}],\"scatterpolar\":[{\"type\":\"scatterpolar\",\"marker\":{\"colorbar\":{\"outlinewidth\":0,\"ticks\":\"\"}}}],\"histogram\":[{\"marker\":{\"pattern\":{\"fillmode\":\"overlay\",\"size\":10,\"solidity\":0.2}},\"type\":\"histogram\"}],\"scattergl\":[{\"type\":\"scattergl\",\"marker\":{\"colorbar\":{\"outlinewidth\":0,\"ticks\":\"\"}}}],\"scatter3d\":[{\"type\":\"scatter3d\",\"line\":{\"colorbar\":{\"outlinewidth\":0,\"ticks\":\"\"}},\"marker\":{\"colorbar\":{\"outlinewidth\":0,\"ticks\":\"\"}}}],\"scattermapbox\":[{\"type\":\"scattermapbox\",\"marker\":{\"colorbar\":{\"outlinewidth\":0,\"ticks\":\"\"}}}],\"scatterternary\":[{\"type\":\"scatterternary\",\"marker\":{\"colorbar\":{\"outlinewidth\":0,\"ticks\":\"\"}}}],\"scattercarpet\":[{\"type\":\"scattercarpet\",\"marker\":{\"colorbar\":{\"outlinewidth\":0,\"ticks\":\"\"}}}],\"carpet\":[{\"aaxis\":{\"endlinecolor\":\"#2a3f5f\",\"gridcolor\":\"white\",\"linecolor\":\"white\",\"minorgridcolor\":\"white\",\"startlinecolor\":\"#2a3f5f\"},\"baxis\":{\"endlinecolor\":\"#2a3f5f\",\"gridcolor\":\"white\",\"linecolor\":\"white\",\"minorgridcolor\":\"white\",\"startlinecolor\":\"#2a3f5f\"},\"type\":\"carpet\"}],\"table\":[{\"cells\":{\"fill\":{\"color\":\"#EBF0F8\"},\"line\":{\"color\":\"white\"}},\"header\":{\"fill\":{\"color\":\"#C8D4E3\"},\"line\":{\"color\":\"white\"}},\"type\":\"table\"}],\"barpolar\":[{\"marker\":{\"line\":{\"color\":\"#E5ECF6\",\"width\":0.5},\"pattern\":{\"fillmode\":\"overlay\",\"size\":10,\"solidity\":0.2}},\"type\":\"barpolar\"}],\"pie\":[{\"automargin\":true,\"type\":\"pie\"}]},\"layout\":{\"autotypenumbers\":\"strict\",\"colorway\":[\"#636efa\",\"#EF553B\",\"#00cc96\",\"#ab63fa\",\"#FFA15A\",\"#19d3f3\",\"#FF6692\",\"#B6E880\",\"#FF97FF\",\"#FECB52\"],\"font\":{\"color\":\"#2a3f5f\"},\"hovermode\":\"closest\",\"hoverlabel\":{\"align\":\"left\"},\"paper_bgcolor\":\"white\",\"plot_bgcolor\":\"#E5ECF6\",\"polar\":{\"bgcolor\":\"#E5ECF6\",\"angularaxis\":{\"gridcolor\":\"white\",\"linecolor\":\"white\",\"ticks\":\"\"},\"radialaxis\":{\"gridcolor\":\"white\",\"linecolor\":\"white\",\"ticks\":\"\"}},\"ternary\":{\"bgcolor\":\"#E5ECF6\",\"aaxis\":{\"gridcolor\":\"white\",\"linecolor\":\"white\",\"ticks\":\"\"},\"baxis\":{\"gridcolor\":\"white\",\"linecolor\":\"white\",\"ticks\":\"\"},\"caxis\":{\"gridcolor\":\"white\",\"linecolor\":\"white\",\"ticks\":\"\"}},\"coloraxis\":{\"colorbar\":{\"outlinewidth\":0,\"ticks\":\"\"}},\"colorscale\":{\"sequential\":[[0.0,\"#0d0887\"],[0.1111111111111111,\"#46039f\"],[0.2222222222222222,\"#7201a8\"],[0.3333333333333333,\"#9c179e\"],[0.4444444444444444,\"#bd3786\"],[0.5555555555555556,\"#d8576b\"],[0.6666666666666666,\"#ed7953\"],[0.7777777777777778,\"#fb9f3a\"],[0.8888888888888888,\"#fdca26\"],[1.0,\"#f0f921\"]],\"sequentialminus\":[[0.0,\"#0d0887\"],[0.1111111111111111,\"#46039f\"],[0.2222222222222222,\"#7201a8\"],[0.3333333333333333,\"#9c179e\"],[0.4444444444444444,\"#bd3786\"],[0.5555555555555556,\"#d8576b\"],[0.6666666666666666,\"#ed7953\"],[0.7777777777777778,\"#fb9f3a\"],[0.8888888888888888,\"#fdca26\"],[1.0,\"#f0f921\"]],\"diverging\":[[0,\"#8e0152\"],[0.1,\"#c51b7d\"],[0.2,\"#de77ae\"],[0.3,\"#f1b6da\"],[0.4,\"#fde0ef\"],[0.5,\"#f7f7f7\"],[0.6,\"#e6f5d0\"],[0.7,\"#b8e186\"],[0.8,\"#7fbc41\"],[0.9,\"#4d9221\"],[1,\"#276419\"]]},\"xaxis\":{\"gridcolor\":\"white\",\"linecolor\":\"white\",\"ticks\":\"\",\"title\":{\"standoff\":15},\"zerolinecolor\":\"white\",\"automargin\":true,\"zerolinewidth\":2},\"yaxis\":{\"gridcolor\":\"white\",\"linecolor\":\"white\",\"ticks\":\"\",\"title\":{\"standoff\":15},\"zerolinecolor\":\"white\",\"automargin\":true,\"zerolinewidth\":2},\"scene\":{\"xaxis\":{\"backgroundcolor\":\"#E5ECF6\",\"gridcolor\":\"white\",\"linecolor\":\"white\",\"showbackground\":true,\"ticks\":\"\",\"zerolinecolor\":\"white\",\"gridwidth\":2},\"yaxis\":{\"backgroundcolor\":\"#E5ECF6\",\"gridcolor\":\"white\",\"linecolor\":\"white\",\"showbackground\":true,\"ticks\":\"\",\"zerolinecolor\":\"white\",\"gridwidth\":2},\"zaxis\":{\"backgroundcolor\":\"#E5ECF6\",\"gridcolor\":\"white\",\"linecolor\":\"white\",\"showbackground\":true,\"ticks\":\"\",\"zerolinecolor\":\"white\",\"gridwidth\":2}},\"shapedefaults\":{\"line\":{\"color\":\"#2a3f5f\"}},\"annotationdefaults\":{\"arrowcolor\":\"#2a3f5f\",\"arrowhead\":0,\"arrowwidth\":1},\"geo\":{\"bgcolor\":\"white\",\"landcolor\":\"#E5ECF6\",\"subunitcolor\":\"white\",\"showland\":true,\"showlakes\":true,\"lakecolor\":\"white\"},\"title\":{\"x\":0.05},\"mapbox\":{\"style\":\"light\"}}},\"xaxis\":{\"anchor\":\"y\",\"domain\":[0.0,1.0],\"title\":{\"text\":\"Cluster Key\"},\"categoryorder\":\"array\",\"categoryarray\":[\"C\",\"C#\\u002fDb\",\"D\",\"Eb\",\"E\",\"F\",\"F#\\u002fGb\",\"G\",\"G#\\u002fAb\",\"A\",\"A#\\u002fBb\",\"B\"],\"tickangle\":-45},\"yaxis\":{\"anchor\":\"x\",\"domain\":[0.0,1.0],\"title\":{\"text\":\"Count of Track\"}},\"legend\":{\"tracegroupgap\":0},\"title\":{\"text\":\"Track Count by Cluster Key\"},\"barmode\":\"relative\",\"uniformtext\":{\"minsize\":8,\"mode\":\"hide\"}},                        {\"responsive\": true}                    ).then(function(){\n",
              "                            \n",
              "var gd = document.getElementById('4d486c20-605f-4354-bb70-9fea2bae35da');\n",
              "var x = new MutationObserver(function (mutations, observer) {{\n",
              "        var display = window.getComputedStyle(gd).display;\n",
              "        if (!display || display === 'none') {{\n",
              "            console.log([gd, 'removed!']);\n",
              "            Plotly.purge(gd);\n",
              "            observer.disconnect();\n",
              "        }}\n",
              "}});\n",
              "\n",
              "// Listen for the removal of the full notebook cells\n",
              "var notebookContainer = gd.closest('#notebook-container');\n",
              "if (notebookContainer) {{\n",
              "    x.observe(notebookContainer, {childList: true});\n",
              "}}\n",
              "\n",
              "// Listen for the clearing of the current output cell\n",
              "var outputEl = gd.closest('.output');\n",
              "if (outputEl) {{\n",
              "    x.observe(outputEl, {childList: true});\n",
              "}}\n",
              "\n",
              "                        })                };                            </script>        </div>\n",
              "</body>\n",
              "</html>"
            ]
          },
          "metadata": {}
        }
      ]
    },
    {
      "cell_type": "markdown",
      "source": [
        "> Time Signature"
      ],
      "metadata": {
        "id": "xWInkI2kV97y"
      }
    },
    {
      "cell_type": "code",
      "source": [
        "cluster_time_count = df_final.groupby('Time_Signature')['Track'].count().reset_index()\n",
        "\n",
        "fig = go.Figure(data=[\n",
        "    go.Bar(\n",
        "        x=cluster_time_count['Time_Signature'],\n",
        "        y=cluster_time_count['Track'],\n",
        "        text=cluster_time_count['Track'],\n",
        "        textposition='auto',\n",
        "        marker_color='teal',\n",
        "    )\n",
        "])\n",
        "\n",
        "fig.update_layout(\n",
        "    title='Track Count by Time Signature',\n",
        "    xaxis_title='Time Signature',\n",
        "    yaxis_title='Count of Track',\n",
        "    yaxis=dict(range=[0, 700]),\n",
        "    xaxis_tickvals=[1, 2, 3, 4, 5],\n",
        "    xaxis_ticktext=['1/4', '2/4', '3/4', '4/4', '5/8'],\n",
        "    xaxis_tickangle=0,\n",
        "    plot_bgcolor='white',\n",
        ")\n",
        "\n",
        "\n",
        "fig.show()"
      ],
      "metadata": {
        "colab": {
          "base_uri": "https://localhost:8080/",
          "height": 542
        },
        "id": "26rbHqBLWCMU",
        "outputId": "b0f54731-7511-459e-c3ac-f4baf2a0de4b"
      },
      "execution_count": 19,
      "outputs": [
        {
          "output_type": "display_data",
          "data": {
            "text/html": [
              "<html>\n",
              "<head><meta charset=\"utf-8\" /></head>\n",
              "<body>\n",
              "    <div>            <script src=\"https://cdnjs.cloudflare.com/ajax/libs/mathjax/2.7.5/MathJax.js?config=TeX-AMS-MML_SVG\"></script><script type=\"text/javascript\">if (window.MathJax && window.MathJax.Hub && window.MathJax.Hub.Config) {window.MathJax.Hub.Config({SVG: {font: \"STIX-Web\"}});}</script>                <script type=\"text/javascript\">window.PlotlyConfig = {MathJaxConfig: 'local'};</script>\n",
              "        <script charset=\"utf-8\" src=\"https://cdn.plot.ly/plotly-2.24.1.min.js\"></script>                <div id=\"3ad73cf6-7ff2-4e08-a3bd-dd45834bd288\" class=\"plotly-graph-div\" style=\"height:525px; width:100%;\"></div>            <script type=\"text/javascript\">                                    window.PLOTLYENV=window.PLOTLYENV || {};                                    if (document.getElementById(\"3ad73cf6-7ff2-4e08-a3bd-dd45834bd288\")) {                    Plotly.newPlot(                        \"3ad73cf6-7ff2-4e08-a3bd-dd45834bd288\",                        [{\"marker\":{\"color\":\"teal\"},\"text\":[3.0,53.0,584.0,4.0],\"textposition\":\"auto\",\"x\":[1,3,4,5],\"y\":[3,53,584,4],\"type\":\"bar\"}],                        {\"template\":{\"data\":{\"histogram2dcontour\":[{\"type\":\"histogram2dcontour\",\"colorbar\":{\"outlinewidth\":0,\"ticks\":\"\"},\"colorscale\":[[0.0,\"#0d0887\"],[0.1111111111111111,\"#46039f\"],[0.2222222222222222,\"#7201a8\"],[0.3333333333333333,\"#9c179e\"],[0.4444444444444444,\"#bd3786\"],[0.5555555555555556,\"#d8576b\"],[0.6666666666666666,\"#ed7953\"],[0.7777777777777778,\"#fb9f3a\"],[0.8888888888888888,\"#fdca26\"],[1.0,\"#f0f921\"]]}],\"choropleth\":[{\"type\":\"choropleth\",\"colorbar\":{\"outlinewidth\":0,\"ticks\":\"\"}}],\"histogram2d\":[{\"type\":\"histogram2d\",\"colorbar\":{\"outlinewidth\":0,\"ticks\":\"\"},\"colorscale\":[[0.0,\"#0d0887\"],[0.1111111111111111,\"#46039f\"],[0.2222222222222222,\"#7201a8\"],[0.3333333333333333,\"#9c179e\"],[0.4444444444444444,\"#bd3786\"],[0.5555555555555556,\"#d8576b\"],[0.6666666666666666,\"#ed7953\"],[0.7777777777777778,\"#fb9f3a\"],[0.8888888888888888,\"#fdca26\"],[1.0,\"#f0f921\"]]}],\"heatmap\":[{\"type\":\"heatmap\",\"colorbar\":{\"outlinewidth\":0,\"ticks\":\"\"},\"colorscale\":[[0.0,\"#0d0887\"],[0.1111111111111111,\"#46039f\"],[0.2222222222222222,\"#7201a8\"],[0.3333333333333333,\"#9c179e\"],[0.4444444444444444,\"#bd3786\"],[0.5555555555555556,\"#d8576b\"],[0.6666666666666666,\"#ed7953\"],[0.7777777777777778,\"#fb9f3a\"],[0.8888888888888888,\"#fdca26\"],[1.0,\"#f0f921\"]]}],\"heatmapgl\":[{\"type\":\"heatmapgl\",\"colorbar\":{\"outlinewidth\":0,\"ticks\":\"\"},\"colorscale\":[[0.0,\"#0d0887\"],[0.1111111111111111,\"#46039f\"],[0.2222222222222222,\"#7201a8\"],[0.3333333333333333,\"#9c179e\"],[0.4444444444444444,\"#bd3786\"],[0.5555555555555556,\"#d8576b\"],[0.6666666666666666,\"#ed7953\"],[0.7777777777777778,\"#fb9f3a\"],[0.8888888888888888,\"#fdca26\"],[1.0,\"#f0f921\"]]}],\"contourcarpet\":[{\"type\":\"contourcarpet\",\"colorbar\":{\"outlinewidth\":0,\"ticks\":\"\"}}],\"contour\":[{\"type\":\"contour\",\"colorbar\":{\"outlinewidth\":0,\"ticks\":\"\"},\"colorscale\":[[0.0,\"#0d0887\"],[0.1111111111111111,\"#46039f\"],[0.2222222222222222,\"#7201a8\"],[0.3333333333333333,\"#9c179e\"],[0.4444444444444444,\"#bd3786\"],[0.5555555555555556,\"#d8576b\"],[0.6666666666666666,\"#ed7953\"],[0.7777777777777778,\"#fb9f3a\"],[0.8888888888888888,\"#fdca26\"],[1.0,\"#f0f921\"]]}],\"surface\":[{\"type\":\"surface\",\"colorbar\":{\"outlinewidth\":0,\"ticks\":\"\"},\"colorscale\":[[0.0,\"#0d0887\"],[0.1111111111111111,\"#46039f\"],[0.2222222222222222,\"#7201a8\"],[0.3333333333333333,\"#9c179e\"],[0.4444444444444444,\"#bd3786\"],[0.5555555555555556,\"#d8576b\"],[0.6666666666666666,\"#ed7953\"],[0.7777777777777778,\"#fb9f3a\"],[0.8888888888888888,\"#fdca26\"],[1.0,\"#f0f921\"]]}],\"mesh3d\":[{\"type\":\"mesh3d\",\"colorbar\":{\"outlinewidth\":0,\"ticks\":\"\"}}],\"scatter\":[{\"fillpattern\":{\"fillmode\":\"overlay\",\"size\":10,\"solidity\":0.2},\"type\":\"scatter\"}],\"parcoords\":[{\"type\":\"parcoords\",\"line\":{\"colorbar\":{\"outlinewidth\":0,\"ticks\":\"\"}}}],\"scatterpolargl\":[{\"type\":\"scatterpolargl\",\"marker\":{\"colorbar\":{\"outlinewidth\":0,\"ticks\":\"\"}}}],\"bar\":[{\"error_x\":{\"color\":\"#2a3f5f\"},\"error_y\":{\"color\":\"#2a3f5f\"},\"marker\":{\"line\":{\"color\":\"#E5ECF6\",\"width\":0.5},\"pattern\":{\"fillmode\":\"overlay\",\"size\":10,\"solidity\":0.2}},\"type\":\"bar\"}],\"scattergeo\":[{\"type\":\"scattergeo\",\"marker\":{\"colorbar\":{\"outlinewidth\":0,\"ticks\":\"\"}}}],\"scatterpolar\":[{\"type\":\"scatterpolar\",\"marker\":{\"colorbar\":{\"outlinewidth\":0,\"ticks\":\"\"}}}],\"histogram\":[{\"marker\":{\"pattern\":{\"fillmode\":\"overlay\",\"size\":10,\"solidity\":0.2}},\"type\":\"histogram\"}],\"scattergl\":[{\"type\":\"scattergl\",\"marker\":{\"colorbar\":{\"outlinewidth\":0,\"ticks\":\"\"}}}],\"scatter3d\":[{\"type\":\"scatter3d\",\"line\":{\"colorbar\":{\"outlinewidth\":0,\"ticks\":\"\"}},\"marker\":{\"colorbar\":{\"outlinewidth\":0,\"ticks\":\"\"}}}],\"scattermapbox\":[{\"type\":\"scattermapbox\",\"marker\":{\"colorbar\":{\"outlinewidth\":0,\"ticks\":\"\"}}}],\"scatterternary\":[{\"type\":\"scatterternary\",\"marker\":{\"colorbar\":{\"outlinewidth\":0,\"ticks\":\"\"}}}],\"scattercarpet\":[{\"type\":\"scattercarpet\",\"marker\":{\"colorbar\":{\"outlinewidth\":0,\"ticks\":\"\"}}}],\"carpet\":[{\"aaxis\":{\"endlinecolor\":\"#2a3f5f\",\"gridcolor\":\"white\",\"linecolor\":\"white\",\"minorgridcolor\":\"white\",\"startlinecolor\":\"#2a3f5f\"},\"baxis\":{\"endlinecolor\":\"#2a3f5f\",\"gridcolor\":\"white\",\"linecolor\":\"white\",\"minorgridcolor\":\"white\",\"startlinecolor\":\"#2a3f5f\"},\"type\":\"carpet\"}],\"table\":[{\"cells\":{\"fill\":{\"color\":\"#EBF0F8\"},\"line\":{\"color\":\"white\"}},\"header\":{\"fill\":{\"color\":\"#C8D4E3\"},\"line\":{\"color\":\"white\"}},\"type\":\"table\"}],\"barpolar\":[{\"marker\":{\"line\":{\"color\":\"#E5ECF6\",\"width\":0.5},\"pattern\":{\"fillmode\":\"overlay\",\"size\":10,\"solidity\":0.2}},\"type\":\"barpolar\"}],\"pie\":[{\"automargin\":true,\"type\":\"pie\"}]},\"layout\":{\"autotypenumbers\":\"strict\",\"colorway\":[\"#636efa\",\"#EF553B\",\"#00cc96\",\"#ab63fa\",\"#FFA15A\",\"#19d3f3\",\"#FF6692\",\"#B6E880\",\"#FF97FF\",\"#FECB52\"],\"font\":{\"color\":\"#2a3f5f\"},\"hovermode\":\"closest\",\"hoverlabel\":{\"align\":\"left\"},\"paper_bgcolor\":\"white\",\"plot_bgcolor\":\"#E5ECF6\",\"polar\":{\"bgcolor\":\"#E5ECF6\",\"angularaxis\":{\"gridcolor\":\"white\",\"linecolor\":\"white\",\"ticks\":\"\"},\"radialaxis\":{\"gridcolor\":\"white\",\"linecolor\":\"white\",\"ticks\":\"\"}},\"ternary\":{\"bgcolor\":\"#E5ECF6\",\"aaxis\":{\"gridcolor\":\"white\",\"linecolor\":\"white\",\"ticks\":\"\"},\"baxis\":{\"gridcolor\":\"white\",\"linecolor\":\"white\",\"ticks\":\"\"},\"caxis\":{\"gridcolor\":\"white\",\"linecolor\":\"white\",\"ticks\":\"\"}},\"coloraxis\":{\"colorbar\":{\"outlinewidth\":0,\"ticks\":\"\"}},\"colorscale\":{\"sequential\":[[0.0,\"#0d0887\"],[0.1111111111111111,\"#46039f\"],[0.2222222222222222,\"#7201a8\"],[0.3333333333333333,\"#9c179e\"],[0.4444444444444444,\"#bd3786\"],[0.5555555555555556,\"#d8576b\"],[0.6666666666666666,\"#ed7953\"],[0.7777777777777778,\"#fb9f3a\"],[0.8888888888888888,\"#fdca26\"],[1.0,\"#f0f921\"]],\"sequentialminus\":[[0.0,\"#0d0887\"],[0.1111111111111111,\"#46039f\"],[0.2222222222222222,\"#7201a8\"],[0.3333333333333333,\"#9c179e\"],[0.4444444444444444,\"#bd3786\"],[0.5555555555555556,\"#d8576b\"],[0.6666666666666666,\"#ed7953\"],[0.7777777777777778,\"#fb9f3a\"],[0.8888888888888888,\"#fdca26\"],[1.0,\"#f0f921\"]],\"diverging\":[[0,\"#8e0152\"],[0.1,\"#c51b7d\"],[0.2,\"#de77ae\"],[0.3,\"#f1b6da\"],[0.4,\"#fde0ef\"],[0.5,\"#f7f7f7\"],[0.6,\"#e6f5d0\"],[0.7,\"#b8e186\"],[0.8,\"#7fbc41\"],[0.9,\"#4d9221\"],[1,\"#276419\"]]},\"xaxis\":{\"gridcolor\":\"white\",\"linecolor\":\"white\",\"ticks\":\"\",\"title\":{\"standoff\":15},\"zerolinecolor\":\"white\",\"automargin\":true,\"zerolinewidth\":2},\"yaxis\":{\"gridcolor\":\"white\",\"linecolor\":\"white\",\"ticks\":\"\",\"title\":{\"standoff\":15},\"zerolinecolor\":\"white\",\"automargin\":true,\"zerolinewidth\":2},\"scene\":{\"xaxis\":{\"backgroundcolor\":\"#E5ECF6\",\"gridcolor\":\"white\",\"linecolor\":\"white\",\"showbackground\":true,\"ticks\":\"\",\"zerolinecolor\":\"white\",\"gridwidth\":2},\"yaxis\":{\"backgroundcolor\":\"#E5ECF6\",\"gridcolor\":\"white\",\"linecolor\":\"white\",\"showbackground\":true,\"ticks\":\"\",\"zerolinecolor\":\"white\",\"gridwidth\":2},\"zaxis\":{\"backgroundcolor\":\"#E5ECF6\",\"gridcolor\":\"white\",\"linecolor\":\"white\",\"showbackground\":true,\"ticks\":\"\",\"zerolinecolor\":\"white\",\"gridwidth\":2}},\"shapedefaults\":{\"line\":{\"color\":\"#2a3f5f\"}},\"annotationdefaults\":{\"arrowcolor\":\"#2a3f5f\",\"arrowhead\":0,\"arrowwidth\":1},\"geo\":{\"bgcolor\":\"white\",\"landcolor\":\"#E5ECF6\",\"subunitcolor\":\"white\",\"showland\":true,\"showlakes\":true,\"lakecolor\":\"white\"},\"title\":{\"x\":0.05},\"mapbox\":{\"style\":\"light\"}}},\"yaxis\":{\"title\":{\"text\":\"Count of Track\"},\"range\":[0,700]},\"xaxis\":{\"title\":{\"text\":\"Time Signature\"},\"tickvals\":[1,2,3,4,5],\"ticktext\":[\"1\\u002f4\",\"2\\u002f4\",\"3\\u002f4\",\"4\\u002f4\",\"5\\u002f8\"],\"tickangle\":0},\"title\":{\"text\":\"Track Count by Time Signature\"},\"plot_bgcolor\":\"white\"},                        {\"responsive\": true}                    ).then(function(){\n",
              "                            \n",
              "var gd = document.getElementById('3ad73cf6-7ff2-4e08-a3bd-dd45834bd288');\n",
              "var x = new MutationObserver(function (mutations, observer) {{\n",
              "        var display = window.getComputedStyle(gd).display;\n",
              "        if (!display || display === 'none') {{\n",
              "            console.log([gd, 'removed!']);\n",
              "            Plotly.purge(gd);\n",
              "            observer.disconnect();\n",
              "        }}\n",
              "}});\n",
              "\n",
              "// Listen for the removal of the full notebook cells\n",
              "var notebookContainer = gd.closest('#notebook-container');\n",
              "if (notebookContainer) {{\n",
              "    x.observe(notebookContainer, {childList: true});\n",
              "}}\n",
              "\n",
              "// Listen for the clearing of the current output cell\n",
              "var outputEl = gd.closest('.output');\n",
              "if (outputEl) {{\n",
              "    x.observe(outputEl, {childList: true});\n",
              "}}\n",
              "\n",
              "                        })                };                            </script>        </div>\n",
              "</body>\n",
              "</html>"
            ]
          },
          "metadata": {}
        }
      ]
    },
    {
      "cell_type": "markdown",
      "source": [
        "> Major or Minor"
      ],
      "metadata": {
        "id": "8s4YWS469fRi"
      }
    },
    {
      "cell_type": "code",
      "source": [
        "cluster_mode_count = df_final.groupby('Cluster_Mode')['Track'].count().reset_index()\n",
        "\n",
        "fig = px.pie(cluster_mode_count, values='Track', names='Cluster_Mode',\n",
        "             title='Track Count by Cluster Mode',\n",
        "             color_discrete_sequence=['#3F72AF', '#DBE2EF'],\n",
        "             hole=0.3)\n",
        "\n",
        "fig.update_traces(textposition='inside', textinfo='percent+label')\n",
        "\n",
        "fig.show()"
      ],
      "metadata": {
        "colab": {
          "base_uri": "https://localhost:8080/",
          "height": 542
        },
        "id": "Rlozu2TM9mfp",
        "outputId": "afa7cd6c-f8f7-4dcb-c349-d41d6b1d393c"
      },
      "execution_count": 20,
      "outputs": [
        {
          "output_type": "display_data",
          "data": {
            "text/html": [
              "<html>\n",
              "<head><meta charset=\"utf-8\" /></head>\n",
              "<body>\n",
              "    <div>            <script src=\"https://cdnjs.cloudflare.com/ajax/libs/mathjax/2.7.5/MathJax.js?config=TeX-AMS-MML_SVG\"></script><script type=\"text/javascript\">if (window.MathJax && window.MathJax.Hub && window.MathJax.Hub.Config) {window.MathJax.Hub.Config({SVG: {font: \"STIX-Web\"}});}</script>                <script type=\"text/javascript\">window.PlotlyConfig = {MathJaxConfig: 'local'};</script>\n",
              "        <script charset=\"utf-8\" src=\"https://cdn.plot.ly/plotly-2.24.1.min.js\"></script>                <div id=\"328885cc-8c09-4569-b054-731492275028\" class=\"plotly-graph-div\" style=\"height:525px; width:100%;\"></div>            <script type=\"text/javascript\">                                    window.PLOTLYENV=window.PLOTLYENV || {};                                    if (document.getElementById(\"328885cc-8c09-4569-b054-731492275028\")) {                    Plotly.newPlot(                        \"328885cc-8c09-4569-b054-731492275028\",                        [{\"domain\":{\"x\":[0.0,1.0],\"y\":[0.0,1.0]},\"hole\":0.3,\"hovertemplate\":\"Cluster_Mode=%{label}\\u003cbr\\u003eTrack=%{value}\\u003cextra\\u003e\\u003c\\u002fextra\\u003e\",\"labels\":[\"Major\",\"Minor\"],\"legendgroup\":\"\",\"name\":\"\",\"showlegend\":true,\"values\":[424,220],\"type\":\"pie\",\"textinfo\":\"percent+label\",\"textposition\":\"inside\"}],                        {\"template\":{\"data\":{\"histogram2dcontour\":[{\"type\":\"histogram2dcontour\",\"colorbar\":{\"outlinewidth\":0,\"ticks\":\"\"},\"colorscale\":[[0.0,\"#0d0887\"],[0.1111111111111111,\"#46039f\"],[0.2222222222222222,\"#7201a8\"],[0.3333333333333333,\"#9c179e\"],[0.4444444444444444,\"#bd3786\"],[0.5555555555555556,\"#d8576b\"],[0.6666666666666666,\"#ed7953\"],[0.7777777777777778,\"#fb9f3a\"],[0.8888888888888888,\"#fdca26\"],[1.0,\"#f0f921\"]]}],\"choropleth\":[{\"type\":\"choropleth\",\"colorbar\":{\"outlinewidth\":0,\"ticks\":\"\"}}],\"histogram2d\":[{\"type\":\"histogram2d\",\"colorbar\":{\"outlinewidth\":0,\"ticks\":\"\"},\"colorscale\":[[0.0,\"#0d0887\"],[0.1111111111111111,\"#46039f\"],[0.2222222222222222,\"#7201a8\"],[0.3333333333333333,\"#9c179e\"],[0.4444444444444444,\"#bd3786\"],[0.5555555555555556,\"#d8576b\"],[0.6666666666666666,\"#ed7953\"],[0.7777777777777778,\"#fb9f3a\"],[0.8888888888888888,\"#fdca26\"],[1.0,\"#f0f921\"]]}],\"heatmap\":[{\"type\":\"heatmap\",\"colorbar\":{\"outlinewidth\":0,\"ticks\":\"\"},\"colorscale\":[[0.0,\"#0d0887\"],[0.1111111111111111,\"#46039f\"],[0.2222222222222222,\"#7201a8\"],[0.3333333333333333,\"#9c179e\"],[0.4444444444444444,\"#bd3786\"],[0.5555555555555556,\"#d8576b\"],[0.6666666666666666,\"#ed7953\"],[0.7777777777777778,\"#fb9f3a\"],[0.8888888888888888,\"#fdca26\"],[1.0,\"#f0f921\"]]}],\"heatmapgl\":[{\"type\":\"heatmapgl\",\"colorbar\":{\"outlinewidth\":0,\"ticks\":\"\"},\"colorscale\":[[0.0,\"#0d0887\"],[0.1111111111111111,\"#46039f\"],[0.2222222222222222,\"#7201a8\"],[0.3333333333333333,\"#9c179e\"],[0.4444444444444444,\"#bd3786\"],[0.5555555555555556,\"#d8576b\"],[0.6666666666666666,\"#ed7953\"],[0.7777777777777778,\"#fb9f3a\"],[0.8888888888888888,\"#fdca26\"],[1.0,\"#f0f921\"]]}],\"contourcarpet\":[{\"type\":\"contourcarpet\",\"colorbar\":{\"outlinewidth\":0,\"ticks\":\"\"}}],\"contour\":[{\"type\":\"contour\",\"colorbar\":{\"outlinewidth\":0,\"ticks\":\"\"},\"colorscale\":[[0.0,\"#0d0887\"],[0.1111111111111111,\"#46039f\"],[0.2222222222222222,\"#7201a8\"],[0.3333333333333333,\"#9c179e\"],[0.4444444444444444,\"#bd3786\"],[0.5555555555555556,\"#d8576b\"],[0.6666666666666666,\"#ed7953\"],[0.7777777777777778,\"#fb9f3a\"],[0.8888888888888888,\"#fdca26\"],[1.0,\"#f0f921\"]]}],\"surface\":[{\"type\":\"surface\",\"colorbar\":{\"outlinewidth\":0,\"ticks\":\"\"},\"colorscale\":[[0.0,\"#0d0887\"],[0.1111111111111111,\"#46039f\"],[0.2222222222222222,\"#7201a8\"],[0.3333333333333333,\"#9c179e\"],[0.4444444444444444,\"#bd3786\"],[0.5555555555555556,\"#d8576b\"],[0.6666666666666666,\"#ed7953\"],[0.7777777777777778,\"#fb9f3a\"],[0.8888888888888888,\"#fdca26\"],[1.0,\"#f0f921\"]]}],\"mesh3d\":[{\"type\":\"mesh3d\",\"colorbar\":{\"outlinewidth\":0,\"ticks\":\"\"}}],\"scatter\":[{\"fillpattern\":{\"fillmode\":\"overlay\",\"size\":10,\"solidity\":0.2},\"type\":\"scatter\"}],\"parcoords\":[{\"type\":\"parcoords\",\"line\":{\"colorbar\":{\"outlinewidth\":0,\"ticks\":\"\"}}}],\"scatterpolargl\":[{\"type\":\"scatterpolargl\",\"marker\":{\"colorbar\":{\"outlinewidth\":0,\"ticks\":\"\"}}}],\"bar\":[{\"error_x\":{\"color\":\"#2a3f5f\"},\"error_y\":{\"color\":\"#2a3f5f\"},\"marker\":{\"line\":{\"color\":\"#E5ECF6\",\"width\":0.5},\"pattern\":{\"fillmode\":\"overlay\",\"size\":10,\"solidity\":0.2}},\"type\":\"bar\"}],\"scattergeo\":[{\"type\":\"scattergeo\",\"marker\":{\"colorbar\":{\"outlinewidth\":0,\"ticks\":\"\"}}}],\"scatterpolar\":[{\"type\":\"scatterpolar\",\"marker\":{\"colorbar\":{\"outlinewidth\":0,\"ticks\":\"\"}}}],\"histogram\":[{\"marker\":{\"pattern\":{\"fillmode\":\"overlay\",\"size\":10,\"solidity\":0.2}},\"type\":\"histogram\"}],\"scattergl\":[{\"type\":\"scattergl\",\"marker\":{\"colorbar\":{\"outlinewidth\":0,\"ticks\":\"\"}}}],\"scatter3d\":[{\"type\":\"scatter3d\",\"line\":{\"colorbar\":{\"outlinewidth\":0,\"ticks\":\"\"}},\"marker\":{\"colorbar\":{\"outlinewidth\":0,\"ticks\":\"\"}}}],\"scattermapbox\":[{\"type\":\"scattermapbox\",\"marker\":{\"colorbar\":{\"outlinewidth\":0,\"ticks\":\"\"}}}],\"scatterternary\":[{\"type\":\"scatterternary\",\"marker\":{\"colorbar\":{\"outlinewidth\":0,\"ticks\":\"\"}}}],\"scattercarpet\":[{\"type\":\"scattercarpet\",\"marker\":{\"colorbar\":{\"outlinewidth\":0,\"ticks\":\"\"}}}],\"carpet\":[{\"aaxis\":{\"endlinecolor\":\"#2a3f5f\",\"gridcolor\":\"white\",\"linecolor\":\"white\",\"minorgridcolor\":\"white\",\"startlinecolor\":\"#2a3f5f\"},\"baxis\":{\"endlinecolor\":\"#2a3f5f\",\"gridcolor\":\"white\",\"linecolor\":\"white\",\"minorgridcolor\":\"white\",\"startlinecolor\":\"#2a3f5f\"},\"type\":\"carpet\"}],\"table\":[{\"cells\":{\"fill\":{\"color\":\"#EBF0F8\"},\"line\":{\"color\":\"white\"}},\"header\":{\"fill\":{\"color\":\"#C8D4E3\"},\"line\":{\"color\":\"white\"}},\"type\":\"table\"}],\"barpolar\":[{\"marker\":{\"line\":{\"color\":\"#E5ECF6\",\"width\":0.5},\"pattern\":{\"fillmode\":\"overlay\",\"size\":10,\"solidity\":0.2}},\"type\":\"barpolar\"}],\"pie\":[{\"automargin\":true,\"type\":\"pie\"}]},\"layout\":{\"autotypenumbers\":\"strict\",\"colorway\":[\"#636efa\",\"#EF553B\",\"#00cc96\",\"#ab63fa\",\"#FFA15A\",\"#19d3f3\",\"#FF6692\",\"#B6E880\",\"#FF97FF\",\"#FECB52\"],\"font\":{\"color\":\"#2a3f5f\"},\"hovermode\":\"closest\",\"hoverlabel\":{\"align\":\"left\"},\"paper_bgcolor\":\"white\",\"plot_bgcolor\":\"#E5ECF6\",\"polar\":{\"bgcolor\":\"#E5ECF6\",\"angularaxis\":{\"gridcolor\":\"white\",\"linecolor\":\"white\",\"ticks\":\"\"},\"radialaxis\":{\"gridcolor\":\"white\",\"linecolor\":\"white\",\"ticks\":\"\"}},\"ternary\":{\"bgcolor\":\"#E5ECF6\",\"aaxis\":{\"gridcolor\":\"white\",\"linecolor\":\"white\",\"ticks\":\"\"},\"baxis\":{\"gridcolor\":\"white\",\"linecolor\":\"white\",\"ticks\":\"\"},\"caxis\":{\"gridcolor\":\"white\",\"linecolor\":\"white\",\"ticks\":\"\"}},\"coloraxis\":{\"colorbar\":{\"outlinewidth\":0,\"ticks\":\"\"}},\"colorscale\":{\"sequential\":[[0.0,\"#0d0887\"],[0.1111111111111111,\"#46039f\"],[0.2222222222222222,\"#7201a8\"],[0.3333333333333333,\"#9c179e\"],[0.4444444444444444,\"#bd3786\"],[0.5555555555555556,\"#d8576b\"],[0.6666666666666666,\"#ed7953\"],[0.7777777777777778,\"#fb9f3a\"],[0.8888888888888888,\"#fdca26\"],[1.0,\"#f0f921\"]],\"sequentialminus\":[[0.0,\"#0d0887\"],[0.1111111111111111,\"#46039f\"],[0.2222222222222222,\"#7201a8\"],[0.3333333333333333,\"#9c179e\"],[0.4444444444444444,\"#bd3786\"],[0.5555555555555556,\"#d8576b\"],[0.6666666666666666,\"#ed7953\"],[0.7777777777777778,\"#fb9f3a\"],[0.8888888888888888,\"#fdca26\"],[1.0,\"#f0f921\"]],\"diverging\":[[0,\"#8e0152\"],[0.1,\"#c51b7d\"],[0.2,\"#de77ae\"],[0.3,\"#f1b6da\"],[0.4,\"#fde0ef\"],[0.5,\"#f7f7f7\"],[0.6,\"#e6f5d0\"],[0.7,\"#b8e186\"],[0.8,\"#7fbc41\"],[0.9,\"#4d9221\"],[1,\"#276419\"]]},\"xaxis\":{\"gridcolor\":\"white\",\"linecolor\":\"white\",\"ticks\":\"\",\"title\":{\"standoff\":15},\"zerolinecolor\":\"white\",\"automargin\":true,\"zerolinewidth\":2},\"yaxis\":{\"gridcolor\":\"white\",\"linecolor\":\"white\",\"ticks\":\"\",\"title\":{\"standoff\":15},\"zerolinecolor\":\"white\",\"automargin\":true,\"zerolinewidth\":2},\"scene\":{\"xaxis\":{\"backgroundcolor\":\"#E5ECF6\",\"gridcolor\":\"white\",\"linecolor\":\"white\",\"showbackground\":true,\"ticks\":\"\",\"zerolinecolor\":\"white\",\"gridwidth\":2},\"yaxis\":{\"backgroundcolor\":\"#E5ECF6\",\"gridcolor\":\"white\",\"linecolor\":\"white\",\"showbackground\":true,\"ticks\":\"\",\"zerolinecolor\":\"white\",\"gridwidth\":2},\"zaxis\":{\"backgroundcolor\":\"#E5ECF6\",\"gridcolor\":\"white\",\"linecolor\":\"white\",\"showbackground\":true,\"ticks\":\"\",\"zerolinecolor\":\"white\",\"gridwidth\":2}},\"shapedefaults\":{\"line\":{\"color\":\"#2a3f5f\"}},\"annotationdefaults\":{\"arrowcolor\":\"#2a3f5f\",\"arrowhead\":0,\"arrowwidth\":1},\"geo\":{\"bgcolor\":\"white\",\"landcolor\":\"#E5ECF6\",\"subunitcolor\":\"white\",\"showland\":true,\"showlakes\":true,\"lakecolor\":\"white\"},\"title\":{\"x\":0.05},\"mapbox\":{\"style\":\"light\"}}},\"legend\":{\"tracegroupgap\":0},\"title\":{\"text\":\"Track Count by Cluster Mode\"},\"piecolorway\":[\"#3F72AF\",\"#DBE2EF\"]},                        {\"responsive\": true}                    ).then(function(){\n",
              "                            \n",
              "var gd = document.getElementById('328885cc-8c09-4569-b054-731492275028');\n",
              "var x = new MutationObserver(function (mutations, observer) {{\n",
              "        var display = window.getComputedStyle(gd).display;\n",
              "        if (!display || display === 'none') {{\n",
              "            console.log([gd, 'removed!']);\n",
              "            Plotly.purge(gd);\n",
              "            observer.disconnect();\n",
              "        }}\n",
              "}});\n",
              "\n",
              "// Listen for the removal of the full notebook cells\n",
              "var notebookContainer = gd.closest('#notebook-container');\n",
              "if (notebookContainer) {{\n",
              "    x.observe(notebookContainer, {childList: true});\n",
              "}}\n",
              "\n",
              "// Listen for the clearing of the current output cell\n",
              "var outputEl = gd.closest('.output');\n",
              "if (outputEl) {{\n",
              "    x.observe(outputEl, {childList: true});\n",
              "}}\n",
              "\n",
              "                        })                };                            </script>        </div>\n",
              "</body>\n",
              "</html>"
            ]
          },
          "metadata": {}
        }
      ]
    },
    {
      "cell_type": "markdown",
      "source": [
        "Tempo VS Track"
      ],
      "metadata": {
        "id": "Z9D1ntyUidjd"
      }
    },
    {
      "cell_type": "code",
      "source": [
        "cluster_tempo_count = df_final.groupby('Cluster_Tempo')['Track'].count().reset_index()\n",
        "\n",
        "sort_tempo = ['Low_Tempo', 'Mid_Tempo', 'High_Tempo']\n",
        "\n",
        "tempo_counts = {tempo: 0 for tempo in sort_tempo}\n",
        "for _, row in cluster_tempo_count.iterrows():\n",
        "    tempo_counts[row['Cluster_Tempo']] = row['Track']\n",
        "\n",
        "cluster_tempo_count = pd.DataFrame(list(tempo_counts.items()), columns=['Cluster_Tempo', 'Track'])\n",
        "\n",
        "fig = px.bar(\n",
        "    cluster_tempo_count,\n",
        "    x='Cluster_Tempo',\n",
        "    y='Track',\n",
        "    title='Track Count by Cluster Tempo',\n",
        "    labels={'Cluster_Tempo': 'Cluster Tempo', 'Track': 'Count of Track'},\n",
        "    color_discrete_sequence=['#08D9D6'],\n",
        "    category_orders={'Cluster_Tempo': sort_tempo}\n",
        ")\n",
        "\n",
        "for i, row in cluster_tempo_count.iterrows():\n",
        "    fig.add_annotation(\n",
        "        x=row['Cluster_Tempo'],\n",
        "        y=row['Track'],\n",
        "        text=f\"{int(row['Track']):,}\",\n",
        "        showarrow=False,\n",
        "        yshift=10\n",
        "    )\n",
        "\n",
        "fig.update_yaxes(range=[0, 380])\n",
        "\n",
        "fig.show()\n"
      ],
      "metadata": {
        "colab": {
          "base_uri": "https://localhost:8080/",
          "height": 542
        },
        "id": "U7uSffSmijfJ",
        "outputId": "fe781736-867e-4ea6-b565-3ad37f3be001"
      },
      "execution_count": 21,
      "outputs": [
        {
          "output_type": "display_data",
          "data": {
            "text/html": [
              "<html>\n",
              "<head><meta charset=\"utf-8\" /></head>\n",
              "<body>\n",
              "    <div>            <script src=\"https://cdnjs.cloudflare.com/ajax/libs/mathjax/2.7.5/MathJax.js?config=TeX-AMS-MML_SVG\"></script><script type=\"text/javascript\">if (window.MathJax && window.MathJax.Hub && window.MathJax.Hub.Config) {window.MathJax.Hub.Config({SVG: {font: \"STIX-Web\"}});}</script>                <script type=\"text/javascript\">window.PlotlyConfig = {MathJaxConfig: 'local'};</script>\n",
              "        <script charset=\"utf-8\" src=\"https://cdn.plot.ly/plotly-2.24.1.min.js\"></script>                <div id=\"d81e5dd7-1056-4a48-95ad-3cae0d730fbf\" class=\"plotly-graph-div\" style=\"height:525px; width:100%;\"></div>            <script type=\"text/javascript\">                                    window.PLOTLYENV=window.PLOTLYENV || {};                                    if (document.getElementById(\"d81e5dd7-1056-4a48-95ad-3cae0d730fbf\")) {                    Plotly.newPlot(                        \"d81e5dd7-1056-4a48-95ad-3cae0d730fbf\",                        [{\"alignmentgroup\":\"True\",\"hovertemplate\":\"Cluster Tempo=%{x}\\u003cbr\\u003eCount of Track=%{y}\\u003cextra\\u003e\\u003c\\u002fextra\\u003e\",\"legendgroup\":\"\",\"marker\":{\"color\":\"#08D9D6\",\"pattern\":{\"shape\":\"\"}},\"name\":\"\",\"offsetgroup\":\"\",\"orientation\":\"v\",\"showlegend\":false,\"textposition\":\"auto\",\"x\":[\"Low_Tempo\",\"Mid_Tempo\",\"High_Tempo\"],\"xaxis\":\"x\",\"y\":[0,307,337],\"yaxis\":\"y\",\"type\":\"bar\"}],                        {\"template\":{\"data\":{\"histogram2dcontour\":[{\"type\":\"histogram2dcontour\",\"colorbar\":{\"outlinewidth\":0,\"ticks\":\"\"},\"colorscale\":[[0.0,\"#0d0887\"],[0.1111111111111111,\"#46039f\"],[0.2222222222222222,\"#7201a8\"],[0.3333333333333333,\"#9c179e\"],[0.4444444444444444,\"#bd3786\"],[0.5555555555555556,\"#d8576b\"],[0.6666666666666666,\"#ed7953\"],[0.7777777777777778,\"#fb9f3a\"],[0.8888888888888888,\"#fdca26\"],[1.0,\"#f0f921\"]]}],\"choropleth\":[{\"type\":\"choropleth\",\"colorbar\":{\"outlinewidth\":0,\"ticks\":\"\"}}],\"histogram2d\":[{\"type\":\"histogram2d\",\"colorbar\":{\"outlinewidth\":0,\"ticks\":\"\"},\"colorscale\":[[0.0,\"#0d0887\"],[0.1111111111111111,\"#46039f\"],[0.2222222222222222,\"#7201a8\"],[0.3333333333333333,\"#9c179e\"],[0.4444444444444444,\"#bd3786\"],[0.5555555555555556,\"#d8576b\"],[0.6666666666666666,\"#ed7953\"],[0.7777777777777778,\"#fb9f3a\"],[0.8888888888888888,\"#fdca26\"],[1.0,\"#f0f921\"]]}],\"heatmap\":[{\"type\":\"heatmap\",\"colorbar\":{\"outlinewidth\":0,\"ticks\":\"\"},\"colorscale\":[[0.0,\"#0d0887\"],[0.1111111111111111,\"#46039f\"],[0.2222222222222222,\"#7201a8\"],[0.3333333333333333,\"#9c179e\"],[0.4444444444444444,\"#bd3786\"],[0.5555555555555556,\"#d8576b\"],[0.6666666666666666,\"#ed7953\"],[0.7777777777777778,\"#fb9f3a\"],[0.8888888888888888,\"#fdca26\"],[1.0,\"#f0f921\"]]}],\"heatmapgl\":[{\"type\":\"heatmapgl\",\"colorbar\":{\"outlinewidth\":0,\"ticks\":\"\"},\"colorscale\":[[0.0,\"#0d0887\"],[0.1111111111111111,\"#46039f\"],[0.2222222222222222,\"#7201a8\"],[0.3333333333333333,\"#9c179e\"],[0.4444444444444444,\"#bd3786\"],[0.5555555555555556,\"#d8576b\"],[0.6666666666666666,\"#ed7953\"],[0.7777777777777778,\"#fb9f3a\"],[0.8888888888888888,\"#fdca26\"],[1.0,\"#f0f921\"]]}],\"contourcarpet\":[{\"type\":\"contourcarpet\",\"colorbar\":{\"outlinewidth\":0,\"ticks\":\"\"}}],\"contour\":[{\"type\":\"contour\",\"colorbar\":{\"outlinewidth\":0,\"ticks\":\"\"},\"colorscale\":[[0.0,\"#0d0887\"],[0.1111111111111111,\"#46039f\"],[0.2222222222222222,\"#7201a8\"],[0.3333333333333333,\"#9c179e\"],[0.4444444444444444,\"#bd3786\"],[0.5555555555555556,\"#d8576b\"],[0.6666666666666666,\"#ed7953\"],[0.7777777777777778,\"#fb9f3a\"],[0.8888888888888888,\"#fdca26\"],[1.0,\"#f0f921\"]]}],\"surface\":[{\"type\":\"surface\",\"colorbar\":{\"outlinewidth\":0,\"ticks\":\"\"},\"colorscale\":[[0.0,\"#0d0887\"],[0.1111111111111111,\"#46039f\"],[0.2222222222222222,\"#7201a8\"],[0.3333333333333333,\"#9c179e\"],[0.4444444444444444,\"#bd3786\"],[0.5555555555555556,\"#d8576b\"],[0.6666666666666666,\"#ed7953\"],[0.7777777777777778,\"#fb9f3a\"],[0.8888888888888888,\"#fdca26\"],[1.0,\"#f0f921\"]]}],\"mesh3d\":[{\"type\":\"mesh3d\",\"colorbar\":{\"outlinewidth\":0,\"ticks\":\"\"}}],\"scatter\":[{\"fillpattern\":{\"fillmode\":\"overlay\",\"size\":10,\"solidity\":0.2},\"type\":\"scatter\"}],\"parcoords\":[{\"type\":\"parcoords\",\"line\":{\"colorbar\":{\"outlinewidth\":0,\"ticks\":\"\"}}}],\"scatterpolargl\":[{\"type\":\"scatterpolargl\",\"marker\":{\"colorbar\":{\"outlinewidth\":0,\"ticks\":\"\"}}}],\"bar\":[{\"error_x\":{\"color\":\"#2a3f5f\"},\"error_y\":{\"color\":\"#2a3f5f\"},\"marker\":{\"line\":{\"color\":\"#E5ECF6\",\"width\":0.5},\"pattern\":{\"fillmode\":\"overlay\",\"size\":10,\"solidity\":0.2}},\"type\":\"bar\"}],\"scattergeo\":[{\"type\":\"scattergeo\",\"marker\":{\"colorbar\":{\"outlinewidth\":0,\"ticks\":\"\"}}}],\"scatterpolar\":[{\"type\":\"scatterpolar\",\"marker\":{\"colorbar\":{\"outlinewidth\":0,\"ticks\":\"\"}}}],\"histogram\":[{\"marker\":{\"pattern\":{\"fillmode\":\"overlay\",\"size\":10,\"solidity\":0.2}},\"type\":\"histogram\"}],\"scattergl\":[{\"type\":\"scattergl\",\"marker\":{\"colorbar\":{\"outlinewidth\":0,\"ticks\":\"\"}}}],\"scatter3d\":[{\"type\":\"scatter3d\",\"line\":{\"colorbar\":{\"outlinewidth\":0,\"ticks\":\"\"}},\"marker\":{\"colorbar\":{\"outlinewidth\":0,\"ticks\":\"\"}}}],\"scattermapbox\":[{\"type\":\"scattermapbox\",\"marker\":{\"colorbar\":{\"outlinewidth\":0,\"ticks\":\"\"}}}],\"scatterternary\":[{\"type\":\"scatterternary\",\"marker\":{\"colorbar\":{\"outlinewidth\":0,\"ticks\":\"\"}}}],\"scattercarpet\":[{\"type\":\"scattercarpet\",\"marker\":{\"colorbar\":{\"outlinewidth\":0,\"ticks\":\"\"}}}],\"carpet\":[{\"aaxis\":{\"endlinecolor\":\"#2a3f5f\",\"gridcolor\":\"white\",\"linecolor\":\"white\",\"minorgridcolor\":\"white\",\"startlinecolor\":\"#2a3f5f\"},\"baxis\":{\"endlinecolor\":\"#2a3f5f\",\"gridcolor\":\"white\",\"linecolor\":\"white\",\"minorgridcolor\":\"white\",\"startlinecolor\":\"#2a3f5f\"},\"type\":\"carpet\"}],\"table\":[{\"cells\":{\"fill\":{\"color\":\"#EBF0F8\"},\"line\":{\"color\":\"white\"}},\"header\":{\"fill\":{\"color\":\"#C8D4E3\"},\"line\":{\"color\":\"white\"}},\"type\":\"table\"}],\"barpolar\":[{\"marker\":{\"line\":{\"color\":\"#E5ECF6\",\"width\":0.5},\"pattern\":{\"fillmode\":\"overlay\",\"size\":10,\"solidity\":0.2}},\"type\":\"barpolar\"}],\"pie\":[{\"automargin\":true,\"type\":\"pie\"}]},\"layout\":{\"autotypenumbers\":\"strict\",\"colorway\":[\"#636efa\",\"#EF553B\",\"#00cc96\",\"#ab63fa\",\"#FFA15A\",\"#19d3f3\",\"#FF6692\",\"#B6E880\",\"#FF97FF\",\"#FECB52\"],\"font\":{\"color\":\"#2a3f5f\"},\"hovermode\":\"closest\",\"hoverlabel\":{\"align\":\"left\"},\"paper_bgcolor\":\"white\",\"plot_bgcolor\":\"#E5ECF6\",\"polar\":{\"bgcolor\":\"#E5ECF6\",\"angularaxis\":{\"gridcolor\":\"white\",\"linecolor\":\"white\",\"ticks\":\"\"},\"radialaxis\":{\"gridcolor\":\"white\",\"linecolor\":\"white\",\"ticks\":\"\"}},\"ternary\":{\"bgcolor\":\"#E5ECF6\",\"aaxis\":{\"gridcolor\":\"white\",\"linecolor\":\"white\",\"ticks\":\"\"},\"baxis\":{\"gridcolor\":\"white\",\"linecolor\":\"white\",\"ticks\":\"\"},\"caxis\":{\"gridcolor\":\"white\",\"linecolor\":\"white\",\"ticks\":\"\"}},\"coloraxis\":{\"colorbar\":{\"outlinewidth\":0,\"ticks\":\"\"}},\"colorscale\":{\"sequential\":[[0.0,\"#0d0887\"],[0.1111111111111111,\"#46039f\"],[0.2222222222222222,\"#7201a8\"],[0.3333333333333333,\"#9c179e\"],[0.4444444444444444,\"#bd3786\"],[0.5555555555555556,\"#d8576b\"],[0.6666666666666666,\"#ed7953\"],[0.7777777777777778,\"#fb9f3a\"],[0.8888888888888888,\"#fdca26\"],[1.0,\"#f0f921\"]],\"sequentialminus\":[[0.0,\"#0d0887\"],[0.1111111111111111,\"#46039f\"],[0.2222222222222222,\"#7201a8\"],[0.3333333333333333,\"#9c179e\"],[0.4444444444444444,\"#bd3786\"],[0.5555555555555556,\"#d8576b\"],[0.6666666666666666,\"#ed7953\"],[0.7777777777777778,\"#fb9f3a\"],[0.8888888888888888,\"#fdca26\"],[1.0,\"#f0f921\"]],\"diverging\":[[0,\"#8e0152\"],[0.1,\"#c51b7d\"],[0.2,\"#de77ae\"],[0.3,\"#f1b6da\"],[0.4,\"#fde0ef\"],[0.5,\"#f7f7f7\"],[0.6,\"#e6f5d0\"],[0.7,\"#b8e186\"],[0.8,\"#7fbc41\"],[0.9,\"#4d9221\"],[1,\"#276419\"]]},\"xaxis\":{\"gridcolor\":\"white\",\"linecolor\":\"white\",\"ticks\":\"\",\"title\":{\"standoff\":15},\"zerolinecolor\":\"white\",\"automargin\":true,\"zerolinewidth\":2},\"yaxis\":{\"gridcolor\":\"white\",\"linecolor\":\"white\",\"ticks\":\"\",\"title\":{\"standoff\":15},\"zerolinecolor\":\"white\",\"automargin\":true,\"zerolinewidth\":2},\"scene\":{\"xaxis\":{\"backgroundcolor\":\"#E5ECF6\",\"gridcolor\":\"white\",\"linecolor\":\"white\",\"showbackground\":true,\"ticks\":\"\",\"zerolinecolor\":\"white\",\"gridwidth\":2},\"yaxis\":{\"backgroundcolor\":\"#E5ECF6\",\"gridcolor\":\"white\",\"linecolor\":\"white\",\"showbackground\":true,\"ticks\":\"\",\"zerolinecolor\":\"white\",\"gridwidth\":2},\"zaxis\":{\"backgroundcolor\":\"#E5ECF6\",\"gridcolor\":\"white\",\"linecolor\":\"white\",\"showbackground\":true,\"ticks\":\"\",\"zerolinecolor\":\"white\",\"gridwidth\":2}},\"shapedefaults\":{\"line\":{\"color\":\"#2a3f5f\"}},\"annotationdefaults\":{\"arrowcolor\":\"#2a3f5f\",\"arrowhead\":0,\"arrowwidth\":1},\"geo\":{\"bgcolor\":\"white\",\"landcolor\":\"#E5ECF6\",\"subunitcolor\":\"white\",\"showland\":true,\"showlakes\":true,\"lakecolor\":\"white\"},\"title\":{\"x\":0.05},\"mapbox\":{\"style\":\"light\"}}},\"xaxis\":{\"anchor\":\"y\",\"domain\":[0.0,1.0],\"title\":{\"text\":\"Cluster Tempo\"},\"categoryorder\":\"array\",\"categoryarray\":[\"Low_Tempo\",\"Mid_Tempo\",\"High_Tempo\"]},\"yaxis\":{\"anchor\":\"x\",\"domain\":[0.0,1.0],\"title\":{\"text\":\"Count of Track\"},\"range\":[0,380]},\"legend\":{\"tracegroupgap\":0},\"title\":{\"text\":\"Track Count by Cluster Tempo\"},\"barmode\":\"relative\",\"annotations\":[{\"showarrow\":false,\"text\":\"0\",\"x\":\"Low_Tempo\",\"y\":0,\"yshift\":10},{\"showarrow\":false,\"text\":\"307\",\"x\":\"Mid_Tempo\",\"y\":307,\"yshift\":10},{\"showarrow\":false,\"text\":\"337\",\"x\":\"High_Tempo\",\"y\":337,\"yshift\":10}]},                        {\"responsive\": true}                    ).then(function(){\n",
              "                            \n",
              "var gd = document.getElementById('d81e5dd7-1056-4a48-95ad-3cae0d730fbf');\n",
              "var x = new MutationObserver(function (mutations, observer) {{\n",
              "        var display = window.getComputedStyle(gd).display;\n",
              "        if (!display || display === 'none') {{\n",
              "            console.log([gd, 'removed!']);\n",
              "            Plotly.purge(gd);\n",
              "            observer.disconnect();\n",
              "        }}\n",
              "}});\n",
              "\n",
              "// Listen for the removal of the full notebook cells\n",
              "var notebookContainer = gd.closest('#notebook-container');\n",
              "if (notebookContainer) {{\n",
              "    x.observe(notebookContainer, {childList: true});\n",
              "}}\n",
              "\n",
              "// Listen for the clearing of the current output cell\n",
              "var outputEl = gd.closest('.output');\n",
              "if (outputEl) {{\n",
              "    x.observe(outputEl, {childList: true});\n",
              "}}\n",
              "\n",
              "                        })                };                            </script>        </div>\n",
              "</body>\n",
              "</html>"
            ]
          },
          "metadata": {}
        }
      ]
    },
    {
      "cell_type": "markdown",
      "source": [
        "Duration VS Track"
      ],
      "metadata": {
        "id": "KubpdFkgC2oy"
      }
    },
    {
      "cell_type": "code",
      "source": [
        "cluster_duration_count = df_final.groupby('Cluster_Duration(Min)')['Track'].count().reset_index()\n",
        "\n",
        "fig = go.Figure(data=[\n",
        "    go.Bar(\n",
        "        x=cluster_duration_count['Cluster_Duration(Min)'],\n",
        "        y=cluster_duration_count['Track'],\n",
        "        text=cluster_duration_count['Track'],\n",
        "        textposition='auto',\n",
        "        marker_color='#FC5185',\n",
        "    )\n",
        "])\n",
        "\n",
        "fig.update_layout(\n",
        "    title='Track Count by Cluster Duration',\n",
        "    xaxis_title='Cluster Duration (Min)',\n",
        "    yaxis_title='Count of Track',\n",
        "    yaxis=dict(range=[0, 500]),\n",
        "    xaxis_tickangle=0,\n",
        "    plot_bgcolor='white',\n",
        ")\n",
        "\n",
        "fig.show()\n"
      ],
      "metadata": {
        "colab": {
          "base_uri": "https://localhost:8080/",
          "height": 542
        },
        "id": "iOzX3kNeTGwy",
        "outputId": "0ea980e1-af86-41bc-b84e-b16b408dd778"
      },
      "execution_count": 22,
      "outputs": [
        {
          "output_type": "display_data",
          "data": {
            "text/html": [
              "<html>\n",
              "<head><meta charset=\"utf-8\" /></head>\n",
              "<body>\n",
              "    <div>            <script src=\"https://cdnjs.cloudflare.com/ajax/libs/mathjax/2.7.5/MathJax.js?config=TeX-AMS-MML_SVG\"></script><script type=\"text/javascript\">if (window.MathJax && window.MathJax.Hub && window.MathJax.Hub.Config) {window.MathJax.Hub.Config({SVG: {font: \"STIX-Web\"}});}</script>                <script type=\"text/javascript\">window.PlotlyConfig = {MathJaxConfig: 'local'};</script>\n",
              "        <script charset=\"utf-8\" src=\"https://cdn.plot.ly/plotly-2.24.1.min.js\"></script>                <div id=\"76138f66-b27c-4e9b-bfd6-911940d22c56\" class=\"plotly-graph-div\" style=\"height:525px; width:100%;\"></div>            <script type=\"text/javascript\">                                    window.PLOTLYENV=window.PLOTLYENV || {};                                    if (document.getElementById(\"76138f66-b27c-4e9b-bfd6-911940d22c56\")) {                    Plotly.newPlot(                        \"76138f66-b27c-4e9b-bfd6-911940d22c56\",                        [{\"marker\":{\"color\":\"#FC5185\"},\"text\":[172.0,462.0,10.0],\"textposition\":\"auto\",\"x\":[\"0-3mins\",\"3-5mins\",\"5+mins\"],\"y\":[172,462,10],\"type\":\"bar\"}],                        {\"template\":{\"data\":{\"histogram2dcontour\":[{\"type\":\"histogram2dcontour\",\"colorbar\":{\"outlinewidth\":0,\"ticks\":\"\"},\"colorscale\":[[0.0,\"#0d0887\"],[0.1111111111111111,\"#46039f\"],[0.2222222222222222,\"#7201a8\"],[0.3333333333333333,\"#9c179e\"],[0.4444444444444444,\"#bd3786\"],[0.5555555555555556,\"#d8576b\"],[0.6666666666666666,\"#ed7953\"],[0.7777777777777778,\"#fb9f3a\"],[0.8888888888888888,\"#fdca26\"],[1.0,\"#f0f921\"]]}],\"choropleth\":[{\"type\":\"choropleth\",\"colorbar\":{\"outlinewidth\":0,\"ticks\":\"\"}}],\"histogram2d\":[{\"type\":\"histogram2d\",\"colorbar\":{\"outlinewidth\":0,\"ticks\":\"\"},\"colorscale\":[[0.0,\"#0d0887\"],[0.1111111111111111,\"#46039f\"],[0.2222222222222222,\"#7201a8\"],[0.3333333333333333,\"#9c179e\"],[0.4444444444444444,\"#bd3786\"],[0.5555555555555556,\"#d8576b\"],[0.6666666666666666,\"#ed7953\"],[0.7777777777777778,\"#fb9f3a\"],[0.8888888888888888,\"#fdca26\"],[1.0,\"#f0f921\"]]}],\"heatmap\":[{\"type\":\"heatmap\",\"colorbar\":{\"outlinewidth\":0,\"ticks\":\"\"},\"colorscale\":[[0.0,\"#0d0887\"],[0.1111111111111111,\"#46039f\"],[0.2222222222222222,\"#7201a8\"],[0.3333333333333333,\"#9c179e\"],[0.4444444444444444,\"#bd3786\"],[0.5555555555555556,\"#d8576b\"],[0.6666666666666666,\"#ed7953\"],[0.7777777777777778,\"#fb9f3a\"],[0.8888888888888888,\"#fdca26\"],[1.0,\"#f0f921\"]]}],\"heatmapgl\":[{\"type\":\"heatmapgl\",\"colorbar\":{\"outlinewidth\":0,\"ticks\":\"\"},\"colorscale\":[[0.0,\"#0d0887\"],[0.1111111111111111,\"#46039f\"],[0.2222222222222222,\"#7201a8\"],[0.3333333333333333,\"#9c179e\"],[0.4444444444444444,\"#bd3786\"],[0.5555555555555556,\"#d8576b\"],[0.6666666666666666,\"#ed7953\"],[0.7777777777777778,\"#fb9f3a\"],[0.8888888888888888,\"#fdca26\"],[1.0,\"#f0f921\"]]}],\"contourcarpet\":[{\"type\":\"contourcarpet\",\"colorbar\":{\"outlinewidth\":0,\"ticks\":\"\"}}],\"contour\":[{\"type\":\"contour\",\"colorbar\":{\"outlinewidth\":0,\"ticks\":\"\"},\"colorscale\":[[0.0,\"#0d0887\"],[0.1111111111111111,\"#46039f\"],[0.2222222222222222,\"#7201a8\"],[0.3333333333333333,\"#9c179e\"],[0.4444444444444444,\"#bd3786\"],[0.5555555555555556,\"#d8576b\"],[0.6666666666666666,\"#ed7953\"],[0.7777777777777778,\"#fb9f3a\"],[0.8888888888888888,\"#fdca26\"],[1.0,\"#f0f921\"]]}],\"surface\":[{\"type\":\"surface\",\"colorbar\":{\"outlinewidth\":0,\"ticks\":\"\"},\"colorscale\":[[0.0,\"#0d0887\"],[0.1111111111111111,\"#46039f\"],[0.2222222222222222,\"#7201a8\"],[0.3333333333333333,\"#9c179e\"],[0.4444444444444444,\"#bd3786\"],[0.5555555555555556,\"#d8576b\"],[0.6666666666666666,\"#ed7953\"],[0.7777777777777778,\"#fb9f3a\"],[0.8888888888888888,\"#fdca26\"],[1.0,\"#f0f921\"]]}],\"mesh3d\":[{\"type\":\"mesh3d\",\"colorbar\":{\"outlinewidth\":0,\"ticks\":\"\"}}],\"scatter\":[{\"fillpattern\":{\"fillmode\":\"overlay\",\"size\":10,\"solidity\":0.2},\"type\":\"scatter\"}],\"parcoords\":[{\"type\":\"parcoords\",\"line\":{\"colorbar\":{\"outlinewidth\":0,\"ticks\":\"\"}}}],\"scatterpolargl\":[{\"type\":\"scatterpolargl\",\"marker\":{\"colorbar\":{\"outlinewidth\":0,\"ticks\":\"\"}}}],\"bar\":[{\"error_x\":{\"color\":\"#2a3f5f\"},\"error_y\":{\"color\":\"#2a3f5f\"},\"marker\":{\"line\":{\"color\":\"#E5ECF6\",\"width\":0.5},\"pattern\":{\"fillmode\":\"overlay\",\"size\":10,\"solidity\":0.2}},\"type\":\"bar\"}],\"scattergeo\":[{\"type\":\"scattergeo\",\"marker\":{\"colorbar\":{\"outlinewidth\":0,\"ticks\":\"\"}}}],\"scatterpolar\":[{\"type\":\"scatterpolar\",\"marker\":{\"colorbar\":{\"outlinewidth\":0,\"ticks\":\"\"}}}],\"histogram\":[{\"marker\":{\"pattern\":{\"fillmode\":\"overlay\",\"size\":10,\"solidity\":0.2}},\"type\":\"histogram\"}],\"scattergl\":[{\"type\":\"scattergl\",\"marker\":{\"colorbar\":{\"outlinewidth\":0,\"ticks\":\"\"}}}],\"scatter3d\":[{\"type\":\"scatter3d\",\"line\":{\"colorbar\":{\"outlinewidth\":0,\"ticks\":\"\"}},\"marker\":{\"colorbar\":{\"outlinewidth\":0,\"ticks\":\"\"}}}],\"scattermapbox\":[{\"type\":\"scattermapbox\",\"marker\":{\"colorbar\":{\"outlinewidth\":0,\"ticks\":\"\"}}}],\"scatterternary\":[{\"type\":\"scatterternary\",\"marker\":{\"colorbar\":{\"outlinewidth\":0,\"ticks\":\"\"}}}],\"scattercarpet\":[{\"type\":\"scattercarpet\",\"marker\":{\"colorbar\":{\"outlinewidth\":0,\"ticks\":\"\"}}}],\"carpet\":[{\"aaxis\":{\"endlinecolor\":\"#2a3f5f\",\"gridcolor\":\"white\",\"linecolor\":\"white\",\"minorgridcolor\":\"white\",\"startlinecolor\":\"#2a3f5f\"},\"baxis\":{\"endlinecolor\":\"#2a3f5f\",\"gridcolor\":\"white\",\"linecolor\":\"white\",\"minorgridcolor\":\"white\",\"startlinecolor\":\"#2a3f5f\"},\"type\":\"carpet\"}],\"table\":[{\"cells\":{\"fill\":{\"color\":\"#EBF0F8\"},\"line\":{\"color\":\"white\"}},\"header\":{\"fill\":{\"color\":\"#C8D4E3\"},\"line\":{\"color\":\"white\"}},\"type\":\"table\"}],\"barpolar\":[{\"marker\":{\"line\":{\"color\":\"#E5ECF6\",\"width\":0.5},\"pattern\":{\"fillmode\":\"overlay\",\"size\":10,\"solidity\":0.2}},\"type\":\"barpolar\"}],\"pie\":[{\"automargin\":true,\"type\":\"pie\"}]},\"layout\":{\"autotypenumbers\":\"strict\",\"colorway\":[\"#636efa\",\"#EF553B\",\"#00cc96\",\"#ab63fa\",\"#FFA15A\",\"#19d3f3\",\"#FF6692\",\"#B6E880\",\"#FF97FF\",\"#FECB52\"],\"font\":{\"color\":\"#2a3f5f\"},\"hovermode\":\"closest\",\"hoverlabel\":{\"align\":\"left\"},\"paper_bgcolor\":\"white\",\"plot_bgcolor\":\"#E5ECF6\",\"polar\":{\"bgcolor\":\"#E5ECF6\",\"angularaxis\":{\"gridcolor\":\"white\",\"linecolor\":\"white\",\"ticks\":\"\"},\"radialaxis\":{\"gridcolor\":\"white\",\"linecolor\":\"white\",\"ticks\":\"\"}},\"ternary\":{\"bgcolor\":\"#E5ECF6\",\"aaxis\":{\"gridcolor\":\"white\",\"linecolor\":\"white\",\"ticks\":\"\"},\"baxis\":{\"gridcolor\":\"white\",\"linecolor\":\"white\",\"ticks\":\"\"},\"caxis\":{\"gridcolor\":\"white\",\"linecolor\":\"white\",\"ticks\":\"\"}},\"coloraxis\":{\"colorbar\":{\"outlinewidth\":0,\"ticks\":\"\"}},\"colorscale\":{\"sequential\":[[0.0,\"#0d0887\"],[0.1111111111111111,\"#46039f\"],[0.2222222222222222,\"#7201a8\"],[0.3333333333333333,\"#9c179e\"],[0.4444444444444444,\"#bd3786\"],[0.5555555555555556,\"#d8576b\"],[0.6666666666666666,\"#ed7953\"],[0.7777777777777778,\"#fb9f3a\"],[0.8888888888888888,\"#fdca26\"],[1.0,\"#f0f921\"]],\"sequentialminus\":[[0.0,\"#0d0887\"],[0.1111111111111111,\"#46039f\"],[0.2222222222222222,\"#7201a8\"],[0.3333333333333333,\"#9c179e\"],[0.4444444444444444,\"#bd3786\"],[0.5555555555555556,\"#d8576b\"],[0.6666666666666666,\"#ed7953\"],[0.7777777777777778,\"#fb9f3a\"],[0.8888888888888888,\"#fdca26\"],[1.0,\"#f0f921\"]],\"diverging\":[[0,\"#8e0152\"],[0.1,\"#c51b7d\"],[0.2,\"#de77ae\"],[0.3,\"#f1b6da\"],[0.4,\"#fde0ef\"],[0.5,\"#f7f7f7\"],[0.6,\"#e6f5d0\"],[0.7,\"#b8e186\"],[0.8,\"#7fbc41\"],[0.9,\"#4d9221\"],[1,\"#276419\"]]},\"xaxis\":{\"gridcolor\":\"white\",\"linecolor\":\"white\",\"ticks\":\"\",\"title\":{\"standoff\":15},\"zerolinecolor\":\"white\",\"automargin\":true,\"zerolinewidth\":2},\"yaxis\":{\"gridcolor\":\"white\",\"linecolor\":\"white\",\"ticks\":\"\",\"title\":{\"standoff\":15},\"zerolinecolor\":\"white\",\"automargin\":true,\"zerolinewidth\":2},\"scene\":{\"xaxis\":{\"backgroundcolor\":\"#E5ECF6\",\"gridcolor\":\"white\",\"linecolor\":\"white\",\"showbackground\":true,\"ticks\":\"\",\"zerolinecolor\":\"white\",\"gridwidth\":2},\"yaxis\":{\"backgroundcolor\":\"#E5ECF6\",\"gridcolor\":\"white\",\"linecolor\":\"white\",\"showbackground\":true,\"ticks\":\"\",\"zerolinecolor\":\"white\",\"gridwidth\":2},\"zaxis\":{\"backgroundcolor\":\"#E5ECF6\",\"gridcolor\":\"white\",\"linecolor\":\"white\",\"showbackground\":true,\"ticks\":\"\",\"zerolinecolor\":\"white\",\"gridwidth\":2}},\"shapedefaults\":{\"line\":{\"color\":\"#2a3f5f\"}},\"annotationdefaults\":{\"arrowcolor\":\"#2a3f5f\",\"arrowhead\":0,\"arrowwidth\":1},\"geo\":{\"bgcolor\":\"white\",\"landcolor\":\"#E5ECF6\",\"subunitcolor\":\"white\",\"showland\":true,\"showlakes\":true,\"lakecolor\":\"white\"},\"title\":{\"x\":0.05},\"mapbox\":{\"style\":\"light\"}}},\"yaxis\":{\"title\":{\"text\":\"Count of Track\"},\"range\":[0,500]},\"xaxis\":{\"title\":{\"text\":\"Cluster Duration (Min)\"},\"tickangle\":0},\"title\":{\"text\":\"Track Count by Cluster Duration\"},\"plot_bgcolor\":\"white\"},                        {\"responsive\": true}                    ).then(function(){\n",
              "                            \n",
              "var gd = document.getElementById('76138f66-b27c-4e9b-bfd6-911940d22c56');\n",
              "var x = new MutationObserver(function (mutations, observer) {{\n",
              "        var display = window.getComputedStyle(gd).display;\n",
              "        if (!display || display === 'none') {{\n",
              "            console.log([gd, 'removed!']);\n",
              "            Plotly.purge(gd);\n",
              "            observer.disconnect();\n",
              "        }}\n",
              "}});\n",
              "\n",
              "// Listen for the removal of the full notebook cells\n",
              "var notebookContainer = gd.closest('#notebook-container');\n",
              "if (notebookContainer) {{\n",
              "    x.observe(notebookContainer, {childList: true});\n",
              "}}\n",
              "\n",
              "// Listen for the clearing of the current output cell\n",
              "var outputEl = gd.closest('.output');\n",
              "if (outputEl) {{\n",
              "    x.observe(outputEl, {childList: true});\n",
              "}}\n",
              "\n",
              "                        })                };                            </script>        </div>\n",
              "</body>\n",
              "</html>"
            ]
          },
          "metadata": {}
        }
      ]
    },
    {
      "cell_type": "markdown",
      "source": [
        "Loudness VS Track"
      ],
      "metadata": {
        "id": "efn4P4Z-nvrC"
      }
    },
    {
      "cell_type": "code",
      "source": [
        "cluster_loud_count = df_final.groupby('Cluster_Loudness')['Track'].count().reset_index()\n",
        "\n",
        "sort_loud = ['Low_Loud', 'Mid_Loud', 'High_Loud']\n",
        "\n",
        "cluster_loud_count['Cluster_Loudness'] = pd.Categorical(cluster_loud_count['Cluster_Loudness'], categories=sort_loud, ordered=True)\n",
        "cluster_loud_count = cluster_loud_count.sort_values('Cluster_Loudness')\n",
        "\n",
        "fig = go.Figure(data=[\n",
        "    go.Bar(\n",
        "        x=cluster_loud_count['Cluster_Loudness'],\n",
        "        y=cluster_loud_count['Track'],\n",
        "        text=cluster_loud_count['Track'],\n",
        "        textposition='auto',\n",
        "        marker_color='#609966'\n",
        "    )\n",
        "])\n",
        "\n",
        "fig.update_layout(\n",
        "    title='Track Count by Cluster Loudness',\n",
        "    xaxis_title='Cluster Loudness',\n",
        "    yaxis_title='Count of Track',\n",
        "    yaxis=dict(range=[0, 680]),\n",
        "    plot_bgcolor='white'\n",
        ")\n",
        "\n",
        "fig.show()"
      ],
      "metadata": {
        "colab": {
          "base_uri": "https://localhost:8080/",
          "height": 542
        },
        "id": "8_Cws1NTmJEq",
        "outputId": "5bc4ae28-6792-4af4-b4c0-3c4b93213d72"
      },
      "execution_count": 23,
      "outputs": [
        {
          "output_type": "display_data",
          "data": {
            "text/html": [
              "<html>\n",
              "<head><meta charset=\"utf-8\" /></head>\n",
              "<body>\n",
              "    <div>            <script src=\"https://cdnjs.cloudflare.com/ajax/libs/mathjax/2.7.5/MathJax.js?config=TeX-AMS-MML_SVG\"></script><script type=\"text/javascript\">if (window.MathJax && window.MathJax.Hub && window.MathJax.Hub.Config) {window.MathJax.Hub.Config({SVG: {font: \"STIX-Web\"}});}</script>                <script type=\"text/javascript\">window.PlotlyConfig = {MathJaxConfig: 'local'};</script>\n",
              "        <script charset=\"utf-8\" src=\"https://cdn.plot.ly/plotly-2.24.1.min.js\"></script>                <div id=\"892712e1-8c16-41d8-8ea3-45c4eb7b4d65\" class=\"plotly-graph-div\" style=\"height:525px; width:100%;\"></div>            <script type=\"text/javascript\">                                    window.PLOTLYENV=window.PLOTLYENV || {};                                    if (document.getElementById(\"892712e1-8c16-41d8-8ea3-45c4eb7b4d65\")) {                    Plotly.newPlot(                        \"892712e1-8c16-41d8-8ea3-45c4eb7b4d65\",                        [{\"marker\":{\"color\":\"#609966\"},\"text\":[9.0,14.0,621.0],\"textposition\":\"auto\",\"x\":[\"Low_Loud\",\"Mid_Loud\",\"High_Loud\"],\"y\":[9,14,621],\"type\":\"bar\"}],                        {\"template\":{\"data\":{\"histogram2dcontour\":[{\"type\":\"histogram2dcontour\",\"colorbar\":{\"outlinewidth\":0,\"ticks\":\"\"},\"colorscale\":[[0.0,\"#0d0887\"],[0.1111111111111111,\"#46039f\"],[0.2222222222222222,\"#7201a8\"],[0.3333333333333333,\"#9c179e\"],[0.4444444444444444,\"#bd3786\"],[0.5555555555555556,\"#d8576b\"],[0.6666666666666666,\"#ed7953\"],[0.7777777777777778,\"#fb9f3a\"],[0.8888888888888888,\"#fdca26\"],[1.0,\"#f0f921\"]]}],\"choropleth\":[{\"type\":\"choropleth\",\"colorbar\":{\"outlinewidth\":0,\"ticks\":\"\"}}],\"histogram2d\":[{\"type\":\"histogram2d\",\"colorbar\":{\"outlinewidth\":0,\"ticks\":\"\"},\"colorscale\":[[0.0,\"#0d0887\"],[0.1111111111111111,\"#46039f\"],[0.2222222222222222,\"#7201a8\"],[0.3333333333333333,\"#9c179e\"],[0.4444444444444444,\"#bd3786\"],[0.5555555555555556,\"#d8576b\"],[0.6666666666666666,\"#ed7953\"],[0.7777777777777778,\"#fb9f3a\"],[0.8888888888888888,\"#fdca26\"],[1.0,\"#f0f921\"]]}],\"heatmap\":[{\"type\":\"heatmap\",\"colorbar\":{\"outlinewidth\":0,\"ticks\":\"\"},\"colorscale\":[[0.0,\"#0d0887\"],[0.1111111111111111,\"#46039f\"],[0.2222222222222222,\"#7201a8\"],[0.3333333333333333,\"#9c179e\"],[0.4444444444444444,\"#bd3786\"],[0.5555555555555556,\"#d8576b\"],[0.6666666666666666,\"#ed7953\"],[0.7777777777777778,\"#fb9f3a\"],[0.8888888888888888,\"#fdca26\"],[1.0,\"#f0f921\"]]}],\"heatmapgl\":[{\"type\":\"heatmapgl\",\"colorbar\":{\"outlinewidth\":0,\"ticks\":\"\"},\"colorscale\":[[0.0,\"#0d0887\"],[0.1111111111111111,\"#46039f\"],[0.2222222222222222,\"#7201a8\"],[0.3333333333333333,\"#9c179e\"],[0.4444444444444444,\"#bd3786\"],[0.5555555555555556,\"#d8576b\"],[0.6666666666666666,\"#ed7953\"],[0.7777777777777778,\"#fb9f3a\"],[0.8888888888888888,\"#fdca26\"],[1.0,\"#f0f921\"]]}],\"contourcarpet\":[{\"type\":\"contourcarpet\",\"colorbar\":{\"outlinewidth\":0,\"ticks\":\"\"}}],\"contour\":[{\"type\":\"contour\",\"colorbar\":{\"outlinewidth\":0,\"ticks\":\"\"},\"colorscale\":[[0.0,\"#0d0887\"],[0.1111111111111111,\"#46039f\"],[0.2222222222222222,\"#7201a8\"],[0.3333333333333333,\"#9c179e\"],[0.4444444444444444,\"#bd3786\"],[0.5555555555555556,\"#d8576b\"],[0.6666666666666666,\"#ed7953\"],[0.7777777777777778,\"#fb9f3a\"],[0.8888888888888888,\"#fdca26\"],[1.0,\"#f0f921\"]]}],\"surface\":[{\"type\":\"surface\",\"colorbar\":{\"outlinewidth\":0,\"ticks\":\"\"},\"colorscale\":[[0.0,\"#0d0887\"],[0.1111111111111111,\"#46039f\"],[0.2222222222222222,\"#7201a8\"],[0.3333333333333333,\"#9c179e\"],[0.4444444444444444,\"#bd3786\"],[0.5555555555555556,\"#d8576b\"],[0.6666666666666666,\"#ed7953\"],[0.7777777777777778,\"#fb9f3a\"],[0.8888888888888888,\"#fdca26\"],[1.0,\"#f0f921\"]]}],\"mesh3d\":[{\"type\":\"mesh3d\",\"colorbar\":{\"outlinewidth\":0,\"ticks\":\"\"}}],\"scatter\":[{\"fillpattern\":{\"fillmode\":\"overlay\",\"size\":10,\"solidity\":0.2},\"type\":\"scatter\"}],\"parcoords\":[{\"type\":\"parcoords\",\"line\":{\"colorbar\":{\"outlinewidth\":0,\"ticks\":\"\"}}}],\"scatterpolargl\":[{\"type\":\"scatterpolargl\",\"marker\":{\"colorbar\":{\"outlinewidth\":0,\"ticks\":\"\"}}}],\"bar\":[{\"error_x\":{\"color\":\"#2a3f5f\"},\"error_y\":{\"color\":\"#2a3f5f\"},\"marker\":{\"line\":{\"color\":\"#E5ECF6\",\"width\":0.5},\"pattern\":{\"fillmode\":\"overlay\",\"size\":10,\"solidity\":0.2}},\"type\":\"bar\"}],\"scattergeo\":[{\"type\":\"scattergeo\",\"marker\":{\"colorbar\":{\"outlinewidth\":0,\"ticks\":\"\"}}}],\"scatterpolar\":[{\"type\":\"scatterpolar\",\"marker\":{\"colorbar\":{\"outlinewidth\":0,\"ticks\":\"\"}}}],\"histogram\":[{\"marker\":{\"pattern\":{\"fillmode\":\"overlay\",\"size\":10,\"solidity\":0.2}},\"type\":\"histogram\"}],\"scattergl\":[{\"type\":\"scattergl\",\"marker\":{\"colorbar\":{\"outlinewidth\":0,\"ticks\":\"\"}}}],\"scatter3d\":[{\"type\":\"scatter3d\",\"line\":{\"colorbar\":{\"outlinewidth\":0,\"ticks\":\"\"}},\"marker\":{\"colorbar\":{\"outlinewidth\":0,\"ticks\":\"\"}}}],\"scattermapbox\":[{\"type\":\"scattermapbox\",\"marker\":{\"colorbar\":{\"outlinewidth\":0,\"ticks\":\"\"}}}],\"scatterternary\":[{\"type\":\"scatterternary\",\"marker\":{\"colorbar\":{\"outlinewidth\":0,\"ticks\":\"\"}}}],\"scattercarpet\":[{\"type\":\"scattercarpet\",\"marker\":{\"colorbar\":{\"outlinewidth\":0,\"ticks\":\"\"}}}],\"carpet\":[{\"aaxis\":{\"endlinecolor\":\"#2a3f5f\",\"gridcolor\":\"white\",\"linecolor\":\"white\",\"minorgridcolor\":\"white\",\"startlinecolor\":\"#2a3f5f\"},\"baxis\":{\"endlinecolor\":\"#2a3f5f\",\"gridcolor\":\"white\",\"linecolor\":\"white\",\"minorgridcolor\":\"white\",\"startlinecolor\":\"#2a3f5f\"},\"type\":\"carpet\"}],\"table\":[{\"cells\":{\"fill\":{\"color\":\"#EBF0F8\"},\"line\":{\"color\":\"white\"}},\"header\":{\"fill\":{\"color\":\"#C8D4E3\"},\"line\":{\"color\":\"white\"}},\"type\":\"table\"}],\"barpolar\":[{\"marker\":{\"line\":{\"color\":\"#E5ECF6\",\"width\":0.5},\"pattern\":{\"fillmode\":\"overlay\",\"size\":10,\"solidity\":0.2}},\"type\":\"barpolar\"}],\"pie\":[{\"automargin\":true,\"type\":\"pie\"}]},\"layout\":{\"autotypenumbers\":\"strict\",\"colorway\":[\"#636efa\",\"#EF553B\",\"#00cc96\",\"#ab63fa\",\"#FFA15A\",\"#19d3f3\",\"#FF6692\",\"#B6E880\",\"#FF97FF\",\"#FECB52\"],\"font\":{\"color\":\"#2a3f5f\"},\"hovermode\":\"closest\",\"hoverlabel\":{\"align\":\"left\"},\"paper_bgcolor\":\"white\",\"plot_bgcolor\":\"#E5ECF6\",\"polar\":{\"bgcolor\":\"#E5ECF6\",\"angularaxis\":{\"gridcolor\":\"white\",\"linecolor\":\"white\",\"ticks\":\"\"},\"radialaxis\":{\"gridcolor\":\"white\",\"linecolor\":\"white\",\"ticks\":\"\"}},\"ternary\":{\"bgcolor\":\"#E5ECF6\",\"aaxis\":{\"gridcolor\":\"white\",\"linecolor\":\"white\",\"ticks\":\"\"},\"baxis\":{\"gridcolor\":\"white\",\"linecolor\":\"white\",\"ticks\":\"\"},\"caxis\":{\"gridcolor\":\"white\",\"linecolor\":\"white\",\"ticks\":\"\"}},\"coloraxis\":{\"colorbar\":{\"outlinewidth\":0,\"ticks\":\"\"}},\"colorscale\":{\"sequential\":[[0.0,\"#0d0887\"],[0.1111111111111111,\"#46039f\"],[0.2222222222222222,\"#7201a8\"],[0.3333333333333333,\"#9c179e\"],[0.4444444444444444,\"#bd3786\"],[0.5555555555555556,\"#d8576b\"],[0.6666666666666666,\"#ed7953\"],[0.7777777777777778,\"#fb9f3a\"],[0.8888888888888888,\"#fdca26\"],[1.0,\"#f0f921\"]],\"sequentialminus\":[[0.0,\"#0d0887\"],[0.1111111111111111,\"#46039f\"],[0.2222222222222222,\"#7201a8\"],[0.3333333333333333,\"#9c179e\"],[0.4444444444444444,\"#bd3786\"],[0.5555555555555556,\"#d8576b\"],[0.6666666666666666,\"#ed7953\"],[0.7777777777777778,\"#fb9f3a\"],[0.8888888888888888,\"#fdca26\"],[1.0,\"#f0f921\"]],\"diverging\":[[0,\"#8e0152\"],[0.1,\"#c51b7d\"],[0.2,\"#de77ae\"],[0.3,\"#f1b6da\"],[0.4,\"#fde0ef\"],[0.5,\"#f7f7f7\"],[0.6,\"#e6f5d0\"],[0.7,\"#b8e186\"],[0.8,\"#7fbc41\"],[0.9,\"#4d9221\"],[1,\"#276419\"]]},\"xaxis\":{\"gridcolor\":\"white\",\"linecolor\":\"white\",\"ticks\":\"\",\"title\":{\"standoff\":15},\"zerolinecolor\":\"white\",\"automargin\":true,\"zerolinewidth\":2},\"yaxis\":{\"gridcolor\":\"white\",\"linecolor\":\"white\",\"ticks\":\"\",\"title\":{\"standoff\":15},\"zerolinecolor\":\"white\",\"automargin\":true,\"zerolinewidth\":2},\"scene\":{\"xaxis\":{\"backgroundcolor\":\"#E5ECF6\",\"gridcolor\":\"white\",\"linecolor\":\"white\",\"showbackground\":true,\"ticks\":\"\",\"zerolinecolor\":\"white\",\"gridwidth\":2},\"yaxis\":{\"backgroundcolor\":\"#E5ECF6\",\"gridcolor\":\"white\",\"linecolor\":\"white\",\"showbackground\":true,\"ticks\":\"\",\"zerolinecolor\":\"white\",\"gridwidth\":2},\"zaxis\":{\"backgroundcolor\":\"#E5ECF6\",\"gridcolor\":\"white\",\"linecolor\":\"white\",\"showbackground\":true,\"ticks\":\"\",\"zerolinecolor\":\"white\",\"gridwidth\":2}},\"shapedefaults\":{\"line\":{\"color\":\"#2a3f5f\"}},\"annotationdefaults\":{\"arrowcolor\":\"#2a3f5f\",\"arrowhead\":0,\"arrowwidth\":1},\"geo\":{\"bgcolor\":\"white\",\"landcolor\":\"#E5ECF6\",\"subunitcolor\":\"white\",\"showland\":true,\"showlakes\":true,\"lakecolor\":\"white\"},\"title\":{\"x\":0.05},\"mapbox\":{\"style\":\"light\"}}},\"yaxis\":{\"title\":{\"text\":\"Count of Track\"},\"range\":[0,680]},\"title\":{\"text\":\"Track Count by Cluster Loudness\"},\"xaxis\":{\"title\":{\"text\":\"Cluster Loudness\"}},\"plot_bgcolor\":\"white\"},                        {\"responsive\": true}                    ).then(function(){\n",
              "                            \n",
              "var gd = document.getElementById('892712e1-8c16-41d8-8ea3-45c4eb7b4d65');\n",
              "var x = new MutationObserver(function (mutations, observer) {{\n",
              "        var display = window.getComputedStyle(gd).display;\n",
              "        if (!display || display === 'none') {{\n",
              "            console.log([gd, 'removed!']);\n",
              "            Plotly.purge(gd);\n",
              "            observer.disconnect();\n",
              "        }}\n",
              "}});\n",
              "\n",
              "// Listen for the removal of the full notebook cells\n",
              "var notebookContainer = gd.closest('#notebook-container');\n",
              "if (notebookContainer) {{\n",
              "    x.observe(notebookContainer, {childList: true});\n",
              "}}\n",
              "\n",
              "// Listen for the clearing of the current output cell\n",
              "var outputEl = gd.closest('.output');\n",
              "if (outputEl) {{\n",
              "    x.observe(outputEl, {childList: true});\n",
              "}}\n",
              "\n",
              "                        })                };                            </script>        </div>\n",
              "</body>\n",
              "</html>"
            ]
          },
          "metadata": {}
        }
      ]
    },
    {
      "cell_type": "markdown",
      "source": [
        "Danceability VS Popularity VS Cluster"
      ],
      "metadata": {
        "id": "VrDG42oFUapi"
      }
    },
    {
      "cell_type": "code",
      "source": [
        "color_map = {'Low_Dance': '#FDA403', 'Mid_Dance': '#FF204E', 'High_Dance': '#1E3E62'}\n",
        "\n",
        "counts = df_final['Cluster_Danceability'].value_counts()\n",
        "\n",
        "sort_dance = ['Low_Dance', 'Mid_Dance', 'High_Dance']\n",
        "\n",
        "sorted_labels = [f\"{label} ({counts.get(label, 0)})\" for label in sort_dance]\n",
        "\n",
        "fig = px.scatter(\n",
        "    df_final,\n",
        "    x='Danceability',\n",
        "    y='Popularity',\n",
        "    color='Cluster_Danceability',\n",
        "    color_discrete_map=color_map,\n",
        "    category_orders={'Cluster_Danceability': sort_dance},\n",
        "    labels={'Cluster_Danceability': 'Cluster Danceability'},\n",
        "    title='Danceability vs Popularity by Cluster'\n",
        ")\n",
        "\n",
        "fig.for_each_trace(lambda t: t.update(name=sorted_labels[sort_dance.index(t.name)]))\n",
        "\n",
        "fig.show()\n"
      ],
      "metadata": {
        "colab": {
          "base_uri": "https://localhost:8080/",
          "height": 611
        },
        "id": "VfAwtMRgW_KV",
        "outputId": "5108357a-1a10-463c-e0f5-eeaec2a5b51b"
      },
      "execution_count": 24,
      "outputs": [
        {
          "output_type": "stream",
          "name": "stderr",
          "text": [
            "/usr/local/lib/python3.10/dist-packages/plotly/express/_core.py:1992: FutureWarning:\n",
            "\n",
            "When grouping with a length-1 list-like, you will need to pass a length-1 tuple to get_group in a future version of pandas. Pass `(name,)` instead of `name` to silence this warning.\n",
            "\n"
          ]
        },
        {
          "output_type": "display_data",
          "data": {
            "text/html": [
              "<html>\n",
              "<head><meta charset=\"utf-8\" /></head>\n",
              "<body>\n",
              "    <div>            <script src=\"https://cdnjs.cloudflare.com/ajax/libs/mathjax/2.7.5/MathJax.js?config=TeX-AMS-MML_SVG\"></script><script type=\"text/javascript\">if (window.MathJax && window.MathJax.Hub && window.MathJax.Hub.Config) {window.MathJax.Hub.Config({SVG: {font: \"STIX-Web\"}});}</script>                <script type=\"text/javascript\">window.PlotlyConfig = {MathJaxConfig: 'local'};</script>\n",
              "        <script charset=\"utf-8\" src=\"https://cdn.plot.ly/plotly-2.24.1.min.js\"></script>                <div id=\"2735d4d3-204c-42d6-801b-d5cb8be9f2a1\" class=\"plotly-graph-div\" style=\"height:525px; width:100%;\"></div>            <script type=\"text/javascript\">                                    window.PLOTLYENV=window.PLOTLYENV || {};                                    if (document.getElementById(\"2735d4d3-204c-42d6-801b-d5cb8be9f2a1\")) {                    Plotly.newPlot(                        \"2735d4d3-204c-42d6-801b-d5cb8be9f2a1\",                        [{\"hovertemplate\":\"Cluster Danceability=Low_Dance\\u003cbr\\u003eDanceability=%{x}\\u003cbr\\u003ePopularity=%{y}\\u003cextra\\u003e\\u003c\\u002fextra\\u003e\",\"legendgroup\":\"Low_Dance\",\"marker\":{\"color\":\"#FDA403\",\"symbol\":\"circle\"},\"mode\":\"markers\",\"name\":\"Low_Dance (26)\",\"orientation\":\"v\",\"showlegend\":true,\"x\":[0.394,0.351,0.367,0.4,0.358,0.336,0.37,0.4,0.375,0.39,0.365,0.38,0.379,0.327,0.391,0.394,0.334,0.369,0.395,0.38,0.261,0.389,0.4,0.4,0.392,0.369],\"xaxis\":\"x\",\"y\":[54,87,83,67,63,42,74,66,69,52,74,66,62,64,55,77,36,83,82,84,63,62,74,74,76,87],\"yaxis\":\"y\",\"type\":\"scatter\"},{\"hovertemplate\":\"Cluster Danceability=Mid_Dance\\u003cbr\\u003eDanceability=%{x}\\u003cbr\\u003ePopularity=%{y}\\u003cextra\\u003e\\u003c\\u002fextra\\u003e\",\"legendgroup\":\"Mid_Dance\",\"marker\":{\"color\":\"#FF204E\",\"symbol\":\"circle\"},\"mode\":\"markers\",\"name\":\"Mid_Dance (386)\",\"orientation\":\"v\",\"showlegend\":true,\"x\":[0.686,0.664,0.602,0.623,0.699,0.628,0.649,0.608,0.607,0.524,0.584,0.57,0.582,0.502,0.509,0.431,0.63,0.643,0.659,0.466,0.646,0.583,0.508,0.632,0.447,0.652,0.418,0.426,0.483,0.444,0.632,0.654,0.672,0.696,0.662,0.57,0.66,0.669,0.401,0.587,0.508,0.62,0.539,0.588,0.596,0.443,0.512,0.501,0.507,0.576,0.56,0.412,0.542,0.607,0.481,0.489,0.478,0.478,0.469,0.659,0.406,0.504,0.575,0.672,0.571,0.531,0.596,0.561,0.691,0.491,0.604,0.675,0.608,0.574,0.508,0.564,0.484,0.622,0.596,0.651,0.661,0.695,0.695,0.659,0.647,0.461,0.624,0.522,0.599,0.614,0.681,0.555,0.62,0.459,0.537,0.69,0.57,0.497,0.571,0.639,0.536,0.542,0.504,0.663,0.635,0.676,0.52,0.567,0.448,0.575,0.516,0.427,0.653,0.548,0.573,0.635,0.613,0.639,0.679,0.657,0.677,0.495,0.539,0.623,0.682,0.431,0.68,0.697,0.41,0.496,0.553,0.542,0.502,0.677,0.458,0.582,0.586,0.519,0.549,0.491,0.523,0.592,0.529,0.671,0.675,0.641,0.515,0.422,0.625,0.642,0.611,0.653,0.608,0.626,0.677,0.545,0.612,0.63,0.646,0.635,0.627,0.583,0.548,0.446,0.514,0.561,0.662,0.562,0.693,0.627,0.563,0.549,0.668,0.695,0.591,0.587,0.521,0.666,0.577,0.494,0.587,0.476,0.596,0.576,0.539,0.659,0.52,0.632,0.684,0.587,0.481,0.678,0.447,0.545,0.566,0.682,0.682,0.693,0.67,0.551,0.538,0.552,0.598,0.487,0.464,0.572,0.544,0.533,0.551,0.593,0.493,0.573,0.635,0.603,0.655,0.605,0.63,0.557,0.634,0.625,0.556,0.593,0.674,0.684,0.684,0.566,0.529,0.583,0.573,0.699,0.652,0.534,0.613,0.53,0.466,0.631,0.549,0.62,0.403,0.657,0.605,0.59,0.505,0.616,0.576,0.698,0.681,0.506,0.473,0.461,0.525,0.599,0.593,0.699,0.686,0.665,0.475,0.666,0.485,0.669,0.505,0.693,0.523,0.664,0.586,0.617,0.656,0.424,0.651,0.687,0.498,0.692,0.678,0.473,0.672,0.442,0.561,0.638,0.563,0.695,0.461,0.591,0.655,0.562,0.483,0.534,0.562,0.409,0.69,0.664,0.544,0.647,0.616,0.499,0.689,0.582,0.635,0.538,0.538,0.627,0.463,0.567,0.562,0.563,0.621,0.518,0.585,0.694,0.678,0.599,0.55,0.669,0.557,0.46,0.633,0.561,0.678,0.418,0.418,0.67,0.539,0.413,0.6,0.545,0.609,0.516,0.616,0.694,0.541,0.616,0.445,0.432,0.539,0.539,0.686,0.686,0.414,0.603,0.482,0.692,0.436,0.679,0.533,0.644,0.644,0.559,0.631,0.631,0.631,0.633,0.65,0.65,0.613,0.618,0.647,0.647,0.632,0.658,0.513,0.657,0.537,0.505,0.679,0.679,0.679,0.585,0.539,0.611,0.447,0.529,0.602,0.657,0.566,0.667,0.411,0.531,0.699,0.686,0.508,0.447,0.583,0.68,0.429,0.553,0.543,0.552],\"xaxis\":\"x\",\"y\":[76,70,75,71,75,82,66,76,74,75,64,77,79,55,53,80,70,71,51,52,79,71,72,64,69,73,69,66,77,67,72,61,76,76,75,49,0,55,65,65,51,74,53,75,50,63,69,73,61,64,60,29,54,74,39,61,56,55,59,65,68,61,84,60,86,69,62,67,62,49,56,58,64,70,87,71,72,59,53,72,67,77,77,72,78,78,77,75,86,82,71,74,44,44,71,84,78,81,79,70,65,63,34,79,42,82,91,79,74,69,81,71,62,86,23,86,52,76,57,67,74,80,59,67,65,55,72,58,64,62,72,72,77,69,55,55,80,48,77,69,66,71,77,77,81,67,77,76,66,80,64,82,52,62,71,60,71,45,70,74,71,65,60,61,44,56,75,64,46,48,46,82,76,83,67,67,86,74,83,69,73,47,48,60,49,71,51,49,28,35,39,54,48,43,53,70,70,49,48,83,81,74,66,77,78,69,74,83,84,76,59,73,70,63,77,48,78,73,79,67,64,47,72,87,87,34,65,68,73,70,78,65,76,78,78,79,73,79,76,60,72,72,82,80,77,83,62,63,74,76,71,73,79,83,66,60,69,80,74,83,73,72,58,90,81,61,31,59,60,63,60,60,76,77,77,84,83,75,83,82,67,67,68,40,56,41,58,67,74,81,62,56,72,54,55,45,44,78,78,45,57,49,71,77,65,74,82,57,69,69,68,97,68,71,63,67,83,70,70,65,61,83,70,69,62,76,69,74,45,60,66,75,78,78,82,82,81,86,54,82,76,68,70,79,79,87,80,80,80,84,63,63,85,65,70,70,81,80,89,72,77,72,85,85,88,85,32,38,78,49,67,72,78,69,54,59,58,69,82,78,71,86,89,63,65,67],\"yaxis\":\"y\",\"type\":\"scatter\"},{\"hovertemplate\":\"Cluster Danceability=High_Dance\\u003cbr\\u003eDanceability=%{x}\\u003cbr\\u003ePopularity=%{y}\\u003cextra\\u003e\\u003c\\u002fextra\\u003e\",\"legendgroup\":\"High_Dance\",\"marker\":{\"color\":\"#1E3E62\",\"symbol\":\"circle\"},\"mode\":\"markers\",\"name\":\"High_Dance (232)\",\"orientation\":\"v\",\"showlegend\":true,\"x\":[0.78,0.737,0.72,0.731,0.816,0.886,0.86,0.704,0.896,0.732,0.701,0.701,0.905,0.704,0.879,0.908,0.82,0.926,0.968,0.816,0.95,0.747,0.888,0.868,0.935,0.729,0.841,0.846,0.803,0.705,0.774,0.916,0.847,0.948,0.885,0.773,0.705,0.841,0.841,0.822,0.74,0.74,0.707,0.785,0.785,0.764,0.868,0.787,0.787,0.749,0.789,0.824,0.828,0.73,0.793,0.836,0.762,0.722,0.807,0.798,0.798,0.825,0.825,0.788,0.781,0.871,0.809,0.748,0.819,0.848,0.825,0.773,0.8,0.817,0.756,0.749,0.793,0.767,0.811,0.749,0.756,0.772,0.729,0.898,0.763,0.748,0.752,0.853,0.709,0.79,0.711,0.723,0.707,0.701,0.912,0.85,0.826,0.727,0.863,0.924,0.803,0.75,0.702,0.728,0.737,0.768,0.88,0.914,0.958,0.893,0.851,0.747,0.862,0.935,0.935,0.774,0.874,0.79,0.774,0.911,0.846,0.713,0.79,0.795,0.766,0.779,0.827,0.803,0.833,0.715,0.714,0.833,0.807,0.886,0.756,0.775,0.934,0.849,0.913,0.901,0.776,0.706,0.781,0.732,0.811,0.847,0.752,0.814,0.804,0.776,0.964,0.813,0.747,0.723,0.89,0.879,0.787,0.828,0.847,0.831,0.893,0.859,0.758,0.706,0.725,0.703,0.748,0.784,0.702,0.804,0.829,0.771,0.725,0.807,0.749,0.811,0.811,0.923,0.759,0.889,0.805,0.732,0.834,0.789,0.735,0.719,0.723,0.732,0.874,0.81,0.701,0.74,0.741,0.715,0.719,0.965,0.811,0.838,0.725,0.778,0.74,0.8,0.865,0.764,0.794,0.824,0.838,0.788,0.784,0.73,0.795,0.753,0.753,0.75,0.705,0.814,0.82,0.708,0.774,0.785,0.8,0.808,0.775,0.775,0.812,0.752,0.887,0.887,0.831,0.712,0.715,0.801],\"xaxis\":\"x\",\"y\":[50,79,78,77,75,69,71,53,68,70,81,81,73,82,72,60,67,70,54,77,69,75,61,65,77,74,74,73,57,67,46,51,46,71,47,62,60,66,51,51,73,73,76,67,67,81,81,75,75,80,56,82,76,75,84,79,82,68,80,74,74,85,85,82,81,28,79,62,63,57,68,69,60,66,10,60,73,67,64,64,84,57,55,69,65,33,52,78,71,86,90,78,67,61,88,82,75,73,83,96,74,47,37,52,56,48,36,63,57,50,77,61,51,65,65,58,36,45,54,47,69,48,54,63,37,0,60,40,56,71,71,70,73,41,73,69,71,37,64,79,71,88,72,86,76,72,74,78,79,81,60,52,74,79,62,58,71,61,62,75,72,57,68,80,63,62,46,73,69,64,83,71,34,51,56,73,73,65,48,42,63,72,71,84,84,73,78,68,66,56,98,88,76,83,78,64,63,58,76,87,75,69,70,74,76,49,70,68,82,68,76,70,70,81,81,66,48,62,48,44,26,47,68,68,84,50,44,54,34,69,75,73],\"yaxis\":\"y\",\"type\":\"scatter\"}],                        {\"template\":{\"data\":{\"histogram2dcontour\":[{\"type\":\"histogram2dcontour\",\"colorbar\":{\"outlinewidth\":0,\"ticks\":\"\"},\"colorscale\":[[0.0,\"#0d0887\"],[0.1111111111111111,\"#46039f\"],[0.2222222222222222,\"#7201a8\"],[0.3333333333333333,\"#9c179e\"],[0.4444444444444444,\"#bd3786\"],[0.5555555555555556,\"#d8576b\"],[0.6666666666666666,\"#ed7953\"],[0.7777777777777778,\"#fb9f3a\"],[0.8888888888888888,\"#fdca26\"],[1.0,\"#f0f921\"]]}],\"choropleth\":[{\"type\":\"choropleth\",\"colorbar\":{\"outlinewidth\":0,\"ticks\":\"\"}}],\"histogram2d\":[{\"type\":\"histogram2d\",\"colorbar\":{\"outlinewidth\":0,\"ticks\":\"\"},\"colorscale\":[[0.0,\"#0d0887\"],[0.1111111111111111,\"#46039f\"],[0.2222222222222222,\"#7201a8\"],[0.3333333333333333,\"#9c179e\"],[0.4444444444444444,\"#bd3786\"],[0.5555555555555556,\"#d8576b\"],[0.6666666666666666,\"#ed7953\"],[0.7777777777777778,\"#fb9f3a\"],[0.8888888888888888,\"#fdca26\"],[1.0,\"#f0f921\"]]}],\"heatmap\":[{\"type\":\"heatmap\",\"colorbar\":{\"outlinewidth\":0,\"ticks\":\"\"},\"colorscale\":[[0.0,\"#0d0887\"],[0.1111111111111111,\"#46039f\"],[0.2222222222222222,\"#7201a8\"],[0.3333333333333333,\"#9c179e\"],[0.4444444444444444,\"#bd3786\"],[0.5555555555555556,\"#d8576b\"],[0.6666666666666666,\"#ed7953\"],[0.7777777777777778,\"#fb9f3a\"],[0.8888888888888888,\"#fdca26\"],[1.0,\"#f0f921\"]]}],\"heatmapgl\":[{\"type\":\"heatmapgl\",\"colorbar\":{\"outlinewidth\":0,\"ticks\":\"\"},\"colorscale\":[[0.0,\"#0d0887\"],[0.1111111111111111,\"#46039f\"],[0.2222222222222222,\"#7201a8\"],[0.3333333333333333,\"#9c179e\"],[0.4444444444444444,\"#bd3786\"],[0.5555555555555556,\"#d8576b\"],[0.6666666666666666,\"#ed7953\"],[0.7777777777777778,\"#fb9f3a\"],[0.8888888888888888,\"#fdca26\"],[1.0,\"#f0f921\"]]}],\"contourcarpet\":[{\"type\":\"contourcarpet\",\"colorbar\":{\"outlinewidth\":0,\"ticks\":\"\"}}],\"contour\":[{\"type\":\"contour\",\"colorbar\":{\"outlinewidth\":0,\"ticks\":\"\"},\"colorscale\":[[0.0,\"#0d0887\"],[0.1111111111111111,\"#46039f\"],[0.2222222222222222,\"#7201a8\"],[0.3333333333333333,\"#9c179e\"],[0.4444444444444444,\"#bd3786\"],[0.5555555555555556,\"#d8576b\"],[0.6666666666666666,\"#ed7953\"],[0.7777777777777778,\"#fb9f3a\"],[0.8888888888888888,\"#fdca26\"],[1.0,\"#f0f921\"]]}],\"surface\":[{\"type\":\"surface\",\"colorbar\":{\"outlinewidth\":0,\"ticks\":\"\"},\"colorscale\":[[0.0,\"#0d0887\"],[0.1111111111111111,\"#46039f\"],[0.2222222222222222,\"#7201a8\"],[0.3333333333333333,\"#9c179e\"],[0.4444444444444444,\"#bd3786\"],[0.5555555555555556,\"#d8576b\"],[0.6666666666666666,\"#ed7953\"],[0.7777777777777778,\"#fb9f3a\"],[0.8888888888888888,\"#fdca26\"],[1.0,\"#f0f921\"]]}],\"mesh3d\":[{\"type\":\"mesh3d\",\"colorbar\":{\"outlinewidth\":0,\"ticks\":\"\"}}],\"scatter\":[{\"fillpattern\":{\"fillmode\":\"overlay\",\"size\":10,\"solidity\":0.2},\"type\":\"scatter\"}],\"parcoords\":[{\"type\":\"parcoords\",\"line\":{\"colorbar\":{\"outlinewidth\":0,\"ticks\":\"\"}}}],\"scatterpolargl\":[{\"type\":\"scatterpolargl\",\"marker\":{\"colorbar\":{\"outlinewidth\":0,\"ticks\":\"\"}}}],\"bar\":[{\"error_x\":{\"color\":\"#2a3f5f\"},\"error_y\":{\"color\":\"#2a3f5f\"},\"marker\":{\"line\":{\"color\":\"#E5ECF6\",\"width\":0.5},\"pattern\":{\"fillmode\":\"overlay\",\"size\":10,\"solidity\":0.2}},\"type\":\"bar\"}],\"scattergeo\":[{\"type\":\"scattergeo\",\"marker\":{\"colorbar\":{\"outlinewidth\":0,\"ticks\":\"\"}}}],\"scatterpolar\":[{\"type\":\"scatterpolar\",\"marker\":{\"colorbar\":{\"outlinewidth\":0,\"ticks\":\"\"}}}],\"histogram\":[{\"marker\":{\"pattern\":{\"fillmode\":\"overlay\",\"size\":10,\"solidity\":0.2}},\"type\":\"histogram\"}],\"scattergl\":[{\"type\":\"scattergl\",\"marker\":{\"colorbar\":{\"outlinewidth\":0,\"ticks\":\"\"}}}],\"scatter3d\":[{\"type\":\"scatter3d\",\"line\":{\"colorbar\":{\"outlinewidth\":0,\"ticks\":\"\"}},\"marker\":{\"colorbar\":{\"outlinewidth\":0,\"ticks\":\"\"}}}],\"scattermapbox\":[{\"type\":\"scattermapbox\",\"marker\":{\"colorbar\":{\"outlinewidth\":0,\"ticks\":\"\"}}}],\"scatterternary\":[{\"type\":\"scatterternary\",\"marker\":{\"colorbar\":{\"outlinewidth\":0,\"ticks\":\"\"}}}],\"scattercarpet\":[{\"type\":\"scattercarpet\",\"marker\":{\"colorbar\":{\"outlinewidth\":0,\"ticks\":\"\"}}}],\"carpet\":[{\"aaxis\":{\"endlinecolor\":\"#2a3f5f\",\"gridcolor\":\"white\",\"linecolor\":\"white\",\"minorgridcolor\":\"white\",\"startlinecolor\":\"#2a3f5f\"},\"baxis\":{\"endlinecolor\":\"#2a3f5f\",\"gridcolor\":\"white\",\"linecolor\":\"white\",\"minorgridcolor\":\"white\",\"startlinecolor\":\"#2a3f5f\"},\"type\":\"carpet\"}],\"table\":[{\"cells\":{\"fill\":{\"color\":\"#EBF0F8\"},\"line\":{\"color\":\"white\"}},\"header\":{\"fill\":{\"color\":\"#C8D4E3\"},\"line\":{\"color\":\"white\"}},\"type\":\"table\"}],\"barpolar\":[{\"marker\":{\"line\":{\"color\":\"#E5ECF6\",\"width\":0.5},\"pattern\":{\"fillmode\":\"overlay\",\"size\":10,\"solidity\":0.2}},\"type\":\"barpolar\"}],\"pie\":[{\"automargin\":true,\"type\":\"pie\"}]},\"layout\":{\"autotypenumbers\":\"strict\",\"colorway\":[\"#636efa\",\"#EF553B\",\"#00cc96\",\"#ab63fa\",\"#FFA15A\",\"#19d3f3\",\"#FF6692\",\"#B6E880\",\"#FF97FF\",\"#FECB52\"],\"font\":{\"color\":\"#2a3f5f\"},\"hovermode\":\"closest\",\"hoverlabel\":{\"align\":\"left\"},\"paper_bgcolor\":\"white\",\"plot_bgcolor\":\"#E5ECF6\",\"polar\":{\"bgcolor\":\"#E5ECF6\",\"angularaxis\":{\"gridcolor\":\"white\",\"linecolor\":\"white\",\"ticks\":\"\"},\"radialaxis\":{\"gridcolor\":\"white\",\"linecolor\":\"white\",\"ticks\":\"\"}},\"ternary\":{\"bgcolor\":\"#E5ECF6\",\"aaxis\":{\"gridcolor\":\"white\",\"linecolor\":\"white\",\"ticks\":\"\"},\"baxis\":{\"gridcolor\":\"white\",\"linecolor\":\"white\",\"ticks\":\"\"},\"caxis\":{\"gridcolor\":\"white\",\"linecolor\":\"white\",\"ticks\":\"\"}},\"coloraxis\":{\"colorbar\":{\"outlinewidth\":0,\"ticks\":\"\"}},\"colorscale\":{\"sequential\":[[0.0,\"#0d0887\"],[0.1111111111111111,\"#46039f\"],[0.2222222222222222,\"#7201a8\"],[0.3333333333333333,\"#9c179e\"],[0.4444444444444444,\"#bd3786\"],[0.5555555555555556,\"#d8576b\"],[0.6666666666666666,\"#ed7953\"],[0.7777777777777778,\"#fb9f3a\"],[0.8888888888888888,\"#fdca26\"],[1.0,\"#f0f921\"]],\"sequentialminus\":[[0.0,\"#0d0887\"],[0.1111111111111111,\"#46039f\"],[0.2222222222222222,\"#7201a8\"],[0.3333333333333333,\"#9c179e\"],[0.4444444444444444,\"#bd3786\"],[0.5555555555555556,\"#d8576b\"],[0.6666666666666666,\"#ed7953\"],[0.7777777777777778,\"#fb9f3a\"],[0.8888888888888888,\"#fdca26\"],[1.0,\"#f0f921\"]],\"diverging\":[[0,\"#8e0152\"],[0.1,\"#c51b7d\"],[0.2,\"#de77ae\"],[0.3,\"#f1b6da\"],[0.4,\"#fde0ef\"],[0.5,\"#f7f7f7\"],[0.6,\"#e6f5d0\"],[0.7,\"#b8e186\"],[0.8,\"#7fbc41\"],[0.9,\"#4d9221\"],[1,\"#276419\"]]},\"xaxis\":{\"gridcolor\":\"white\",\"linecolor\":\"white\",\"ticks\":\"\",\"title\":{\"standoff\":15},\"zerolinecolor\":\"white\",\"automargin\":true,\"zerolinewidth\":2},\"yaxis\":{\"gridcolor\":\"white\",\"linecolor\":\"white\",\"ticks\":\"\",\"title\":{\"standoff\":15},\"zerolinecolor\":\"white\",\"automargin\":true,\"zerolinewidth\":2},\"scene\":{\"xaxis\":{\"backgroundcolor\":\"#E5ECF6\",\"gridcolor\":\"white\",\"linecolor\":\"white\",\"showbackground\":true,\"ticks\":\"\",\"zerolinecolor\":\"white\",\"gridwidth\":2},\"yaxis\":{\"backgroundcolor\":\"#E5ECF6\",\"gridcolor\":\"white\",\"linecolor\":\"white\",\"showbackground\":true,\"ticks\":\"\",\"zerolinecolor\":\"white\",\"gridwidth\":2},\"zaxis\":{\"backgroundcolor\":\"#E5ECF6\",\"gridcolor\":\"white\",\"linecolor\":\"white\",\"showbackground\":true,\"ticks\":\"\",\"zerolinecolor\":\"white\",\"gridwidth\":2}},\"shapedefaults\":{\"line\":{\"color\":\"#2a3f5f\"}},\"annotationdefaults\":{\"arrowcolor\":\"#2a3f5f\",\"arrowhead\":0,\"arrowwidth\":1},\"geo\":{\"bgcolor\":\"white\",\"landcolor\":\"#E5ECF6\",\"subunitcolor\":\"white\",\"showland\":true,\"showlakes\":true,\"lakecolor\":\"white\"},\"title\":{\"x\":0.05},\"mapbox\":{\"style\":\"light\"}}},\"xaxis\":{\"anchor\":\"y\",\"domain\":[0.0,1.0],\"title\":{\"text\":\"Danceability\"}},\"yaxis\":{\"anchor\":\"x\",\"domain\":[0.0,1.0],\"title\":{\"text\":\"Popularity\"}},\"legend\":{\"title\":{\"text\":\"Cluster Danceability\"},\"tracegroupgap\":0},\"title\":{\"text\":\"Danceability vs Popularity by Cluster\"}},                        {\"responsive\": true}                    ).then(function(){\n",
              "                            \n",
              "var gd = document.getElementById('2735d4d3-204c-42d6-801b-d5cb8be9f2a1');\n",
              "var x = new MutationObserver(function (mutations, observer) {{\n",
              "        var display = window.getComputedStyle(gd).display;\n",
              "        if (!display || display === 'none') {{\n",
              "            console.log([gd, 'removed!']);\n",
              "            Plotly.purge(gd);\n",
              "            observer.disconnect();\n",
              "        }}\n",
              "}});\n",
              "\n",
              "// Listen for the removal of the full notebook cells\n",
              "var notebookContainer = gd.closest('#notebook-container');\n",
              "if (notebookContainer) {{\n",
              "    x.observe(notebookContainer, {childList: true});\n",
              "}}\n",
              "\n",
              "// Listen for the clearing of the current output cell\n",
              "var outputEl = gd.closest('.output');\n",
              "if (outputEl) {{\n",
              "    x.observe(outputEl, {childList: true});\n",
              "}}\n",
              "\n",
              "                        })                };                            </script>        </div>\n",
              "</body>\n",
              "</html>"
            ]
          },
          "metadata": {}
        }
      ]
    },
    {
      "cell_type": "markdown",
      "source": [
        "Energy VS Popularity VS Cluster"
      ],
      "metadata": {
        "id": "WI2EbIFJX0ih"
      }
    },
    {
      "cell_type": "code",
      "source": [
        "color_map = {'Low_Energy': '#FDA403', 'Mid_Energy': '#FF204E', 'High_Energy': '#1E3E62'}\n",
        "\n",
        "counts = df_final['Cluster_Energy'].value_counts()\n",
        "\n",
        "sort_energy = ['Low_Energy', 'Mid_Energy', 'High_Energy']\n",
        "\n",
        "sorted_labels = [f\"{label} ({counts.get(label, 0)})\" for label in sort_energy]\n",
        "\n",
        "fig = px.scatter(\n",
        "    df_final,\n",
        "    x='Energy',\n",
        "    y='Popularity',\n",
        "    color='Cluster_Energy',\n",
        "    color_discrete_map=color_map,\n",
        "    category_orders={'Cluster_Energy': sort_energy},\n",
        "    labels={'Cluster_Energy': 'Cluster Energy'},\n",
        "    title='Energy vs Popularity by Cluster'\n",
        ")\n",
        "\n",
        "fig.for_each_trace(lambda t: t.update(name=sorted_labels[sort_energy.index(t.name)]))\n",
        "\n",
        "fig.show()\n"
      ],
      "metadata": {
        "colab": {
          "base_uri": "https://localhost:8080/",
          "height": 611
        },
        "id": "_0vYC2qdmH_H",
        "outputId": "2eae1a59-545f-4fe1-b294-e3baa307aa6f"
      },
      "execution_count": 25,
      "outputs": [
        {
          "output_type": "stream",
          "name": "stderr",
          "text": [
            "/usr/local/lib/python3.10/dist-packages/plotly/express/_core.py:1992: FutureWarning:\n",
            "\n",
            "When grouping with a length-1 list-like, you will need to pass a length-1 tuple to get_group in a future version of pandas. Pass `(name,)` instead of `name` to silence this warning.\n",
            "\n"
          ]
        },
        {
          "output_type": "display_data",
          "data": {
            "text/html": [
              "<html>\n",
              "<head><meta charset=\"utf-8\" /></head>\n",
              "<body>\n",
              "    <div>            <script src=\"https://cdnjs.cloudflare.com/ajax/libs/mathjax/2.7.5/MathJax.js?config=TeX-AMS-MML_SVG\"></script><script type=\"text/javascript\">if (window.MathJax && window.MathJax.Hub && window.MathJax.Hub.Config) {window.MathJax.Hub.Config({SVG: {font: \"STIX-Web\"}});}</script>                <script type=\"text/javascript\">window.PlotlyConfig = {MathJaxConfig: 'local'};</script>\n",
              "        <script charset=\"utf-8\" src=\"https://cdn.plot.ly/plotly-2.24.1.min.js\"></script>                <div id=\"9ead9823-a23c-494b-8377-90fb0f8b567b\" class=\"plotly-graph-div\" style=\"height:525px; width:100%;\"></div>            <script type=\"text/javascript\">                                    window.PLOTLYENV=window.PLOTLYENV || {};                                    if (document.getElementById(\"9ead9823-a23c-494b-8377-90fb0f8b567b\")) {                    Plotly.newPlot(                        \"9ead9823-a23c-494b-8377-90fb0f8b567b\",                        [{\"hovertemplate\":\"Cluster Energy=Low_Energy\\u003cbr\\u003eEnergy=%{x}\\u003cbr\\u003ePopularity=%{y}\\u003cextra\\u003e\\u003c\\u002fextra\\u003e\",\"legendgroup\":\"Low_Energy\",\"marker\":{\"color\":\"#FDA403\",\"symbol\":\"circle\"},\"mode\":\"markers\",\"name\":\"Low_Energy (58)\",\"orientation\":\"v\",\"showlegend\":true,\"x\":[0.321,0.389,0.225,0.296,0.309,0.365,0.111,0.284,0.334,0.358,0.353,0.372,0.253,0.358,0.307,0.335,0.385,0.379,0.267,0.262,0.283,0.245,0.385,0.235,0.225,0.215,0.256,0.358,0.358,0.0859,0.0436,0.176,0.264,0.203,0.259,0.272,0.339,0.31,0.387,0.332,0.332,0.383,0.372,0.302,0.342,0.366,0.366,0.291,0.354,0.38,0.386,0.341,0.381,0.296,0.0819,0.246,0.117,0.192],\"xaxis\":\"x\",\"y\":[50,73,82,87,67,72,83,72,0,63,47,61,60,74,69,66,75,82,79,71,69,56,83,51,74,74,77,81,80,62,60,46,76,77,75,83,84,65,68,70,70,61,83,63,76,74,74,72,32,66,48,78,69,82,71,86,65,87],\"yaxis\":\"y\",\"type\":\"scatter\"},{\"hovertemplate\":\"Cluster Energy=Mid_Energy\\u003cbr\\u003eEnergy=%{x}\\u003cbr\\u003ePopularity=%{y}\\u003cextra\\u003e\\u003c\\u002fextra\\u003e\",\"legendgroup\":\"Mid_Energy\",\"marker\":{\"color\":\"#FF204E\",\"symbol\":\"circle\"},\"mode\":\"markers\",\"name\":\"Mid_Energy (315)\",\"orientation\":\"v\",\"showlegend\":true,\"x\":[0.602,0.658,0.593,0.654,0.626,0.573,0.538,0.672,0.643,0.68,0.67,0.568,0.694,0.659,0.621,0.621,0.518,0.694,0.441,0.584,0.425,0.425,0.412,0.524,0.568,0.589,0.59,0.57,0.525,0.454,0.658,0.522,0.454,0.482,0.693,0.512,0.55,0.447,0.689,0.507,0.647,0.58,0.538,0.412,0.405,0.512,0.555,0.586,0.641,0.653,0.45,0.544,0.614,0.408,0.43,0.412,0.457,0.627,0.617,0.652,0.652,0.538,0.673,0.673,0.463,0.604,0.621,0.651,0.544,0.667,0.7,0.588,0.676,0.676,0.448,0.652,0.652,0.445,0.664,0.461,0.595,0.543,0.602,0.482,0.48,0.644,0.649,0.458,0.422,0.556,0.621,0.595,0.514,0.606,0.629,0.574,0.528,0.668,0.512,0.646,0.648,0.498,0.421,0.638,0.59,0.571,0.603,0.679,0.404,0.542,0.541,0.559,0.608,0.655,0.469,0.59,0.593,0.44,0.474,0.684,0.454,0.524,0.516,0.556,0.5,0.496,0.573,0.7,0.562,0.552,0.482,0.502,0.668,0.584,0.685,0.602,0.674,0.696,0.523,0.558,0.502,0.634,0.592,0.423,0.521,0.632,0.54,0.683,0.622,0.617,0.61,0.464,0.603,0.667,0.48,0.551,0.623,0.56,0.525,0.526,0.66,0.624,0.402,0.65,0.665,0.467,0.581,0.537,0.488,0.46,0.684,0.53,0.694,0.686,0.571,0.401,0.464,0.576,0.603,0.618,0.589,0.608,0.506,0.607,0.607,0.511,0.655,0.691,0.698,0.67,0.538,0.588,0.622,0.422,0.591,0.44,0.537,0.54,0.657,0.68,0.686,0.648,0.638,0.65,0.641,0.526,0.446,0.605,0.604,0.667,0.514,0.596,0.665,0.606,0.624,0.524,0.626,0.5,0.632,0.438,0.526,0.612,0.431,0.664,0.443,0.575,0.482,0.691,0.443,0.683,0.597,0.68,0.609,0.617,0.565,0.511,0.533,0.512,0.657,0.577,0.564,0.525,0.669,0.467,0.534,0.652,0.567,0.443,0.61,0.637,0.697,0.586,0.457,0.557,0.52,0.682,0.484,0.42,0.454,0.414,0.674,0.507,0.541,0.628,0.692,0.69,0.597,0.549,0.505,0.508,0.508,0.494,0.494,0.473,0.535,0.554,0.684,0.457,0.655,0.516,0.417,0.594,0.551,0.518,0.518,0.518,0.648,0.678,0.678,0.581,0.404,0.574,0.572,0.68,0.587,0.564,0.44,0.451,0.632,0.693,0.503,0.571,0.465,0.465,0.479,0.6,0.589,0.598,0.558,0.403,0.584,0.576,0.441,0.453,0.411],\"xaxis\":\"x\",\"y\":[70,75,82,78,76,77,75,69,75,64,77,79,70,52,71,68,64,69,69,66,81,81,77,60,67,54,69,75,61,77,74,74,76,73,75,49,55,65,51,74,67,50,63,46,46,71,60,29,61,56,84,86,64,70,87,71,72,51,53,67,67,81,75,75,80,56,76,67,79,72,82,68,74,74,86,85,85,81,71,44,28,44,71,84,63,81,57,68,69,66,69,81,23,10,60,86,64,52,64,84,57,57,67,74,67,72,65,33,69,55,74,80,77,52,77,78,77,76,67,66,64,82,62,71,61,45,70,88,82,75,73,83,96,65,37,56,36,63,57,50,82,67,86,74,61,73,48,71,58,36,45,28,54,47,69,48,54,54,43,63,53,71,83,77,71,70,59,70,66,63,48,78,71,37,64,79,79,67,71,64,47,62,72,87,87,34,68,88,78,72,65,64,76,78,79,73,76,60,82,80,62,76,72,74,78,71,73,60,55,62,72,57,80,83,73,72,58,90,61,63,77,84,83,83,82,82,68,40,56,58,74,69,64,83,71,34,51,45,65,49,48,63,71,74,78,57,69,66,69,68,88,97,68,63,76,67,83,83,78,64,62,63,58,45,69,70,60,66,62,78,78,82,82,81,70,82,82,68,76,68,70,76,87,80,80,80,84,70,70,85,81,76,80,72,88,85,62,48,44,38,26,47,68,68,84,50,44,54,54,59,75,69,78,89,67],\"yaxis\":\"y\",\"type\":\"scatter\"},{\"hovertemplate\":\"Cluster Energy=High_Energy\\u003cbr\\u003eEnergy=%{x}\\u003cbr\\u003ePopularity=%{y}\\u003cextra\\u003e\\u003c\\u002fextra\\u003e\",\"legendgroup\":\"High_Energy\",\"marker\":{\"color\":\"#1E3E62\",\"symbol\":\"circle\"},\"mode\":\"markers\",\"name\":\"High_Energy (271)\",\"orientation\":\"v\",\"showlegend\":true,\"x\":[0.702,0.734,0.713,0.802,0.736,0.829,0.758,0.877,0.803,0.837,0.783,0.722,0.877,0.718,0.77,0.72,0.749,0.899,0.703,0.726,0.795,0.731,0.82,0.79,0.882,0.749,0.786,0.807,0.709,0.815,0.824,0.849,0.797,0.912,0.775,0.758,0.768,0.813,0.823,0.843,0.736,0.73,0.813,0.87,0.921,0.857,0.788,0.794,0.862,0.725,0.879,0.78,0.758,0.758,0.955,0.705,0.724,0.764,0.729,0.793,0.884,0.884,0.844,0.893,0.834,0.876,0.859,0.832,0.849,0.739,0.71,0.72,0.754,0.839,0.751,0.962,0.891,0.77,0.97,0.771,0.731,0.838,0.93,0.869,0.816,0.768,0.722,0.791,0.739,0.722,0.722,0.795,0.841,0.74,0.877,0.9,0.709,0.872,0.791,0.771,0.868,0.738,0.907,0.837,0.891,0.824,0.879,0.831,0.809,0.839,0.725,0.905,0.706,0.735,0.854,0.799,0.706,0.858,0.715,0.889,0.701,0.91,0.741,0.939,0.888,0.863,0.853,0.729,0.838,0.879,0.78,0.921,0.828,0.806,0.956,0.846,0.723,0.839,0.816,0.832,0.807,0.807,0.848,0.728,0.813,0.919,0.919,0.885,0.741,0.731,0.833,0.849,0.722,0.966,0.863,0.846,0.813,0.949,0.781,0.907,0.801,0.734,0.795,0.887,0.734,0.789,0.782,0.825,0.803,0.894,0.781,0.805,0.786,0.869,0.88,0.882,0.715,0.891,0.873,0.757,0.751,0.887,0.935,0.771,0.817,0.708,0.782,0.73,0.848,0.882,0.716,0.86,0.875,0.713,0.837,0.912,0.793,0.704,0.867,0.837,0.782,0.738,0.793,0.804,0.718,0.928,0.774,0.713,0.826,0.769,0.888,0.871,0.856,0.856,0.872,0.889,0.785,0.742,0.742,0.82,0.847,0.781,0.781,0.798,0.747,0.709,0.706,0.75,0.828,0.766,0.847,0.759,0.76,0.809,0.841,0.725,0.787,0.789,0.804,0.81,0.824,0.783,0.887,0.832,0.714,0.784,0.716,0.788,0.939,0.728,0.728,0.802,0.802,0.741,0.785,0.785,0.773,0.73,0.769,0.746,0.825,0.825,0.789,0.796,0.871,0.829,0.713,0.807,0.819,0.759,0.823],\"xaxis\":\"x\",\"y\":[76,71,75,79,66,74,71,55,53,80,71,53,51,54,79,72,73,70,70,77,65,61,76,57,67,65,53,75,69,73,51,64,54,74,39,42,55,59,65,68,61,62,62,67,62,49,56,60,58,66,51,59,73,73,76,81,72,82,75,84,77,77,78,80,78,77,82,74,79,62,78,79,60,70,65,63,34,79,42,82,91,74,69,62,86,73,67,76,55,80,59,65,55,72,58,64,62,72,52,77,55,48,69,66,71,78,71,86,90,77,81,67,80,52,60,71,74,71,74,60,61,44,75,64,47,52,46,48,48,46,76,83,67,77,69,47,60,49,51,49,65,65,35,39,48,70,70,37,0,60,40,49,56,48,81,66,78,69,74,83,84,76,73,73,41,73,77,69,73,65,73,70,78,79,72,72,77,83,86,63,74,76,79,79,81,83,52,66,60,69,74,79,58,71,61,62,75,31,68,59,60,36,63,60,67,67,41,67,73,81,62,56,72,54,55,45,44,78,78,56,57,73,73,42,72,71,84,77,82,84,73,56,98,71,65,70,69,69,76,74,87,75,74,76,75,86,49,54,68,79,79,63,63,65,70,70,81,89,81,77,85,85,49,67,72,34,78,69,58,73,63],\"yaxis\":\"y\",\"type\":\"scatter\"}],                        {\"template\":{\"data\":{\"histogram2dcontour\":[{\"type\":\"histogram2dcontour\",\"colorbar\":{\"outlinewidth\":0,\"ticks\":\"\"},\"colorscale\":[[0.0,\"#0d0887\"],[0.1111111111111111,\"#46039f\"],[0.2222222222222222,\"#7201a8\"],[0.3333333333333333,\"#9c179e\"],[0.4444444444444444,\"#bd3786\"],[0.5555555555555556,\"#d8576b\"],[0.6666666666666666,\"#ed7953\"],[0.7777777777777778,\"#fb9f3a\"],[0.8888888888888888,\"#fdca26\"],[1.0,\"#f0f921\"]]}],\"choropleth\":[{\"type\":\"choropleth\",\"colorbar\":{\"outlinewidth\":0,\"ticks\":\"\"}}],\"histogram2d\":[{\"type\":\"histogram2d\",\"colorbar\":{\"outlinewidth\":0,\"ticks\":\"\"},\"colorscale\":[[0.0,\"#0d0887\"],[0.1111111111111111,\"#46039f\"],[0.2222222222222222,\"#7201a8\"],[0.3333333333333333,\"#9c179e\"],[0.4444444444444444,\"#bd3786\"],[0.5555555555555556,\"#d8576b\"],[0.6666666666666666,\"#ed7953\"],[0.7777777777777778,\"#fb9f3a\"],[0.8888888888888888,\"#fdca26\"],[1.0,\"#f0f921\"]]}],\"heatmap\":[{\"type\":\"heatmap\",\"colorbar\":{\"outlinewidth\":0,\"ticks\":\"\"},\"colorscale\":[[0.0,\"#0d0887\"],[0.1111111111111111,\"#46039f\"],[0.2222222222222222,\"#7201a8\"],[0.3333333333333333,\"#9c179e\"],[0.4444444444444444,\"#bd3786\"],[0.5555555555555556,\"#d8576b\"],[0.6666666666666666,\"#ed7953\"],[0.7777777777777778,\"#fb9f3a\"],[0.8888888888888888,\"#fdca26\"],[1.0,\"#f0f921\"]]}],\"heatmapgl\":[{\"type\":\"heatmapgl\",\"colorbar\":{\"outlinewidth\":0,\"ticks\":\"\"},\"colorscale\":[[0.0,\"#0d0887\"],[0.1111111111111111,\"#46039f\"],[0.2222222222222222,\"#7201a8\"],[0.3333333333333333,\"#9c179e\"],[0.4444444444444444,\"#bd3786\"],[0.5555555555555556,\"#d8576b\"],[0.6666666666666666,\"#ed7953\"],[0.7777777777777778,\"#fb9f3a\"],[0.8888888888888888,\"#fdca26\"],[1.0,\"#f0f921\"]]}],\"contourcarpet\":[{\"type\":\"contourcarpet\",\"colorbar\":{\"outlinewidth\":0,\"ticks\":\"\"}}],\"contour\":[{\"type\":\"contour\",\"colorbar\":{\"outlinewidth\":0,\"ticks\":\"\"},\"colorscale\":[[0.0,\"#0d0887\"],[0.1111111111111111,\"#46039f\"],[0.2222222222222222,\"#7201a8\"],[0.3333333333333333,\"#9c179e\"],[0.4444444444444444,\"#bd3786\"],[0.5555555555555556,\"#d8576b\"],[0.6666666666666666,\"#ed7953\"],[0.7777777777777778,\"#fb9f3a\"],[0.8888888888888888,\"#fdca26\"],[1.0,\"#f0f921\"]]}],\"surface\":[{\"type\":\"surface\",\"colorbar\":{\"outlinewidth\":0,\"ticks\":\"\"},\"colorscale\":[[0.0,\"#0d0887\"],[0.1111111111111111,\"#46039f\"],[0.2222222222222222,\"#7201a8\"],[0.3333333333333333,\"#9c179e\"],[0.4444444444444444,\"#bd3786\"],[0.5555555555555556,\"#d8576b\"],[0.6666666666666666,\"#ed7953\"],[0.7777777777777778,\"#fb9f3a\"],[0.8888888888888888,\"#fdca26\"],[1.0,\"#f0f921\"]]}],\"mesh3d\":[{\"type\":\"mesh3d\",\"colorbar\":{\"outlinewidth\":0,\"ticks\":\"\"}}],\"scatter\":[{\"fillpattern\":{\"fillmode\":\"overlay\",\"size\":10,\"solidity\":0.2},\"type\":\"scatter\"}],\"parcoords\":[{\"type\":\"parcoords\",\"line\":{\"colorbar\":{\"outlinewidth\":0,\"ticks\":\"\"}}}],\"scatterpolargl\":[{\"type\":\"scatterpolargl\",\"marker\":{\"colorbar\":{\"outlinewidth\":0,\"ticks\":\"\"}}}],\"bar\":[{\"error_x\":{\"color\":\"#2a3f5f\"},\"error_y\":{\"color\":\"#2a3f5f\"},\"marker\":{\"line\":{\"color\":\"#E5ECF6\",\"width\":0.5},\"pattern\":{\"fillmode\":\"overlay\",\"size\":10,\"solidity\":0.2}},\"type\":\"bar\"}],\"scattergeo\":[{\"type\":\"scattergeo\",\"marker\":{\"colorbar\":{\"outlinewidth\":0,\"ticks\":\"\"}}}],\"scatterpolar\":[{\"type\":\"scatterpolar\",\"marker\":{\"colorbar\":{\"outlinewidth\":0,\"ticks\":\"\"}}}],\"histogram\":[{\"marker\":{\"pattern\":{\"fillmode\":\"overlay\",\"size\":10,\"solidity\":0.2}},\"type\":\"histogram\"}],\"scattergl\":[{\"type\":\"scattergl\",\"marker\":{\"colorbar\":{\"outlinewidth\":0,\"ticks\":\"\"}}}],\"scatter3d\":[{\"type\":\"scatter3d\",\"line\":{\"colorbar\":{\"outlinewidth\":0,\"ticks\":\"\"}},\"marker\":{\"colorbar\":{\"outlinewidth\":0,\"ticks\":\"\"}}}],\"scattermapbox\":[{\"type\":\"scattermapbox\",\"marker\":{\"colorbar\":{\"outlinewidth\":0,\"ticks\":\"\"}}}],\"scatterternary\":[{\"type\":\"scatterternary\",\"marker\":{\"colorbar\":{\"outlinewidth\":0,\"ticks\":\"\"}}}],\"scattercarpet\":[{\"type\":\"scattercarpet\",\"marker\":{\"colorbar\":{\"outlinewidth\":0,\"ticks\":\"\"}}}],\"carpet\":[{\"aaxis\":{\"endlinecolor\":\"#2a3f5f\",\"gridcolor\":\"white\",\"linecolor\":\"white\",\"minorgridcolor\":\"white\",\"startlinecolor\":\"#2a3f5f\"},\"baxis\":{\"endlinecolor\":\"#2a3f5f\",\"gridcolor\":\"white\",\"linecolor\":\"white\",\"minorgridcolor\":\"white\",\"startlinecolor\":\"#2a3f5f\"},\"type\":\"carpet\"}],\"table\":[{\"cells\":{\"fill\":{\"color\":\"#EBF0F8\"},\"line\":{\"color\":\"white\"}},\"header\":{\"fill\":{\"color\":\"#C8D4E3\"},\"line\":{\"color\":\"white\"}},\"type\":\"table\"}],\"barpolar\":[{\"marker\":{\"line\":{\"color\":\"#E5ECF6\",\"width\":0.5},\"pattern\":{\"fillmode\":\"overlay\",\"size\":10,\"solidity\":0.2}},\"type\":\"barpolar\"}],\"pie\":[{\"automargin\":true,\"type\":\"pie\"}]},\"layout\":{\"autotypenumbers\":\"strict\",\"colorway\":[\"#636efa\",\"#EF553B\",\"#00cc96\",\"#ab63fa\",\"#FFA15A\",\"#19d3f3\",\"#FF6692\",\"#B6E880\",\"#FF97FF\",\"#FECB52\"],\"font\":{\"color\":\"#2a3f5f\"},\"hovermode\":\"closest\",\"hoverlabel\":{\"align\":\"left\"},\"paper_bgcolor\":\"white\",\"plot_bgcolor\":\"#E5ECF6\",\"polar\":{\"bgcolor\":\"#E5ECF6\",\"angularaxis\":{\"gridcolor\":\"white\",\"linecolor\":\"white\",\"ticks\":\"\"},\"radialaxis\":{\"gridcolor\":\"white\",\"linecolor\":\"white\",\"ticks\":\"\"}},\"ternary\":{\"bgcolor\":\"#E5ECF6\",\"aaxis\":{\"gridcolor\":\"white\",\"linecolor\":\"white\",\"ticks\":\"\"},\"baxis\":{\"gridcolor\":\"white\",\"linecolor\":\"white\",\"ticks\":\"\"},\"caxis\":{\"gridcolor\":\"white\",\"linecolor\":\"white\",\"ticks\":\"\"}},\"coloraxis\":{\"colorbar\":{\"outlinewidth\":0,\"ticks\":\"\"}},\"colorscale\":{\"sequential\":[[0.0,\"#0d0887\"],[0.1111111111111111,\"#46039f\"],[0.2222222222222222,\"#7201a8\"],[0.3333333333333333,\"#9c179e\"],[0.4444444444444444,\"#bd3786\"],[0.5555555555555556,\"#d8576b\"],[0.6666666666666666,\"#ed7953\"],[0.7777777777777778,\"#fb9f3a\"],[0.8888888888888888,\"#fdca26\"],[1.0,\"#f0f921\"]],\"sequentialminus\":[[0.0,\"#0d0887\"],[0.1111111111111111,\"#46039f\"],[0.2222222222222222,\"#7201a8\"],[0.3333333333333333,\"#9c179e\"],[0.4444444444444444,\"#bd3786\"],[0.5555555555555556,\"#d8576b\"],[0.6666666666666666,\"#ed7953\"],[0.7777777777777778,\"#fb9f3a\"],[0.8888888888888888,\"#fdca26\"],[1.0,\"#f0f921\"]],\"diverging\":[[0,\"#8e0152\"],[0.1,\"#c51b7d\"],[0.2,\"#de77ae\"],[0.3,\"#f1b6da\"],[0.4,\"#fde0ef\"],[0.5,\"#f7f7f7\"],[0.6,\"#e6f5d0\"],[0.7,\"#b8e186\"],[0.8,\"#7fbc41\"],[0.9,\"#4d9221\"],[1,\"#276419\"]]},\"xaxis\":{\"gridcolor\":\"white\",\"linecolor\":\"white\",\"ticks\":\"\",\"title\":{\"standoff\":15},\"zerolinecolor\":\"white\",\"automargin\":true,\"zerolinewidth\":2},\"yaxis\":{\"gridcolor\":\"white\",\"linecolor\":\"white\",\"ticks\":\"\",\"title\":{\"standoff\":15},\"zerolinecolor\":\"white\",\"automargin\":true,\"zerolinewidth\":2},\"scene\":{\"xaxis\":{\"backgroundcolor\":\"#E5ECF6\",\"gridcolor\":\"white\",\"linecolor\":\"white\",\"showbackground\":true,\"ticks\":\"\",\"zerolinecolor\":\"white\",\"gridwidth\":2},\"yaxis\":{\"backgroundcolor\":\"#E5ECF6\",\"gridcolor\":\"white\",\"linecolor\":\"white\",\"showbackground\":true,\"ticks\":\"\",\"zerolinecolor\":\"white\",\"gridwidth\":2},\"zaxis\":{\"backgroundcolor\":\"#E5ECF6\",\"gridcolor\":\"white\",\"linecolor\":\"white\",\"showbackground\":true,\"ticks\":\"\",\"zerolinecolor\":\"white\",\"gridwidth\":2}},\"shapedefaults\":{\"line\":{\"color\":\"#2a3f5f\"}},\"annotationdefaults\":{\"arrowcolor\":\"#2a3f5f\",\"arrowhead\":0,\"arrowwidth\":1},\"geo\":{\"bgcolor\":\"white\",\"landcolor\":\"#E5ECF6\",\"subunitcolor\":\"white\",\"showland\":true,\"showlakes\":true,\"lakecolor\":\"white\"},\"title\":{\"x\":0.05},\"mapbox\":{\"style\":\"light\"}}},\"xaxis\":{\"anchor\":\"y\",\"domain\":[0.0,1.0],\"title\":{\"text\":\"Energy\"}},\"yaxis\":{\"anchor\":\"x\",\"domain\":[0.0,1.0],\"title\":{\"text\":\"Popularity\"}},\"legend\":{\"title\":{\"text\":\"Cluster Energy\"},\"tracegroupgap\":0},\"title\":{\"text\":\"Energy vs Popularity by Cluster\"}},                        {\"responsive\": true}                    ).then(function(){\n",
              "                            \n",
              "var gd = document.getElementById('9ead9823-a23c-494b-8377-90fb0f8b567b');\n",
              "var x = new MutationObserver(function (mutations, observer) {{\n",
              "        var display = window.getComputedStyle(gd).display;\n",
              "        if (!display || display === 'none') {{\n",
              "            console.log([gd, 'removed!']);\n",
              "            Plotly.purge(gd);\n",
              "            observer.disconnect();\n",
              "        }}\n",
              "}});\n",
              "\n",
              "// Listen for the removal of the full notebook cells\n",
              "var notebookContainer = gd.closest('#notebook-container');\n",
              "if (notebookContainer) {{\n",
              "    x.observe(notebookContainer, {childList: true});\n",
              "}}\n",
              "\n",
              "// Listen for the clearing of the current output cell\n",
              "var outputEl = gd.closest('.output');\n",
              "if (outputEl) {{\n",
              "    x.observe(outputEl, {childList: true});\n",
              "}}\n",
              "\n",
              "                        })                };                            </script>        </div>\n",
              "</body>\n",
              "</html>"
            ]
          },
          "metadata": {}
        }
      ]
    },
    {
      "cell_type": "markdown",
      "source": [
        "Speechiness VS Popularity VS Cluster_Speechiness"
      ],
      "metadata": {
        "id": "qPr48k9idT19"
      }
    },
    {
      "cell_type": "code",
      "source": [
        "color_map = {'Low_Speech': '#FDA403', 'Mid_Speech': '#FF204E', 'High_Speech': '#1E3E62'}\n",
        "\n",
        "counts = df_final['Cluster_Speechiness'].value_counts()\n",
        "\n",
        "sort_speech = ['Low_Speech', 'Mid_Speech', 'High_Speech']\n",
        "\n",
        "sorted_labels = [f\"{label} ({counts.get(label, 0)})\" for label in sort_speech]\n",
        "\n",
        "fig = px.scatter(\n",
        "    df_final,\n",
        "    x='Speechiness',\n",
        "    y='Popularity',\n",
        "    color='Cluster_Speechiness',\n",
        "    color_discrete_map=color_map,\n",
        "    category_orders={'Cluster_Speechiness': sort_speech},\n",
        "    labels={'Cluster_Speechiness': 'Cluster Speechiness'},\n",
        "    title='Speechiness vs Popularity by Cluster'\n",
        ")\n",
        "\n",
        "fig.for_each_trace(lambda t: t.update(name=sorted_labels[sort_speech.index(t.name)]))\n",
        "\n",
        "fig.show()"
      ],
      "metadata": {
        "colab": {
          "base_uri": "https://localhost:8080/",
          "height": 611
        },
        "id": "9XC7u5ZQdINE",
        "outputId": "55da427d-1783-432d-d1c9-09bbca881c7e"
      },
      "execution_count": 26,
      "outputs": [
        {
          "output_type": "stream",
          "name": "stderr",
          "text": [
            "/usr/local/lib/python3.10/dist-packages/plotly/express/_core.py:1992: FutureWarning:\n",
            "\n",
            "When grouping with a length-1 list-like, you will need to pass a length-1 tuple to get_group in a future version of pandas. Pass `(name,)` instead of `name` to silence this warning.\n",
            "\n"
          ]
        },
        {
          "output_type": "display_data",
          "data": {
            "text/html": [
              "<html>\n",
              "<head><meta charset=\"utf-8\" /></head>\n",
              "<body>\n",
              "    <div>            <script src=\"https://cdnjs.cloudflare.com/ajax/libs/mathjax/2.7.5/MathJax.js?config=TeX-AMS-MML_SVG\"></script><script type=\"text/javascript\">if (window.MathJax && window.MathJax.Hub && window.MathJax.Hub.Config) {window.MathJax.Hub.Config({SVG: {font: \"STIX-Web\"}});}</script>                <script type=\"text/javascript\">window.PlotlyConfig = {MathJaxConfig: 'local'};</script>\n",
              "        <script charset=\"utf-8\" src=\"https://cdn.plot.ly/plotly-2.24.1.min.js\"></script>                <div id=\"4eb1971b-55c3-402e-8b77-43d5d9cb9425\" class=\"plotly-graph-div\" style=\"height:525px; width:100%;\"></div>            <script type=\"text/javascript\">                                    window.PLOTLYENV=window.PLOTLYENV || {};                                    if (document.getElementById(\"4eb1971b-55c3-402e-8b77-43d5d9cb9425\")) {                    Plotly.newPlot(                        \"4eb1971b-55c3-402e-8b77-43d5d9cb9425\",                        [{\"hovertemplate\":\"Cluster Speechiness=Low_Speech\\u003cbr\\u003eSpeechiness=%{x}\\u003cbr\\u003ePopularity=%{y}\\u003cextra\\u003e\\u003c\\u002fextra\\u003e\",\"legendgroup\":\"Low_Speech\",\"marker\":{\"color\":\"#FDA403\",\"symbol\":\"circle\"},\"mode\":\"markers\",\"name\":\"Low_Speech (608)\",\"orientation\":\"v\",\"showlegend\":true,\"x\":[0.0455,0.0412,0.0558,0.107,0.0594,0.0323,0.0878,0.23,0.0647,0.301,0.0544,0.0617,0.188,0.0695,0.0297,0.0351,0.0274,0.0275,0.0746,0.0272,0.0432,0.0253,0.0856,0.045,0.0288,0.115,0.0607,0.226,0.0479,0.237,0.0628,0.0313,0.0886,0.283,0.143,0.296,0.332,0.0994,0.0402,0.0333,0.062,0.0924,0.0972,0.0801,0.181,0.103,0.255,0.129,0.29,0.081,0.305,0.269,0.0568,0.0459,0.225,0.049,0.153,0.129,0.125,0.0698,0.0445,0.0518,0.108,0.17,0.0641,0.0764,0.0307,0.0337,0.0269,0.0283,0.0229,0.0307,0.0309,0.0329,0.0436,0.146,0.0912,0.0303,0.0386,0.0318,0.0318,0.0379,0.0611,0.0597,0.0451,0.0282,0.0312,0.0342,0.0422,0.0415,0.0526,0.0352,0.0259,0.0395,0.0299,0.0317,0.0316,0.151,0.0797,0.0535,0.0656,0.103,0.0593,0.0253,0.0285,0.0359,0.0335,0.0389,0.0274,0.0376,0.0624,0.0743,0.126,0.0921,0.0921,0.286,0.222,0.0668,0.0668,0.0284,0.174,0.166,0.159,0.159,0.0842,0.25,0.0854,0.0565,0.0499,0.0884,0.083,0.0943,0.0753,0.0753,0.0339,0.0694,0.0457,0.0544,0.0347,0.0989,0.1,0.0288,0.0442,0.0442,0.0232,0.0476,0.0802,0.0802,0.0856,0.0295,0.0353,0.0412,0.0268,0.189,0.0458,0.0738,0.2,0.0381,0.0489,0.0304,0.0443,0.0458,0.315,0.0577,0.187,0.216,0.14,0.0364,0.0342,0.0911,0.0492,0.0371,0.0481,0.0483,0.0557,0.0299,0.0557,0.0561,0.032,0.0313,0.0276,0.0382,0.0465,0.242,0.0298,0.216,0.144,0.322,0.31,0.275,0.2,0.19,0.319,0.254,0.333,0.0282,0.028,0.0489,0.0371,0.0355,0.0348,0.0654,0.0292,0.0781,0.028,0.0788,0.0568,0.032,0.0384,0.027,0.0313,0.0304,0.0522,0.05,0.0327,0.0481,0.0366,0.0481,0.0335,0.0512,0.103,0.042,0.044,0.0955,0.0358,0.0866,0.0334,0.0341,0.0334,0.0322,0.0544,0.0672,0.0496,0.0507,0.0257,0.0502,0.0371,0.0388,0.0306,0.0303,0.0289,0.0275,0.0329,0.041,0.068,0.0724,0.125,0.144,0.115,0.0496,0.0469,0.298,0.0314,0.0382,0.0295,0.0714,0.0344,0.0334,0.0475,0.0426,0.0879,0.0675,0.0503,0.204,0.0743,0.183,0.206,0.0907,0.134,0.0591,0.152,0.0405,0.053,0.0363,0.0291,0.161,0.0304,0.0429,0.0787,0.03,0.0351,0.0729,0.0311,0.0338,0.0442,0.0528,0.045,0.0312,0.0583,0.0334,0.114,0.114,0.234,0.102,0.143,0.11,0.277,0.29,0.0828,0.254,0.204,0.0479,0.0875,0.0875,0.102,0.0962,0.088,0.0859,0.0892,0.136,0.114,0.177,0.0262,0.0481,0.0477,0.0355,0.0253,0.0416,0.06,0.0311,0.0406,0.0303,0.0509,0.0619,0.0514,0.0327,0.0558,0.0476,0.029,0.0281,0.0503,0.0752,0.0324,0.185,0.142,0.0434,0.0464,0.101,0.213,0.0506,0.166,0.0446,0.0645,0.175,0.0343,0.0463,0.0366,0.134,0.0434,0.1,0.1,0.0347,0.0412,0.0315,0.0633,0.0555,0.0345,0.042,0.0452,0.0327,0.0336,0.0334,0.0342,0.0328,0.0277,0.0264,0.0462,0.031,0.0287,0.0322,0.0349,0.0318,0.0288,0.0354,0.0341,0.0321,0.0462,0.037,0.0318,0.0429,0.0368,0.0575,0.12,0.111,0.0534,0.0833,0.225,0.0433,0.0748,0.0496,0.179,0.218,0.0386,0.212,0.0751,0.203,0.0521,0.18,0.0559,0.257,0.329,0.0534,0.0348,0.0292,0.036,0.0373,0.0407,0.047,0.0651,0.0308,0.0371,0.0858,0.0475,0.0472,0.0718,0.0347,0.0437,0.0333,0.0332,0.0575,0.0364,0.0717,0.0514,0.0622,0.102,0.0599,0.112,0.0578,0.0898,0.0364,0.154,0.133,0.116,0.0338,0.0666,0.0316,0.0305,0.0328,0.034,0.0284,0.0296,0.03,0.0395,0.0538,0.0373,0.184,0.116,0.0936,0.0457,0.0633,0.061,0.14,0.0299,0.0477,0.0491,0.25,0.114,0.114,0.046,0.0443,0.0478,0.123,0.0511,0.0428,0.0428,0.0605,0.134,0.0502,0.256,0.0638,0.0424,0.0424,0.0637,0.0429,0.127,0.0283,0.162,0.124,0.0384,0.0919,0.0891,0.296,0.101,0.0741,0.241,0.24,0.163,0.0376,0.0285,0.034,0.054,0.0335,0.326,0.203,0.0656,0.0856,0.0361,0.0492,0.0492,0.18,0.0424,0.0416,0.0443,0.0707,0.0339,0.0487,0.0712,0.0521,0.0502,0.117,0.0425,0.0708,0.0377,0.0422,0.0661,0.0603,0.0707,0.0427,0.0614,0.0443,0.0415,0.176,0.0407,0.0307,0.037,0.0384,0.0288,0.0288,0.0355,0.0355,0.116,0.062,0.0526,0.0432,0.0432,0.0544,0.03,0.155,0.283,0.0583,0.0452,0.148,0.0351,0.0351,0.0748,0.132,0.0597,0.0597,0.0303,0.0303,0.0303,0.062,0.181,0.181,0.0644,0.0644,0.0424,0.0682,0.031,0.165,0.165,0.17,0.0346,0.0308,0.0598,0.0425,0.0348,0.15,0.0714,0.0309,0.0309,0.276,0.0515,0.0494,0.0598,0.0884,0.239,0.234,0.256,0.0457,0.0576,0.0465,0.0675,0.0612,0.0656,0.333,0.0931,0.0602,0.1,0.0873,0.0418,0.0294,0.038,0.0338,0.0297,0.058,0.0296,0.0378,0.0284,0.0755,0.0456,0.04,0.058,0.0459,0.0689,0.0389,0.04,0.0434],\"xaxis\":\"x\",\"y\":[76,70,75,71,75,82,79,66,78,76,77,75,69,71,75,64,77,79,55,53,80,70,71,53,51,52,54,79,71,68,72,64,73,69,70,66,73,82,77,87,67,72,83,72,60,70,54,77,69,75,61,65,61,76,74,74,76,73,57,75,67,49,55,65,65,51,74,67,53,75,50,63,63,69,73,71,47,61,64,60,29,54,74,39,42,61,56,55,59,65,68,61,84,60,86,74,69,62,62,62,49,56,60,58,64,70,87,66,71,72,66,51,51,73,73,53,76,67,67,81,81,72,75,75,80,56,82,76,67,75,84,79,77,77,72,82,78,68,80,78,77,75,74,74,86,82,85,85,82,81,71,74,44,28,71,79,84,62,63,78,81,79,57,68,69,60,66,70,65,63,34,79,42,82,91,79,74,69,69,81,71,62,86,23,10,60,73,86,67,64,52,64,84,76,74,59,67,65,55,72,58,64,62,72,72,65,52,77,33,69,55,74,55,80,48,77,52,69,66,71,78,71,86,90,77,77,81,78,67,77,76,67,66,80,64,82,52,62,71,61,60,71,45,70,88,82,74,75,73,83,96,74,65,60,61,44,56,75,64,47,37,52,46,56,48,48,36,46,63,57,50,82,76,83,67,67,86,74,77,83,61,69,73,47,48,60,49,71,51,49,65,65,36,45,39,54,47,48,54,48,63,53,70,70,37,0,60,40,49,56,71,48,83,81,74,66,77,78,69,74,83,84,71,70,76,59,73,70,66,63,73,41,73,77,48,78,69,71,73,37,64,79,79,67,71,64,47,62,72,87,87,34,65,68,88,73,70,78,72,65,64,76,78,78,79,73,79,76,60,72,72,82,80,77,83,86,62,63,74,76,76,72,74,78,71,73,79,79,81,83,60,52,60,55,74,79,62,58,61,62,57,80,74,83,77,73,72,58,90,81,61,31,68,59,60,80,36,63,60,63,62,60,46,76,77,77,84,83,75,83,83,82,82,84,67,67,68,40,56,41,58,67,74,73,69,81,62,56,72,64,54,83,71,55,45,44,78,78,34,51,56,45,57,73,73,65,49,48,42,63,72,71,71,84,77,65,74,82,84,73,78,57,69,68,66,69,68,56,98,88,97,68,71,63,76,67,83,70,70,65,61,83,83,78,63,70,64,69,62,63,76,58,69,76,74,45,87,75,69,70,60,74,76,66,62,75,78,78,82,82,81,86,49,70,54,68,82,82,68,76,68,70,79,79,76,87,74,74,80,80,80,84,63,63,70,70,85,81,65,70,70,76,81,80,89,81,72,77,72,85,85,88,85,66,48,62,48,44,38,78,49,67,72,26,47,84,50,44,54,34,78,69,54,59,69,58,75,73,69,82,78,71,86,89,63,65,87,67],\"yaxis\":\"y\",\"type\":\"scatter\"},{\"hovertemplate\":\"Cluster Speechiness=Mid_Speech\\u003cbr\\u003eSpeechiness=%{x}\\u003cbr\\u003ePopularity=%{y}\\u003cextra\\u003e\\u003c\\u002fextra\\u003e\",\"legendgroup\":\"Mid_Speech\",\"marker\":{\"color\":\"#FF204E\",\"symbol\":\"circle\"},\"mode\":\"markers\",\"name\":\"Mid_Speech (34)\",\"orientation\":\"v\",\"showlegend\":true,\"x\":[0.372,0.379,0.382,0.375,0.375,0.411,0.375,0.378,0.422,0.584,0.343,0.341,0.408,0.445,0.649,0.412,0.338,0.356,0.357,0.386,0.361,0.506,0.346,0.359,0.341,0.367,0.374,0.351,0.401,0.369,0.424,0.447,0.365,0.365],\"xaxis\":\"x\",\"y\":[50,74,69,81,81,67,77,46,51,46,67,59,44,57,57,67,55,69,80,71,58,28,35,69,54,43,66,69,71,75,72,32,68,68],\"yaxis\":\"y\",\"type\":\"scatter\"},{\"hovertemplate\":\"Cluster Speechiness=High_Speech\\u003cbr\\u003eSpeechiness=%{x}\\u003cbr\\u003ePopularity=%{y}\\u003cextra\\u003e\\u003c\\u002fextra\\u003e\",\"legendgroup\":\"High_Speech\",\"marker\":{\"color\":\"#1E3E62\",\"symbol\":\"circle\"},\"mode\":\"markers\",\"name\":\"High_Speech (2)\",\"orientation\":\"v\",\"showlegend\":true,\"x\":[0.879,0.699],\"xaxis\":\"x\",\"y\":[0,51],\"yaxis\":\"y\",\"type\":\"scatter\"}],                        {\"template\":{\"data\":{\"histogram2dcontour\":[{\"type\":\"histogram2dcontour\",\"colorbar\":{\"outlinewidth\":0,\"ticks\":\"\"},\"colorscale\":[[0.0,\"#0d0887\"],[0.1111111111111111,\"#46039f\"],[0.2222222222222222,\"#7201a8\"],[0.3333333333333333,\"#9c179e\"],[0.4444444444444444,\"#bd3786\"],[0.5555555555555556,\"#d8576b\"],[0.6666666666666666,\"#ed7953\"],[0.7777777777777778,\"#fb9f3a\"],[0.8888888888888888,\"#fdca26\"],[1.0,\"#f0f921\"]]}],\"choropleth\":[{\"type\":\"choropleth\",\"colorbar\":{\"outlinewidth\":0,\"ticks\":\"\"}}],\"histogram2d\":[{\"type\":\"histogram2d\",\"colorbar\":{\"outlinewidth\":0,\"ticks\":\"\"},\"colorscale\":[[0.0,\"#0d0887\"],[0.1111111111111111,\"#46039f\"],[0.2222222222222222,\"#7201a8\"],[0.3333333333333333,\"#9c179e\"],[0.4444444444444444,\"#bd3786\"],[0.5555555555555556,\"#d8576b\"],[0.6666666666666666,\"#ed7953\"],[0.7777777777777778,\"#fb9f3a\"],[0.8888888888888888,\"#fdca26\"],[1.0,\"#f0f921\"]]}],\"heatmap\":[{\"type\":\"heatmap\",\"colorbar\":{\"outlinewidth\":0,\"ticks\":\"\"},\"colorscale\":[[0.0,\"#0d0887\"],[0.1111111111111111,\"#46039f\"],[0.2222222222222222,\"#7201a8\"],[0.3333333333333333,\"#9c179e\"],[0.4444444444444444,\"#bd3786\"],[0.5555555555555556,\"#d8576b\"],[0.6666666666666666,\"#ed7953\"],[0.7777777777777778,\"#fb9f3a\"],[0.8888888888888888,\"#fdca26\"],[1.0,\"#f0f921\"]]}],\"heatmapgl\":[{\"type\":\"heatmapgl\",\"colorbar\":{\"outlinewidth\":0,\"ticks\":\"\"},\"colorscale\":[[0.0,\"#0d0887\"],[0.1111111111111111,\"#46039f\"],[0.2222222222222222,\"#7201a8\"],[0.3333333333333333,\"#9c179e\"],[0.4444444444444444,\"#bd3786\"],[0.5555555555555556,\"#d8576b\"],[0.6666666666666666,\"#ed7953\"],[0.7777777777777778,\"#fb9f3a\"],[0.8888888888888888,\"#fdca26\"],[1.0,\"#f0f921\"]]}],\"contourcarpet\":[{\"type\":\"contourcarpet\",\"colorbar\":{\"outlinewidth\":0,\"ticks\":\"\"}}],\"contour\":[{\"type\":\"contour\",\"colorbar\":{\"outlinewidth\":0,\"ticks\":\"\"},\"colorscale\":[[0.0,\"#0d0887\"],[0.1111111111111111,\"#46039f\"],[0.2222222222222222,\"#7201a8\"],[0.3333333333333333,\"#9c179e\"],[0.4444444444444444,\"#bd3786\"],[0.5555555555555556,\"#d8576b\"],[0.6666666666666666,\"#ed7953\"],[0.7777777777777778,\"#fb9f3a\"],[0.8888888888888888,\"#fdca26\"],[1.0,\"#f0f921\"]]}],\"surface\":[{\"type\":\"surface\",\"colorbar\":{\"outlinewidth\":0,\"ticks\":\"\"},\"colorscale\":[[0.0,\"#0d0887\"],[0.1111111111111111,\"#46039f\"],[0.2222222222222222,\"#7201a8\"],[0.3333333333333333,\"#9c179e\"],[0.4444444444444444,\"#bd3786\"],[0.5555555555555556,\"#d8576b\"],[0.6666666666666666,\"#ed7953\"],[0.7777777777777778,\"#fb9f3a\"],[0.8888888888888888,\"#fdca26\"],[1.0,\"#f0f921\"]]}],\"mesh3d\":[{\"type\":\"mesh3d\",\"colorbar\":{\"outlinewidth\":0,\"ticks\":\"\"}}],\"scatter\":[{\"fillpattern\":{\"fillmode\":\"overlay\",\"size\":10,\"solidity\":0.2},\"type\":\"scatter\"}],\"parcoords\":[{\"type\":\"parcoords\",\"line\":{\"colorbar\":{\"outlinewidth\":0,\"ticks\":\"\"}}}],\"scatterpolargl\":[{\"type\":\"scatterpolargl\",\"marker\":{\"colorbar\":{\"outlinewidth\":0,\"ticks\":\"\"}}}],\"bar\":[{\"error_x\":{\"color\":\"#2a3f5f\"},\"error_y\":{\"color\":\"#2a3f5f\"},\"marker\":{\"line\":{\"color\":\"#E5ECF6\",\"width\":0.5},\"pattern\":{\"fillmode\":\"overlay\",\"size\":10,\"solidity\":0.2}},\"type\":\"bar\"}],\"scattergeo\":[{\"type\":\"scattergeo\",\"marker\":{\"colorbar\":{\"outlinewidth\":0,\"ticks\":\"\"}}}],\"scatterpolar\":[{\"type\":\"scatterpolar\",\"marker\":{\"colorbar\":{\"outlinewidth\":0,\"ticks\":\"\"}}}],\"histogram\":[{\"marker\":{\"pattern\":{\"fillmode\":\"overlay\",\"size\":10,\"solidity\":0.2}},\"type\":\"histogram\"}],\"scattergl\":[{\"type\":\"scattergl\",\"marker\":{\"colorbar\":{\"outlinewidth\":0,\"ticks\":\"\"}}}],\"scatter3d\":[{\"type\":\"scatter3d\",\"line\":{\"colorbar\":{\"outlinewidth\":0,\"ticks\":\"\"}},\"marker\":{\"colorbar\":{\"outlinewidth\":0,\"ticks\":\"\"}}}],\"scattermapbox\":[{\"type\":\"scattermapbox\",\"marker\":{\"colorbar\":{\"outlinewidth\":0,\"ticks\":\"\"}}}],\"scatterternary\":[{\"type\":\"scatterternary\",\"marker\":{\"colorbar\":{\"outlinewidth\":0,\"ticks\":\"\"}}}],\"scattercarpet\":[{\"type\":\"scattercarpet\",\"marker\":{\"colorbar\":{\"outlinewidth\":0,\"ticks\":\"\"}}}],\"carpet\":[{\"aaxis\":{\"endlinecolor\":\"#2a3f5f\",\"gridcolor\":\"white\",\"linecolor\":\"white\",\"minorgridcolor\":\"white\",\"startlinecolor\":\"#2a3f5f\"},\"baxis\":{\"endlinecolor\":\"#2a3f5f\",\"gridcolor\":\"white\",\"linecolor\":\"white\",\"minorgridcolor\":\"white\",\"startlinecolor\":\"#2a3f5f\"},\"type\":\"carpet\"}],\"table\":[{\"cells\":{\"fill\":{\"color\":\"#EBF0F8\"},\"line\":{\"color\":\"white\"}},\"header\":{\"fill\":{\"color\":\"#C8D4E3\"},\"line\":{\"color\":\"white\"}},\"type\":\"table\"}],\"barpolar\":[{\"marker\":{\"line\":{\"color\":\"#E5ECF6\",\"width\":0.5},\"pattern\":{\"fillmode\":\"overlay\",\"size\":10,\"solidity\":0.2}},\"type\":\"barpolar\"}],\"pie\":[{\"automargin\":true,\"type\":\"pie\"}]},\"layout\":{\"autotypenumbers\":\"strict\",\"colorway\":[\"#636efa\",\"#EF553B\",\"#00cc96\",\"#ab63fa\",\"#FFA15A\",\"#19d3f3\",\"#FF6692\",\"#B6E880\",\"#FF97FF\",\"#FECB52\"],\"font\":{\"color\":\"#2a3f5f\"},\"hovermode\":\"closest\",\"hoverlabel\":{\"align\":\"left\"},\"paper_bgcolor\":\"white\",\"plot_bgcolor\":\"#E5ECF6\",\"polar\":{\"bgcolor\":\"#E5ECF6\",\"angularaxis\":{\"gridcolor\":\"white\",\"linecolor\":\"white\",\"ticks\":\"\"},\"radialaxis\":{\"gridcolor\":\"white\",\"linecolor\":\"white\",\"ticks\":\"\"}},\"ternary\":{\"bgcolor\":\"#E5ECF6\",\"aaxis\":{\"gridcolor\":\"white\",\"linecolor\":\"white\",\"ticks\":\"\"},\"baxis\":{\"gridcolor\":\"white\",\"linecolor\":\"white\",\"ticks\":\"\"},\"caxis\":{\"gridcolor\":\"white\",\"linecolor\":\"white\",\"ticks\":\"\"}},\"coloraxis\":{\"colorbar\":{\"outlinewidth\":0,\"ticks\":\"\"}},\"colorscale\":{\"sequential\":[[0.0,\"#0d0887\"],[0.1111111111111111,\"#46039f\"],[0.2222222222222222,\"#7201a8\"],[0.3333333333333333,\"#9c179e\"],[0.4444444444444444,\"#bd3786\"],[0.5555555555555556,\"#d8576b\"],[0.6666666666666666,\"#ed7953\"],[0.7777777777777778,\"#fb9f3a\"],[0.8888888888888888,\"#fdca26\"],[1.0,\"#f0f921\"]],\"sequentialminus\":[[0.0,\"#0d0887\"],[0.1111111111111111,\"#46039f\"],[0.2222222222222222,\"#7201a8\"],[0.3333333333333333,\"#9c179e\"],[0.4444444444444444,\"#bd3786\"],[0.5555555555555556,\"#d8576b\"],[0.6666666666666666,\"#ed7953\"],[0.7777777777777778,\"#fb9f3a\"],[0.8888888888888888,\"#fdca26\"],[1.0,\"#f0f921\"]],\"diverging\":[[0,\"#8e0152\"],[0.1,\"#c51b7d\"],[0.2,\"#de77ae\"],[0.3,\"#f1b6da\"],[0.4,\"#fde0ef\"],[0.5,\"#f7f7f7\"],[0.6,\"#e6f5d0\"],[0.7,\"#b8e186\"],[0.8,\"#7fbc41\"],[0.9,\"#4d9221\"],[1,\"#276419\"]]},\"xaxis\":{\"gridcolor\":\"white\",\"linecolor\":\"white\",\"ticks\":\"\",\"title\":{\"standoff\":15},\"zerolinecolor\":\"white\",\"automargin\":true,\"zerolinewidth\":2},\"yaxis\":{\"gridcolor\":\"white\",\"linecolor\":\"white\",\"ticks\":\"\",\"title\":{\"standoff\":15},\"zerolinecolor\":\"white\",\"automargin\":true,\"zerolinewidth\":2},\"scene\":{\"xaxis\":{\"backgroundcolor\":\"#E5ECF6\",\"gridcolor\":\"white\",\"linecolor\":\"white\",\"showbackground\":true,\"ticks\":\"\",\"zerolinecolor\":\"white\",\"gridwidth\":2},\"yaxis\":{\"backgroundcolor\":\"#E5ECF6\",\"gridcolor\":\"white\",\"linecolor\":\"white\",\"showbackground\":true,\"ticks\":\"\",\"zerolinecolor\":\"white\",\"gridwidth\":2},\"zaxis\":{\"backgroundcolor\":\"#E5ECF6\",\"gridcolor\":\"white\",\"linecolor\":\"white\",\"showbackground\":true,\"ticks\":\"\",\"zerolinecolor\":\"white\",\"gridwidth\":2}},\"shapedefaults\":{\"line\":{\"color\":\"#2a3f5f\"}},\"annotationdefaults\":{\"arrowcolor\":\"#2a3f5f\",\"arrowhead\":0,\"arrowwidth\":1},\"geo\":{\"bgcolor\":\"white\",\"landcolor\":\"#E5ECF6\",\"subunitcolor\":\"white\",\"showland\":true,\"showlakes\":true,\"lakecolor\":\"white\"},\"title\":{\"x\":0.05},\"mapbox\":{\"style\":\"light\"}}},\"xaxis\":{\"anchor\":\"y\",\"domain\":[0.0,1.0],\"title\":{\"text\":\"Speechiness\"}},\"yaxis\":{\"anchor\":\"x\",\"domain\":[0.0,1.0],\"title\":{\"text\":\"Popularity\"}},\"legend\":{\"title\":{\"text\":\"Cluster Speechiness\"},\"tracegroupgap\":0},\"title\":{\"text\":\"Speechiness vs Popularity by Cluster\"}},                        {\"responsive\": true}                    ).then(function(){\n",
              "                            \n",
              "var gd = document.getElementById('4eb1971b-55c3-402e-8b77-43d5d9cb9425');\n",
              "var x = new MutationObserver(function (mutations, observer) {{\n",
              "        var display = window.getComputedStyle(gd).display;\n",
              "        if (!display || display === 'none') {{\n",
              "            console.log([gd, 'removed!']);\n",
              "            Plotly.purge(gd);\n",
              "            observer.disconnect();\n",
              "        }}\n",
              "}});\n",
              "\n",
              "// Listen for the removal of the full notebook cells\n",
              "var notebookContainer = gd.closest('#notebook-container');\n",
              "if (notebookContainer) {{\n",
              "    x.observe(notebookContainer, {childList: true});\n",
              "}}\n",
              "\n",
              "// Listen for the clearing of the current output cell\n",
              "var outputEl = gd.closest('.output');\n",
              "if (outputEl) {{\n",
              "    x.observe(outputEl, {childList: true});\n",
              "}}\n",
              "\n",
              "                        })                };                            </script>        </div>\n",
              "</body>\n",
              "</html>"
            ]
          },
          "metadata": {}
        }
      ]
    },
    {
      "cell_type": "markdown",
      "source": [
        "Acouticness VS Popularity VS Cluster_Acouticness"
      ],
      "metadata": {
        "id": "Tjt_xR6ieiSs"
      }
    },
    {
      "cell_type": "code",
      "source": [
        "color_map = {'Low_Acoustic': '#FDA403', 'Mid_Acoustic': '#FF204E', 'High_Acoustic': '#1E3E62'}\n",
        "\n",
        "counts = df_final['Cluster_Acousticness'].value_counts()\n",
        "\n",
        "sort_acoustic = ['Low_Acoustic', 'Mid_Acoustic', 'High_Acoustic']\n",
        "\n",
        "sorted_labels = [f\"{label} ({counts.get(label, 0)})\" for label in sort_acoustic]\n",
        "\n",
        "fig = px.scatter(\n",
        "    df_final,\n",
        "    x='Acousticness',\n",
        "    y='Popularity',\n",
        "    color='Cluster_Acousticness',\n",
        "    color_discrete_map=color_map,\n",
        "    category_orders={'Cluster_Acousticness': sort_acoustic},\n",
        "    labels={'Cluster_Acousticness': 'Cluster Acousticness'},\n",
        "    title='Acousticness vs Popularity by Cluster'\n",
        ")\n",
        "\n",
        "fig.for_each_trace(lambda t: t.update(name=sorted_labels[sort_acoustic.index(t.name)]))\n",
        "\n",
        "fig.show()"
      ],
      "metadata": {
        "colab": {
          "base_uri": "https://localhost:8080/",
          "height": 611
        },
        "id": "GW_MN4_uewCi",
        "outputId": "dd121fd9-6363-430f-f6fa-99da8ad6c380"
      },
      "execution_count": 27,
      "outputs": [
        {
          "output_type": "stream",
          "name": "stderr",
          "text": [
            "/usr/local/lib/python3.10/dist-packages/plotly/express/_core.py:1992: FutureWarning:\n",
            "\n",
            "When grouping with a length-1 list-like, you will need to pass a length-1 tuple to get_group in a future version of pandas. Pass `(name,)` instead of `name` to silence this warning.\n",
            "\n"
          ]
        },
        {
          "output_type": "display_data",
          "data": {
            "text/html": [
              "<html>\n",
              "<head><meta charset=\"utf-8\" /></head>\n",
              "<body>\n",
              "    <div>            <script src=\"https://cdnjs.cloudflare.com/ajax/libs/mathjax/2.7.5/MathJax.js?config=TeX-AMS-MML_SVG\"></script><script type=\"text/javascript\">if (window.MathJax && window.MathJax.Hub && window.MathJax.Hub.Config) {window.MathJax.Hub.Config({SVG: {font: \"STIX-Web\"}});}</script>                <script type=\"text/javascript\">window.PlotlyConfig = {MathJaxConfig: 'local'};</script>\n",
              "        <script charset=\"utf-8\" src=\"https://cdn.plot.ly/plotly-2.24.1.min.js\"></script>                <div id=\"101c7b17-6083-45e1-89a7-32d21ecf94d0\" class=\"plotly-graph-div\" style=\"height:525px; width:100%;\"></div>            <script type=\"text/javascript\">                                    window.PLOTLYENV=window.PLOTLYENV || {};                                    if (document.getElementById(\"101c7b17-6083-45e1-89a7-32d21ecf94d0\")) {                    Plotly.newPlot(                        \"101c7b17-6083-45e1-89a7-32d21ecf94d0\",                        [{\"hovertemplate\":\"Cluster Acousticness=Low_Acoustic\\u003cbr\\u003eAcousticness=%{x}\\u003cbr\\u003ePopularity=%{y}\\u003cextra\\u003e\\u003c\\u002fextra\\u003e\",\"legendgroup\":\"Low_Acoustic\",\"marker\":{\"color\":\"#FDA403\",\"symbol\":\"circle\"},\"mode\":\"markers\",\"name\":\"Low_Acoustic (449)\",\"orientation\":\"v\",\"showlegend\":true,\"x\":[0.00637,0.0529,0.0233,0.0162,0.04,0.093,0.0528,0.227,0.0142,0.0103,0.0363,0.021,0.285,0.0129,0.0772,0.259,0.00281,0.047,0.0522,0.0878,0.00282,0.00249,0.00972,0.00532,0.272,0.107,0.0293,0.0848,0.029,0.00496,0.0383,0.227,0.00111,0.0256,0.0659,0.0511,0.099,0.00534,0.0642,0.029,0.0012,0.0194,0.0419,0.0368,0.0506,0.0168,0.123,0.0246,0.00863,0.134,0.000369,0.0715,0.203,0.137,0.111,0.176,0.00228,0.0835,0.257,0.0415,0.0513,0.026,0.222,0.232,0.0269,0.0866,0.166,0.292,0.00111,0.124,0.0169,0.00275,0.0592,0.0819,0.102,0.00714,0.0174,0.0889,0.00216,0.24,0.0331,0.0015,0.174,0.0834,0.0678,0.0488,0.0165,0.227,0.00821,0.0055,0.143,0.0702,0.061,0.061,0.127,0.102,0.102,0.259,0.269,0.172,0.264,0.264,0.21,0.0768,0.0888,0.0164,0.117,0.167,0.0123,0.0403,0.0561,0.0561,0.00173,0.00261,0.0137,0.0319,0.0451,0.0232,0.0735,0.0902,0.0902,0.163,0.281,0.28,0.165,0.296,0.251,0.0898,0.188,0.213,0.232,0.114,0.00783,0.0668,0.0529,0.0506,0.000474,0.00527,0.0876,0.0087,0.0237,0.21,0.00064,0.0392,0.0275,0.128,0.122,0.21,0.118,0.229,0.291,0.0526,0.152,0.0275,0.145,0.115,0.0697,0.13,0.00913,0.0166,0.0507,0.196,0.156,0.176,0.223,0.0123,0.0419,0.146,0.133,0.118,0.0491,0.0267,0.0322,0.158,0.0447,0.0899,0.179,0.0839,0.246,0.132,0.112,0.0156,0.263,0.00244,0.00898,0.00949,0.163,0.169,0.256,0.167,0.263,0.295,0.254,0.00165,0.0298,0.00168,0.00165,0.046,0.0147,0.00187,0.0139,0.00329,0.0393,0.101,0.0247,0.0457,0.00125,0.00225,0.0293,0.278,0.299,0.0265,0.00314,0.0107,0.00327,0.119,0.233,0.0266,0.148,0.0716,0.243,0.134,0.0216,0.0363,0.0019,0.0241,0.0514,0.0514,0.000692,0.195,0.0613,0.202,0.0364,0.279,0.000204,0.0313,0.269,0.107,0.16,0.0787,0.0258,0.0134,0.067,0.0156,0.256,0.256,0.00666,0.0261,0.13,0.259,0.00466,0.0573,0.11,0.0292,0.0139,0.0527,0.191,0.0153,0.00165,0.00585,0.0292,0.013,0.0996,0.0339,0.02,0.129,0.0467,0.126,0.0573,0.0294,0.0506,0.0971,0.0124,0.00209,0.0709,0.0543,0.0728,0.00558,0.00311,0.173,0.0267,0.0267,0.00275,0.111,0.0584,0.0767,0.00161,0.00112,0.0103,0.173,0.0834,0.00882,0.232,0.0462,0.0803,0.0942,0.0449,0.0798,9.91e-05,0.000219,0.236,0.0596,0.027,0.268,0.18,0.185,0.0668,0.0227,0.278,0.0148,0.00812,0.135,0.271,0.0572,0.0808,0.0849,0.0295,0.0781,0.0195,0.0245,0.0194,0.124,0.0253,0.267,0.119,0.0675,0.152,0.0373,0.295,0.0058,0.125,0.0311,0.198,0.139,0.00441,0.00265,0.0135,0.00531,0.0965,0.24,0.00311,0.0976,0.0544,0.227,0.0965,0.021,0.138,0.138,0.275,0.176,0.0205,0.0307,0.199,0.134,0.0245,0.119,0.0206,0.00124,0.0341,0.112,0.113,0.248,0.00906,0.025,0.00201,0.0747,0.248,0.0454,0.0493,0.147,0.213,0.111,0.107,0.0268,0.274,0.0422,0.169,0.153,0.204,0.283,0.0138,0.0933,0.189,0.00999,0.179,0.0146,0.207,0.053,0.124,0.122,0.284,0.0297,0.285,0.00987,0.237,0.0703,0.0876,0.000916,0.0714,0.115,0.0723,0.00548,0.131,0.0705,0.199,0.0543,0.0543,0.112,0.141,0.242,0.242,0.274,0.274,0.274,0.121,0.0871,0.0871,0.085,0.085,0.216,0.17,0.0561,0.0561,0.0623,0.0811,0.00143,0.113,0.0236,0.0796,0.0212,0.0212,0.141,0.0671,0.274,0.0533,0.0312,0.0049,0.00398,0.146,0.0031,0.054,0.213,0.103,0.107,0.099,0.162,0.0244,0.0886,0.0201],\"xaxis\":\"x\",\"y\":[76,70,75,71,75,82,66,78,75,74,69,71,64,55,53,80,70,71,53,51,52,79,71,68,72,64,69,73,69,70,66,72,60,67,70,54,77,69,75,61,65,77,61,76,74,74,76,73,57,75,67,49,55,51,74,67,53,75,50,69,73,46,51,46,71,47,60,29,54,74,39,42,61,56,55,59,65,68,61,62,62,67,62,49,56,60,58,64,66,51,51,59,73,73,76,67,67,81,81,72,75,75,80,56,82,76,67,75,84,79,77,77,72,82,78,68,80,78,77,74,74,86,82,74,28,71,79,78,81,79,57,68,69,60,70,65,63,34,79,42,82,74,69,69,81,62,86,60,73,86,64,64,84,76,57,57,80,55,58,64,62,72,72,65,52,77,74,55,48,52,69,71,78,71,90,77,77,81,78,66,82,52,71,60,71,70,88,82,74,75,71,74,65,60,61,44,75,64,47,37,52,46,56,48,48,36,46,63,57,50,82,76,83,67,67,77,61,69,73,47,48,60,49,51,49,51,65,65,58,36,45,28,35,39,54,47,69,48,54,54,48,43,63,53,70,70,37,0,60,40,49,56,71,48,81,66,77,78,69,74,83,84,71,70,76,73,70,66,73,41,69,71,73,37,64,67,71,64,62,72,87,87,34,68,88,73,70,78,72,65,64,76,73,72,72,83,86,63,74,76,76,72,78,79,81,83,60,52,66,60,55,74,79,62,58,71,61,62,75,72,57,83,73,72,58,61,68,59,60,36,60,77,82,67,67,40,41,58,73,69,62,56,54,83,55,45,78,78,34,51,56,57,65,49,42,63,72,71,71,84,77,74,82,84,73,78,57,69,68,66,69,56,98,88,97,71,63,67,65,61,78,70,64,69,62,63,58,69,76,74,87,75,70,74,76,66,75,49,70,54,68,82,82,68,68,79,79,76,87,74,74,80,80,80,84,63,63,70,70,81,65,70,70,81,80,89,81,77,72,85,85,88,85,66,48,44,38,49,67,72,26,84,50,44,54,54,69,58,63],\"yaxis\":\"y\",\"type\":\"scatter\"},{\"hovertemplate\":\"Cluster Acousticness=Mid_Acoustic\\u003cbr\\u003eAcousticness=%{x}\\u003cbr\\u003ePopularity=%{y}\\u003cextra\\u003e\\u003c\\u002fextra\\u003e\",\"legendgroup\":\"Mid_Acoustic\",\"marker\":{\"color\":\"#FF204E\",\"symbol\":\"circle\"},\"mode\":\"markers\",\"name\":\"Mid_Acoustic (148)\",\"orientation\":\"v\",\"showlegend\":true,\"x\":[0.562,0.468,0.597,0.401,0.451,0.426,0.577,0.328,0.328,0.452,0.322,0.698,0.566,0.327,0.481,0.511,0.531,0.453,0.673,0.554,0.649,0.481,0.536,0.607,0.581,0.581,0.474,0.335,0.605,0.637,0.523,0.461,0.685,0.469,0.342,0.496,0.54,0.678,0.591,0.352,0.696,0.589,0.319,0.314,0.646,0.305,0.342,0.492,0.653,0.357,0.639,0.682,0.301,0.312,0.435,0.653,0.617,0.578,0.518,0.498,0.4,0.46,0.388,0.61,0.446,0.308,0.494,0.371,0.513,0.676,0.302,0.356,0.53,0.375,0.333,0.4,0.368,0.462,0.308,0.407,0.417,0.667,0.615,0.59,0.662,0.373,0.361,0.335,0.588,0.653,0.634,0.357,0.406,0.309,0.556,0.589,0.677,0.302,0.593,0.584,0.335,0.691,0.411,0.611,0.434,0.311,0.406,0.516,0.68,0.672,0.442,0.584,0.376,0.376,0.589,0.597,0.428,0.447,0.529,0.588,0.638,0.55,0.342,0.691,0.538,0.613,0.613,0.663,0.446,0.499,0.514,0.537,0.405,0.37,0.334,0.615,0.345,0.609,0.609,0.45,0.645,0.455,0.551,0.432,0.657,0.443,0.554,0.555],\"xaxis\":\"x\",\"y\":[50,79,76,77,75,77,79,81,81,0,65,65,63,63,61,64,84,86,66,71,72,53,75,82,85,85,81,71,44,44,84,62,63,66,91,23,10,67,52,67,55,74,69,59,67,65,72,33,69,55,80,77,66,86,67,77,76,67,80,64,62,61,45,83,96,86,74,83,71,83,59,63,73,77,48,78,79,47,65,78,78,79,79,76,60,82,80,77,62,74,71,79,69,80,81,31,80,63,63,84,83,84,68,56,67,74,81,72,64,71,44,45,73,73,48,68,68,76,83,83,83,76,69,60,62,82,82,81,86,76,70,85,72,32,48,62,47,68,68,34,78,69,59,75,73,69,89,87],\"yaxis\":\"y\",\"type\":\"scatter\"},{\"hovertemplate\":\"Cluster Acousticness=High_Acoustic\\u003cbr\\u003eAcousticness=%{x}\\u003cbr\\u003ePopularity=%{y}\\u003cextra\\u003e\\u003c\\u002fextra\\u003e\",\"legendgroup\":\"High_Acoustic\",\"marker\":{\"color\":\"#1E3E62\",\"symbol\":\"circle\"},\"mode\":\"markers\",\"name\":\"High_Acoustic (47)\",\"orientation\":\"v\",\"showlegend\":true,\"x\":[0.706,0.74,0.902,0.737,0.934,0.795,0.978,0.932,0.864,0.799,0.852,0.799,0.83,0.839,0.746,0.933,0.904,0.827,0.731,0.731,0.703,0.765,0.799,0.825,0.943,0.799,0.753,0.941,0.768,0.753,0.866,0.765,0.945,0.771,0.771,0.769,0.733,0.727,0.727,0.833,0.806,0.897,0.874,0.869,0.783,0.811,0.794],\"xaxis\":\"x\",\"y\":[54,73,82,77,87,67,83,72,60,74,69,70,87,79,71,73,56,74,79,73,74,77,90,62,60,46,76,77,83,75,83,82,65,70,70,63,45,78,78,76,78,82,78,71,86,65,67],\"yaxis\":\"y\",\"type\":\"scatter\"}],                        {\"template\":{\"data\":{\"histogram2dcontour\":[{\"type\":\"histogram2dcontour\",\"colorbar\":{\"outlinewidth\":0,\"ticks\":\"\"},\"colorscale\":[[0.0,\"#0d0887\"],[0.1111111111111111,\"#46039f\"],[0.2222222222222222,\"#7201a8\"],[0.3333333333333333,\"#9c179e\"],[0.4444444444444444,\"#bd3786\"],[0.5555555555555556,\"#d8576b\"],[0.6666666666666666,\"#ed7953\"],[0.7777777777777778,\"#fb9f3a\"],[0.8888888888888888,\"#fdca26\"],[1.0,\"#f0f921\"]]}],\"choropleth\":[{\"type\":\"choropleth\",\"colorbar\":{\"outlinewidth\":0,\"ticks\":\"\"}}],\"histogram2d\":[{\"type\":\"histogram2d\",\"colorbar\":{\"outlinewidth\":0,\"ticks\":\"\"},\"colorscale\":[[0.0,\"#0d0887\"],[0.1111111111111111,\"#46039f\"],[0.2222222222222222,\"#7201a8\"],[0.3333333333333333,\"#9c179e\"],[0.4444444444444444,\"#bd3786\"],[0.5555555555555556,\"#d8576b\"],[0.6666666666666666,\"#ed7953\"],[0.7777777777777778,\"#fb9f3a\"],[0.8888888888888888,\"#fdca26\"],[1.0,\"#f0f921\"]]}],\"heatmap\":[{\"type\":\"heatmap\",\"colorbar\":{\"outlinewidth\":0,\"ticks\":\"\"},\"colorscale\":[[0.0,\"#0d0887\"],[0.1111111111111111,\"#46039f\"],[0.2222222222222222,\"#7201a8\"],[0.3333333333333333,\"#9c179e\"],[0.4444444444444444,\"#bd3786\"],[0.5555555555555556,\"#d8576b\"],[0.6666666666666666,\"#ed7953\"],[0.7777777777777778,\"#fb9f3a\"],[0.8888888888888888,\"#fdca26\"],[1.0,\"#f0f921\"]]}],\"heatmapgl\":[{\"type\":\"heatmapgl\",\"colorbar\":{\"outlinewidth\":0,\"ticks\":\"\"},\"colorscale\":[[0.0,\"#0d0887\"],[0.1111111111111111,\"#46039f\"],[0.2222222222222222,\"#7201a8\"],[0.3333333333333333,\"#9c179e\"],[0.4444444444444444,\"#bd3786\"],[0.5555555555555556,\"#d8576b\"],[0.6666666666666666,\"#ed7953\"],[0.7777777777777778,\"#fb9f3a\"],[0.8888888888888888,\"#fdca26\"],[1.0,\"#f0f921\"]]}],\"contourcarpet\":[{\"type\":\"contourcarpet\",\"colorbar\":{\"outlinewidth\":0,\"ticks\":\"\"}}],\"contour\":[{\"type\":\"contour\",\"colorbar\":{\"outlinewidth\":0,\"ticks\":\"\"},\"colorscale\":[[0.0,\"#0d0887\"],[0.1111111111111111,\"#46039f\"],[0.2222222222222222,\"#7201a8\"],[0.3333333333333333,\"#9c179e\"],[0.4444444444444444,\"#bd3786\"],[0.5555555555555556,\"#d8576b\"],[0.6666666666666666,\"#ed7953\"],[0.7777777777777778,\"#fb9f3a\"],[0.8888888888888888,\"#fdca26\"],[1.0,\"#f0f921\"]]}],\"surface\":[{\"type\":\"surface\",\"colorbar\":{\"outlinewidth\":0,\"ticks\":\"\"},\"colorscale\":[[0.0,\"#0d0887\"],[0.1111111111111111,\"#46039f\"],[0.2222222222222222,\"#7201a8\"],[0.3333333333333333,\"#9c179e\"],[0.4444444444444444,\"#bd3786\"],[0.5555555555555556,\"#d8576b\"],[0.6666666666666666,\"#ed7953\"],[0.7777777777777778,\"#fb9f3a\"],[0.8888888888888888,\"#fdca26\"],[1.0,\"#f0f921\"]]}],\"mesh3d\":[{\"type\":\"mesh3d\",\"colorbar\":{\"outlinewidth\":0,\"ticks\":\"\"}}],\"scatter\":[{\"fillpattern\":{\"fillmode\":\"overlay\",\"size\":10,\"solidity\":0.2},\"type\":\"scatter\"}],\"parcoords\":[{\"type\":\"parcoords\",\"line\":{\"colorbar\":{\"outlinewidth\":0,\"ticks\":\"\"}}}],\"scatterpolargl\":[{\"type\":\"scatterpolargl\",\"marker\":{\"colorbar\":{\"outlinewidth\":0,\"ticks\":\"\"}}}],\"bar\":[{\"error_x\":{\"color\":\"#2a3f5f\"},\"error_y\":{\"color\":\"#2a3f5f\"},\"marker\":{\"line\":{\"color\":\"#E5ECF6\",\"width\":0.5},\"pattern\":{\"fillmode\":\"overlay\",\"size\":10,\"solidity\":0.2}},\"type\":\"bar\"}],\"scattergeo\":[{\"type\":\"scattergeo\",\"marker\":{\"colorbar\":{\"outlinewidth\":0,\"ticks\":\"\"}}}],\"scatterpolar\":[{\"type\":\"scatterpolar\",\"marker\":{\"colorbar\":{\"outlinewidth\":0,\"ticks\":\"\"}}}],\"histogram\":[{\"marker\":{\"pattern\":{\"fillmode\":\"overlay\",\"size\":10,\"solidity\":0.2}},\"type\":\"histogram\"}],\"scattergl\":[{\"type\":\"scattergl\",\"marker\":{\"colorbar\":{\"outlinewidth\":0,\"ticks\":\"\"}}}],\"scatter3d\":[{\"type\":\"scatter3d\",\"line\":{\"colorbar\":{\"outlinewidth\":0,\"ticks\":\"\"}},\"marker\":{\"colorbar\":{\"outlinewidth\":0,\"ticks\":\"\"}}}],\"scattermapbox\":[{\"type\":\"scattermapbox\",\"marker\":{\"colorbar\":{\"outlinewidth\":0,\"ticks\":\"\"}}}],\"scatterternary\":[{\"type\":\"scatterternary\",\"marker\":{\"colorbar\":{\"outlinewidth\":0,\"ticks\":\"\"}}}],\"scattercarpet\":[{\"type\":\"scattercarpet\",\"marker\":{\"colorbar\":{\"outlinewidth\":0,\"ticks\":\"\"}}}],\"carpet\":[{\"aaxis\":{\"endlinecolor\":\"#2a3f5f\",\"gridcolor\":\"white\",\"linecolor\":\"white\",\"minorgridcolor\":\"white\",\"startlinecolor\":\"#2a3f5f\"},\"baxis\":{\"endlinecolor\":\"#2a3f5f\",\"gridcolor\":\"white\",\"linecolor\":\"white\",\"minorgridcolor\":\"white\",\"startlinecolor\":\"#2a3f5f\"},\"type\":\"carpet\"}],\"table\":[{\"cells\":{\"fill\":{\"color\":\"#EBF0F8\"},\"line\":{\"color\":\"white\"}},\"header\":{\"fill\":{\"color\":\"#C8D4E3\"},\"line\":{\"color\":\"white\"}},\"type\":\"table\"}],\"barpolar\":[{\"marker\":{\"line\":{\"color\":\"#E5ECF6\",\"width\":0.5},\"pattern\":{\"fillmode\":\"overlay\",\"size\":10,\"solidity\":0.2}},\"type\":\"barpolar\"}],\"pie\":[{\"automargin\":true,\"type\":\"pie\"}]},\"layout\":{\"autotypenumbers\":\"strict\",\"colorway\":[\"#636efa\",\"#EF553B\",\"#00cc96\",\"#ab63fa\",\"#FFA15A\",\"#19d3f3\",\"#FF6692\",\"#B6E880\",\"#FF97FF\",\"#FECB52\"],\"font\":{\"color\":\"#2a3f5f\"},\"hovermode\":\"closest\",\"hoverlabel\":{\"align\":\"left\"},\"paper_bgcolor\":\"white\",\"plot_bgcolor\":\"#E5ECF6\",\"polar\":{\"bgcolor\":\"#E5ECF6\",\"angularaxis\":{\"gridcolor\":\"white\",\"linecolor\":\"white\",\"ticks\":\"\"},\"radialaxis\":{\"gridcolor\":\"white\",\"linecolor\":\"white\",\"ticks\":\"\"}},\"ternary\":{\"bgcolor\":\"#E5ECF6\",\"aaxis\":{\"gridcolor\":\"white\",\"linecolor\":\"white\",\"ticks\":\"\"},\"baxis\":{\"gridcolor\":\"white\",\"linecolor\":\"white\",\"ticks\":\"\"},\"caxis\":{\"gridcolor\":\"white\",\"linecolor\":\"white\",\"ticks\":\"\"}},\"coloraxis\":{\"colorbar\":{\"outlinewidth\":0,\"ticks\":\"\"}},\"colorscale\":{\"sequential\":[[0.0,\"#0d0887\"],[0.1111111111111111,\"#46039f\"],[0.2222222222222222,\"#7201a8\"],[0.3333333333333333,\"#9c179e\"],[0.4444444444444444,\"#bd3786\"],[0.5555555555555556,\"#d8576b\"],[0.6666666666666666,\"#ed7953\"],[0.7777777777777778,\"#fb9f3a\"],[0.8888888888888888,\"#fdca26\"],[1.0,\"#f0f921\"]],\"sequentialminus\":[[0.0,\"#0d0887\"],[0.1111111111111111,\"#46039f\"],[0.2222222222222222,\"#7201a8\"],[0.3333333333333333,\"#9c179e\"],[0.4444444444444444,\"#bd3786\"],[0.5555555555555556,\"#d8576b\"],[0.6666666666666666,\"#ed7953\"],[0.7777777777777778,\"#fb9f3a\"],[0.8888888888888888,\"#fdca26\"],[1.0,\"#f0f921\"]],\"diverging\":[[0,\"#8e0152\"],[0.1,\"#c51b7d\"],[0.2,\"#de77ae\"],[0.3,\"#f1b6da\"],[0.4,\"#fde0ef\"],[0.5,\"#f7f7f7\"],[0.6,\"#e6f5d0\"],[0.7,\"#b8e186\"],[0.8,\"#7fbc41\"],[0.9,\"#4d9221\"],[1,\"#276419\"]]},\"xaxis\":{\"gridcolor\":\"white\",\"linecolor\":\"white\",\"ticks\":\"\",\"title\":{\"standoff\":15},\"zerolinecolor\":\"white\",\"automargin\":true,\"zerolinewidth\":2},\"yaxis\":{\"gridcolor\":\"white\",\"linecolor\":\"white\",\"ticks\":\"\",\"title\":{\"standoff\":15},\"zerolinecolor\":\"white\",\"automargin\":true,\"zerolinewidth\":2},\"scene\":{\"xaxis\":{\"backgroundcolor\":\"#E5ECF6\",\"gridcolor\":\"white\",\"linecolor\":\"white\",\"showbackground\":true,\"ticks\":\"\",\"zerolinecolor\":\"white\",\"gridwidth\":2},\"yaxis\":{\"backgroundcolor\":\"#E5ECF6\",\"gridcolor\":\"white\",\"linecolor\":\"white\",\"showbackground\":true,\"ticks\":\"\",\"zerolinecolor\":\"white\",\"gridwidth\":2},\"zaxis\":{\"backgroundcolor\":\"#E5ECF6\",\"gridcolor\":\"white\",\"linecolor\":\"white\",\"showbackground\":true,\"ticks\":\"\",\"zerolinecolor\":\"white\",\"gridwidth\":2}},\"shapedefaults\":{\"line\":{\"color\":\"#2a3f5f\"}},\"annotationdefaults\":{\"arrowcolor\":\"#2a3f5f\",\"arrowhead\":0,\"arrowwidth\":1},\"geo\":{\"bgcolor\":\"white\",\"landcolor\":\"#E5ECF6\",\"subunitcolor\":\"white\",\"showland\":true,\"showlakes\":true,\"lakecolor\":\"white\"},\"title\":{\"x\":0.05},\"mapbox\":{\"style\":\"light\"}}},\"xaxis\":{\"anchor\":\"y\",\"domain\":[0.0,1.0],\"title\":{\"text\":\"Acousticness\"}},\"yaxis\":{\"anchor\":\"x\",\"domain\":[0.0,1.0],\"title\":{\"text\":\"Popularity\"}},\"legend\":{\"title\":{\"text\":\"Cluster Acousticness\"},\"tracegroupgap\":0},\"title\":{\"text\":\"Acousticness vs Popularity by Cluster\"}},                        {\"responsive\": true}                    ).then(function(){\n",
              "                            \n",
              "var gd = document.getElementById('101c7b17-6083-45e1-89a7-32d21ecf94d0');\n",
              "var x = new MutationObserver(function (mutations, observer) {{\n",
              "        var display = window.getComputedStyle(gd).display;\n",
              "        if (!display || display === 'none') {{\n",
              "            console.log([gd, 'removed!']);\n",
              "            Plotly.purge(gd);\n",
              "            observer.disconnect();\n",
              "        }}\n",
              "}});\n",
              "\n",
              "// Listen for the removal of the full notebook cells\n",
              "var notebookContainer = gd.closest('#notebook-container');\n",
              "if (notebookContainer) {{\n",
              "    x.observe(notebookContainer, {childList: true});\n",
              "}}\n",
              "\n",
              "// Listen for the clearing of the current output cell\n",
              "var outputEl = gd.closest('.output');\n",
              "if (outputEl) {{\n",
              "    x.observe(outputEl, {childList: true});\n",
              "}}\n",
              "\n",
              "                        })                };                            </script>        </div>\n",
              "</body>\n",
              "</html>"
            ]
          },
          "metadata": {}
        }
      ]
    },
    {
      "cell_type": "markdown",
      "source": [
        "Instrumentalness VS Popularity VS Cluster_Instrumentalness"
      ],
      "metadata": {
        "id": "wdlwB71AfjEV"
      }
    },
    {
      "cell_type": "code",
      "source": [
        "color_map = {'Low_Instru': '#FDA403', 'Mid_Instru': '#FF204E', 'High_Instru': '#1E3E62'}\n",
        "\n",
        "counts = df_final['Cluster_Instrumentalness'].value_counts()\n",
        "\n",
        "sort_instru = ['Low_Instru', 'Mid_Instru', 'High_Instru']\n",
        "\n",
        "sorted_labels = [f\"{label} ({counts.get(label, 0)})\" for label in sort_instru]\n",
        "\n",
        "fig = px.scatter(\n",
        "    df_final,\n",
        "    x='Instrumentalness',\n",
        "    y='Popularity',\n",
        "    color='Cluster_Instrumentalness',\n",
        "    color_discrete_map=color_map,\n",
        "    category_orders={'Cluster_Instrumentalness': sort_instru},\n",
        "    labels={'Cluster_Instrumentalness': 'Cluster Instrumentalness'},\n",
        "    title='Instrumentalness vs Popularity by Cluster'\n",
        ")\n",
        "\n",
        "fig.for_each_trace(lambda t: t.update(name=sorted_labels[sort_instru.index(t.name)]))\n",
        "\n",
        "fig.show()"
      ],
      "metadata": {
        "colab": {
          "base_uri": "https://localhost:8080/",
          "height": 611
        },
        "id": "9L2ikuyHfySS",
        "outputId": "52b96e23-8bb7-4253-ea72-567d1a4b459e"
      },
      "execution_count": 28,
      "outputs": [
        {
          "output_type": "stream",
          "name": "stderr",
          "text": [
            "/usr/local/lib/python3.10/dist-packages/plotly/express/_core.py:1992: FutureWarning:\n",
            "\n",
            "When grouping with a length-1 list-like, you will need to pass a length-1 tuple to get_group in a future version of pandas. Pass `(name,)` instead of `name` to silence this warning.\n",
            "\n"
          ]
        },
        {
          "output_type": "display_data",
          "data": {
            "text/html": [
              "<html>\n",
              "<head><meta charset=\"utf-8\" /></head>\n",
              "<body>\n",
              "    <div>            <script src=\"https://cdnjs.cloudflare.com/ajax/libs/mathjax/2.7.5/MathJax.js?config=TeX-AMS-MML_SVG\"></script><script type=\"text/javascript\">if (window.MathJax && window.MathJax.Hub && window.MathJax.Hub.Config) {window.MathJax.Hub.Config({SVG: {font: \"STIX-Web\"}});}</script>                <script type=\"text/javascript\">window.PlotlyConfig = {MathJaxConfig: 'local'};</script>\n",
              "        <script charset=\"utf-8\" src=\"https://cdn.plot.ly/plotly-2.24.1.min.js\"></script>                <div id=\"a2aa7027-3646-4e64-bd07-770bf07b5e48\" class=\"plotly-graph-div\" style=\"height:525px; width:100%;\"></div>            <script type=\"text/javascript\">                                    window.PLOTLYENV=window.PLOTLYENV || {};                                    if (document.getElementById(\"a2aa7027-3646-4e64-bd07-770bf07b5e48\")) {                    Plotly.newPlot(                        \"a2aa7027-3646-4e64-bd07-770bf07b5e48\",                        [{\"hovertemplate\":\"Cluster Instrumentalness=Low_Instru\\u003cbr\\u003eInstrumentalness=%{x}\\u003cbr\\u003ePopularity=%{y}\\u003cextra\\u003e\\u003c\\u002fextra\\u003e\",\"legendgroup\":\"Low_Instru\",\"marker\":{\"color\":\"#FDA403\",\"symbol\":\"circle\"},\"mode\":\"markers\",\"name\":\"Low_Instru (630)\",\"orientation\":\"v\",\"showlegend\":true,\"x\":[0.0,4.46e-05,0.0,6e-05,1.75e-06,3.11e-06,1.65e-06,0.0,0.0,0.0,2.16e-06,5.22e-05,0.000485,0.0,8.78e-06,6.54e-05,0.0,0.0,0.0,0.0,0.0,0.0,0.0,0.0,0.0,0.0,0.0,0.0,0.0,0.0,0.00106,0.0,0.0,0.0,5.46e-06,0.0,0.0707,4.64e-05,0.0,0.0,0.0,3.97e-05,0.000476,0.000678,0.0,0.0,0.0,0.0,0.0,0.0,5.68e-06,0.0193,0.0,0.0,0.000188,0.0,1.37e-06,0.0,0.0,0.0,0.0,1.16e-06,8.42e-05,0.0,0.0,0.000161,0.0,0.0,0.0,5.79e-05,1.79e-05,0.0,0.000102,0.000232,4.61e-05,4.25e-06,0.0,0.0,0.00108,5.37e-06,8.57e-06,5.78e-05,0.0,3.89e-05,0.0,3.66e-06,0.0,0.0,1.39e-05,0.0,0.0,0.0,0.0,0.0,1.82e-06,0.0,0.0,6.59e-05,0.0,0.00805,7.08e-06,8.25e-06,0.0,3.77e-05,2.82e-06,0.0,7.57e-06,0.0,0.000427,3.82e-06,0.00295,0.000441,0.0,0.0,2.15e-06,0.00211,0.0,0.00233,1.44e-06,1.44e-06,0.0,0.0,0.0,0.0,8.92e-05,3.34e-06,0.0,3.35e-06,3.35e-06,0.0382,4.89e-05,0.00294,0.00233,1.32e-05,1.39e-06,0.0,0.0,0.0,0.0,2.85e-05,1.56e-05,0.000658,0.0,2.79e-05,1.14e-05,0.0,0.0,0.0,0.0,0.0,0.000464,0.0,0.0,0.0,0.0,0.0,0.0,2.9e-05,4.73e-06,3.08e-05,0.0,7.36e-05,0.0004,4.7e-06,2.03e-06,0.0,0.0,0.0,0.0,0.0,0.00693,0.0,0.0,0.0,9.63e-05,0.00103,2e-05,0.0,1.88e-05,7e-06,0.00101,1.46e-06,0.000131,0.0,0.0045,0.0,0.0,2.2e-05,0.0,7.78e-06,2.4e-06,1.62e-06,3.65e-05,0.0,1.1e-05,0.0,1.37e-05,0.0282,1.81e-05,0.0,0.0,0.0,0.000218,9.37e-06,0.0,0.000383,0.0,0.0,0.0,9.41e-06,0.0,1.81e-06,6.93e-06,1.12e-05,1.04e-06,0.0,0.0,0.0,0.0,1.82e-05,8.47e-06,0.0,1.98e-06,2.25e-06,0.0,0.0,0.0,0.0,0.000297,0.0,0.0,0.0,0.0,0.00158,0.0,0.0,1.53e-05,0.0,0.0,5.02e-05,0.0491,0.0,0.0,0.000334,0.0,0.077,0.0,1.69e-06,0.0,0.0,0.0,1.2e-06,0.0,0.0,3.98e-05,0.0,3.23e-06,0.0,6.23e-06,0.0,0.0,0.00765,0.000594,0.000134,0.0,0.00109,8.89e-06,0.00187,0.0,0.0303,0.0,1.11e-06,3.98e-05,0.000259,0.000193,2.74e-06,0.0,0.000383,0.0,1.76e-05,7.97e-05,0.0,0.00214,0.0,1.63e-06,5.26e-05,1.95e-06,0.0,0.0,0.0,1.72e-06,0.0,6.17e-05,3.58e-05,1.01e-05,1.4e-05,8.1e-05,5.29e-06,2.07e-06,4.93e-06,0.0,1.08e-05,0.0,0.0,0.0,0.0,0.0,0.0,0.0,0.0,0.0,8.68e-05,0.0,0.0,3.66e-06,0.0,0.0,0.0,0.0,2e-06,0.0,0.0,0.0,0.0,0.0,0.0,1.43e-06,0.00127,1.14e-05,0.0,0.0,0.0,0.0,0.0,0.0,0.0,0.0,0.000195,0.0,0.0,6.03e-06,0.0,0.0,0.0,0.0,1.78e-05,0.0,7.23e-06,0.000528,2.87e-06,1.29e-05,0.000711,0.0,1.91e-05,0.0,1.03e-06,1.2e-06,1.61e-06,0.00566,0.00237,0.000132,1.82e-05,4.07e-05,6.25e-05,0.000351,3.88e-06,0.000614,0.0,0.000307,0.000307,6.87e-05,5.38e-06,3.57e-06,6.99e-05,2.64e-05,0.00177,0.000115,0.0,2.82e-06,0.0,0.0,0.0,6.1e-05,0.0,7.37e-06,0.0,0.0,0.0,0.0,0.0,0.00107,1.18e-06,2.85e-06,0.0,0.000803,0.0,0.0,0.0181,0.0,0.0,0.0,0.00136,0.0,0.0,0.0,3.07e-06,3.44e-05,8.43e-06,7.78e-06,0.00165,4.76e-05,0.000118,0.0,4.91e-06,0.0,4.56e-06,3.03e-05,0.0,0.0,0.002,0.0,0.0,0.0,0.0,0.0,3.55e-06,0.0,0.0,1.06e-05,1.83e-06,3.29e-05,0.0,0.0,0.0,0.0,0.0,0.0,0.0,0.0,0.0,3.46e-06,0.0,0.0,2.91e-06,0.0,0.0,0.0,0.0,1.37e-06,5.7e-06,1.42e-05,0.0,0.0,0.0,9.67e-06,0.0,0.0,1.66e-05,0.0,1.46e-06,1.91e-06,2.46e-06,2.78e-06,0.0,0.000719,4.18e-05,7.09e-05,0.0,0.0,7.8e-06,0.000534,0.0652,0.00253,0.00306,0.000112,0.000498,0.0,0.0,4.67e-05,4.67e-05,0.0,0.0,0.000685,0.0,0.0,0.001,0.001,0.00407,0.000397,0.0357,0.0,0.00203,0.0,0.0,7.18e-05,1.71e-05,0.0,6.12e-05,0.0,0.0,0.00141,0.0204,0.0,0.0,8.8e-06,0.0,0.0,0.000414,0.0,4.73e-06,6.54e-05,0.0,0.0,0.0,5.04e-05,0.0,1.97e-06,0.0,2.01e-05,2.01e-05,2.01e-05,0.000294,1.18e-05,6.39e-05,0.0,4.83e-06,2.57e-06,1.87e-06,0.0,0.000201,0.0,2.14e-06,0.0,7.97e-05,0.0,0.0,0.0,0.0,0.0,0.000308,1.92e-06,0.0162,0.0,0.0,1.14e-05,0.0,0.00403,0.000788,0.0,0.0,5.8e-05,5.8e-05,0.0523,8.32e-06,0.0148,0.000302,0.00374,0.000181,0.0,0.0,8.1e-06,0.0,0.0,0.0,0.0,0.0,0.0,0.0,0.0,0.0,2.62e-06,6.54e-06,6.54e-06,1.64e-06,1.64e-06,0.000345,0.000357,0.0,0.0,0.0,0.00179,0.0,0.0061,9.54e-05,0.0,0.0,1e-06,0.0,1.21e-05,1.21e-05,6.35e-06,0.0,0.0,0.0,0.0,0.0,0.0,0.0,0.0,2.05e-06,0.0,0.0,0.0,0.000648,4.48e-06,3.23e-05,3.23e-05,1.21e-06,0.00551,0.00236,0.00179,0.0014,0.0,0.0,3.79e-06,1.38e-05,0.000122,0.0,1.41e-06,0.0,1.66e-05,5e-05,4.36e-05,0.0,0.0,2e-06,0.0,0.0,8.35e-06,3.5e-06],\"xaxis\":\"x\",\"y\":[50,76,70,75,71,75,82,79,66,78,76,77,75,74,69,71,75,64,77,79,55,53,80,70,71,53,51,52,54,79,71,68,72,64,69,73,69,70,66,77,87,83,72,60,67,70,54,77,69,75,61,65,77,61,76,74,74,76,73,57,75,67,49,0,55,65,65,51,74,67,53,75,50,63,63,69,73,46,51,46,71,47,61,64,60,29,54,74,39,42,61,56,55,59,65,68,61,84,60,86,74,69,62,62,67,62,49,60,58,64,70,87,66,71,66,51,51,59,73,73,53,76,67,67,81,81,72,75,75,80,56,82,76,67,75,84,79,77,77,72,82,78,68,80,78,77,75,74,74,86,82,85,85,82,81,71,74,44,28,44,71,79,84,62,63,78,81,79,57,68,69,60,66,70,65,63,34,79,42,82,91,79,74,69,69,81,71,62,86,23,10,60,73,86,67,64,52,64,84,76,57,57,67,55,74,69,80,59,67,65,55,72,58,64,62,72,72,65,52,77,33,69,55,74,55,80,48,77,52,69,66,71,78,71,86,90,77,77,81,78,67,76,67,66,80,64,82,52,62,71,61,60,71,45,70,88,82,74,75,71,73,83,96,74,65,60,61,44,56,75,64,47,37,52,46,56,48,48,36,46,63,57,50,82,76,83,67,67,86,74,77,83,61,69,73,47,48,60,49,71,51,49,51,65,65,58,36,45,28,35,39,54,47,69,48,54,54,48,43,63,53,70,70,37,0,60,40,49,56,71,48,83,81,74,66,77,78,69,74,83,84,71,70,76,59,73,70,66,63,73,41,73,77,48,78,69,71,73,37,64,79,79,67,71,64,47,62,72,87,87,34,65,68,88,73,70,78,72,65,64,76,78,78,79,73,79,76,60,72,72,82,80,77,83,86,62,63,74,76,76,72,74,78,73,79,79,81,83,60,52,66,60,69,55,74,79,62,58,71,61,62,75,72,57,80,74,83,77,73,72,58,90,81,61,31,68,59,60,80,36,63,60,63,62,60,46,76,77,77,84,83,75,83,83,82,82,84,67,67,68,40,56,41,58,67,74,73,69,81,62,56,72,64,83,71,55,45,44,78,78,34,51,56,45,57,73,73,65,49,48,42,63,72,71,71,84,77,65,74,82,84,73,78,57,69,68,66,69,68,56,98,88,97,68,71,63,76,67,83,70,70,65,61,83,83,78,63,70,64,69,62,63,76,58,69,76,74,45,87,75,69,70,60,74,76,66,62,75,78,78,82,82,81,86,49,70,54,68,82,68,76,68,70,76,87,74,74,80,80,80,84,63,63,70,70,85,81,65,70,70,76,81,80,89,81,72,77,72,85,85,88,85,32,66,48,62,48,44,38,78,49,67,72,26,47,68,68,84,50,44,54,34,78,69,54,59,69,58,75,73,69,82,78,71,86,89,63,65,87,67],\"yaxis\":\"y\",\"type\":\"scatter\"},{\"hovertemplate\":\"Cluster Instrumentalness=Mid_Instru\\u003cbr\\u003eInstrumentalness=%{x}\\u003cbr\\u003ePopularity=%{y}\\u003cextra\\u003e\\u003c\\u002fextra\\u003e\",\"legendgroup\":\"Mid_Instru\",\"marker\":{\"color\":\"#FF204E\",\"symbol\":\"circle\"},\"mode\":\"markers\",\"name\":\"Mid_Instru (13)\",\"orientation\":\"v\",\"showlegend\":true,\"x\":[0.13,0.13,0.162,0.132,0.135,0.153,0.477,0.162,0.127,0.131,0.254,0.169,0.169],\"xaxis\":\"x\",\"y\":[81,81,73,67,72,56,72,77,71,54,82,79,79],\"yaxis\":\"y\",\"type\":\"scatter\"},{\"hovertemplate\":\"Cluster Instrumentalness=High_Instru\\u003cbr\\u003eInstrumentalness=%{x}\\u003cbr\\u003ePopularity=%{y}\\u003cextra\\u003e\\u003c\\u002fextra\\u003e\",\"legendgroup\":\"High_Instru\",\"marker\":{\"color\":\"#1E3E62\",\"symbol\":\"circle\"},\"mode\":\"markers\",\"name\":\"High_Instru (1)\",\"orientation\":\"v\",\"showlegend\":true,\"x\":[0.657],\"xaxis\":\"x\",\"y\":[82],\"yaxis\":\"y\",\"type\":\"scatter\"}],                        {\"template\":{\"data\":{\"histogram2dcontour\":[{\"type\":\"histogram2dcontour\",\"colorbar\":{\"outlinewidth\":0,\"ticks\":\"\"},\"colorscale\":[[0.0,\"#0d0887\"],[0.1111111111111111,\"#46039f\"],[0.2222222222222222,\"#7201a8\"],[0.3333333333333333,\"#9c179e\"],[0.4444444444444444,\"#bd3786\"],[0.5555555555555556,\"#d8576b\"],[0.6666666666666666,\"#ed7953\"],[0.7777777777777778,\"#fb9f3a\"],[0.8888888888888888,\"#fdca26\"],[1.0,\"#f0f921\"]]}],\"choropleth\":[{\"type\":\"choropleth\",\"colorbar\":{\"outlinewidth\":0,\"ticks\":\"\"}}],\"histogram2d\":[{\"type\":\"histogram2d\",\"colorbar\":{\"outlinewidth\":0,\"ticks\":\"\"},\"colorscale\":[[0.0,\"#0d0887\"],[0.1111111111111111,\"#46039f\"],[0.2222222222222222,\"#7201a8\"],[0.3333333333333333,\"#9c179e\"],[0.4444444444444444,\"#bd3786\"],[0.5555555555555556,\"#d8576b\"],[0.6666666666666666,\"#ed7953\"],[0.7777777777777778,\"#fb9f3a\"],[0.8888888888888888,\"#fdca26\"],[1.0,\"#f0f921\"]]}],\"heatmap\":[{\"type\":\"heatmap\",\"colorbar\":{\"outlinewidth\":0,\"ticks\":\"\"},\"colorscale\":[[0.0,\"#0d0887\"],[0.1111111111111111,\"#46039f\"],[0.2222222222222222,\"#7201a8\"],[0.3333333333333333,\"#9c179e\"],[0.4444444444444444,\"#bd3786\"],[0.5555555555555556,\"#d8576b\"],[0.6666666666666666,\"#ed7953\"],[0.7777777777777778,\"#fb9f3a\"],[0.8888888888888888,\"#fdca26\"],[1.0,\"#f0f921\"]]}],\"heatmapgl\":[{\"type\":\"heatmapgl\",\"colorbar\":{\"outlinewidth\":0,\"ticks\":\"\"},\"colorscale\":[[0.0,\"#0d0887\"],[0.1111111111111111,\"#46039f\"],[0.2222222222222222,\"#7201a8\"],[0.3333333333333333,\"#9c179e\"],[0.4444444444444444,\"#bd3786\"],[0.5555555555555556,\"#d8576b\"],[0.6666666666666666,\"#ed7953\"],[0.7777777777777778,\"#fb9f3a\"],[0.8888888888888888,\"#fdca26\"],[1.0,\"#f0f921\"]]}],\"contourcarpet\":[{\"type\":\"contourcarpet\",\"colorbar\":{\"outlinewidth\":0,\"ticks\":\"\"}}],\"contour\":[{\"type\":\"contour\",\"colorbar\":{\"outlinewidth\":0,\"ticks\":\"\"},\"colorscale\":[[0.0,\"#0d0887\"],[0.1111111111111111,\"#46039f\"],[0.2222222222222222,\"#7201a8\"],[0.3333333333333333,\"#9c179e\"],[0.4444444444444444,\"#bd3786\"],[0.5555555555555556,\"#d8576b\"],[0.6666666666666666,\"#ed7953\"],[0.7777777777777778,\"#fb9f3a\"],[0.8888888888888888,\"#fdca26\"],[1.0,\"#f0f921\"]]}],\"surface\":[{\"type\":\"surface\",\"colorbar\":{\"outlinewidth\":0,\"ticks\":\"\"},\"colorscale\":[[0.0,\"#0d0887\"],[0.1111111111111111,\"#46039f\"],[0.2222222222222222,\"#7201a8\"],[0.3333333333333333,\"#9c179e\"],[0.4444444444444444,\"#bd3786\"],[0.5555555555555556,\"#d8576b\"],[0.6666666666666666,\"#ed7953\"],[0.7777777777777778,\"#fb9f3a\"],[0.8888888888888888,\"#fdca26\"],[1.0,\"#f0f921\"]]}],\"mesh3d\":[{\"type\":\"mesh3d\",\"colorbar\":{\"outlinewidth\":0,\"ticks\":\"\"}}],\"scatter\":[{\"fillpattern\":{\"fillmode\":\"overlay\",\"size\":10,\"solidity\":0.2},\"type\":\"scatter\"}],\"parcoords\":[{\"type\":\"parcoords\",\"line\":{\"colorbar\":{\"outlinewidth\":0,\"ticks\":\"\"}}}],\"scatterpolargl\":[{\"type\":\"scatterpolargl\",\"marker\":{\"colorbar\":{\"outlinewidth\":0,\"ticks\":\"\"}}}],\"bar\":[{\"error_x\":{\"color\":\"#2a3f5f\"},\"error_y\":{\"color\":\"#2a3f5f\"},\"marker\":{\"line\":{\"color\":\"#E5ECF6\",\"width\":0.5},\"pattern\":{\"fillmode\":\"overlay\",\"size\":10,\"solidity\":0.2}},\"type\":\"bar\"}],\"scattergeo\":[{\"type\":\"scattergeo\",\"marker\":{\"colorbar\":{\"outlinewidth\":0,\"ticks\":\"\"}}}],\"scatterpolar\":[{\"type\":\"scatterpolar\",\"marker\":{\"colorbar\":{\"outlinewidth\":0,\"ticks\":\"\"}}}],\"histogram\":[{\"marker\":{\"pattern\":{\"fillmode\":\"overlay\",\"size\":10,\"solidity\":0.2}},\"type\":\"histogram\"}],\"scattergl\":[{\"type\":\"scattergl\",\"marker\":{\"colorbar\":{\"outlinewidth\":0,\"ticks\":\"\"}}}],\"scatter3d\":[{\"type\":\"scatter3d\",\"line\":{\"colorbar\":{\"outlinewidth\":0,\"ticks\":\"\"}},\"marker\":{\"colorbar\":{\"outlinewidth\":0,\"ticks\":\"\"}}}],\"scattermapbox\":[{\"type\":\"scattermapbox\",\"marker\":{\"colorbar\":{\"outlinewidth\":0,\"ticks\":\"\"}}}],\"scatterternary\":[{\"type\":\"scatterternary\",\"marker\":{\"colorbar\":{\"outlinewidth\":0,\"ticks\":\"\"}}}],\"scattercarpet\":[{\"type\":\"scattercarpet\",\"marker\":{\"colorbar\":{\"outlinewidth\":0,\"ticks\":\"\"}}}],\"carpet\":[{\"aaxis\":{\"endlinecolor\":\"#2a3f5f\",\"gridcolor\":\"white\",\"linecolor\":\"white\",\"minorgridcolor\":\"white\",\"startlinecolor\":\"#2a3f5f\"},\"baxis\":{\"endlinecolor\":\"#2a3f5f\",\"gridcolor\":\"white\",\"linecolor\":\"white\",\"minorgridcolor\":\"white\",\"startlinecolor\":\"#2a3f5f\"},\"type\":\"carpet\"}],\"table\":[{\"cells\":{\"fill\":{\"color\":\"#EBF0F8\"},\"line\":{\"color\":\"white\"}},\"header\":{\"fill\":{\"color\":\"#C8D4E3\"},\"line\":{\"color\":\"white\"}},\"type\":\"table\"}],\"barpolar\":[{\"marker\":{\"line\":{\"color\":\"#E5ECF6\",\"width\":0.5},\"pattern\":{\"fillmode\":\"overlay\",\"size\":10,\"solidity\":0.2}},\"type\":\"barpolar\"}],\"pie\":[{\"automargin\":true,\"type\":\"pie\"}]},\"layout\":{\"autotypenumbers\":\"strict\",\"colorway\":[\"#636efa\",\"#EF553B\",\"#00cc96\",\"#ab63fa\",\"#FFA15A\",\"#19d3f3\",\"#FF6692\",\"#B6E880\",\"#FF97FF\",\"#FECB52\"],\"font\":{\"color\":\"#2a3f5f\"},\"hovermode\":\"closest\",\"hoverlabel\":{\"align\":\"left\"},\"paper_bgcolor\":\"white\",\"plot_bgcolor\":\"#E5ECF6\",\"polar\":{\"bgcolor\":\"#E5ECF6\",\"angularaxis\":{\"gridcolor\":\"white\",\"linecolor\":\"white\",\"ticks\":\"\"},\"radialaxis\":{\"gridcolor\":\"white\",\"linecolor\":\"white\",\"ticks\":\"\"}},\"ternary\":{\"bgcolor\":\"#E5ECF6\",\"aaxis\":{\"gridcolor\":\"white\",\"linecolor\":\"white\",\"ticks\":\"\"},\"baxis\":{\"gridcolor\":\"white\",\"linecolor\":\"white\",\"ticks\":\"\"},\"caxis\":{\"gridcolor\":\"white\",\"linecolor\":\"white\",\"ticks\":\"\"}},\"coloraxis\":{\"colorbar\":{\"outlinewidth\":0,\"ticks\":\"\"}},\"colorscale\":{\"sequential\":[[0.0,\"#0d0887\"],[0.1111111111111111,\"#46039f\"],[0.2222222222222222,\"#7201a8\"],[0.3333333333333333,\"#9c179e\"],[0.4444444444444444,\"#bd3786\"],[0.5555555555555556,\"#d8576b\"],[0.6666666666666666,\"#ed7953\"],[0.7777777777777778,\"#fb9f3a\"],[0.8888888888888888,\"#fdca26\"],[1.0,\"#f0f921\"]],\"sequentialminus\":[[0.0,\"#0d0887\"],[0.1111111111111111,\"#46039f\"],[0.2222222222222222,\"#7201a8\"],[0.3333333333333333,\"#9c179e\"],[0.4444444444444444,\"#bd3786\"],[0.5555555555555556,\"#d8576b\"],[0.6666666666666666,\"#ed7953\"],[0.7777777777777778,\"#fb9f3a\"],[0.8888888888888888,\"#fdca26\"],[1.0,\"#f0f921\"]],\"diverging\":[[0,\"#8e0152\"],[0.1,\"#c51b7d\"],[0.2,\"#de77ae\"],[0.3,\"#f1b6da\"],[0.4,\"#fde0ef\"],[0.5,\"#f7f7f7\"],[0.6,\"#e6f5d0\"],[0.7,\"#b8e186\"],[0.8,\"#7fbc41\"],[0.9,\"#4d9221\"],[1,\"#276419\"]]},\"xaxis\":{\"gridcolor\":\"white\",\"linecolor\":\"white\",\"ticks\":\"\",\"title\":{\"standoff\":15},\"zerolinecolor\":\"white\",\"automargin\":true,\"zerolinewidth\":2},\"yaxis\":{\"gridcolor\":\"white\",\"linecolor\":\"white\",\"ticks\":\"\",\"title\":{\"standoff\":15},\"zerolinecolor\":\"white\",\"automargin\":true,\"zerolinewidth\":2},\"scene\":{\"xaxis\":{\"backgroundcolor\":\"#E5ECF6\",\"gridcolor\":\"white\",\"linecolor\":\"white\",\"showbackground\":true,\"ticks\":\"\",\"zerolinecolor\":\"white\",\"gridwidth\":2},\"yaxis\":{\"backgroundcolor\":\"#E5ECF6\",\"gridcolor\":\"white\",\"linecolor\":\"white\",\"showbackground\":true,\"ticks\":\"\",\"zerolinecolor\":\"white\",\"gridwidth\":2},\"zaxis\":{\"backgroundcolor\":\"#E5ECF6\",\"gridcolor\":\"white\",\"linecolor\":\"white\",\"showbackground\":true,\"ticks\":\"\",\"zerolinecolor\":\"white\",\"gridwidth\":2}},\"shapedefaults\":{\"line\":{\"color\":\"#2a3f5f\"}},\"annotationdefaults\":{\"arrowcolor\":\"#2a3f5f\",\"arrowhead\":0,\"arrowwidth\":1},\"geo\":{\"bgcolor\":\"white\",\"landcolor\":\"#E5ECF6\",\"subunitcolor\":\"white\",\"showland\":true,\"showlakes\":true,\"lakecolor\":\"white\"},\"title\":{\"x\":0.05},\"mapbox\":{\"style\":\"light\"}}},\"xaxis\":{\"anchor\":\"y\",\"domain\":[0.0,1.0],\"title\":{\"text\":\"Instrumentalness\"}},\"yaxis\":{\"anchor\":\"x\",\"domain\":[0.0,1.0],\"title\":{\"text\":\"Popularity\"}},\"legend\":{\"title\":{\"text\":\"Cluster Instrumentalness\"},\"tracegroupgap\":0},\"title\":{\"text\":\"Instrumentalness vs Popularity by Cluster\"}},                        {\"responsive\": true}                    ).then(function(){\n",
              "                            \n",
              "var gd = document.getElementById('a2aa7027-3646-4e64-bd07-770bf07b5e48');\n",
              "var x = new MutationObserver(function (mutations, observer) {{\n",
              "        var display = window.getComputedStyle(gd).display;\n",
              "        if (!display || display === 'none') {{\n",
              "            console.log([gd, 'removed!']);\n",
              "            Plotly.purge(gd);\n",
              "            observer.disconnect();\n",
              "        }}\n",
              "}});\n",
              "\n",
              "// Listen for the removal of the full notebook cells\n",
              "var notebookContainer = gd.closest('#notebook-container');\n",
              "if (notebookContainer) {{\n",
              "    x.observe(notebookContainer, {childList: true});\n",
              "}}\n",
              "\n",
              "// Listen for the clearing of the current output cell\n",
              "var outputEl = gd.closest('.output');\n",
              "if (outputEl) {{\n",
              "    x.observe(outputEl, {childList: true});\n",
              "}}\n",
              "\n",
              "                        })                };                            </script>        </div>\n",
              "</body>\n",
              "</html>"
            ]
          },
          "metadata": {}
        }
      ]
    },
    {
      "cell_type": "markdown",
      "source": [
        "Valence VS Popularity VS Cluster_Valence\n",
        "\n",
        "\n"
      ],
      "metadata": {
        "id": "8x_FcXT9hqg_"
      }
    },
    {
      "cell_type": "code",
      "source": [
        "color_map = {'Low_Valence': '#FDA403', 'Mid_Valence': '#FF204E', 'High_Valence': '#1E3E62'}\n",
        "\n",
        "counts = df_final['Cluster_Valence'].value_counts()\n",
        "\n",
        "sort_valence = ['Low_Valence', 'Mid_Valence', 'High_Valence']\n",
        "\n",
        "sorted_labels = [f\"{label} ({counts.get(label, 0)})\" for label in sort_valence]\n",
        "\n",
        "fig = px.scatter(\n",
        "    df_final,\n",
        "    x='Valence',\n",
        "    y='Popularity',\n",
        "    color='Cluster_Valence',\n",
        "    color_discrete_map=color_map,\n",
        "    category_orders={'Cluster_Valence': sort_valence},\n",
        "    labels={'Cluster_Valence': 'Cluster Valence'},\n",
        "    title='Valence vs Popularity by Cluster'\n",
        ")\n",
        "\n",
        "fig.for_each_trace(lambda t: t.update(name=sorted_labels[sort_valence.index(t.name)]))\n",
        "\n",
        "fig.show()"
      ],
      "metadata": {
        "colab": {
          "base_uri": "https://localhost:8080/",
          "height": 611
        },
        "id": "bMDJyMtgh5EO",
        "outputId": "85185323-2cdf-4e86-90f4-5664f513feda"
      },
      "execution_count": 29,
      "outputs": [
        {
          "output_type": "stream",
          "name": "stderr",
          "text": [
            "/usr/local/lib/python3.10/dist-packages/plotly/express/_core.py:1992: FutureWarning:\n",
            "\n",
            "When grouping with a length-1 list-like, you will need to pass a length-1 tuple to get_group in a future version of pandas. Pass `(name,)` instead of `name` to silence this warning.\n",
            "\n"
          ]
        },
        {
          "output_type": "display_data",
          "data": {
            "text/html": [
              "<html>\n",
              "<head><meta charset=\"utf-8\" /></head>\n",
              "<body>\n",
              "    <div>            <script src=\"https://cdnjs.cloudflare.com/ajax/libs/mathjax/2.7.5/MathJax.js?config=TeX-AMS-MML_SVG\"></script><script type=\"text/javascript\">if (window.MathJax && window.MathJax.Hub && window.MathJax.Hub.Config) {window.MathJax.Hub.Config({SVG: {font: \"STIX-Web\"}});}</script>                <script type=\"text/javascript\">window.PlotlyConfig = {MathJaxConfig: 'local'};</script>\n",
              "        <script charset=\"utf-8\" src=\"https://cdn.plot.ly/plotly-2.24.1.min.js\"></script>                <div id=\"8d181801-cea6-4eea-b73c-fe9fda57ebfc\" class=\"plotly-graph-div\" style=\"height:525px; width:100%;\"></div>            <script type=\"text/javascript\">                                    window.PLOTLYENV=window.PLOTLYENV || {};                                    if (document.getElementById(\"8d181801-cea6-4eea-b73c-fe9fda57ebfc\")) {                    Plotly.newPlot(                        \"8d181801-cea6-4eea-b73c-fe9fda57ebfc\",                        [{\"hovertemplate\":\"Cluster Valence=Low_Valence\\u003cbr\\u003eValence=%{x}\\u003cbr\\u003ePopularity=%{y}\\u003cextra\\u003e\\u003c\\u002fextra\\u003e\",\"legendgroup\":\"Low_Valence\",\"marker\":{\"color\":\"#FDA403\",\"symbol\":\"circle\"},\"mode\":\"markers\",\"name\":\"Low_Valence (137)\",\"orientation\":\"v\",\"showlegend\":true,\"x\":[0.29,0.289,0.268,0.104,0.246,0.145,0.156,0.216,0.247,0.172,0.272,0.196,0.243,0.247,0.12,0.0875,0.198,0.208,0.109,0.268,0.219,0.243,0.136,0.212,0.295,0.133,0.266,0.274,0.158,0.245,0.261,0.257,0.3,0.273,0.236,0.271,0.263,0.216,0.186,0.25,0.134,0.208,0.29,0.17,0.189,0.236,0.168,0.201,0.161,0.0592,0.254,0.27,0.222,0.228,0.261,0.111,0.181,0.255,0.26,0.153,0.133,0.109,0.293,0.136,0.291,0.154,0.213,0.254,0.237,0.103,0.133,0.121,0.26,0.194,0.268,0.25,0.203,0.235,0.121,0.241,0.183,0.201,0.232,0.289,0.214,0.252,0.183,0.196,0.168,0.159,0.215,0.197,0.28,0.178,0.137,0.269,0.218,0.0849,0.191,0.215,0.25,0.25,0.125,0.154,0.242,0.298,0.171,0.171,0.153,0.185,0.224,0.0883,0.228,0.0993,0.218,0.244,0.227,0.227,0.161,0.161,0.205,0.205,0.205,0.295,0.295,0.0499,0.296,0.144,0.252,0.137,0.214,0.199,0.134,0.286,0.167,0.155,0.148],\"xaxis\":\"x\",\"y\":[76,70,75,82,76,77,75,70,54,69,66,73,82,77,87,67,83,72,60,54,69,61,76,73,49,55,74,67,63,63,69,61,29,39,42,68,84,86,74,69,70,66,71,72,80,75,86,82,68,79,74,69,81,71,73,64,67,33,55,77,66,70,82,65,82,74,28,54,48,54,54,48,43,63,66,41,64,67,64,62,72,68,70,65,73,82,78,60,55,74,77,60,77,84,83,75,83,84,68,56,78,78,65,69,68,66,70,70,61,83,78,63,62,76,66,62,78,78,74,74,80,80,80,63,63,81,65,80,77,85,32,69,82,78,71,89,87],\"yaxis\":\"y\",\"type\":\"scatter\"},{\"hovertemplate\":\"Cluster Valence=Mid_Valence\\u003cbr\\u003eValence=%{x}\\u003cbr\\u003ePopularity=%{y}\\u003cextra\\u003e\\u003c\\u002fextra\\u003e\",\"legendgroup\":\"Mid_Valence\",\"marker\":{\"color\":\"#FF204E\",\"symbol\":\"circle\"},\"mode\":\"markers\",\"name\":\"Mid_Valence (283)\",\"orientation\":\"v\",\"showlegend\":true,\"x\":[0.315,0.37,0.354,0.411,0.526,0.453,0.397,0.55,0.593,0.394,0.373,0.579,0.471,0.36,0.399,0.472,0.427,0.509,0.562,0.562,0.535,0.485,0.357,0.59,0.438,0.551,0.418,0.474,0.315,0.528,0.503,0.409,0.46,0.38,0.588,0.599,0.316,0.328,0.593,0.303,0.348,0.465,0.406,0.405,0.46,0.409,0.525,0.498,0.395,0.301,0.412,0.498,0.402,0.324,0.458,0.5,0.575,0.484,0.484,0.436,0.368,0.467,0.51,0.468,0.59,0.537,0.471,0.591,0.43,0.561,0.369,0.556,0.356,0.542,0.488,0.334,0.314,0.528,0.51,0.329,0.569,0.491,0.557,0.577,0.592,0.52,0.429,0.351,0.435,0.469,0.539,0.497,0.578,0.486,0.56,0.504,0.506,0.402,0.487,0.557,0.355,0.329,0.555,0.437,0.506,0.399,0.523,0.34,0.344,0.469,0.587,0.332,0.538,0.354,0.553,0.521,0.409,0.436,0.387,0.535,0.443,0.532,0.342,0.487,0.567,0.574,0.425,0.394,0.472,0.402,0.404,0.573,0.489,0.432,0.536,0.572,0.309,0.44,0.493,0.535,0.331,0.392,0.476,0.397,0.398,0.388,0.419,0.52,0.535,0.535,0.588,0.412,0.382,0.328,0.456,0.515,0.53,0.527,0.518,0.317,0.511,0.556,0.587,0.417,0.494,0.306,0.498,0.498,0.338,0.543,0.343,0.47,0.595,0.329,0.484,0.349,0.571,0.494,0.597,0.414,0.497,0.489,0.569,0.411,0.532,0.562,0.567,0.515,0.474,0.369,0.522,0.555,0.479,0.474,0.413,0.453,0.323,0.365,0.564,0.554,0.478,0.49,0.343,0.426,0.528,0.419,0.338,0.334,0.483,0.435,0.384,0.453,0.542,0.394,0.444,0.362,0.438,0.489,0.534,0.57,0.519,0.594,0.506,0.401,0.547,0.559,0.584,0.6,0.443,0.551,0.434,0.535,0.579,0.328,0.347,0.359,0.493,0.474,0.506,0.574,0.438,0.31,0.364,0.362,0.322,0.409,0.406,0.549,0.412,0.376,0.43,0.43,0.409,0.392,0.49,0.583,0.583,0.551,0.529,0.474,0.334,0.583,0.405,0.539,0.486,0.434,0.381,0.421,0.429,0.334,0.447,0.371,0.453,0.53,0.532,0.497,0.559,0.379,0.431,0.388,0.552,0.395,0.501],\"xaxis\":\"x\",\"y\":[50,71,75,78,69,71,75,64,77,79,53,71,51,52,71,72,64,69,81,81,67,70,77,61,76,74,0,65,65,51,53,50,73,46,46,71,47,60,54,61,56,55,59,65,61,60,62,67,49,56,60,58,64,87,51,51,76,67,67,76,67,75,79,72,68,80,78,81,74,44,28,44,84,79,69,60,66,70,65,34,82,69,86,60,86,67,84,57,74,69,80,59,67,55,64,62,72,65,52,77,69,74,55,80,48,77,66,71,77,81,78,76,67,64,82,71,61,60,45,88,74,75,71,73,83,74,60,61,44,56,75,37,52,46,48,63,57,67,67,86,83,73,48,71,51,58,69,53,70,70,56,71,83,66,77,78,69,74,76,59,70,63,48,78,79,47,87,87,34,65,73,78,72,64,76,78,78,79,79,76,77,63,74,76,74,71,73,81,66,69,62,72,57,80,73,72,58,81,61,59,80,36,62,46,76,77,82,67,40,41,58,74,81,54,71,55,45,34,56,45,48,42,72,71,71,74,82,84,73,78,69,68,97,68,76,67,83,83,70,69,63,76,45,60,75,81,82,68,76,70,79,79,76,87,84,70,70,85,76,81,89,81,72,72,88,66,48,62,48,44,38,78,49,67,72,26,84,54,59,86,63,65,67],\"yaxis\":\"y\",\"type\":\"scatter\"},{\"hovertemplate\":\"Cluster Valence=High_Valence\\u003cbr\\u003eValence=%{x}\\u003cbr\\u003ePopularity=%{y}\\u003cextra\\u003e\\u003c\\u002fextra\\u003e\",\"legendgroup\":\"High_Valence\",\"marker\":{\"color\":\"#1E3E62\",\"symbol\":\"circle\"},\"mode\":\"markers\",\"name\":\"High_Valence (224)\",\"orientation\":\"v\",\"showlegend\":true,\"x\":[0.682,0.612,0.685,0.696,0.648,0.675,0.681,0.818,0.651,0.759,0.663,0.65,0.65,0.819,0.616,0.712,0.655,0.7,0.674,0.87,0.666,0.722,0.707,0.802,0.731,0.755,0.757,0.757,0.906,0.781,0.732,0.686,0.779,0.779,0.765,0.881,0.679,0.914,0.914,0.608,0.746,0.781,0.843,0.843,0.931,0.931,0.822,0.861,0.753,0.753,0.962,0.759,0.752,0.779,0.629,0.659,0.772,0.712,0.662,0.697,0.706,0.95,0.635,0.716,0.933,0.635,0.749,0.64,0.644,0.768,0.638,0.669,0.631,0.674,0.888,0.872,0.816,0.882,0.875,0.86,0.773,0.769,0.687,0.787,0.684,0.935,0.88,0.772,0.859,0.602,0.647,0.738,0.714,0.774,0.673,0.772,0.821,0.778,0.971,0.75,0.885,0.813,0.813,0.819,0.62,0.673,0.703,0.78,0.831,0.928,0.607,0.784,0.767,0.77,0.637,0.67,0.7,0.625,0.842,0.767,0.705,0.961,0.873,0.832,0.95,0.833,0.657,0.652,0.638,0.921,0.632,0.625,0.761,0.792,0.687,0.696,0.662,0.961,0.695,0.661,0.783,0.739,0.863,0.646,0.681,0.751,0.667,0.763,0.761,0.821,0.88,0.833,0.69,0.801,0.928,0.964,0.945,0.673,0.697,0.76,0.688,0.699,0.619,0.725,0.893,0.86,0.746,0.643,0.75,0.713,0.81,0.809,0.853,0.625,0.824,0.824,0.734,0.719,0.693,0.638,0.812,0.759,0.615,0.69,0.732,0.609,0.623,0.742,0.729,0.637,0.621,0.824,0.758,0.812,0.917,0.867,0.816,0.871,0.7,0.7,0.769,0.771,0.894,0.85,0.98,0.634,0.716,0.943,0.943,0.644,0.644,0.62,0.707,0.707,0.608,0.651,0.768,0.865,0.805,0.936,0.654,0.609,0.821,0.72],\"xaxis\":\"x\",\"y\":[79,66,74,55,80,53,79,68,73,70,72,77,75,65,74,57,75,67,75,51,64,74,62,62,66,59,73,73,53,81,81,72,75,75,56,82,84,77,77,82,78,77,74,74,85,85,82,71,71,79,62,63,78,81,57,63,79,42,91,62,23,10,64,52,76,57,55,65,72,58,72,52,69,71,78,86,90,77,67,80,52,62,71,96,64,47,56,48,36,46,50,76,83,77,61,69,47,60,49,51,49,65,65,36,45,35,39,47,37,0,60,40,49,48,81,74,83,84,71,70,73,73,73,77,69,71,73,37,79,71,88,60,72,72,80,83,86,62,76,72,79,79,83,60,52,74,79,58,71,61,62,75,83,90,31,68,60,63,60,63,83,82,67,67,73,69,62,56,72,64,83,44,51,57,73,73,65,49,63,84,77,57,56,98,88,71,63,65,64,58,69,74,87,75,69,70,74,76,82,82,86,49,70,54,68,82,68,70,70,85,85,47,68,68,50,44,54,34,78,69,58,75,73,69],\"yaxis\":\"y\",\"type\":\"scatter\"}],                        {\"template\":{\"data\":{\"histogram2dcontour\":[{\"type\":\"histogram2dcontour\",\"colorbar\":{\"outlinewidth\":0,\"ticks\":\"\"},\"colorscale\":[[0.0,\"#0d0887\"],[0.1111111111111111,\"#46039f\"],[0.2222222222222222,\"#7201a8\"],[0.3333333333333333,\"#9c179e\"],[0.4444444444444444,\"#bd3786\"],[0.5555555555555556,\"#d8576b\"],[0.6666666666666666,\"#ed7953\"],[0.7777777777777778,\"#fb9f3a\"],[0.8888888888888888,\"#fdca26\"],[1.0,\"#f0f921\"]]}],\"choropleth\":[{\"type\":\"choropleth\",\"colorbar\":{\"outlinewidth\":0,\"ticks\":\"\"}}],\"histogram2d\":[{\"type\":\"histogram2d\",\"colorbar\":{\"outlinewidth\":0,\"ticks\":\"\"},\"colorscale\":[[0.0,\"#0d0887\"],[0.1111111111111111,\"#46039f\"],[0.2222222222222222,\"#7201a8\"],[0.3333333333333333,\"#9c179e\"],[0.4444444444444444,\"#bd3786\"],[0.5555555555555556,\"#d8576b\"],[0.6666666666666666,\"#ed7953\"],[0.7777777777777778,\"#fb9f3a\"],[0.8888888888888888,\"#fdca26\"],[1.0,\"#f0f921\"]]}],\"heatmap\":[{\"type\":\"heatmap\",\"colorbar\":{\"outlinewidth\":0,\"ticks\":\"\"},\"colorscale\":[[0.0,\"#0d0887\"],[0.1111111111111111,\"#46039f\"],[0.2222222222222222,\"#7201a8\"],[0.3333333333333333,\"#9c179e\"],[0.4444444444444444,\"#bd3786\"],[0.5555555555555556,\"#d8576b\"],[0.6666666666666666,\"#ed7953\"],[0.7777777777777778,\"#fb9f3a\"],[0.8888888888888888,\"#fdca26\"],[1.0,\"#f0f921\"]]}],\"heatmapgl\":[{\"type\":\"heatmapgl\",\"colorbar\":{\"outlinewidth\":0,\"ticks\":\"\"},\"colorscale\":[[0.0,\"#0d0887\"],[0.1111111111111111,\"#46039f\"],[0.2222222222222222,\"#7201a8\"],[0.3333333333333333,\"#9c179e\"],[0.4444444444444444,\"#bd3786\"],[0.5555555555555556,\"#d8576b\"],[0.6666666666666666,\"#ed7953\"],[0.7777777777777778,\"#fb9f3a\"],[0.8888888888888888,\"#fdca26\"],[1.0,\"#f0f921\"]]}],\"contourcarpet\":[{\"type\":\"contourcarpet\",\"colorbar\":{\"outlinewidth\":0,\"ticks\":\"\"}}],\"contour\":[{\"type\":\"contour\",\"colorbar\":{\"outlinewidth\":0,\"ticks\":\"\"},\"colorscale\":[[0.0,\"#0d0887\"],[0.1111111111111111,\"#46039f\"],[0.2222222222222222,\"#7201a8\"],[0.3333333333333333,\"#9c179e\"],[0.4444444444444444,\"#bd3786\"],[0.5555555555555556,\"#d8576b\"],[0.6666666666666666,\"#ed7953\"],[0.7777777777777778,\"#fb9f3a\"],[0.8888888888888888,\"#fdca26\"],[1.0,\"#f0f921\"]]}],\"surface\":[{\"type\":\"surface\",\"colorbar\":{\"outlinewidth\":0,\"ticks\":\"\"},\"colorscale\":[[0.0,\"#0d0887\"],[0.1111111111111111,\"#46039f\"],[0.2222222222222222,\"#7201a8\"],[0.3333333333333333,\"#9c179e\"],[0.4444444444444444,\"#bd3786\"],[0.5555555555555556,\"#d8576b\"],[0.6666666666666666,\"#ed7953\"],[0.7777777777777778,\"#fb9f3a\"],[0.8888888888888888,\"#fdca26\"],[1.0,\"#f0f921\"]]}],\"mesh3d\":[{\"type\":\"mesh3d\",\"colorbar\":{\"outlinewidth\":0,\"ticks\":\"\"}}],\"scatter\":[{\"fillpattern\":{\"fillmode\":\"overlay\",\"size\":10,\"solidity\":0.2},\"type\":\"scatter\"}],\"parcoords\":[{\"type\":\"parcoords\",\"line\":{\"colorbar\":{\"outlinewidth\":0,\"ticks\":\"\"}}}],\"scatterpolargl\":[{\"type\":\"scatterpolargl\",\"marker\":{\"colorbar\":{\"outlinewidth\":0,\"ticks\":\"\"}}}],\"bar\":[{\"error_x\":{\"color\":\"#2a3f5f\"},\"error_y\":{\"color\":\"#2a3f5f\"},\"marker\":{\"line\":{\"color\":\"#E5ECF6\",\"width\":0.5},\"pattern\":{\"fillmode\":\"overlay\",\"size\":10,\"solidity\":0.2}},\"type\":\"bar\"}],\"scattergeo\":[{\"type\":\"scattergeo\",\"marker\":{\"colorbar\":{\"outlinewidth\":0,\"ticks\":\"\"}}}],\"scatterpolar\":[{\"type\":\"scatterpolar\",\"marker\":{\"colorbar\":{\"outlinewidth\":0,\"ticks\":\"\"}}}],\"histogram\":[{\"marker\":{\"pattern\":{\"fillmode\":\"overlay\",\"size\":10,\"solidity\":0.2}},\"type\":\"histogram\"}],\"scattergl\":[{\"type\":\"scattergl\",\"marker\":{\"colorbar\":{\"outlinewidth\":0,\"ticks\":\"\"}}}],\"scatter3d\":[{\"type\":\"scatter3d\",\"line\":{\"colorbar\":{\"outlinewidth\":0,\"ticks\":\"\"}},\"marker\":{\"colorbar\":{\"outlinewidth\":0,\"ticks\":\"\"}}}],\"scattermapbox\":[{\"type\":\"scattermapbox\",\"marker\":{\"colorbar\":{\"outlinewidth\":0,\"ticks\":\"\"}}}],\"scatterternary\":[{\"type\":\"scatterternary\",\"marker\":{\"colorbar\":{\"outlinewidth\":0,\"ticks\":\"\"}}}],\"scattercarpet\":[{\"type\":\"scattercarpet\",\"marker\":{\"colorbar\":{\"outlinewidth\":0,\"ticks\":\"\"}}}],\"carpet\":[{\"aaxis\":{\"endlinecolor\":\"#2a3f5f\",\"gridcolor\":\"white\",\"linecolor\":\"white\",\"minorgridcolor\":\"white\",\"startlinecolor\":\"#2a3f5f\"},\"baxis\":{\"endlinecolor\":\"#2a3f5f\",\"gridcolor\":\"white\",\"linecolor\":\"white\",\"minorgridcolor\":\"white\",\"startlinecolor\":\"#2a3f5f\"},\"type\":\"carpet\"}],\"table\":[{\"cells\":{\"fill\":{\"color\":\"#EBF0F8\"},\"line\":{\"color\":\"white\"}},\"header\":{\"fill\":{\"color\":\"#C8D4E3\"},\"line\":{\"color\":\"white\"}},\"type\":\"table\"}],\"barpolar\":[{\"marker\":{\"line\":{\"color\":\"#E5ECF6\",\"width\":0.5},\"pattern\":{\"fillmode\":\"overlay\",\"size\":10,\"solidity\":0.2}},\"type\":\"barpolar\"}],\"pie\":[{\"automargin\":true,\"type\":\"pie\"}]},\"layout\":{\"autotypenumbers\":\"strict\",\"colorway\":[\"#636efa\",\"#EF553B\",\"#00cc96\",\"#ab63fa\",\"#FFA15A\",\"#19d3f3\",\"#FF6692\",\"#B6E880\",\"#FF97FF\",\"#FECB52\"],\"font\":{\"color\":\"#2a3f5f\"},\"hovermode\":\"closest\",\"hoverlabel\":{\"align\":\"left\"},\"paper_bgcolor\":\"white\",\"plot_bgcolor\":\"#E5ECF6\",\"polar\":{\"bgcolor\":\"#E5ECF6\",\"angularaxis\":{\"gridcolor\":\"white\",\"linecolor\":\"white\",\"ticks\":\"\"},\"radialaxis\":{\"gridcolor\":\"white\",\"linecolor\":\"white\",\"ticks\":\"\"}},\"ternary\":{\"bgcolor\":\"#E5ECF6\",\"aaxis\":{\"gridcolor\":\"white\",\"linecolor\":\"white\",\"ticks\":\"\"},\"baxis\":{\"gridcolor\":\"white\",\"linecolor\":\"white\",\"ticks\":\"\"},\"caxis\":{\"gridcolor\":\"white\",\"linecolor\":\"white\",\"ticks\":\"\"}},\"coloraxis\":{\"colorbar\":{\"outlinewidth\":0,\"ticks\":\"\"}},\"colorscale\":{\"sequential\":[[0.0,\"#0d0887\"],[0.1111111111111111,\"#46039f\"],[0.2222222222222222,\"#7201a8\"],[0.3333333333333333,\"#9c179e\"],[0.4444444444444444,\"#bd3786\"],[0.5555555555555556,\"#d8576b\"],[0.6666666666666666,\"#ed7953\"],[0.7777777777777778,\"#fb9f3a\"],[0.8888888888888888,\"#fdca26\"],[1.0,\"#f0f921\"]],\"sequentialminus\":[[0.0,\"#0d0887\"],[0.1111111111111111,\"#46039f\"],[0.2222222222222222,\"#7201a8\"],[0.3333333333333333,\"#9c179e\"],[0.4444444444444444,\"#bd3786\"],[0.5555555555555556,\"#d8576b\"],[0.6666666666666666,\"#ed7953\"],[0.7777777777777778,\"#fb9f3a\"],[0.8888888888888888,\"#fdca26\"],[1.0,\"#f0f921\"]],\"diverging\":[[0,\"#8e0152\"],[0.1,\"#c51b7d\"],[0.2,\"#de77ae\"],[0.3,\"#f1b6da\"],[0.4,\"#fde0ef\"],[0.5,\"#f7f7f7\"],[0.6,\"#e6f5d0\"],[0.7,\"#b8e186\"],[0.8,\"#7fbc41\"],[0.9,\"#4d9221\"],[1,\"#276419\"]]},\"xaxis\":{\"gridcolor\":\"white\",\"linecolor\":\"white\",\"ticks\":\"\",\"title\":{\"standoff\":15},\"zerolinecolor\":\"white\",\"automargin\":true,\"zerolinewidth\":2},\"yaxis\":{\"gridcolor\":\"white\",\"linecolor\":\"white\",\"ticks\":\"\",\"title\":{\"standoff\":15},\"zerolinecolor\":\"white\",\"automargin\":true,\"zerolinewidth\":2},\"scene\":{\"xaxis\":{\"backgroundcolor\":\"#E5ECF6\",\"gridcolor\":\"white\",\"linecolor\":\"white\",\"showbackground\":true,\"ticks\":\"\",\"zerolinecolor\":\"white\",\"gridwidth\":2},\"yaxis\":{\"backgroundcolor\":\"#E5ECF6\",\"gridcolor\":\"white\",\"linecolor\":\"white\",\"showbackground\":true,\"ticks\":\"\",\"zerolinecolor\":\"white\",\"gridwidth\":2},\"zaxis\":{\"backgroundcolor\":\"#E5ECF6\",\"gridcolor\":\"white\",\"linecolor\":\"white\",\"showbackground\":true,\"ticks\":\"\",\"zerolinecolor\":\"white\",\"gridwidth\":2}},\"shapedefaults\":{\"line\":{\"color\":\"#2a3f5f\"}},\"annotationdefaults\":{\"arrowcolor\":\"#2a3f5f\",\"arrowhead\":0,\"arrowwidth\":1},\"geo\":{\"bgcolor\":\"white\",\"landcolor\":\"#E5ECF6\",\"subunitcolor\":\"white\",\"showland\":true,\"showlakes\":true,\"lakecolor\":\"white\"},\"title\":{\"x\":0.05},\"mapbox\":{\"style\":\"light\"}}},\"xaxis\":{\"anchor\":\"y\",\"domain\":[0.0,1.0],\"title\":{\"text\":\"Valence\"}},\"yaxis\":{\"anchor\":\"x\",\"domain\":[0.0,1.0],\"title\":{\"text\":\"Popularity\"}},\"legend\":{\"title\":{\"text\":\"Cluster Valence\"},\"tracegroupgap\":0},\"title\":{\"text\":\"Valence vs Popularity by Cluster\"}},                        {\"responsive\": true}                    ).then(function(){\n",
              "                            \n",
              "var gd = document.getElementById('8d181801-cea6-4eea-b73c-fe9fda57ebfc');\n",
              "var x = new MutationObserver(function (mutations, observer) {{\n",
              "        var display = window.getComputedStyle(gd).display;\n",
              "        if (!display || display === 'none') {{\n",
              "            console.log([gd, 'removed!']);\n",
              "            Plotly.purge(gd);\n",
              "            observer.disconnect();\n",
              "        }}\n",
              "}});\n",
              "\n",
              "// Listen for the removal of the full notebook cells\n",
              "var notebookContainer = gd.closest('#notebook-container');\n",
              "if (notebookContainer) {{\n",
              "    x.observe(notebookContainer, {childList: true});\n",
              "}}\n",
              "\n",
              "// Listen for the clearing of the current output cell\n",
              "var outputEl = gd.closest('.output');\n",
              "if (outputEl) {{\n",
              "    x.observe(outputEl, {childList: true});\n",
              "}}\n",
              "\n",
              "                        })                };                            </script>        </div>\n",
              "</body>\n",
              "</html>"
            ]
          },
          "metadata": {}
        }
      ]
    },
    {
      "cell_type": "markdown",
      "source": [
        "Liveness VS Popularity VS Cluster_Liveness"
      ],
      "metadata": {
        "id": "Iv3WBkjfgsfX"
      }
    },
    {
      "cell_type": "code",
      "source": [
        "color_map = {'Studio_Liveness': '#DC84F3', 'Outdoor_Liveness': '#756AB6'}\n",
        "\n",
        "counts = df_final['Cluster_Liveness'].value_counts()\n",
        "\n",
        "sort_liveness = ['Studio_Liveness', 'Outdoor_Liveness']\n",
        "\n",
        "sorted_labels = [f\"{label} ({counts.get(label, 0)})\" for label in sort_liveness]\n",
        "\n",
        "fig = px.scatter(\n",
        "    df_final,\n",
        "    x='Liveness',\n",
        "    y='Popularity',\n",
        "    color='Cluster_Liveness',\n",
        "    color_discrete_map=color_map,\n",
        "    category_orders={'Cluster_Liveness': sort_liveness},\n",
        "    labels={'Cluster_Liveness': 'Cluster Liveness'},\n",
        "    title='Liveness vs Popularity by Cluster'\n",
        ")\n",
        "\n",
        "fig.for_each_trace(lambda t: t.update(name=sorted_labels[sort_liveness.index(t.name)]))\n",
        "\n",
        "fig.show()"
      ],
      "metadata": {
        "colab": {
          "base_uri": "https://localhost:8080/",
          "height": 611
        },
        "id": "2nduLeT2g27p",
        "outputId": "b90b97b2-6a33-4b75-aba3-d9074769c364"
      },
      "execution_count": 30,
      "outputs": [
        {
          "output_type": "stream",
          "name": "stderr",
          "text": [
            "/usr/local/lib/python3.10/dist-packages/plotly/express/_core.py:1992: FutureWarning:\n",
            "\n",
            "When grouping with a length-1 list-like, you will need to pass a length-1 tuple to get_group in a future version of pandas. Pass `(name,)` instead of `name` to silence this warning.\n",
            "\n"
          ]
        },
        {
          "output_type": "display_data",
          "data": {
            "text/html": [
              "<html>\n",
              "<head><meta charset=\"utf-8\" /></head>\n",
              "<body>\n",
              "    <div>            <script src=\"https://cdnjs.cloudflare.com/ajax/libs/mathjax/2.7.5/MathJax.js?config=TeX-AMS-MML_SVG\"></script><script type=\"text/javascript\">if (window.MathJax && window.MathJax.Hub && window.MathJax.Hub.Config) {window.MathJax.Hub.Config({SVG: {font: \"STIX-Web\"}});}</script>                <script type=\"text/javascript\">window.PlotlyConfig = {MathJaxConfig: 'local'};</script>\n",
              "        <script charset=\"utf-8\" src=\"https://cdn.plot.ly/plotly-2.24.1.min.js\"></script>                <div id=\"12dd08e2-1996-4bba-be27-58b460c293ba\" class=\"plotly-graph-div\" style=\"height:525px; width:100%;\"></div>            <script type=\"text/javascript\">                                    window.PLOTLYENV=window.PLOTLYENV || {};                                    if (document.getElementById(\"12dd08e2-1996-4bba-be27-58b460c293ba\")) {                    Plotly.newPlot(                        \"12dd08e2-1996-4bba-be27-58b460c293ba\",                        [{\"hovertemplate\":\"Cluster Liveness=Studio_Liveness\\u003cbr\\u003eLiveness=%{x}\\u003cbr\\u003ePopularity=%{y}\\u003cextra\\u003e\\u003c\\u002fextra\\u003e\",\"legendgroup\":\"Studio_Liveness\",\"marker\":{\"color\":\"#DC84F3\",\"symbol\":\"circle\"},\"mode\":\"markers\",\"name\":\"Studio_Liveness (560)\",\"orientation\":\"v\",\"showlegend\":true,\"x\":[0.0881,0.204,0.237,0.145,0.294,0.096,0.0931,0.235,0.101,0.25,0.113,0.099,0.107,0.101,0.221,0.0901,0.108,0.105,0.244,0.133,0.0879,0.0719,0.083,0.0645,0.094,0.273,0.116,0.0715,0.181,0.196,0.0563,0.167,0.188,0.1,0.1,0.106,0.106,0.116,0.095,0.0583,0.0897,0.233,0.0952,0.231,0.0731,0.11,0.0832,0.137,0.0461,0.0824,0.122,0.184,0.0693,0.188,0.155,0.0441,0.145,0.0934,0.1,0.127,0.117,0.113,0.18,0.101,0.11,0.121,0.109,0.196,0.104,0.0866,0.107,0.106,0.088,0.0661,0.0944,0.0504,0.173,0.271,0.109,0.0837,0.128,0.0906,0.0978,0.189,0.0857,0.106,0.101,0.131,0.11,0.158,0.129,0.124,0.0787,0.142,0.157,0.192,0.246,0.127,0.169,0.157,0.15,0.093,0.0856,0.151,0.148,0.101,0.146,0.0967,0.0967,0.202,0.0697,0.0697,0.12,0.0901,0.13,0.0904,0.0904,0.137,0.117,0.0845,0.056,0.0951,0.0824,0.213,0.213,0.1,0.153,0.102,0.183,0.14,0.135,0.0894,0.0894,0.106,0.0986,0.0931,0.0931,0.0424,0.184,0.0418,0.0894,0.0758,0.0886,0.0715,0.0728,0.0834,0.116,0.292,0.114,0.271,0.101,0.102,0.129,0.278,0.131,0.0854,0.1,0.166,0.102,0.089,0.131,0.141,0.109,0.068,0.046,0.271,0.141,0.0849,0.114,0.126,0.231,0.0787,0.169,0.116,0.108,0.182,0.0898,0.187,0.164,0.193,0.11,0.113,0.117,0.295,0.109,0.0517,0.117,0.0726,0.182,0.0659,0.101,0.0863,0.0683,0.0801,0.142,0.249,0.114,0.281,0.103,0.0872,0.0986,0.0966,0.0909,0.242,0.172,0.0859,0.0797,0.0748,0.201,0.185,0.25,0.0837,0.11,0.137,0.243,0.15,0.203,0.142,0.105,0.234,0.249,0.172,0.088,0.0932,0.174,0.104,0.108,0.101,0.21,0.11,0.0678,0.0574,0.123,0.197,0.0931,0.224,0.0933,0.114,0.112,0.0759,0.227,0.167,0.123,0.236,0.0774,0.223,0.0279,0.166,0.0979,0.106,0.104,0.143,0.0842,0.113,0.122,0.106,0.121,0.231,0.101,0.158,0.123,0.174,0.133,0.0897,0.201,0.123,0.239,0.243,0.111,0.246,0.139,0.184,0.0854,0.0989,0.294,0.151,0.136,0.109,0.134,0.234,0.25,0.152,0.123,0.185,0.0928,0.0874,0.111,0.113,0.0933,0.254,0.163,0.191,0.265,0.226,0.09,0.138,0.169,0.186,0.0853,0.115,0.119,0.124,0.157,0.0819,0.177,0.111,0.0839,0.0599,0.238,0.187,0.111,0.153,0.0937,0.248,0.0866,0.191,0.191,0.254,0.113,0.0232,0.0813,0.249,0.0886,0.0761,0.248,0.104,0.107,0.125,0.11,0.107,0.131,0.112,0.123,0.0915,0.146,0.126,0.116,0.0772,0.133,0.114,0.0885,0.118,0.104,0.0761,0.0894,0.105,0.0993,0.103,0.105,0.286,0.108,0.146,0.0921,0.214,0.0956,0.106,0.1,0.241,0.0443,0.251,0.108,0.147,0.142,0.259,0.142,0.0489,0.0961,0.115,0.112,0.116,0.0839,0.107,0.0966,0.11,0.108,0.213,0.0665,0.107,0.107,0.115,0.1,0.167,0.0842,0.0754,0.114,0.201,0.126,0.28,0.106,0.219,0.147,0.0849,0.0839,0.0614,0.12,0.0968,0.291,0.114,0.105,0.0981,0.103,0.107,0.206,0.0727,0.123,0.111,0.17,0.076,0.173,0.245,0.261,0.0734,0.0618,0.195,0.117,0.0935,0.0934,0.0934,0.0762,0.284,0.0775,0.128,0.117,0.121,0.121,0.108,0.145,0.0899,0.0671,0.0779,0.15,0.109,0.0535,0.0586,0.0788,0.117,0.0941,0.0426,0.108,0.221,0.0919,0.0293,0.141,0.124,0.151,0.129,0.0919,0.185,0.224,0.104,0.0567,0.138,0.0671,0.222,0.0763,0.0766,0.109,0.109,0.229,0.0865,0.11,0.169,0.0863,0.12,0.0767,0.0809,0.069,0.21,0.103,0.142,0.204,0.141,0.056,0.123,0.0554,0.225,0.104,0.0585,0.203,0.176,0.216,0.27,0.174,0.174,0.128,0.119,0.299,0.208,0.133,0.0995,0.156,0.124,0.0965,0.114,0.161,0.161,0.162,0.11,0.126,0.126,0.088,0.088,0.088,0.161,0.148,0.148,0.13,0.13,0.25,0.0911,0.0822,0.148,0.148,0.145,0.0885,0.121,0.0897,0.105,0.0771,0.156,0.0465,0.137,0.135,0.126,0.098,0.0991,0.151,0.078,0.11,0.0962,0.291,0.125,0.102,0.125,0.0844,0.114,0.114,0.0756,0.0554,0.137,0.101,0.0915,0.114,0.116,0.0879,0.105,0.0905,0.143,0.095,0.0897,0.212,0.11,0.188,0.103,0.106,0.102,0.111,0.147,0.0954,0.248],\"xaxis\":\"x\",\"y\":[50,76,75,71,75,82,79,66,78,76,77,75,74,69,75,64,77,79,55,53,80,70,71,53,51,52,54,79,71,68,72,69,66,81,81,73,82,77,87,72,83,72,67,70,54,69,75,61,65,77,61,76,74,74,76,57,75,67,49,55,65,65,51,74,67,53,75,50,63,63,69,73,46,51,46,71,47,61,64,60,29,54,39,42,61,56,55,59,65,68,61,84,60,74,69,62,67,56,58,64,70,87,66,71,72,51,51,73,73,76,67,67,81,81,72,75,75,56,82,76,67,84,79,77,77,72,82,78,68,78,75,74,74,86,82,85,85,82,81,71,74,44,44,71,84,62,63,78,81,79,57,68,69,60,66,70,65,63,82,79,74,69,81,71,62,23,10,60,73,86,67,64,52,64,84,57,57,67,55,74,69,80,59,67,65,55,72,58,62,72,72,65,52,77,33,69,55,74,55,80,48,77,52,69,66,78,86,77,78,67,77,76,67,66,80,64,82,62,71,61,60,71,45,70,88,82,74,75,71,83,96,74,65,60,61,44,56,75,64,47,37,52,46,56,48,48,36,46,63,57,50,76,83,67,86,74,77,83,61,73,60,49,71,51,49,51,36,45,28,35,39,54,47,69,48,54,48,43,63,53,0,40,71,48,83,81,74,66,77,78,69,74,84,71,70,76,59,73,70,66,63,73,73,48,78,69,37,64,79,67,71,64,47,62,72,87,87,65,68,88,73,70,78,72,65,64,78,78,79,73,79,76,60,72,72,82,80,77,83,62,63,74,76,76,72,74,78,71,73,79,79,81,83,60,52,66,60,69,55,74,62,61,62,75,72,57,80,74,83,77,72,58,90,81,61,31,59,60,80,36,63,60,63,62,60,46,77,77,83,75,83,83,82,82,84,67,67,68,40,56,41,58,67,74,73,69,81,62,56,72,64,54,83,71,55,44,78,78,34,51,56,45,57,73,73,65,49,48,42,63,72,71,71,84,77,65,74,82,84,73,78,57,68,66,69,68,56,98,88,97,68,71,63,76,67,83,70,70,65,61,83,83,63,70,64,69,62,76,58,69,76,74,45,75,69,70,60,74,76,66,62,75,78,78,81,86,49,70,68,82,82,68,68,70,79,79,76,87,74,74,80,80,80,84,63,63,70,70,85,81,65,70,70,76,81,80,89,81,72,77,72,88,85,32,66,48,62,48,44,38,49,67,72,26,47,68,68,84,50,44,54,34,78,69,54,59,69,58,75,73,69,82,78,71,86,89,63,65,87,67],\"yaxis\":\"y\",\"type\":\"scatter\"},{\"hovertemplate\":\"Cluster Liveness=Outdoor_Liveness\\u003cbr\\u003eLiveness=%{x}\\u003cbr\\u003ePopularity=%{y}\\u003cextra\\u003e\\u003c\\u002fextra\\u003e\",\"legendgroup\":\"Outdoor_Liveness\",\"marker\":{\"color\":\"#756AB6\",\"symbol\":\"circle\"},\"mode\":\"markers\",\"name\":\"Outdoor_Liveness (84)\",\"orientation\":\"v\",\"showlegend\":true,\"x\":[0.356,0.344,0.354,0.604,0.306,0.372,0.352,0.383,0.372,0.393,0.335,0.332,0.322,0.325,0.331,0.344,0.575,0.519,0.331,0.659,0.338,0.349,0.366,0.327,0.379,0.325,0.341,0.352,0.393,0.311,0.318,0.335,0.362,0.339,0.352,0.441,0.339,0.831,0.334,0.361,0.388,0.764,0.331,0.665,0.315,0.347,0.349,0.349,0.748,0.344,0.442,0.442,0.348,0.418,0.503,0.358,0.386,0.304,0.317,0.477,0.737,0.334,0.585,0.37,0.347,0.598,0.327,0.717,0.314,0.308,0.302,0.37,0.687,0.41,0.318,0.342,0.405,0.402,0.402,0.344,0.688,0.543,0.543,0.686],\"xaxis\":\"x\",\"y\":[70,71,64,73,69,70,67,60,77,73,0,74,86,62,62,49,60,66,59,53,80,75,80,77,28,79,34,79,42,91,69,86,76,64,71,71,90,77,81,52,73,82,67,69,47,48,65,65,58,54,70,70,37,60,49,56,83,41,77,71,73,79,34,76,86,79,58,71,73,68,76,84,45,69,78,63,87,82,82,54,76,85,85,78],\"yaxis\":\"y\",\"type\":\"scatter\"}],                        {\"template\":{\"data\":{\"histogram2dcontour\":[{\"type\":\"histogram2dcontour\",\"colorbar\":{\"outlinewidth\":0,\"ticks\":\"\"},\"colorscale\":[[0.0,\"#0d0887\"],[0.1111111111111111,\"#46039f\"],[0.2222222222222222,\"#7201a8\"],[0.3333333333333333,\"#9c179e\"],[0.4444444444444444,\"#bd3786\"],[0.5555555555555556,\"#d8576b\"],[0.6666666666666666,\"#ed7953\"],[0.7777777777777778,\"#fb9f3a\"],[0.8888888888888888,\"#fdca26\"],[1.0,\"#f0f921\"]]}],\"choropleth\":[{\"type\":\"choropleth\",\"colorbar\":{\"outlinewidth\":0,\"ticks\":\"\"}}],\"histogram2d\":[{\"type\":\"histogram2d\",\"colorbar\":{\"outlinewidth\":0,\"ticks\":\"\"},\"colorscale\":[[0.0,\"#0d0887\"],[0.1111111111111111,\"#46039f\"],[0.2222222222222222,\"#7201a8\"],[0.3333333333333333,\"#9c179e\"],[0.4444444444444444,\"#bd3786\"],[0.5555555555555556,\"#d8576b\"],[0.6666666666666666,\"#ed7953\"],[0.7777777777777778,\"#fb9f3a\"],[0.8888888888888888,\"#fdca26\"],[1.0,\"#f0f921\"]]}],\"heatmap\":[{\"type\":\"heatmap\",\"colorbar\":{\"outlinewidth\":0,\"ticks\":\"\"},\"colorscale\":[[0.0,\"#0d0887\"],[0.1111111111111111,\"#46039f\"],[0.2222222222222222,\"#7201a8\"],[0.3333333333333333,\"#9c179e\"],[0.4444444444444444,\"#bd3786\"],[0.5555555555555556,\"#d8576b\"],[0.6666666666666666,\"#ed7953\"],[0.7777777777777778,\"#fb9f3a\"],[0.8888888888888888,\"#fdca26\"],[1.0,\"#f0f921\"]]}],\"heatmapgl\":[{\"type\":\"heatmapgl\",\"colorbar\":{\"outlinewidth\":0,\"ticks\":\"\"},\"colorscale\":[[0.0,\"#0d0887\"],[0.1111111111111111,\"#46039f\"],[0.2222222222222222,\"#7201a8\"],[0.3333333333333333,\"#9c179e\"],[0.4444444444444444,\"#bd3786\"],[0.5555555555555556,\"#d8576b\"],[0.6666666666666666,\"#ed7953\"],[0.7777777777777778,\"#fb9f3a\"],[0.8888888888888888,\"#fdca26\"],[1.0,\"#f0f921\"]]}],\"contourcarpet\":[{\"type\":\"contourcarpet\",\"colorbar\":{\"outlinewidth\":0,\"ticks\":\"\"}}],\"contour\":[{\"type\":\"contour\",\"colorbar\":{\"outlinewidth\":0,\"ticks\":\"\"},\"colorscale\":[[0.0,\"#0d0887\"],[0.1111111111111111,\"#46039f\"],[0.2222222222222222,\"#7201a8\"],[0.3333333333333333,\"#9c179e\"],[0.4444444444444444,\"#bd3786\"],[0.5555555555555556,\"#d8576b\"],[0.6666666666666666,\"#ed7953\"],[0.7777777777777778,\"#fb9f3a\"],[0.8888888888888888,\"#fdca26\"],[1.0,\"#f0f921\"]]}],\"surface\":[{\"type\":\"surface\",\"colorbar\":{\"outlinewidth\":0,\"ticks\":\"\"},\"colorscale\":[[0.0,\"#0d0887\"],[0.1111111111111111,\"#46039f\"],[0.2222222222222222,\"#7201a8\"],[0.3333333333333333,\"#9c179e\"],[0.4444444444444444,\"#bd3786\"],[0.5555555555555556,\"#d8576b\"],[0.6666666666666666,\"#ed7953\"],[0.7777777777777778,\"#fb9f3a\"],[0.8888888888888888,\"#fdca26\"],[1.0,\"#f0f921\"]]}],\"mesh3d\":[{\"type\":\"mesh3d\",\"colorbar\":{\"outlinewidth\":0,\"ticks\":\"\"}}],\"scatter\":[{\"fillpattern\":{\"fillmode\":\"overlay\",\"size\":10,\"solidity\":0.2},\"type\":\"scatter\"}],\"parcoords\":[{\"type\":\"parcoords\",\"line\":{\"colorbar\":{\"outlinewidth\":0,\"ticks\":\"\"}}}],\"scatterpolargl\":[{\"type\":\"scatterpolargl\",\"marker\":{\"colorbar\":{\"outlinewidth\":0,\"ticks\":\"\"}}}],\"bar\":[{\"error_x\":{\"color\":\"#2a3f5f\"},\"error_y\":{\"color\":\"#2a3f5f\"},\"marker\":{\"line\":{\"color\":\"#E5ECF6\",\"width\":0.5},\"pattern\":{\"fillmode\":\"overlay\",\"size\":10,\"solidity\":0.2}},\"type\":\"bar\"}],\"scattergeo\":[{\"type\":\"scattergeo\",\"marker\":{\"colorbar\":{\"outlinewidth\":0,\"ticks\":\"\"}}}],\"scatterpolar\":[{\"type\":\"scatterpolar\",\"marker\":{\"colorbar\":{\"outlinewidth\":0,\"ticks\":\"\"}}}],\"histogram\":[{\"marker\":{\"pattern\":{\"fillmode\":\"overlay\",\"size\":10,\"solidity\":0.2}},\"type\":\"histogram\"}],\"scattergl\":[{\"type\":\"scattergl\",\"marker\":{\"colorbar\":{\"outlinewidth\":0,\"ticks\":\"\"}}}],\"scatter3d\":[{\"type\":\"scatter3d\",\"line\":{\"colorbar\":{\"outlinewidth\":0,\"ticks\":\"\"}},\"marker\":{\"colorbar\":{\"outlinewidth\":0,\"ticks\":\"\"}}}],\"scattermapbox\":[{\"type\":\"scattermapbox\",\"marker\":{\"colorbar\":{\"outlinewidth\":0,\"ticks\":\"\"}}}],\"scatterternary\":[{\"type\":\"scatterternary\",\"marker\":{\"colorbar\":{\"outlinewidth\":0,\"ticks\":\"\"}}}],\"scattercarpet\":[{\"type\":\"scattercarpet\",\"marker\":{\"colorbar\":{\"outlinewidth\":0,\"ticks\":\"\"}}}],\"carpet\":[{\"aaxis\":{\"endlinecolor\":\"#2a3f5f\",\"gridcolor\":\"white\",\"linecolor\":\"white\",\"minorgridcolor\":\"white\",\"startlinecolor\":\"#2a3f5f\"},\"baxis\":{\"endlinecolor\":\"#2a3f5f\",\"gridcolor\":\"white\",\"linecolor\":\"white\",\"minorgridcolor\":\"white\",\"startlinecolor\":\"#2a3f5f\"},\"type\":\"carpet\"}],\"table\":[{\"cells\":{\"fill\":{\"color\":\"#EBF0F8\"},\"line\":{\"color\":\"white\"}},\"header\":{\"fill\":{\"color\":\"#C8D4E3\"},\"line\":{\"color\":\"white\"}},\"type\":\"table\"}],\"barpolar\":[{\"marker\":{\"line\":{\"color\":\"#E5ECF6\",\"width\":0.5},\"pattern\":{\"fillmode\":\"overlay\",\"size\":10,\"solidity\":0.2}},\"type\":\"barpolar\"}],\"pie\":[{\"automargin\":true,\"type\":\"pie\"}]},\"layout\":{\"autotypenumbers\":\"strict\",\"colorway\":[\"#636efa\",\"#EF553B\",\"#00cc96\",\"#ab63fa\",\"#FFA15A\",\"#19d3f3\",\"#FF6692\",\"#B6E880\",\"#FF97FF\",\"#FECB52\"],\"font\":{\"color\":\"#2a3f5f\"},\"hovermode\":\"closest\",\"hoverlabel\":{\"align\":\"left\"},\"paper_bgcolor\":\"white\",\"plot_bgcolor\":\"#E5ECF6\",\"polar\":{\"bgcolor\":\"#E5ECF6\",\"angularaxis\":{\"gridcolor\":\"white\",\"linecolor\":\"white\",\"ticks\":\"\"},\"radialaxis\":{\"gridcolor\":\"white\",\"linecolor\":\"white\",\"ticks\":\"\"}},\"ternary\":{\"bgcolor\":\"#E5ECF6\",\"aaxis\":{\"gridcolor\":\"white\",\"linecolor\":\"white\",\"ticks\":\"\"},\"baxis\":{\"gridcolor\":\"white\",\"linecolor\":\"white\",\"ticks\":\"\"},\"caxis\":{\"gridcolor\":\"white\",\"linecolor\":\"white\",\"ticks\":\"\"}},\"coloraxis\":{\"colorbar\":{\"outlinewidth\":0,\"ticks\":\"\"}},\"colorscale\":{\"sequential\":[[0.0,\"#0d0887\"],[0.1111111111111111,\"#46039f\"],[0.2222222222222222,\"#7201a8\"],[0.3333333333333333,\"#9c179e\"],[0.4444444444444444,\"#bd3786\"],[0.5555555555555556,\"#d8576b\"],[0.6666666666666666,\"#ed7953\"],[0.7777777777777778,\"#fb9f3a\"],[0.8888888888888888,\"#fdca26\"],[1.0,\"#f0f921\"]],\"sequentialminus\":[[0.0,\"#0d0887\"],[0.1111111111111111,\"#46039f\"],[0.2222222222222222,\"#7201a8\"],[0.3333333333333333,\"#9c179e\"],[0.4444444444444444,\"#bd3786\"],[0.5555555555555556,\"#d8576b\"],[0.6666666666666666,\"#ed7953\"],[0.7777777777777778,\"#fb9f3a\"],[0.8888888888888888,\"#fdca26\"],[1.0,\"#f0f921\"]],\"diverging\":[[0,\"#8e0152\"],[0.1,\"#c51b7d\"],[0.2,\"#de77ae\"],[0.3,\"#f1b6da\"],[0.4,\"#fde0ef\"],[0.5,\"#f7f7f7\"],[0.6,\"#e6f5d0\"],[0.7,\"#b8e186\"],[0.8,\"#7fbc41\"],[0.9,\"#4d9221\"],[1,\"#276419\"]]},\"xaxis\":{\"gridcolor\":\"white\",\"linecolor\":\"white\",\"ticks\":\"\",\"title\":{\"standoff\":15},\"zerolinecolor\":\"white\",\"automargin\":true,\"zerolinewidth\":2},\"yaxis\":{\"gridcolor\":\"white\",\"linecolor\":\"white\",\"ticks\":\"\",\"title\":{\"standoff\":15},\"zerolinecolor\":\"white\",\"automargin\":true,\"zerolinewidth\":2},\"scene\":{\"xaxis\":{\"backgroundcolor\":\"#E5ECF6\",\"gridcolor\":\"white\",\"linecolor\":\"white\",\"showbackground\":true,\"ticks\":\"\",\"zerolinecolor\":\"white\",\"gridwidth\":2},\"yaxis\":{\"backgroundcolor\":\"#E5ECF6\",\"gridcolor\":\"white\",\"linecolor\":\"white\",\"showbackground\":true,\"ticks\":\"\",\"zerolinecolor\":\"white\",\"gridwidth\":2},\"zaxis\":{\"backgroundcolor\":\"#E5ECF6\",\"gridcolor\":\"white\",\"linecolor\":\"white\",\"showbackground\":true,\"ticks\":\"\",\"zerolinecolor\":\"white\",\"gridwidth\":2}},\"shapedefaults\":{\"line\":{\"color\":\"#2a3f5f\"}},\"annotationdefaults\":{\"arrowcolor\":\"#2a3f5f\",\"arrowhead\":0,\"arrowwidth\":1},\"geo\":{\"bgcolor\":\"white\",\"landcolor\":\"#E5ECF6\",\"subunitcolor\":\"white\",\"showland\":true,\"showlakes\":true,\"lakecolor\":\"white\"},\"title\":{\"x\":0.05},\"mapbox\":{\"style\":\"light\"}}},\"xaxis\":{\"anchor\":\"y\",\"domain\":[0.0,1.0],\"title\":{\"text\":\"Liveness\"}},\"yaxis\":{\"anchor\":\"x\",\"domain\":[0.0,1.0],\"title\":{\"text\":\"Popularity\"}},\"legend\":{\"title\":{\"text\":\"Cluster Liveness\"},\"tracegroupgap\":0},\"title\":{\"text\":\"Liveness vs Popularity by Cluster\"}},                        {\"responsive\": true}                    ).then(function(){\n",
              "                            \n",
              "var gd = document.getElementById('12dd08e2-1996-4bba-be27-58b460c293ba');\n",
              "var x = new MutationObserver(function (mutations, observer) {{\n",
              "        var display = window.getComputedStyle(gd).display;\n",
              "        if (!display || display === 'none') {{\n",
              "            console.log([gd, 'removed!']);\n",
              "            Plotly.purge(gd);\n",
              "            observer.disconnect();\n",
              "        }}\n",
              "}});\n",
              "\n",
              "// Listen for the removal of the full notebook cells\n",
              "var notebookContainer = gd.closest('#notebook-container');\n",
              "if (notebookContainer) {{\n",
              "    x.observe(notebookContainer, {childList: true});\n",
              "}}\n",
              "\n",
              "// Listen for the clearing of the current output cell\n",
              "var outputEl = gd.closest('.output');\n",
              "if (outputEl) {{\n",
              "    x.observe(outputEl, {childList: true});\n",
              "}}\n",
              "\n",
              "                        })                };                            </script>        </div>\n",
              "</body>\n",
              "</html>"
            ]
          },
          "metadata": {}
        }
      ]
    },
    {
      "cell_type": "markdown",
      "source": [
        "<hr>"
      ],
      "metadata": {
        "id": "AF5d96l69y24"
      }
    },
    {
      "cell_type": "markdown",
      "source": [
        "<h2>2. Find the most streamed genre on platform."
      ],
      "metadata": {
        "id": "bz_1YM2392hr"
      }
    },
    {
      "cell_type": "markdown",
      "source": [
        "Genre VS Streams"
      ],
      "metadata": {
        "id": "QSYpyopJRnKW"
      }
    },
    {
      "cell_type": "code",
      "source": [
        "cluster_genre_count = df_final.groupby('main_genre')['Track'].count().reset_index()\n",
        "cluster_genre_count.columns = ['main_genre', 'Track']\n",
        "\n",
        "cluster_streams_sum = df_final.groupby('main_genre')['Streams'].sum().reset_index()\n",
        "cluster_streams_sum.columns = ['main_genre', 'Streams']\n",
        "\n",
        "fig1 = px.bar(\n",
        "    cluster_genre_count,\n",
        "    x='main_genre',\n",
        "    y='Track',\n",
        "    title='Track Count by Genre',\n",
        "    labels={'main_genre': 'Genre', 'Track': 'Count of Track'},\n",
        "    color='Track',\n",
        "    color_continuous_scale='Reds'\n",
        ")\n",
        "\n",
        "for i, row in cluster_genre_count.iterrows():\n",
        "    fig1.add_annotation(\n",
        "        x=row['main_genre'],\n",
        "        y=row['Track'],\n",
        "        text=f\"{int(row['Track']):,}\",\n",
        "        showarrow=False,\n",
        "        yshift=10\n",
        "    )\n",
        "\n",
        "fig2 = px.bar(\n",
        "    cluster_streams_sum,\n",
        "    x='main_genre',\n",
        "    y='Streams',\n",
        "    title='Streams by Genre',\n",
        "    labels={'main_genre': 'Genre', 'Streams': 'Sum of Streams'},\n",
        "    color='Streams',\n",
        "    color_continuous_scale='Reds'\n",
        ")\n",
        "\n",
        "for i, row in cluster_streams_sum.iterrows():\n",
        "    fig2.add_annotation(\n",
        "        x=row['main_genre'],\n",
        "        y=row['Streams'],\n",
        "        text=f\"{int(row['Streams']):,}\",\n",
        "        showarrow=False,\n",
        "        yshift=10\n",
        "    )\n",
        "\n",
        "fig1.show()\n",
        "fig2.show()"
      ],
      "metadata": {
        "colab": {
          "base_uri": "https://localhost:8080/",
          "height": 1000
        },
        "id": "jdJN-AuUr9qe",
        "outputId": "97052641-bade-42e4-e373-a96b4c113c3e"
      },
      "execution_count": 31,
      "outputs": [
        {
          "output_type": "display_data",
          "data": {
            "text/html": [
              "<html>\n",
              "<head><meta charset=\"utf-8\" /></head>\n",
              "<body>\n",
              "    <div>            <script src=\"https://cdnjs.cloudflare.com/ajax/libs/mathjax/2.7.5/MathJax.js?config=TeX-AMS-MML_SVG\"></script><script type=\"text/javascript\">if (window.MathJax && window.MathJax.Hub && window.MathJax.Hub.Config) {window.MathJax.Hub.Config({SVG: {font: \"STIX-Web\"}});}</script>                <script type=\"text/javascript\">window.PlotlyConfig = {MathJaxConfig: 'local'};</script>\n",
              "        <script charset=\"utf-8\" src=\"https://cdn.plot.ly/plotly-2.24.1.min.js\"></script>                <div id=\"b32ce8cf-9260-4189-a809-766950dfa637\" class=\"plotly-graph-div\" style=\"height:525px; width:100%;\"></div>            <script type=\"text/javascript\">                                    window.PLOTLYENV=window.PLOTLYENV || {};                                    if (document.getElementById(\"b32ce8cf-9260-4189-a809-766950dfa637\")) {                    Plotly.newPlot(                        \"b32ce8cf-9260-4189-a809-766950dfa637\",                        [{\"alignmentgroup\":\"True\",\"hovertemplate\":\"Genre=%{x}\\u003cbr\\u003eCount of Track=%{marker.color}\\u003cextra\\u003e\\u003c\\u002fextra\\u003e\",\"legendgroup\":\"\",\"marker\":{\"color\":[7,44,6,214,23,257,93],\"coloraxis\":\"coloraxis\",\"pattern\":{\"shape\":\"\"}},\"name\":\"\",\"offsetgroup\":\"\",\"orientation\":\"v\",\"showlegend\":false,\"textposition\":\"auto\",\"x\":[\"Electronic\\u002fDance\",\"Hip-Hop\\u002fRap\",\"Indie\\u002fAlternative\",\"Pop\",\"R&B\\u002fSoul\",\"Unknown\",\"World\\u002fTraditional\"],\"xaxis\":\"x\",\"y\":[7,44,6,214,23,257,93],\"yaxis\":\"y\",\"type\":\"bar\"}],                        {\"template\":{\"data\":{\"histogram2dcontour\":[{\"type\":\"histogram2dcontour\",\"colorbar\":{\"outlinewidth\":0,\"ticks\":\"\"},\"colorscale\":[[0.0,\"#0d0887\"],[0.1111111111111111,\"#46039f\"],[0.2222222222222222,\"#7201a8\"],[0.3333333333333333,\"#9c179e\"],[0.4444444444444444,\"#bd3786\"],[0.5555555555555556,\"#d8576b\"],[0.6666666666666666,\"#ed7953\"],[0.7777777777777778,\"#fb9f3a\"],[0.8888888888888888,\"#fdca26\"],[1.0,\"#f0f921\"]]}],\"choropleth\":[{\"type\":\"choropleth\",\"colorbar\":{\"outlinewidth\":0,\"ticks\":\"\"}}],\"histogram2d\":[{\"type\":\"histogram2d\",\"colorbar\":{\"outlinewidth\":0,\"ticks\":\"\"},\"colorscale\":[[0.0,\"#0d0887\"],[0.1111111111111111,\"#46039f\"],[0.2222222222222222,\"#7201a8\"],[0.3333333333333333,\"#9c179e\"],[0.4444444444444444,\"#bd3786\"],[0.5555555555555556,\"#d8576b\"],[0.6666666666666666,\"#ed7953\"],[0.7777777777777778,\"#fb9f3a\"],[0.8888888888888888,\"#fdca26\"],[1.0,\"#f0f921\"]]}],\"heatmap\":[{\"type\":\"heatmap\",\"colorbar\":{\"outlinewidth\":0,\"ticks\":\"\"},\"colorscale\":[[0.0,\"#0d0887\"],[0.1111111111111111,\"#46039f\"],[0.2222222222222222,\"#7201a8\"],[0.3333333333333333,\"#9c179e\"],[0.4444444444444444,\"#bd3786\"],[0.5555555555555556,\"#d8576b\"],[0.6666666666666666,\"#ed7953\"],[0.7777777777777778,\"#fb9f3a\"],[0.8888888888888888,\"#fdca26\"],[1.0,\"#f0f921\"]]}],\"heatmapgl\":[{\"type\":\"heatmapgl\",\"colorbar\":{\"outlinewidth\":0,\"ticks\":\"\"},\"colorscale\":[[0.0,\"#0d0887\"],[0.1111111111111111,\"#46039f\"],[0.2222222222222222,\"#7201a8\"],[0.3333333333333333,\"#9c179e\"],[0.4444444444444444,\"#bd3786\"],[0.5555555555555556,\"#d8576b\"],[0.6666666666666666,\"#ed7953\"],[0.7777777777777778,\"#fb9f3a\"],[0.8888888888888888,\"#fdca26\"],[1.0,\"#f0f921\"]]}],\"contourcarpet\":[{\"type\":\"contourcarpet\",\"colorbar\":{\"outlinewidth\":0,\"ticks\":\"\"}}],\"contour\":[{\"type\":\"contour\",\"colorbar\":{\"outlinewidth\":0,\"ticks\":\"\"},\"colorscale\":[[0.0,\"#0d0887\"],[0.1111111111111111,\"#46039f\"],[0.2222222222222222,\"#7201a8\"],[0.3333333333333333,\"#9c179e\"],[0.4444444444444444,\"#bd3786\"],[0.5555555555555556,\"#d8576b\"],[0.6666666666666666,\"#ed7953\"],[0.7777777777777778,\"#fb9f3a\"],[0.8888888888888888,\"#fdca26\"],[1.0,\"#f0f921\"]]}],\"surface\":[{\"type\":\"surface\",\"colorbar\":{\"outlinewidth\":0,\"ticks\":\"\"},\"colorscale\":[[0.0,\"#0d0887\"],[0.1111111111111111,\"#46039f\"],[0.2222222222222222,\"#7201a8\"],[0.3333333333333333,\"#9c179e\"],[0.4444444444444444,\"#bd3786\"],[0.5555555555555556,\"#d8576b\"],[0.6666666666666666,\"#ed7953\"],[0.7777777777777778,\"#fb9f3a\"],[0.8888888888888888,\"#fdca26\"],[1.0,\"#f0f921\"]]}],\"mesh3d\":[{\"type\":\"mesh3d\",\"colorbar\":{\"outlinewidth\":0,\"ticks\":\"\"}}],\"scatter\":[{\"fillpattern\":{\"fillmode\":\"overlay\",\"size\":10,\"solidity\":0.2},\"type\":\"scatter\"}],\"parcoords\":[{\"type\":\"parcoords\",\"line\":{\"colorbar\":{\"outlinewidth\":0,\"ticks\":\"\"}}}],\"scatterpolargl\":[{\"type\":\"scatterpolargl\",\"marker\":{\"colorbar\":{\"outlinewidth\":0,\"ticks\":\"\"}}}],\"bar\":[{\"error_x\":{\"color\":\"#2a3f5f\"},\"error_y\":{\"color\":\"#2a3f5f\"},\"marker\":{\"line\":{\"color\":\"#E5ECF6\",\"width\":0.5},\"pattern\":{\"fillmode\":\"overlay\",\"size\":10,\"solidity\":0.2}},\"type\":\"bar\"}],\"scattergeo\":[{\"type\":\"scattergeo\",\"marker\":{\"colorbar\":{\"outlinewidth\":0,\"ticks\":\"\"}}}],\"scatterpolar\":[{\"type\":\"scatterpolar\",\"marker\":{\"colorbar\":{\"outlinewidth\":0,\"ticks\":\"\"}}}],\"histogram\":[{\"marker\":{\"pattern\":{\"fillmode\":\"overlay\",\"size\":10,\"solidity\":0.2}},\"type\":\"histogram\"}],\"scattergl\":[{\"type\":\"scattergl\",\"marker\":{\"colorbar\":{\"outlinewidth\":0,\"ticks\":\"\"}}}],\"scatter3d\":[{\"type\":\"scatter3d\",\"line\":{\"colorbar\":{\"outlinewidth\":0,\"ticks\":\"\"}},\"marker\":{\"colorbar\":{\"outlinewidth\":0,\"ticks\":\"\"}}}],\"scattermapbox\":[{\"type\":\"scattermapbox\",\"marker\":{\"colorbar\":{\"outlinewidth\":0,\"ticks\":\"\"}}}],\"scatterternary\":[{\"type\":\"scatterternary\",\"marker\":{\"colorbar\":{\"outlinewidth\":0,\"ticks\":\"\"}}}],\"scattercarpet\":[{\"type\":\"scattercarpet\",\"marker\":{\"colorbar\":{\"outlinewidth\":0,\"ticks\":\"\"}}}],\"carpet\":[{\"aaxis\":{\"endlinecolor\":\"#2a3f5f\",\"gridcolor\":\"white\",\"linecolor\":\"white\",\"minorgridcolor\":\"white\",\"startlinecolor\":\"#2a3f5f\"},\"baxis\":{\"endlinecolor\":\"#2a3f5f\",\"gridcolor\":\"white\",\"linecolor\":\"white\",\"minorgridcolor\":\"white\",\"startlinecolor\":\"#2a3f5f\"},\"type\":\"carpet\"}],\"table\":[{\"cells\":{\"fill\":{\"color\":\"#EBF0F8\"},\"line\":{\"color\":\"white\"}},\"header\":{\"fill\":{\"color\":\"#C8D4E3\"},\"line\":{\"color\":\"white\"}},\"type\":\"table\"}],\"barpolar\":[{\"marker\":{\"line\":{\"color\":\"#E5ECF6\",\"width\":0.5},\"pattern\":{\"fillmode\":\"overlay\",\"size\":10,\"solidity\":0.2}},\"type\":\"barpolar\"}],\"pie\":[{\"automargin\":true,\"type\":\"pie\"}]},\"layout\":{\"autotypenumbers\":\"strict\",\"colorway\":[\"#636efa\",\"#EF553B\",\"#00cc96\",\"#ab63fa\",\"#FFA15A\",\"#19d3f3\",\"#FF6692\",\"#B6E880\",\"#FF97FF\",\"#FECB52\"],\"font\":{\"color\":\"#2a3f5f\"},\"hovermode\":\"closest\",\"hoverlabel\":{\"align\":\"left\"},\"paper_bgcolor\":\"white\",\"plot_bgcolor\":\"#E5ECF6\",\"polar\":{\"bgcolor\":\"#E5ECF6\",\"angularaxis\":{\"gridcolor\":\"white\",\"linecolor\":\"white\",\"ticks\":\"\"},\"radialaxis\":{\"gridcolor\":\"white\",\"linecolor\":\"white\",\"ticks\":\"\"}},\"ternary\":{\"bgcolor\":\"#E5ECF6\",\"aaxis\":{\"gridcolor\":\"white\",\"linecolor\":\"white\",\"ticks\":\"\"},\"baxis\":{\"gridcolor\":\"white\",\"linecolor\":\"white\",\"ticks\":\"\"},\"caxis\":{\"gridcolor\":\"white\",\"linecolor\":\"white\",\"ticks\":\"\"}},\"coloraxis\":{\"colorbar\":{\"outlinewidth\":0,\"ticks\":\"\"}},\"colorscale\":{\"sequential\":[[0.0,\"#0d0887\"],[0.1111111111111111,\"#46039f\"],[0.2222222222222222,\"#7201a8\"],[0.3333333333333333,\"#9c179e\"],[0.4444444444444444,\"#bd3786\"],[0.5555555555555556,\"#d8576b\"],[0.6666666666666666,\"#ed7953\"],[0.7777777777777778,\"#fb9f3a\"],[0.8888888888888888,\"#fdca26\"],[1.0,\"#f0f921\"]],\"sequentialminus\":[[0.0,\"#0d0887\"],[0.1111111111111111,\"#46039f\"],[0.2222222222222222,\"#7201a8\"],[0.3333333333333333,\"#9c179e\"],[0.4444444444444444,\"#bd3786\"],[0.5555555555555556,\"#d8576b\"],[0.6666666666666666,\"#ed7953\"],[0.7777777777777778,\"#fb9f3a\"],[0.8888888888888888,\"#fdca26\"],[1.0,\"#f0f921\"]],\"diverging\":[[0,\"#8e0152\"],[0.1,\"#c51b7d\"],[0.2,\"#de77ae\"],[0.3,\"#f1b6da\"],[0.4,\"#fde0ef\"],[0.5,\"#f7f7f7\"],[0.6,\"#e6f5d0\"],[0.7,\"#b8e186\"],[0.8,\"#7fbc41\"],[0.9,\"#4d9221\"],[1,\"#276419\"]]},\"xaxis\":{\"gridcolor\":\"white\",\"linecolor\":\"white\",\"ticks\":\"\",\"title\":{\"standoff\":15},\"zerolinecolor\":\"white\",\"automargin\":true,\"zerolinewidth\":2},\"yaxis\":{\"gridcolor\":\"white\",\"linecolor\":\"white\",\"ticks\":\"\",\"title\":{\"standoff\":15},\"zerolinecolor\":\"white\",\"automargin\":true,\"zerolinewidth\":2},\"scene\":{\"xaxis\":{\"backgroundcolor\":\"#E5ECF6\",\"gridcolor\":\"white\",\"linecolor\":\"white\",\"showbackground\":true,\"ticks\":\"\",\"zerolinecolor\":\"white\",\"gridwidth\":2},\"yaxis\":{\"backgroundcolor\":\"#E5ECF6\",\"gridcolor\":\"white\",\"linecolor\":\"white\",\"showbackground\":true,\"ticks\":\"\",\"zerolinecolor\":\"white\",\"gridwidth\":2},\"zaxis\":{\"backgroundcolor\":\"#E5ECF6\",\"gridcolor\":\"white\",\"linecolor\":\"white\",\"showbackground\":true,\"ticks\":\"\",\"zerolinecolor\":\"white\",\"gridwidth\":2}},\"shapedefaults\":{\"line\":{\"color\":\"#2a3f5f\"}},\"annotationdefaults\":{\"arrowcolor\":\"#2a3f5f\",\"arrowhead\":0,\"arrowwidth\":1},\"geo\":{\"bgcolor\":\"white\",\"landcolor\":\"#E5ECF6\",\"subunitcolor\":\"white\",\"showland\":true,\"showlakes\":true,\"lakecolor\":\"white\"},\"title\":{\"x\":0.05},\"mapbox\":{\"style\":\"light\"}}},\"xaxis\":{\"anchor\":\"y\",\"domain\":[0.0,1.0],\"title\":{\"text\":\"Genre\"}},\"yaxis\":{\"anchor\":\"x\",\"domain\":[0.0,1.0],\"title\":{\"text\":\"Count of Track\"}},\"coloraxis\":{\"colorbar\":{\"title\":{\"text\":\"Count of Track\"}},\"colorscale\":[[0.0,\"rgb(255,245,240)\"],[0.125,\"rgb(254,224,210)\"],[0.25,\"rgb(252,187,161)\"],[0.375,\"rgb(252,146,114)\"],[0.5,\"rgb(251,106,74)\"],[0.625,\"rgb(239,59,44)\"],[0.75,\"rgb(203,24,29)\"],[0.875,\"rgb(165,15,21)\"],[1.0,\"rgb(103,0,13)\"]]},\"legend\":{\"tracegroupgap\":0},\"title\":{\"text\":\"Track Count by Genre\"},\"barmode\":\"relative\",\"annotations\":[{\"showarrow\":false,\"text\":\"7\",\"x\":\"Electronic\\u002fDance\",\"y\":7,\"yshift\":10},{\"showarrow\":false,\"text\":\"44\",\"x\":\"Hip-Hop\\u002fRap\",\"y\":44,\"yshift\":10},{\"showarrow\":false,\"text\":\"6\",\"x\":\"Indie\\u002fAlternative\",\"y\":6,\"yshift\":10},{\"showarrow\":false,\"text\":\"214\",\"x\":\"Pop\",\"y\":214,\"yshift\":10},{\"showarrow\":false,\"text\":\"23\",\"x\":\"R&B\\u002fSoul\",\"y\":23,\"yshift\":10},{\"showarrow\":false,\"text\":\"257\",\"x\":\"Unknown\",\"y\":257,\"yshift\":10},{\"showarrow\":false,\"text\":\"93\",\"x\":\"World\\u002fTraditional\",\"y\":93,\"yshift\":10}]},                        {\"responsive\": true}                    ).then(function(){\n",
              "                            \n",
              "var gd = document.getElementById('b32ce8cf-9260-4189-a809-766950dfa637');\n",
              "var x = new MutationObserver(function (mutations, observer) {{\n",
              "        var display = window.getComputedStyle(gd).display;\n",
              "        if (!display || display === 'none') {{\n",
              "            console.log([gd, 'removed!']);\n",
              "            Plotly.purge(gd);\n",
              "            observer.disconnect();\n",
              "        }}\n",
              "}});\n",
              "\n",
              "// Listen for the removal of the full notebook cells\n",
              "var notebookContainer = gd.closest('#notebook-container');\n",
              "if (notebookContainer) {{\n",
              "    x.observe(notebookContainer, {childList: true});\n",
              "}}\n",
              "\n",
              "// Listen for the clearing of the current output cell\n",
              "var outputEl = gd.closest('.output');\n",
              "if (outputEl) {{\n",
              "    x.observe(outputEl, {childList: true});\n",
              "}}\n",
              "\n",
              "                        })                };                            </script>        </div>\n",
              "</body>\n",
              "</html>"
            ]
          },
          "metadata": {}
        },
        {
          "output_type": "display_data",
          "data": {
            "text/html": [
              "<html>\n",
              "<head><meta charset=\"utf-8\" /></head>\n",
              "<body>\n",
              "    <div>            <script src=\"https://cdnjs.cloudflare.com/ajax/libs/mathjax/2.7.5/MathJax.js?config=TeX-AMS-MML_SVG\"></script><script type=\"text/javascript\">if (window.MathJax && window.MathJax.Hub && window.MathJax.Hub.Config) {window.MathJax.Hub.Config({SVG: {font: \"STIX-Web\"}});}</script>                <script type=\"text/javascript\">window.PlotlyConfig = {MathJaxConfig: 'local'};</script>\n",
              "        <script charset=\"utf-8\" src=\"https://cdn.plot.ly/plotly-2.24.1.min.js\"></script>                <div id=\"65c8dbab-beed-43aa-a6e7-7403b9eab022\" class=\"plotly-graph-div\" style=\"height:525px; width:100%;\"></div>            <script type=\"text/javascript\">                                    window.PLOTLYENV=window.PLOTLYENV || {};                                    if (document.getElementById(\"65c8dbab-beed-43aa-a6e7-7403b9eab022\")) {                    Plotly.newPlot(                        \"65c8dbab-beed-43aa-a6e7-7403b9eab022\",                        [{\"alignmentgroup\":\"True\",\"hovertemplate\":\"Genre=%{x}\\u003cbr\\u003eSum of Streams=%{marker.color}\\u003cextra\\u003e\\u003c\\u002fextra\\u003e\",\"legendgroup\":\"\",\"marker\":{\"color\":[4449211557.0,17222670804.0,2329156879.0,200770807007.0,26113714829.0,1194441022.0,45057981387.0],\"coloraxis\":\"coloraxis\",\"pattern\":{\"shape\":\"\"}},\"name\":\"\",\"offsetgroup\":\"\",\"orientation\":\"v\",\"showlegend\":false,\"textposition\":\"auto\",\"x\":[\"Electronic\\u002fDance\",\"Hip-Hop\\u002fRap\",\"Indie\\u002fAlternative\",\"Pop\",\"R&B\\u002fSoul\",\"Unknown\",\"World\\u002fTraditional\"],\"xaxis\":\"x\",\"y\":[4449211557.0,17222670804.0,2329156879.0,200770807007.0,26113714829.0,1194441022.0,45057981387.0],\"yaxis\":\"y\",\"type\":\"bar\"}],                        {\"template\":{\"data\":{\"histogram2dcontour\":[{\"type\":\"histogram2dcontour\",\"colorbar\":{\"outlinewidth\":0,\"ticks\":\"\"},\"colorscale\":[[0.0,\"#0d0887\"],[0.1111111111111111,\"#46039f\"],[0.2222222222222222,\"#7201a8\"],[0.3333333333333333,\"#9c179e\"],[0.4444444444444444,\"#bd3786\"],[0.5555555555555556,\"#d8576b\"],[0.6666666666666666,\"#ed7953\"],[0.7777777777777778,\"#fb9f3a\"],[0.8888888888888888,\"#fdca26\"],[1.0,\"#f0f921\"]]}],\"choropleth\":[{\"type\":\"choropleth\",\"colorbar\":{\"outlinewidth\":0,\"ticks\":\"\"}}],\"histogram2d\":[{\"type\":\"histogram2d\",\"colorbar\":{\"outlinewidth\":0,\"ticks\":\"\"},\"colorscale\":[[0.0,\"#0d0887\"],[0.1111111111111111,\"#46039f\"],[0.2222222222222222,\"#7201a8\"],[0.3333333333333333,\"#9c179e\"],[0.4444444444444444,\"#bd3786\"],[0.5555555555555556,\"#d8576b\"],[0.6666666666666666,\"#ed7953\"],[0.7777777777777778,\"#fb9f3a\"],[0.8888888888888888,\"#fdca26\"],[1.0,\"#f0f921\"]]}],\"heatmap\":[{\"type\":\"heatmap\",\"colorbar\":{\"outlinewidth\":0,\"ticks\":\"\"},\"colorscale\":[[0.0,\"#0d0887\"],[0.1111111111111111,\"#46039f\"],[0.2222222222222222,\"#7201a8\"],[0.3333333333333333,\"#9c179e\"],[0.4444444444444444,\"#bd3786\"],[0.5555555555555556,\"#d8576b\"],[0.6666666666666666,\"#ed7953\"],[0.7777777777777778,\"#fb9f3a\"],[0.8888888888888888,\"#fdca26\"],[1.0,\"#f0f921\"]]}],\"heatmapgl\":[{\"type\":\"heatmapgl\",\"colorbar\":{\"outlinewidth\":0,\"ticks\":\"\"},\"colorscale\":[[0.0,\"#0d0887\"],[0.1111111111111111,\"#46039f\"],[0.2222222222222222,\"#7201a8\"],[0.3333333333333333,\"#9c179e\"],[0.4444444444444444,\"#bd3786\"],[0.5555555555555556,\"#d8576b\"],[0.6666666666666666,\"#ed7953\"],[0.7777777777777778,\"#fb9f3a\"],[0.8888888888888888,\"#fdca26\"],[1.0,\"#f0f921\"]]}],\"contourcarpet\":[{\"type\":\"contourcarpet\",\"colorbar\":{\"outlinewidth\":0,\"ticks\":\"\"}}],\"contour\":[{\"type\":\"contour\",\"colorbar\":{\"outlinewidth\":0,\"ticks\":\"\"},\"colorscale\":[[0.0,\"#0d0887\"],[0.1111111111111111,\"#46039f\"],[0.2222222222222222,\"#7201a8\"],[0.3333333333333333,\"#9c179e\"],[0.4444444444444444,\"#bd3786\"],[0.5555555555555556,\"#d8576b\"],[0.6666666666666666,\"#ed7953\"],[0.7777777777777778,\"#fb9f3a\"],[0.8888888888888888,\"#fdca26\"],[1.0,\"#f0f921\"]]}],\"surface\":[{\"type\":\"surface\",\"colorbar\":{\"outlinewidth\":0,\"ticks\":\"\"},\"colorscale\":[[0.0,\"#0d0887\"],[0.1111111111111111,\"#46039f\"],[0.2222222222222222,\"#7201a8\"],[0.3333333333333333,\"#9c179e\"],[0.4444444444444444,\"#bd3786\"],[0.5555555555555556,\"#d8576b\"],[0.6666666666666666,\"#ed7953\"],[0.7777777777777778,\"#fb9f3a\"],[0.8888888888888888,\"#fdca26\"],[1.0,\"#f0f921\"]]}],\"mesh3d\":[{\"type\":\"mesh3d\",\"colorbar\":{\"outlinewidth\":0,\"ticks\":\"\"}}],\"scatter\":[{\"fillpattern\":{\"fillmode\":\"overlay\",\"size\":10,\"solidity\":0.2},\"type\":\"scatter\"}],\"parcoords\":[{\"type\":\"parcoords\",\"line\":{\"colorbar\":{\"outlinewidth\":0,\"ticks\":\"\"}}}],\"scatterpolargl\":[{\"type\":\"scatterpolargl\",\"marker\":{\"colorbar\":{\"outlinewidth\":0,\"ticks\":\"\"}}}],\"bar\":[{\"error_x\":{\"color\":\"#2a3f5f\"},\"error_y\":{\"color\":\"#2a3f5f\"},\"marker\":{\"line\":{\"color\":\"#E5ECF6\",\"width\":0.5},\"pattern\":{\"fillmode\":\"overlay\",\"size\":10,\"solidity\":0.2}},\"type\":\"bar\"}],\"scattergeo\":[{\"type\":\"scattergeo\",\"marker\":{\"colorbar\":{\"outlinewidth\":0,\"ticks\":\"\"}}}],\"scatterpolar\":[{\"type\":\"scatterpolar\",\"marker\":{\"colorbar\":{\"outlinewidth\":0,\"ticks\":\"\"}}}],\"histogram\":[{\"marker\":{\"pattern\":{\"fillmode\":\"overlay\",\"size\":10,\"solidity\":0.2}},\"type\":\"histogram\"}],\"scattergl\":[{\"type\":\"scattergl\",\"marker\":{\"colorbar\":{\"outlinewidth\":0,\"ticks\":\"\"}}}],\"scatter3d\":[{\"type\":\"scatter3d\",\"line\":{\"colorbar\":{\"outlinewidth\":0,\"ticks\":\"\"}},\"marker\":{\"colorbar\":{\"outlinewidth\":0,\"ticks\":\"\"}}}],\"scattermapbox\":[{\"type\":\"scattermapbox\",\"marker\":{\"colorbar\":{\"outlinewidth\":0,\"ticks\":\"\"}}}],\"scatterternary\":[{\"type\":\"scatterternary\",\"marker\":{\"colorbar\":{\"outlinewidth\":0,\"ticks\":\"\"}}}],\"scattercarpet\":[{\"type\":\"scattercarpet\",\"marker\":{\"colorbar\":{\"outlinewidth\":0,\"ticks\":\"\"}}}],\"carpet\":[{\"aaxis\":{\"endlinecolor\":\"#2a3f5f\",\"gridcolor\":\"white\",\"linecolor\":\"white\",\"minorgridcolor\":\"white\",\"startlinecolor\":\"#2a3f5f\"},\"baxis\":{\"endlinecolor\":\"#2a3f5f\",\"gridcolor\":\"white\",\"linecolor\":\"white\",\"minorgridcolor\":\"white\",\"startlinecolor\":\"#2a3f5f\"},\"type\":\"carpet\"}],\"table\":[{\"cells\":{\"fill\":{\"color\":\"#EBF0F8\"},\"line\":{\"color\":\"white\"}},\"header\":{\"fill\":{\"color\":\"#C8D4E3\"},\"line\":{\"color\":\"white\"}},\"type\":\"table\"}],\"barpolar\":[{\"marker\":{\"line\":{\"color\":\"#E5ECF6\",\"width\":0.5},\"pattern\":{\"fillmode\":\"overlay\",\"size\":10,\"solidity\":0.2}},\"type\":\"barpolar\"}],\"pie\":[{\"automargin\":true,\"type\":\"pie\"}]},\"layout\":{\"autotypenumbers\":\"strict\",\"colorway\":[\"#636efa\",\"#EF553B\",\"#00cc96\",\"#ab63fa\",\"#FFA15A\",\"#19d3f3\",\"#FF6692\",\"#B6E880\",\"#FF97FF\",\"#FECB52\"],\"font\":{\"color\":\"#2a3f5f\"},\"hovermode\":\"closest\",\"hoverlabel\":{\"align\":\"left\"},\"paper_bgcolor\":\"white\",\"plot_bgcolor\":\"#E5ECF6\",\"polar\":{\"bgcolor\":\"#E5ECF6\",\"angularaxis\":{\"gridcolor\":\"white\",\"linecolor\":\"white\",\"ticks\":\"\"},\"radialaxis\":{\"gridcolor\":\"white\",\"linecolor\":\"white\",\"ticks\":\"\"}},\"ternary\":{\"bgcolor\":\"#E5ECF6\",\"aaxis\":{\"gridcolor\":\"white\",\"linecolor\":\"white\",\"ticks\":\"\"},\"baxis\":{\"gridcolor\":\"white\",\"linecolor\":\"white\",\"ticks\":\"\"},\"caxis\":{\"gridcolor\":\"white\",\"linecolor\":\"white\",\"ticks\":\"\"}},\"coloraxis\":{\"colorbar\":{\"outlinewidth\":0,\"ticks\":\"\"}},\"colorscale\":{\"sequential\":[[0.0,\"#0d0887\"],[0.1111111111111111,\"#46039f\"],[0.2222222222222222,\"#7201a8\"],[0.3333333333333333,\"#9c179e\"],[0.4444444444444444,\"#bd3786\"],[0.5555555555555556,\"#d8576b\"],[0.6666666666666666,\"#ed7953\"],[0.7777777777777778,\"#fb9f3a\"],[0.8888888888888888,\"#fdca26\"],[1.0,\"#f0f921\"]],\"sequentialminus\":[[0.0,\"#0d0887\"],[0.1111111111111111,\"#46039f\"],[0.2222222222222222,\"#7201a8\"],[0.3333333333333333,\"#9c179e\"],[0.4444444444444444,\"#bd3786\"],[0.5555555555555556,\"#d8576b\"],[0.6666666666666666,\"#ed7953\"],[0.7777777777777778,\"#fb9f3a\"],[0.8888888888888888,\"#fdca26\"],[1.0,\"#f0f921\"]],\"diverging\":[[0,\"#8e0152\"],[0.1,\"#c51b7d\"],[0.2,\"#de77ae\"],[0.3,\"#f1b6da\"],[0.4,\"#fde0ef\"],[0.5,\"#f7f7f7\"],[0.6,\"#e6f5d0\"],[0.7,\"#b8e186\"],[0.8,\"#7fbc41\"],[0.9,\"#4d9221\"],[1,\"#276419\"]]},\"xaxis\":{\"gridcolor\":\"white\",\"linecolor\":\"white\",\"ticks\":\"\",\"title\":{\"standoff\":15},\"zerolinecolor\":\"white\",\"automargin\":true,\"zerolinewidth\":2},\"yaxis\":{\"gridcolor\":\"white\",\"linecolor\":\"white\",\"ticks\":\"\",\"title\":{\"standoff\":15},\"zerolinecolor\":\"white\",\"automargin\":true,\"zerolinewidth\":2},\"scene\":{\"xaxis\":{\"backgroundcolor\":\"#E5ECF6\",\"gridcolor\":\"white\",\"linecolor\":\"white\",\"showbackground\":true,\"ticks\":\"\",\"zerolinecolor\":\"white\",\"gridwidth\":2},\"yaxis\":{\"backgroundcolor\":\"#E5ECF6\",\"gridcolor\":\"white\",\"linecolor\":\"white\",\"showbackground\":true,\"ticks\":\"\",\"zerolinecolor\":\"white\",\"gridwidth\":2},\"zaxis\":{\"backgroundcolor\":\"#E5ECF6\",\"gridcolor\":\"white\",\"linecolor\":\"white\",\"showbackground\":true,\"ticks\":\"\",\"zerolinecolor\":\"white\",\"gridwidth\":2}},\"shapedefaults\":{\"line\":{\"color\":\"#2a3f5f\"}},\"annotationdefaults\":{\"arrowcolor\":\"#2a3f5f\",\"arrowhead\":0,\"arrowwidth\":1},\"geo\":{\"bgcolor\":\"white\",\"landcolor\":\"#E5ECF6\",\"subunitcolor\":\"white\",\"showland\":true,\"showlakes\":true,\"lakecolor\":\"white\"},\"title\":{\"x\":0.05},\"mapbox\":{\"style\":\"light\"}}},\"xaxis\":{\"anchor\":\"y\",\"domain\":[0.0,1.0],\"title\":{\"text\":\"Genre\"}},\"yaxis\":{\"anchor\":\"x\",\"domain\":[0.0,1.0],\"title\":{\"text\":\"Sum of Streams\"}},\"coloraxis\":{\"colorbar\":{\"title\":{\"text\":\"Sum of Streams\"}},\"colorscale\":[[0.0,\"rgb(255,245,240)\"],[0.125,\"rgb(254,224,210)\"],[0.25,\"rgb(252,187,161)\"],[0.375,\"rgb(252,146,114)\"],[0.5,\"rgb(251,106,74)\"],[0.625,\"rgb(239,59,44)\"],[0.75,\"rgb(203,24,29)\"],[0.875,\"rgb(165,15,21)\"],[1.0,\"rgb(103,0,13)\"]]},\"legend\":{\"tracegroupgap\":0},\"title\":{\"text\":\"Streams by Genre\"},\"barmode\":\"relative\",\"annotations\":[{\"showarrow\":false,\"text\":\"4,449,211,557\",\"x\":\"Electronic\\u002fDance\",\"y\":4449211557.0,\"yshift\":10},{\"showarrow\":false,\"text\":\"17,222,670,804\",\"x\":\"Hip-Hop\\u002fRap\",\"y\":17222670804.0,\"yshift\":10},{\"showarrow\":false,\"text\":\"2,329,156,879\",\"x\":\"Indie\\u002fAlternative\",\"y\":2329156879.0,\"yshift\":10},{\"showarrow\":false,\"text\":\"200,770,807,007\",\"x\":\"Pop\",\"y\":200770807007.0,\"yshift\":10},{\"showarrow\":false,\"text\":\"26,113,714,829\",\"x\":\"R&B\\u002fSoul\",\"y\":26113714829.0,\"yshift\":10},{\"showarrow\":false,\"text\":\"1,194,441,022\",\"x\":\"Unknown\",\"y\":1194441022.0,\"yshift\":10},{\"showarrow\":false,\"text\":\"45,057,981,387\",\"x\":\"World\\u002fTraditional\",\"y\":45057981387.0,\"yshift\":10}]},                        {\"responsive\": true}                    ).then(function(){\n",
              "                            \n",
              "var gd = document.getElementById('65c8dbab-beed-43aa-a6e7-7403b9eab022');\n",
              "var x = new MutationObserver(function (mutations, observer) {{\n",
              "        var display = window.getComputedStyle(gd).display;\n",
              "        if (!display || display === 'none') {{\n",
              "            console.log([gd, 'removed!']);\n",
              "            Plotly.purge(gd);\n",
              "            observer.disconnect();\n",
              "        }}\n",
              "}});\n",
              "\n",
              "// Listen for the removal of the full notebook cells\n",
              "var notebookContainer = gd.closest('#notebook-container');\n",
              "if (notebookContainer) {{\n",
              "    x.observe(notebookContainer, {childList: true});\n",
              "}}\n",
              "\n",
              "// Listen for the clearing of the current output cell\n",
              "var outputEl = gd.closest('.output');\n",
              "if (outputEl) {{\n",
              "    x.observe(outputEl, {childList: true});\n",
              "}}\n",
              "\n",
              "                        })                };                            </script>        </div>\n",
              "</body>\n",
              "</html>"
            ]
          },
          "metadata": {}
        }
      ]
    },
    {
      "cell_type": "markdown",
      "source": [
        "<hr>"
      ],
      "metadata": {
        "id": "oNNvsQGxoUvl"
      }
    },
    {
      "cell_type": "markdown",
      "source": [
        "<h2>3. Does the artist's fame affect whether a song makes it onto the Billboard charts?"
      ],
      "metadata": {
        "id": "vogPkH-moR_Z"
      }
    },
    {
      "cell_type": "markdown",
      "source": [
        "Genre VS  Track of Artist VS Streams"
      ],
      "metadata": {
        "id": "-AlaIhcHeUcu"
      }
    },
    {
      "cell_type": "code",
      "source": [
        "from plotly.subplots import make_subplots\n",
        "\n",
        "cluster_artist_count = df_final.groupby('Artist')[['Track', 'Popularity']].agg(Track=('Track', 'count'), Popularity=('Popularity', 'mean')).reset_index().sort_values(by='Track', ascending=False)\n",
        "\n",
        "top_10_track = cluster_artist_count.head(10)\n",
        "top_10_pop = cluster_artist_count.head(10)\n",
        "bottom_10_track = cluster_artist_count.tail(10)\n",
        "bottom_10_pop = cluster_artist_count.tail(10)\n",
        "\n",
        "fig = make_subplots(rows=1, cols=2, subplot_titles=('Top 10 Track and Avg Popularity of Artists', 'Bottom 10 Track and Avg Popularity of Artists'))\n",
        "\n",
        "top_10_artists = top_10_track['Artist'].tolist()\n",
        "top_10_tracks = top_10_track['Track'].tolist()\n",
        "top_10_popularity = top_10_pop['Popularity'].tolist()\n",
        "\n",
        "fig.add_trace(\n",
        "    go.Bar(\n",
        "        x=top_10_artists,\n",
        "        y=top_10_tracks,\n",
        "        name='Num of Track',\n",
        "        marker_color='purple',\n",
        "        text=[f'{int(val)}' for val in top_10_tracks],\n",
        "        textposition='auto'\n",
        "    ),\n",
        "    row=1, col=1\n",
        ")\n",
        "\n",
        "fig.add_trace(\n",
        "    go.Bar(\n",
        "        x=top_10_artists,\n",
        "        y=top_10_popularity,\n",
        "        name='Avg of Pop.',\n",
        "        marker_color='#30E3CA',\n",
        "        text=[f'{int(val)}' for val in top_10_popularity],\n",
        "        textposition='auto'\n",
        "    ),\n",
        "    row=1, col=1\n",
        ")\n",
        "\n",
        "bottom_10_artists = bottom_10_track['Artist'].tolist()\n",
        "bottom_10_tracks = bottom_10_track['Track'].tolist()\n",
        "bottom_10_popularity = bottom_10_pop['Popularity'].tolist()\n",
        "\n",
        "fig.add_trace(\n",
        "    go.Bar(\n",
        "        x=bottom_10_artists,\n",
        "        y=bottom_10_tracks,\n",
        "        name='Num of Track',\n",
        "        marker_color='purple',\n",
        "        text=[f'{int(val)}' for val in bottom_10_tracks],\n",
        "        textposition='auto'\n",
        "    ),\n",
        "    row=1, col=2\n",
        ")\n",
        "\n",
        "fig.add_trace(\n",
        "    go.Bar(\n",
        "        x=bottom_10_artists,\n",
        "        y=bottom_10_popularity,\n",
        "        name='Avg of Pop.',\n",
        "        marker_color='#30E3CA',\n",
        "        text=[f'{int(val)}' for val in bottom_10_popularity],\n",
        "        textposition='auto'\n",
        "    ),\n",
        "    row=1, col=2\n",
        ")\n",
        "\n",
        "fig.update_layout(\n",
        "    title_text='Track Counts and Average Popularity by Artist',\n",
        "    barmode='group',\n",
        "    xaxis_title='Artist',\n",
        "    yaxis_title='Count of Track and Avg Pop',\n",
        "    xaxis_tickangle=-45,\n",
        ")\n",
        "\n",
        "fig.show()\n"
      ],
      "metadata": {
        "colab": {
          "base_uri": "https://localhost:8080/",
          "height": 542
        },
        "id": "kTXiGwmvBzzm",
        "outputId": "5b59e2ad-030e-43fc-a964-f6bb0493b8a0"
      },
      "execution_count": 32,
      "outputs": [
        {
          "output_type": "display_data",
          "data": {
            "text/html": [
              "<html>\n",
              "<head><meta charset=\"utf-8\" /></head>\n",
              "<body>\n",
              "    <div>            <script src=\"https://cdnjs.cloudflare.com/ajax/libs/mathjax/2.7.5/MathJax.js?config=TeX-AMS-MML_SVG\"></script><script type=\"text/javascript\">if (window.MathJax && window.MathJax.Hub && window.MathJax.Hub.Config) {window.MathJax.Hub.Config({SVG: {font: \"STIX-Web\"}});}</script>                <script type=\"text/javascript\">window.PlotlyConfig = {MathJaxConfig: 'local'};</script>\n",
              "        <script charset=\"utf-8\" src=\"https://cdn.plot.ly/plotly-2.24.1.min.js\"></script>                <div id=\"c0ddd30e-0b62-4255-b1e5-1046bdd04582\" class=\"plotly-graph-div\" style=\"height:525px; width:100%;\"></div>            <script type=\"text/javascript\">                                    window.PLOTLYENV=window.PLOTLYENV || {};                                    if (document.getElementById(\"c0ddd30e-0b62-4255-b1e5-1046bdd04582\")) {                    Plotly.newPlot(                        \"c0ddd30e-0b62-4255-b1e5-1046bdd04582\",                        [{\"marker\":{\"color\":\"purple\"},\"name\":\"Num of Track\",\"text\":[\"15\",\"12\",\"12\",\"11\",\"11\",\"11\",\"11\",\"10\",\"10\",\"10\"],\"textposition\":\"auto\",\"x\":[\"Taylor Swift\",\"Ed Sheeran\",\"Doja Cat\",\"Sam Smith\",\"SZA\",\"Latto\",\"Lizzo\",\"Ariana Grande\",\"Miguel\",\"KAROL G\"],\"y\":[15,12,12,11,11,11,11,10,10,10],\"type\":\"bar\",\"xaxis\":\"x\",\"yaxis\":\"y\"},{\"marker\":{\"color\":\"#30E3CA\"},\"name\":\"Avg of Pop.\",\"text\":[\"74\",\"79\",\"74\",\"72\",\"75\",\"47\",\"50\",\"72\",\"65\",\"78\"],\"textposition\":\"auto\",\"x\":[\"Taylor Swift\",\"Ed Sheeran\",\"Doja Cat\",\"Sam Smith\",\"SZA\",\"Latto\",\"Lizzo\",\"Ariana Grande\",\"Miguel\",\"KAROL G\"],\"y\":[74.53333333333333,79.91666666666667,74.0,72.63636363636364,75.72727272727273,47.54545454545455,50.36363636363637,72.2,65.6,78.6],\"type\":\"bar\",\"xaxis\":\"x\",\"yaxis\":\"y\"},{\"marker\":{\"color\":\"purple\"},\"name\":\"Num of Track\",\"text\":[\"3\",\"3\",\"3\",\"2\",\"2\",\"2\",\"2\",\"2\",\"2\",\"1\"],\"textposition\":\"auto\",\"x\":[\"Nate Smith\",\"Tyler Hubbard\",\"Grupo Frontera\",\"Ktlyn\",\"FIFTY FIFTY\",\"Mariah Carey\",\"J Balvin\",\"Hermanos Vega Jr.\",\"Junior H\",\"Tyler Childers\"],\"y\":[3,3,3,2,2,2,2,2,2,1],\"type\":\"bar\",\"xaxis\":\"x2\",\"yaxis\":\"y2\"},{\"marker\":{\"color\":\"#30E3CA\"},\"name\":\"Avg of Pop.\",\"text\":[\"71\",\"62\",\"79\",\"53\",\"36\",\"70\",\"80\",\"16\",\"79\",\"78\"],\"textposition\":\"auto\",\"x\":[\"Nate Smith\",\"Tyler Hubbard\",\"Grupo Frontera\",\"Ktlyn\",\"FIFTY FIFTY\",\"Mariah Carey\",\"J Balvin\",\"Hermanos Vega Jr.\",\"Junior H\",\"Tyler Childers\"],\"y\":[71.0,62.666666666666664,79.33333333333333,53.5,36.0,70.5,80.0,16.5,79.5,78.0],\"type\":\"bar\",\"xaxis\":\"x2\",\"yaxis\":\"y2\"}],                        {\"template\":{\"data\":{\"histogram2dcontour\":[{\"type\":\"histogram2dcontour\",\"colorbar\":{\"outlinewidth\":0,\"ticks\":\"\"},\"colorscale\":[[0.0,\"#0d0887\"],[0.1111111111111111,\"#46039f\"],[0.2222222222222222,\"#7201a8\"],[0.3333333333333333,\"#9c179e\"],[0.4444444444444444,\"#bd3786\"],[0.5555555555555556,\"#d8576b\"],[0.6666666666666666,\"#ed7953\"],[0.7777777777777778,\"#fb9f3a\"],[0.8888888888888888,\"#fdca26\"],[1.0,\"#f0f921\"]]}],\"choropleth\":[{\"type\":\"choropleth\",\"colorbar\":{\"outlinewidth\":0,\"ticks\":\"\"}}],\"histogram2d\":[{\"type\":\"histogram2d\",\"colorbar\":{\"outlinewidth\":0,\"ticks\":\"\"},\"colorscale\":[[0.0,\"#0d0887\"],[0.1111111111111111,\"#46039f\"],[0.2222222222222222,\"#7201a8\"],[0.3333333333333333,\"#9c179e\"],[0.4444444444444444,\"#bd3786\"],[0.5555555555555556,\"#d8576b\"],[0.6666666666666666,\"#ed7953\"],[0.7777777777777778,\"#fb9f3a\"],[0.8888888888888888,\"#fdca26\"],[1.0,\"#f0f921\"]]}],\"heatmap\":[{\"type\":\"heatmap\",\"colorbar\":{\"outlinewidth\":0,\"ticks\":\"\"},\"colorscale\":[[0.0,\"#0d0887\"],[0.1111111111111111,\"#46039f\"],[0.2222222222222222,\"#7201a8\"],[0.3333333333333333,\"#9c179e\"],[0.4444444444444444,\"#bd3786\"],[0.5555555555555556,\"#d8576b\"],[0.6666666666666666,\"#ed7953\"],[0.7777777777777778,\"#fb9f3a\"],[0.8888888888888888,\"#fdca26\"],[1.0,\"#f0f921\"]]}],\"heatmapgl\":[{\"type\":\"heatmapgl\",\"colorbar\":{\"outlinewidth\":0,\"ticks\":\"\"},\"colorscale\":[[0.0,\"#0d0887\"],[0.1111111111111111,\"#46039f\"],[0.2222222222222222,\"#7201a8\"],[0.3333333333333333,\"#9c179e\"],[0.4444444444444444,\"#bd3786\"],[0.5555555555555556,\"#d8576b\"],[0.6666666666666666,\"#ed7953\"],[0.7777777777777778,\"#fb9f3a\"],[0.8888888888888888,\"#fdca26\"],[1.0,\"#f0f921\"]]}],\"contourcarpet\":[{\"type\":\"contourcarpet\",\"colorbar\":{\"outlinewidth\":0,\"ticks\":\"\"}}],\"contour\":[{\"type\":\"contour\",\"colorbar\":{\"outlinewidth\":0,\"ticks\":\"\"},\"colorscale\":[[0.0,\"#0d0887\"],[0.1111111111111111,\"#46039f\"],[0.2222222222222222,\"#7201a8\"],[0.3333333333333333,\"#9c179e\"],[0.4444444444444444,\"#bd3786\"],[0.5555555555555556,\"#d8576b\"],[0.6666666666666666,\"#ed7953\"],[0.7777777777777778,\"#fb9f3a\"],[0.8888888888888888,\"#fdca26\"],[1.0,\"#f0f921\"]]}],\"surface\":[{\"type\":\"surface\",\"colorbar\":{\"outlinewidth\":0,\"ticks\":\"\"},\"colorscale\":[[0.0,\"#0d0887\"],[0.1111111111111111,\"#46039f\"],[0.2222222222222222,\"#7201a8\"],[0.3333333333333333,\"#9c179e\"],[0.4444444444444444,\"#bd3786\"],[0.5555555555555556,\"#d8576b\"],[0.6666666666666666,\"#ed7953\"],[0.7777777777777778,\"#fb9f3a\"],[0.8888888888888888,\"#fdca26\"],[1.0,\"#f0f921\"]]}],\"mesh3d\":[{\"type\":\"mesh3d\",\"colorbar\":{\"outlinewidth\":0,\"ticks\":\"\"}}],\"scatter\":[{\"fillpattern\":{\"fillmode\":\"overlay\",\"size\":10,\"solidity\":0.2},\"type\":\"scatter\"}],\"parcoords\":[{\"type\":\"parcoords\",\"line\":{\"colorbar\":{\"outlinewidth\":0,\"ticks\":\"\"}}}],\"scatterpolargl\":[{\"type\":\"scatterpolargl\",\"marker\":{\"colorbar\":{\"outlinewidth\":0,\"ticks\":\"\"}}}],\"bar\":[{\"error_x\":{\"color\":\"#2a3f5f\"},\"error_y\":{\"color\":\"#2a3f5f\"},\"marker\":{\"line\":{\"color\":\"#E5ECF6\",\"width\":0.5},\"pattern\":{\"fillmode\":\"overlay\",\"size\":10,\"solidity\":0.2}},\"type\":\"bar\"}],\"scattergeo\":[{\"type\":\"scattergeo\",\"marker\":{\"colorbar\":{\"outlinewidth\":0,\"ticks\":\"\"}}}],\"scatterpolar\":[{\"type\":\"scatterpolar\",\"marker\":{\"colorbar\":{\"outlinewidth\":0,\"ticks\":\"\"}}}],\"histogram\":[{\"marker\":{\"pattern\":{\"fillmode\":\"overlay\",\"size\":10,\"solidity\":0.2}},\"type\":\"histogram\"}],\"scattergl\":[{\"type\":\"scattergl\",\"marker\":{\"colorbar\":{\"outlinewidth\":0,\"ticks\":\"\"}}}],\"scatter3d\":[{\"type\":\"scatter3d\",\"line\":{\"colorbar\":{\"outlinewidth\":0,\"ticks\":\"\"}},\"marker\":{\"colorbar\":{\"outlinewidth\":0,\"ticks\":\"\"}}}],\"scattermapbox\":[{\"type\":\"scattermapbox\",\"marker\":{\"colorbar\":{\"outlinewidth\":0,\"ticks\":\"\"}}}],\"scatterternary\":[{\"type\":\"scatterternary\",\"marker\":{\"colorbar\":{\"outlinewidth\":0,\"ticks\":\"\"}}}],\"scattercarpet\":[{\"type\":\"scattercarpet\",\"marker\":{\"colorbar\":{\"outlinewidth\":0,\"ticks\":\"\"}}}],\"carpet\":[{\"aaxis\":{\"endlinecolor\":\"#2a3f5f\",\"gridcolor\":\"white\",\"linecolor\":\"white\",\"minorgridcolor\":\"white\",\"startlinecolor\":\"#2a3f5f\"},\"baxis\":{\"endlinecolor\":\"#2a3f5f\",\"gridcolor\":\"white\",\"linecolor\":\"white\",\"minorgridcolor\":\"white\",\"startlinecolor\":\"#2a3f5f\"},\"type\":\"carpet\"}],\"table\":[{\"cells\":{\"fill\":{\"color\":\"#EBF0F8\"},\"line\":{\"color\":\"white\"}},\"header\":{\"fill\":{\"color\":\"#C8D4E3\"},\"line\":{\"color\":\"white\"}},\"type\":\"table\"}],\"barpolar\":[{\"marker\":{\"line\":{\"color\":\"#E5ECF6\",\"width\":0.5},\"pattern\":{\"fillmode\":\"overlay\",\"size\":10,\"solidity\":0.2}},\"type\":\"barpolar\"}],\"pie\":[{\"automargin\":true,\"type\":\"pie\"}]},\"layout\":{\"autotypenumbers\":\"strict\",\"colorway\":[\"#636efa\",\"#EF553B\",\"#00cc96\",\"#ab63fa\",\"#FFA15A\",\"#19d3f3\",\"#FF6692\",\"#B6E880\",\"#FF97FF\",\"#FECB52\"],\"font\":{\"color\":\"#2a3f5f\"},\"hovermode\":\"closest\",\"hoverlabel\":{\"align\":\"left\"},\"paper_bgcolor\":\"white\",\"plot_bgcolor\":\"#E5ECF6\",\"polar\":{\"bgcolor\":\"#E5ECF6\",\"angularaxis\":{\"gridcolor\":\"white\",\"linecolor\":\"white\",\"ticks\":\"\"},\"radialaxis\":{\"gridcolor\":\"white\",\"linecolor\":\"white\",\"ticks\":\"\"}},\"ternary\":{\"bgcolor\":\"#E5ECF6\",\"aaxis\":{\"gridcolor\":\"white\",\"linecolor\":\"white\",\"ticks\":\"\"},\"baxis\":{\"gridcolor\":\"white\",\"linecolor\":\"white\",\"ticks\":\"\"},\"caxis\":{\"gridcolor\":\"white\",\"linecolor\":\"white\",\"ticks\":\"\"}},\"coloraxis\":{\"colorbar\":{\"outlinewidth\":0,\"ticks\":\"\"}},\"colorscale\":{\"sequential\":[[0.0,\"#0d0887\"],[0.1111111111111111,\"#46039f\"],[0.2222222222222222,\"#7201a8\"],[0.3333333333333333,\"#9c179e\"],[0.4444444444444444,\"#bd3786\"],[0.5555555555555556,\"#d8576b\"],[0.6666666666666666,\"#ed7953\"],[0.7777777777777778,\"#fb9f3a\"],[0.8888888888888888,\"#fdca26\"],[1.0,\"#f0f921\"]],\"sequentialminus\":[[0.0,\"#0d0887\"],[0.1111111111111111,\"#46039f\"],[0.2222222222222222,\"#7201a8\"],[0.3333333333333333,\"#9c179e\"],[0.4444444444444444,\"#bd3786\"],[0.5555555555555556,\"#d8576b\"],[0.6666666666666666,\"#ed7953\"],[0.7777777777777778,\"#fb9f3a\"],[0.8888888888888888,\"#fdca26\"],[1.0,\"#f0f921\"]],\"diverging\":[[0,\"#8e0152\"],[0.1,\"#c51b7d\"],[0.2,\"#de77ae\"],[0.3,\"#f1b6da\"],[0.4,\"#fde0ef\"],[0.5,\"#f7f7f7\"],[0.6,\"#e6f5d0\"],[0.7,\"#b8e186\"],[0.8,\"#7fbc41\"],[0.9,\"#4d9221\"],[1,\"#276419\"]]},\"xaxis\":{\"gridcolor\":\"white\",\"linecolor\":\"white\",\"ticks\":\"\",\"title\":{\"standoff\":15},\"zerolinecolor\":\"white\",\"automargin\":true,\"zerolinewidth\":2},\"yaxis\":{\"gridcolor\":\"white\",\"linecolor\":\"white\",\"ticks\":\"\",\"title\":{\"standoff\":15},\"zerolinecolor\":\"white\",\"automargin\":true,\"zerolinewidth\":2},\"scene\":{\"xaxis\":{\"backgroundcolor\":\"#E5ECF6\",\"gridcolor\":\"white\",\"linecolor\":\"white\",\"showbackground\":true,\"ticks\":\"\",\"zerolinecolor\":\"white\",\"gridwidth\":2},\"yaxis\":{\"backgroundcolor\":\"#E5ECF6\",\"gridcolor\":\"white\",\"linecolor\":\"white\",\"showbackground\":true,\"ticks\":\"\",\"zerolinecolor\":\"white\",\"gridwidth\":2},\"zaxis\":{\"backgroundcolor\":\"#E5ECF6\",\"gridcolor\":\"white\",\"linecolor\":\"white\",\"showbackground\":true,\"ticks\":\"\",\"zerolinecolor\":\"white\",\"gridwidth\":2}},\"shapedefaults\":{\"line\":{\"color\":\"#2a3f5f\"}},\"annotationdefaults\":{\"arrowcolor\":\"#2a3f5f\",\"arrowhead\":0,\"arrowwidth\":1},\"geo\":{\"bgcolor\":\"white\",\"landcolor\":\"#E5ECF6\",\"subunitcolor\":\"white\",\"showland\":true,\"showlakes\":true,\"lakecolor\":\"white\"},\"title\":{\"x\":0.05},\"mapbox\":{\"style\":\"light\"}}},\"xaxis\":{\"anchor\":\"y\",\"domain\":[0.0,0.45],\"title\":{\"text\":\"Artist\"},\"tickangle\":-45},\"yaxis\":{\"anchor\":\"x\",\"domain\":[0.0,1.0],\"title\":{\"text\":\"Count of Track and Avg Pop\"}},\"xaxis2\":{\"anchor\":\"y2\",\"domain\":[0.55,1.0]},\"yaxis2\":{\"anchor\":\"x2\",\"domain\":[0.0,1.0]},\"annotations\":[{\"font\":{\"size\":16},\"showarrow\":false,\"text\":\"Top 10 Track and Avg Popularity of Artists\",\"x\":0.225,\"xanchor\":\"center\",\"xref\":\"paper\",\"y\":1.0,\"yanchor\":\"bottom\",\"yref\":\"paper\"},{\"font\":{\"size\":16},\"showarrow\":false,\"text\":\"Bottom 10 Track and Avg Popularity of Artists\",\"x\":0.775,\"xanchor\":\"center\",\"xref\":\"paper\",\"y\":1.0,\"yanchor\":\"bottom\",\"yref\":\"paper\"}],\"title\":{\"text\":\"Track Counts and Average Popularity by Artist\"},\"barmode\":\"group\"},                        {\"responsive\": true}                    ).then(function(){\n",
              "                            \n",
              "var gd = document.getElementById('c0ddd30e-0b62-4255-b1e5-1046bdd04582');\n",
              "var x = new MutationObserver(function (mutations, observer) {{\n",
              "        var display = window.getComputedStyle(gd).display;\n",
              "        if (!display || display === 'none') {{\n",
              "            console.log([gd, 'removed!']);\n",
              "            Plotly.purge(gd);\n",
              "            observer.disconnect();\n",
              "        }}\n",
              "}});\n",
              "\n",
              "// Listen for the removal of the full notebook cells\n",
              "var notebookContainer = gd.closest('#notebook-container');\n",
              "if (notebookContainer) {{\n",
              "    x.observe(notebookContainer, {childList: true});\n",
              "}}\n",
              "\n",
              "// Listen for the clearing of the current output cell\n",
              "var outputEl = gd.closest('.output');\n",
              "if (outputEl) {{\n",
              "    x.observe(outputEl, {childList: true});\n",
              "}}\n",
              "\n",
              "                        })                };                            </script>        </div>\n",
              "</body>\n",
              "</html>"
            ]
          },
          "metadata": {}
        }
      ]
    },
    {
      "cell_type": "markdown",
      "source": [
        "<hr>"
      ],
      "metadata": {
        "id": "LTNqK5AInQKO"
      }
    },
    {
      "cell_type": "markdown",
      "source": [
        "<h1>Challenges"
      ],
      "metadata": {
        "id": "tJxWJhf6zYRR"
      }
    },
    {
      "cell_type": "markdown",
      "source": [
        "<h1>Pearson's Correlation"
      ],
      "metadata": {
        "id": "eGNECGaNiZeK"
      }
    },
    {
      "cell_type": "code",
      "source": [
        "from scipy.stats import pearsonr\n",
        "\n",
        "df_p = pd.read_csv('Pearson_Mat.csv')\n",
        "\n",
        "correlation_results = {}\n",
        "\n",
        "for column in df_p.columns:\n",
        "    if column != 'Popularity':\n",
        "        correlation = df_p['Popularity'].corr(df_p[column])\n",
        "        correlation_results[column] = correlation\n",
        "\n",
        "correlation_df = pd.DataFrame(correlation_results.items(), columns=['Feature', 'Pearson_r'])\n",
        "print(correlation_df)"
      ],
      "metadata": {
        "colab": {
          "base_uri": "https://localhost:8080/"
        },
        "id": "B67K2C3pFORF",
        "outputId": "e498f21a-dbdf-4c76-dbd2-e062d900b812"
      },
      "execution_count": 33,
      "outputs": [
        {
          "output_type": "stream",
          "name": "stdout",
          "text": [
            "             Feature  Pearson_r\n",
            "0           Duration   0.170051\n",
            "1     Time_Signature  -0.032756\n",
            "2       Danceability  -0.048724\n",
            "3             Energy  -0.077441\n",
            "4                Key  -0.002714\n",
            "5           Loudness  -0.054008\n",
            "6               Mode  -0.041995\n",
            "7        Speechiness  -0.224381\n",
            "8       Acousticness   0.158303\n",
            "9   Instrumentalness   0.070755\n",
            "10          Liveness  -0.017248\n",
            "11           Valence  -0.046704\n",
            "12             Tempo  -0.034341\n",
            "13           Streams   0.539580\n"
          ]
        }
      ]
    },
    {
      "cell_type": "code",
      "source": [
        "popularity_corr = df_p.corr()[['Popularity']]\n",
        "\n",
        "fig = go.Figure(data=go.Heatmap(\n",
        "    z=popularity_corr.values,\n",
        "    x=popularity_corr.columns,\n",
        "    y=popularity_corr.index,\n",
        "    colorscale='RdBu',\n",
        "    zmin=-1, zmax=1,\n",
        "    colorbar=dict(title='Correlation')\n",
        "))\n",
        "\n",
        "annotations = []\n",
        "for i in range(popularity_corr.shape[0]):\n",
        "    for j in range(popularity_corr.shape[1]):\n",
        "        annotations.append(\n",
        "            dict(\n",
        "                x=popularity_corr.columns[j],\n",
        "                y=popularity_corr.index[i],\n",
        "                text=str(round(popularity_corr.iloc[i, j], 2)),\n",
        "                showarrow=False,\n",
        "                font=dict(color=\"red\")\n",
        "            )\n",
        "        )\n",
        "fig.update_layout(\n",
        "    title=\"Pearson Correlation with Popularity\",\n",
        "    annotations=annotations,\n",
        "    xaxis_title=\"Features\",\n",
        "    yaxis_title=\"Features\",\n",
        "    height=600, width=800\n",
        ")\n",
        "\n",
        "fig.show()\n",
        "\n"
      ],
      "metadata": {
        "colab": {
          "base_uri": "https://localhost:8080/",
          "height": 617
        },
        "id": "1eiDzEEbTClL",
        "outputId": "5f1e2557-e6cd-40dd-8883-939d604bac3f"
      },
      "execution_count": 34,
      "outputs": [
        {
          "output_type": "display_data",
          "data": {
            "text/html": [
              "<html>\n",
              "<head><meta charset=\"utf-8\" /></head>\n",
              "<body>\n",
              "    <div>            <script src=\"https://cdnjs.cloudflare.com/ajax/libs/mathjax/2.7.5/MathJax.js?config=TeX-AMS-MML_SVG\"></script><script type=\"text/javascript\">if (window.MathJax && window.MathJax.Hub && window.MathJax.Hub.Config) {window.MathJax.Hub.Config({SVG: {font: \"STIX-Web\"}});}</script>                <script type=\"text/javascript\">window.PlotlyConfig = {MathJaxConfig: 'local'};</script>\n",
              "        <script charset=\"utf-8\" src=\"https://cdn.plot.ly/plotly-2.24.1.min.js\"></script>                <div id=\"ebc4ab6b-cdd2-4e06-80cc-086c10fcfcca\" class=\"plotly-graph-div\" style=\"height:600px; width:800px;\"></div>            <script type=\"text/javascript\">                                    window.PLOTLYENV=window.PLOTLYENV || {};                                    if (document.getElementById(\"ebc4ab6b-cdd2-4e06-80cc-086c10fcfcca\")) {                    Plotly.newPlot(                        \"ebc4ab6b-cdd2-4e06-80cc-086c10fcfcca\",                        [{\"colorbar\":{\"title\":{\"text\":\"Correlation\"}},\"colorscale\":[[0.0,\"rgb(103,0,31)\"],[0.1,\"rgb(178,24,43)\"],[0.2,\"rgb(214,96,77)\"],[0.3,\"rgb(244,165,130)\"],[0.4,\"rgb(253,219,199)\"],[0.5,\"rgb(247,247,247)\"],[0.6,\"rgb(209,229,240)\"],[0.7,\"rgb(146,197,222)\"],[0.8,\"rgb(67,147,195)\"],[0.9,\"rgb(33,102,172)\"],[1.0,\"rgb(5,48,97)\"]],\"x\":[\"Popularity\"],\"y\":[\"Duration\",\"Time_Signature\",\"Danceability\",\"Energy\",\"Key\",\"Loudness\",\"Mode\",\"Speechiness\",\"Acousticness\",\"Instrumentalness\",\"Liveness\",\"Valence\",\"Tempo\",\"Streams\",\"Popularity\"],\"z\":[[0.17005123336506112],[-0.032756353241811996],[-0.04872445709948158],[-0.07744090274751007],[-0.0027135872175550334],[-0.05400795346271864],[-0.04199510355090208],[-0.22438148594546853],[0.15830333338532035],[0.07075501840242399],[-0.017247958615900037],[-0.046703571825927076],[-0.03434065160856882],[0.5395803249901442],[1.0]],\"zmax\":1,\"zmin\":-1,\"type\":\"heatmap\"}],                        {\"template\":{\"data\":{\"histogram2dcontour\":[{\"type\":\"histogram2dcontour\",\"colorbar\":{\"outlinewidth\":0,\"ticks\":\"\"},\"colorscale\":[[0.0,\"#0d0887\"],[0.1111111111111111,\"#46039f\"],[0.2222222222222222,\"#7201a8\"],[0.3333333333333333,\"#9c179e\"],[0.4444444444444444,\"#bd3786\"],[0.5555555555555556,\"#d8576b\"],[0.6666666666666666,\"#ed7953\"],[0.7777777777777778,\"#fb9f3a\"],[0.8888888888888888,\"#fdca26\"],[1.0,\"#f0f921\"]]}],\"choropleth\":[{\"type\":\"choropleth\",\"colorbar\":{\"outlinewidth\":0,\"ticks\":\"\"}}],\"histogram2d\":[{\"type\":\"histogram2d\",\"colorbar\":{\"outlinewidth\":0,\"ticks\":\"\"},\"colorscale\":[[0.0,\"#0d0887\"],[0.1111111111111111,\"#46039f\"],[0.2222222222222222,\"#7201a8\"],[0.3333333333333333,\"#9c179e\"],[0.4444444444444444,\"#bd3786\"],[0.5555555555555556,\"#d8576b\"],[0.6666666666666666,\"#ed7953\"],[0.7777777777777778,\"#fb9f3a\"],[0.8888888888888888,\"#fdca26\"],[1.0,\"#f0f921\"]]}],\"heatmap\":[{\"type\":\"heatmap\",\"colorbar\":{\"outlinewidth\":0,\"ticks\":\"\"},\"colorscale\":[[0.0,\"#0d0887\"],[0.1111111111111111,\"#46039f\"],[0.2222222222222222,\"#7201a8\"],[0.3333333333333333,\"#9c179e\"],[0.4444444444444444,\"#bd3786\"],[0.5555555555555556,\"#d8576b\"],[0.6666666666666666,\"#ed7953\"],[0.7777777777777778,\"#fb9f3a\"],[0.8888888888888888,\"#fdca26\"],[1.0,\"#f0f921\"]]}],\"heatmapgl\":[{\"type\":\"heatmapgl\",\"colorbar\":{\"outlinewidth\":0,\"ticks\":\"\"},\"colorscale\":[[0.0,\"#0d0887\"],[0.1111111111111111,\"#46039f\"],[0.2222222222222222,\"#7201a8\"],[0.3333333333333333,\"#9c179e\"],[0.4444444444444444,\"#bd3786\"],[0.5555555555555556,\"#d8576b\"],[0.6666666666666666,\"#ed7953\"],[0.7777777777777778,\"#fb9f3a\"],[0.8888888888888888,\"#fdca26\"],[1.0,\"#f0f921\"]]}],\"contourcarpet\":[{\"type\":\"contourcarpet\",\"colorbar\":{\"outlinewidth\":0,\"ticks\":\"\"}}],\"contour\":[{\"type\":\"contour\",\"colorbar\":{\"outlinewidth\":0,\"ticks\":\"\"},\"colorscale\":[[0.0,\"#0d0887\"],[0.1111111111111111,\"#46039f\"],[0.2222222222222222,\"#7201a8\"],[0.3333333333333333,\"#9c179e\"],[0.4444444444444444,\"#bd3786\"],[0.5555555555555556,\"#d8576b\"],[0.6666666666666666,\"#ed7953\"],[0.7777777777777778,\"#fb9f3a\"],[0.8888888888888888,\"#fdca26\"],[1.0,\"#f0f921\"]]}],\"surface\":[{\"type\":\"surface\",\"colorbar\":{\"outlinewidth\":0,\"ticks\":\"\"},\"colorscale\":[[0.0,\"#0d0887\"],[0.1111111111111111,\"#46039f\"],[0.2222222222222222,\"#7201a8\"],[0.3333333333333333,\"#9c179e\"],[0.4444444444444444,\"#bd3786\"],[0.5555555555555556,\"#d8576b\"],[0.6666666666666666,\"#ed7953\"],[0.7777777777777778,\"#fb9f3a\"],[0.8888888888888888,\"#fdca26\"],[1.0,\"#f0f921\"]]}],\"mesh3d\":[{\"type\":\"mesh3d\",\"colorbar\":{\"outlinewidth\":0,\"ticks\":\"\"}}],\"scatter\":[{\"fillpattern\":{\"fillmode\":\"overlay\",\"size\":10,\"solidity\":0.2},\"type\":\"scatter\"}],\"parcoords\":[{\"type\":\"parcoords\",\"line\":{\"colorbar\":{\"outlinewidth\":0,\"ticks\":\"\"}}}],\"scatterpolargl\":[{\"type\":\"scatterpolargl\",\"marker\":{\"colorbar\":{\"outlinewidth\":0,\"ticks\":\"\"}}}],\"bar\":[{\"error_x\":{\"color\":\"#2a3f5f\"},\"error_y\":{\"color\":\"#2a3f5f\"},\"marker\":{\"line\":{\"color\":\"#E5ECF6\",\"width\":0.5},\"pattern\":{\"fillmode\":\"overlay\",\"size\":10,\"solidity\":0.2}},\"type\":\"bar\"}],\"scattergeo\":[{\"type\":\"scattergeo\",\"marker\":{\"colorbar\":{\"outlinewidth\":0,\"ticks\":\"\"}}}],\"scatterpolar\":[{\"type\":\"scatterpolar\",\"marker\":{\"colorbar\":{\"outlinewidth\":0,\"ticks\":\"\"}}}],\"histogram\":[{\"marker\":{\"pattern\":{\"fillmode\":\"overlay\",\"size\":10,\"solidity\":0.2}},\"type\":\"histogram\"}],\"scattergl\":[{\"type\":\"scattergl\",\"marker\":{\"colorbar\":{\"outlinewidth\":0,\"ticks\":\"\"}}}],\"scatter3d\":[{\"type\":\"scatter3d\",\"line\":{\"colorbar\":{\"outlinewidth\":0,\"ticks\":\"\"}},\"marker\":{\"colorbar\":{\"outlinewidth\":0,\"ticks\":\"\"}}}],\"scattermapbox\":[{\"type\":\"scattermapbox\",\"marker\":{\"colorbar\":{\"outlinewidth\":0,\"ticks\":\"\"}}}],\"scatterternary\":[{\"type\":\"scatterternary\",\"marker\":{\"colorbar\":{\"outlinewidth\":0,\"ticks\":\"\"}}}],\"scattercarpet\":[{\"type\":\"scattercarpet\",\"marker\":{\"colorbar\":{\"outlinewidth\":0,\"ticks\":\"\"}}}],\"carpet\":[{\"aaxis\":{\"endlinecolor\":\"#2a3f5f\",\"gridcolor\":\"white\",\"linecolor\":\"white\",\"minorgridcolor\":\"white\",\"startlinecolor\":\"#2a3f5f\"},\"baxis\":{\"endlinecolor\":\"#2a3f5f\",\"gridcolor\":\"white\",\"linecolor\":\"white\",\"minorgridcolor\":\"white\",\"startlinecolor\":\"#2a3f5f\"},\"type\":\"carpet\"}],\"table\":[{\"cells\":{\"fill\":{\"color\":\"#EBF0F8\"},\"line\":{\"color\":\"white\"}},\"header\":{\"fill\":{\"color\":\"#C8D4E3\"},\"line\":{\"color\":\"white\"}},\"type\":\"table\"}],\"barpolar\":[{\"marker\":{\"line\":{\"color\":\"#E5ECF6\",\"width\":0.5},\"pattern\":{\"fillmode\":\"overlay\",\"size\":10,\"solidity\":0.2}},\"type\":\"barpolar\"}],\"pie\":[{\"automargin\":true,\"type\":\"pie\"}]},\"layout\":{\"autotypenumbers\":\"strict\",\"colorway\":[\"#636efa\",\"#EF553B\",\"#00cc96\",\"#ab63fa\",\"#FFA15A\",\"#19d3f3\",\"#FF6692\",\"#B6E880\",\"#FF97FF\",\"#FECB52\"],\"font\":{\"color\":\"#2a3f5f\"},\"hovermode\":\"closest\",\"hoverlabel\":{\"align\":\"left\"},\"paper_bgcolor\":\"white\",\"plot_bgcolor\":\"#E5ECF6\",\"polar\":{\"bgcolor\":\"#E5ECF6\",\"angularaxis\":{\"gridcolor\":\"white\",\"linecolor\":\"white\",\"ticks\":\"\"},\"radialaxis\":{\"gridcolor\":\"white\",\"linecolor\":\"white\",\"ticks\":\"\"}},\"ternary\":{\"bgcolor\":\"#E5ECF6\",\"aaxis\":{\"gridcolor\":\"white\",\"linecolor\":\"white\",\"ticks\":\"\"},\"baxis\":{\"gridcolor\":\"white\",\"linecolor\":\"white\",\"ticks\":\"\"},\"caxis\":{\"gridcolor\":\"white\",\"linecolor\":\"white\",\"ticks\":\"\"}},\"coloraxis\":{\"colorbar\":{\"outlinewidth\":0,\"ticks\":\"\"}},\"colorscale\":{\"sequential\":[[0.0,\"#0d0887\"],[0.1111111111111111,\"#46039f\"],[0.2222222222222222,\"#7201a8\"],[0.3333333333333333,\"#9c179e\"],[0.4444444444444444,\"#bd3786\"],[0.5555555555555556,\"#d8576b\"],[0.6666666666666666,\"#ed7953\"],[0.7777777777777778,\"#fb9f3a\"],[0.8888888888888888,\"#fdca26\"],[1.0,\"#f0f921\"]],\"sequentialminus\":[[0.0,\"#0d0887\"],[0.1111111111111111,\"#46039f\"],[0.2222222222222222,\"#7201a8\"],[0.3333333333333333,\"#9c179e\"],[0.4444444444444444,\"#bd3786\"],[0.5555555555555556,\"#d8576b\"],[0.6666666666666666,\"#ed7953\"],[0.7777777777777778,\"#fb9f3a\"],[0.8888888888888888,\"#fdca26\"],[1.0,\"#f0f921\"]],\"diverging\":[[0,\"#8e0152\"],[0.1,\"#c51b7d\"],[0.2,\"#de77ae\"],[0.3,\"#f1b6da\"],[0.4,\"#fde0ef\"],[0.5,\"#f7f7f7\"],[0.6,\"#e6f5d0\"],[0.7,\"#b8e186\"],[0.8,\"#7fbc41\"],[0.9,\"#4d9221\"],[1,\"#276419\"]]},\"xaxis\":{\"gridcolor\":\"white\",\"linecolor\":\"white\",\"ticks\":\"\",\"title\":{\"standoff\":15},\"zerolinecolor\":\"white\",\"automargin\":true,\"zerolinewidth\":2},\"yaxis\":{\"gridcolor\":\"white\",\"linecolor\":\"white\",\"ticks\":\"\",\"title\":{\"standoff\":15},\"zerolinecolor\":\"white\",\"automargin\":true,\"zerolinewidth\":2},\"scene\":{\"xaxis\":{\"backgroundcolor\":\"#E5ECF6\",\"gridcolor\":\"white\",\"linecolor\":\"white\",\"showbackground\":true,\"ticks\":\"\",\"zerolinecolor\":\"white\",\"gridwidth\":2},\"yaxis\":{\"backgroundcolor\":\"#E5ECF6\",\"gridcolor\":\"white\",\"linecolor\":\"white\",\"showbackground\":true,\"ticks\":\"\",\"zerolinecolor\":\"white\",\"gridwidth\":2},\"zaxis\":{\"backgroundcolor\":\"#E5ECF6\",\"gridcolor\":\"white\",\"linecolor\":\"white\",\"showbackground\":true,\"ticks\":\"\",\"zerolinecolor\":\"white\",\"gridwidth\":2}},\"shapedefaults\":{\"line\":{\"color\":\"#2a3f5f\"}},\"annotationdefaults\":{\"arrowcolor\":\"#2a3f5f\",\"arrowhead\":0,\"arrowwidth\":1},\"geo\":{\"bgcolor\":\"white\",\"landcolor\":\"#E5ECF6\",\"subunitcolor\":\"white\",\"showland\":true,\"showlakes\":true,\"lakecolor\":\"white\"},\"title\":{\"x\":0.05},\"mapbox\":{\"style\":\"light\"}}},\"title\":{\"text\":\"Pearson Correlation with Popularity\"},\"annotations\":[{\"font\":{\"color\":\"red\"},\"showarrow\":false,\"text\":\"0.17\",\"x\":\"Popularity\",\"y\":\"Duration\"},{\"font\":{\"color\":\"red\"},\"showarrow\":false,\"text\":\"-0.03\",\"x\":\"Popularity\",\"y\":\"Time_Signature\"},{\"font\":{\"color\":\"red\"},\"showarrow\":false,\"text\":\"-0.05\",\"x\":\"Popularity\",\"y\":\"Danceability\"},{\"font\":{\"color\":\"red\"},\"showarrow\":false,\"text\":\"-0.08\",\"x\":\"Popularity\",\"y\":\"Energy\"},{\"font\":{\"color\":\"red\"},\"showarrow\":false,\"text\":\"-0.0\",\"x\":\"Popularity\",\"y\":\"Key\"},{\"font\":{\"color\":\"red\"},\"showarrow\":false,\"text\":\"-0.05\",\"x\":\"Popularity\",\"y\":\"Loudness\"},{\"font\":{\"color\":\"red\"},\"showarrow\":false,\"text\":\"-0.04\",\"x\":\"Popularity\",\"y\":\"Mode\"},{\"font\":{\"color\":\"red\"},\"showarrow\":false,\"text\":\"-0.22\",\"x\":\"Popularity\",\"y\":\"Speechiness\"},{\"font\":{\"color\":\"red\"},\"showarrow\":false,\"text\":\"0.16\",\"x\":\"Popularity\",\"y\":\"Acousticness\"},{\"font\":{\"color\":\"red\"},\"showarrow\":false,\"text\":\"0.07\",\"x\":\"Popularity\",\"y\":\"Instrumentalness\"},{\"font\":{\"color\":\"red\"},\"showarrow\":false,\"text\":\"-0.02\",\"x\":\"Popularity\",\"y\":\"Liveness\"},{\"font\":{\"color\":\"red\"},\"showarrow\":false,\"text\":\"-0.05\",\"x\":\"Popularity\",\"y\":\"Valence\"},{\"font\":{\"color\":\"red\"},\"showarrow\":false,\"text\":\"-0.03\",\"x\":\"Popularity\",\"y\":\"Tempo\"},{\"font\":{\"color\":\"red\"},\"showarrow\":false,\"text\":\"0.54\",\"x\":\"Popularity\",\"y\":\"Streams\"},{\"font\":{\"color\":\"red\"},\"showarrow\":false,\"text\":\"1.0\",\"x\":\"Popularity\",\"y\":\"Popularity\"}],\"xaxis\":{\"title\":{\"text\":\"Features\"}},\"yaxis\":{\"title\":{\"text\":\"Features\"}},\"height\":600,\"width\":800},                        {\"responsive\": true}                    ).then(function(){\n",
              "                            \n",
              "var gd = document.getElementById('ebc4ab6b-cdd2-4e06-80cc-086c10fcfcca');\n",
              "var x = new MutationObserver(function (mutations, observer) {{\n",
              "        var display = window.getComputedStyle(gd).display;\n",
              "        if (!display || display === 'none') {{\n",
              "            console.log([gd, 'removed!']);\n",
              "            Plotly.purge(gd);\n",
              "            observer.disconnect();\n",
              "        }}\n",
              "}});\n",
              "\n",
              "// Listen for the removal of the full notebook cells\n",
              "var notebookContainer = gd.closest('#notebook-container');\n",
              "if (notebookContainer) {{\n",
              "    x.observe(notebookContainer, {childList: true});\n",
              "}}\n",
              "\n",
              "// Listen for the clearing of the current output cell\n",
              "var outputEl = gd.closest('.output');\n",
              "if (outputEl) {{\n",
              "    x.observe(outputEl, {childList: true});\n",
              "}}\n",
              "\n",
              "                        })                };                            </script>        </div>\n",
              "</body>\n",
              "</html>"
            ]
          },
          "metadata": {}
        }
      ]
    },
    {
      "cell_type": "markdown",
      "source": [
        "<hr>"
      ],
      "metadata": {
        "id": "pny78xXznXUj"
      }
    }
  ]
}