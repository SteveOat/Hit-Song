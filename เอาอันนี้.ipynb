{
  "nbformat": 4,
  "nbformat_minor": 0,
  "metadata": {
    "colab": {
      "provenance": [],
      "include_colab_link": true
    },
    "kernelspec": {
      "name": "python3",
      "display_name": "Python 3"
    },
    "language_info": {
      "name": "python"
    }
  },
  "cells": [
    {
      "cell_type": "markdown",
      "metadata": {
        "id": "view-in-github",
        "colab_type": "text"
      },
      "source": [
        "<a href=\"https://colab.research.google.com/github/SteveOat/Hit-Song/blob/main/%E0%B9%80%E0%B8%AD%E0%B8%B2%E0%B8%AD%E0%B8%B1%E0%B8%99%E0%B8%99%E0%B8%B5%E0%B9%89.ipynb\" target=\"_parent\"><img src=\"https://colab.research.google.com/assets/colab-badge.svg\" alt=\"Open In Colab\"/></a>"
      ]
    },
    {
      "cell_type": "code",
      "execution_count": null,
      "metadata": {
        "id": "OxecRdkNA7ji"
      },
      "outputs": [],
      "source": [
        "import pandas as pd\n",
        "import numpy as np\n",
        "from IPython.display import display_html\n",
        "\n",
        "df_1 = pd.read_csv('Hot100.csv')\n",
        "df_2 = pd.read_csv('ClassicHit.csv')"
      ]
    },
    {
      "cell_type": "markdown",
      "source": [
        "<h1>Preparing Data"
      ],
      "metadata": {
        "id": "hmBSQywindGJ"
      }
    },
    {
      "cell_type": "markdown",
      "source": [
        "Remove **spaces (\" \")**  from \"Track\" column to match the text format of song's name."
      ],
      "metadata": {
        "id": "bUYkK45ZDSfg"
      }
    },
    {
      "cell_type": "code",
      "source": [
        "df_1['Track'] = df_1['Track'].str.replace(' ','')\n",
        "df_2['Track'] = df_2['Track'].str.replace(' ','')"
      ],
      "metadata": {
        "id": "1uPtIQiVT-dV"
      },
      "execution_count": null,
      "outputs": []
    },
    {
      "cell_type": "code",
      "source": [
        "df_1_track_html = df_1['Track'].head(5).to_frame().to_html()\n",
        "df_2_track_html = df_2['Track'].head(5).to_frame().to_html()\n",
        "\n",
        "html_str = df_1_track_html + '<div style=\"display: inline-block; width: 20px;\"></div>' + df_2_track_html\n",
        "\n",
        "display_html(html_str, raw=True)"
      ],
      "metadata": {
        "colab": {
          "base_uri": "https://localhost:8080/",
          "height": 412
        },
        "id": "emjiE9IMseO2",
        "outputId": "908bbb06-d085-4d7c-f878-5b17194346e5"
      },
      "execution_count": null,
      "outputs": [
        {
          "output_type": "display_data",
          "data": {
            "text/html": [
              "<table border=\"1\" class=\"dataframe\">\n",
              "  <thead>\n",
              "    <tr style=\"text-align: right;\">\n",
              "      <th></th>\n",
              "      <th>Track</th>\n",
              "    </tr>\n",
              "  </thead>\n",
              "  <tbody>\n",
              "    <tr>\n",
              "      <th>0</th>\n",
              "      <td>7rings</td>\n",
              "    </tr>\n",
              "    <tr>\n",
              "      <th>1</th>\n",
              "      <td>BreakFree</td>\n",
              "    </tr>\n",
              "    <tr>\n",
              "      <th>2</th>\n",
              "      <td>DangerousWoman</td>\n",
              "    </tr>\n",
              "    <tr>\n",
              "      <th>3</th>\n",
              "      <td>Godisawoman</td>\n",
              "    </tr>\n",
              "    <tr>\n",
              "      <th>4</th>\n",
              "      <td>IntoYou</td>\n",
              "    </tr>\n",
              "  </tbody>\n",
              "</table><div style=\"display: inline-block; width: 20px;\"></div><table border=\"1\" class=\"dataframe\">\n",
              "  <thead>\n",
              "    <tr style=\"text-align: right;\">\n",
              "      <th></th>\n",
              "      <th>Track</th>\n",
              "    </tr>\n",
              "  </thead>\n",
              "  <tbody>\n",
              "    <tr>\n",
              "      <th>0</th>\n",
              "      <td>HeyJackKerouac</td>\n",
              "    </tr>\n",
              "    <tr>\n",
              "      <th>1</th>\n",
              "      <td>LiketheWeather</td>\n",
              "    </tr>\n",
              "    <tr>\n",
              "      <th>2</th>\n",
              "      <td>What'stheMatterHere?</td>\n",
              "    </tr>\n",
              "    <tr>\n",
              "      <th>3</th>\n",
              "      <td>TroubleMe</td>\n",
              "    </tr>\n",
              "    <tr>\n",
              "      <th>4</th>\n",
              "      <td>CandyEverybodyWants</td>\n",
              "    </tr>\n",
              "  </tbody>\n",
              "</table>"
            ]
          },
          "metadata": {}
        }
      ]
    },
    {
      "cell_type": "markdown",
      "source": [
        "Select the \"Genre\" column from the \"df_2\" table to merge it with the \"df_1\" table, where the song names and artists match.\n",
        "\n",
        "Delete the duplicate rows, then merge the rows that have the same song name but are sung by different artists to differentiate them."
      ],
      "metadata": {
        "id": "kRsMsnSKDZuk"
      }
    },
    {
      "cell_type": "code",
      "source": [
        "df_3 = df_2[['Track', 'Artist','Genre']]\n",
        "df_final = pd.merge( df_1, df_3, left_on=['Track','Artist'], right_on=['Track','Artist'], how='left' )\n",
        "df_final.drop_duplicates(subset=['Track', 'Artist'], keep='first', inplace=True)\n",
        "df_final['Track_n_artist'] = df_final['Track'] + '_' + df_final['Artist']\n",
        "\n",
        "df_final.head()"
      ],
      "metadata": {
        "id": "HLskID3FCYso",
        "colab": {
          "base_uri": "https://localhost:8080/",
          "height": 330
        },
        "outputId": "bb0ae6c9-ae9f-4824-f2f0-0c7faae657da"
      },
      "execution_count": null,
      "outputs": [
        {
          "output_type": "execute_result",
          "data": {
            "text/plain": [
              "            Track         Artist                   Album  Year  Duration  \\\n",
              "0          7rings  Ariana Grande           thank u, next  2019    178626   \n",
              "1       BreakFree  Ariana Grande  My Everything - Deluxe  2014    214840   \n",
              "2  DangerousWoman  Ariana Grande         Dangerous Woman  2016    235946   \n",
              "3     Godisawoman  Ariana Grande               Sweetener  2018    197546   \n",
              "4         IntoYou  Ariana Grande         Dangerous Woman  2016    244453   \n",
              "\n",
              "   Time_Signature  Danceability  Energy  Key  Loudness  Mode  Speechiness  \\\n",
              "0               4         0.780   0.321    1   -10.747     0       0.3720   \n",
              "1               4         0.686   0.702    7    -5.325     0       0.0455   \n",
              "2               3         0.664   0.602    4    -5.369     0       0.0412   \n",
              "3               4         0.602   0.658    1    -5.934     1       0.0558   \n",
              "4               4         0.623   0.734    9    -5.948     1       0.1070   \n",
              "\n",
              "   Acousticness  Instrumentalness  Liveness  Valence    Tempo  Popularity  \\\n",
              "0       0.56200          0.000000    0.0881    0.315  139.961          50   \n",
              "1       0.00637          0.000045    0.2040    0.290  129.948          76   \n",
              "2       0.05290          0.000000    0.3560    0.289  134.049          70   \n",
              "3       0.02330          0.000060    0.2370    0.268  145.031          75   \n",
              "4       0.01620          0.000002    0.1450    0.370  107.853          71   \n",
              "\n",
              "   Genre                Track_n_artist  \n",
              "0  Today          7rings_Ariana Grande  \n",
              "1  Today       BreakFree_Ariana Grande  \n",
              "2  Today  DangerousWoman_Ariana Grande  \n",
              "3  Today     Godisawoman_Ariana Grande  \n",
              "4  Today         IntoYou_Ariana Grande  "
            ],
            "text/html": [
              "\n",
              "  <div id=\"df-ddd6d5fd-dfff-45bd-86a8-b5ddc5f7eb99\" class=\"colab-df-container\">\n",
              "    <div>\n",
              "<style scoped>\n",
              "    .dataframe tbody tr th:only-of-type {\n",
              "        vertical-align: middle;\n",
              "    }\n",
              "\n",
              "    .dataframe tbody tr th {\n",
              "        vertical-align: top;\n",
              "    }\n",
              "\n",
              "    .dataframe thead th {\n",
              "        text-align: right;\n",
              "    }\n",
              "</style>\n",
              "<table border=\"1\" class=\"dataframe\">\n",
              "  <thead>\n",
              "    <tr style=\"text-align: right;\">\n",
              "      <th></th>\n",
              "      <th>Track</th>\n",
              "      <th>Artist</th>\n",
              "      <th>Album</th>\n",
              "      <th>Year</th>\n",
              "      <th>Duration</th>\n",
              "      <th>Time_Signature</th>\n",
              "      <th>Danceability</th>\n",
              "      <th>Energy</th>\n",
              "      <th>Key</th>\n",
              "      <th>Loudness</th>\n",
              "      <th>Mode</th>\n",
              "      <th>Speechiness</th>\n",
              "      <th>Acousticness</th>\n",
              "      <th>Instrumentalness</th>\n",
              "      <th>Liveness</th>\n",
              "      <th>Valence</th>\n",
              "      <th>Tempo</th>\n",
              "      <th>Popularity</th>\n",
              "      <th>Genre</th>\n",
              "      <th>Track_n_artist</th>\n",
              "    </tr>\n",
              "  </thead>\n",
              "  <tbody>\n",
              "    <tr>\n",
              "      <th>0</th>\n",
              "      <td>7rings</td>\n",
              "      <td>Ariana Grande</td>\n",
              "      <td>thank u, next</td>\n",
              "      <td>2019</td>\n",
              "      <td>178626</td>\n",
              "      <td>4</td>\n",
              "      <td>0.780</td>\n",
              "      <td>0.321</td>\n",
              "      <td>1</td>\n",
              "      <td>-10.747</td>\n",
              "      <td>0</td>\n",
              "      <td>0.3720</td>\n",
              "      <td>0.56200</td>\n",
              "      <td>0.000000</td>\n",
              "      <td>0.0881</td>\n",
              "      <td>0.315</td>\n",
              "      <td>139.961</td>\n",
              "      <td>50</td>\n",
              "      <td>Today</td>\n",
              "      <td>7rings_Ariana Grande</td>\n",
              "    </tr>\n",
              "    <tr>\n",
              "      <th>1</th>\n",
              "      <td>BreakFree</td>\n",
              "      <td>Ariana Grande</td>\n",
              "      <td>My Everything - Deluxe</td>\n",
              "      <td>2014</td>\n",
              "      <td>214840</td>\n",
              "      <td>4</td>\n",
              "      <td>0.686</td>\n",
              "      <td>0.702</td>\n",
              "      <td>7</td>\n",
              "      <td>-5.325</td>\n",
              "      <td>0</td>\n",
              "      <td>0.0455</td>\n",
              "      <td>0.00637</td>\n",
              "      <td>0.000045</td>\n",
              "      <td>0.2040</td>\n",
              "      <td>0.290</td>\n",
              "      <td>129.948</td>\n",
              "      <td>76</td>\n",
              "      <td>Today</td>\n",
              "      <td>BreakFree_Ariana Grande</td>\n",
              "    </tr>\n",
              "    <tr>\n",
              "      <th>2</th>\n",
              "      <td>DangerousWoman</td>\n",
              "      <td>Ariana Grande</td>\n",
              "      <td>Dangerous Woman</td>\n",
              "      <td>2016</td>\n",
              "      <td>235946</td>\n",
              "      <td>3</td>\n",
              "      <td>0.664</td>\n",
              "      <td>0.602</td>\n",
              "      <td>4</td>\n",
              "      <td>-5.369</td>\n",
              "      <td>0</td>\n",
              "      <td>0.0412</td>\n",
              "      <td>0.05290</td>\n",
              "      <td>0.000000</td>\n",
              "      <td>0.3560</td>\n",
              "      <td>0.289</td>\n",
              "      <td>134.049</td>\n",
              "      <td>70</td>\n",
              "      <td>Today</td>\n",
              "      <td>DangerousWoman_Ariana Grande</td>\n",
              "    </tr>\n",
              "    <tr>\n",
              "      <th>3</th>\n",
              "      <td>Godisawoman</td>\n",
              "      <td>Ariana Grande</td>\n",
              "      <td>Sweetener</td>\n",
              "      <td>2018</td>\n",
              "      <td>197546</td>\n",
              "      <td>4</td>\n",
              "      <td>0.602</td>\n",
              "      <td>0.658</td>\n",
              "      <td>1</td>\n",
              "      <td>-5.934</td>\n",
              "      <td>1</td>\n",
              "      <td>0.0558</td>\n",
              "      <td>0.02330</td>\n",
              "      <td>0.000060</td>\n",
              "      <td>0.2370</td>\n",
              "      <td>0.268</td>\n",
              "      <td>145.031</td>\n",
              "      <td>75</td>\n",
              "      <td>Today</td>\n",
              "      <td>Godisawoman_Ariana Grande</td>\n",
              "    </tr>\n",
              "    <tr>\n",
              "      <th>4</th>\n",
              "      <td>IntoYou</td>\n",
              "      <td>Ariana Grande</td>\n",
              "      <td>Dangerous Woman</td>\n",
              "      <td>2016</td>\n",
              "      <td>244453</td>\n",
              "      <td>4</td>\n",
              "      <td>0.623</td>\n",
              "      <td>0.734</td>\n",
              "      <td>9</td>\n",
              "      <td>-5.948</td>\n",
              "      <td>1</td>\n",
              "      <td>0.1070</td>\n",
              "      <td>0.01620</td>\n",
              "      <td>0.000002</td>\n",
              "      <td>0.1450</td>\n",
              "      <td>0.370</td>\n",
              "      <td>107.853</td>\n",
              "      <td>71</td>\n",
              "      <td>Today</td>\n",
              "      <td>IntoYou_Ariana Grande</td>\n",
              "    </tr>\n",
              "  </tbody>\n",
              "</table>\n",
              "</div>\n",
              "    <div class=\"colab-df-buttons\">\n",
              "\n",
              "  <div class=\"colab-df-container\">\n",
              "    <button class=\"colab-df-convert\" onclick=\"convertToInteractive('df-ddd6d5fd-dfff-45bd-86a8-b5ddc5f7eb99')\"\n",
              "            title=\"Convert this dataframe to an interactive table.\"\n",
              "            style=\"display:none;\">\n",
              "\n",
              "  <svg xmlns=\"http://www.w3.org/2000/svg\" height=\"24px\" viewBox=\"0 -960 960 960\">\n",
              "    <path d=\"M120-120v-720h720v720H120Zm60-500h600v-160H180v160Zm220 220h160v-160H400v160Zm0 220h160v-160H400v160ZM180-400h160v-160H180v160Zm440 0h160v-160H620v160ZM180-180h160v-160H180v160Zm440 0h160v-160H620v160Z\"/>\n",
              "  </svg>\n",
              "    </button>\n",
              "\n",
              "  <style>\n",
              "    .colab-df-container {\n",
              "      display:flex;\n",
              "      gap: 12px;\n",
              "    }\n",
              "\n",
              "    .colab-df-convert {\n",
              "      background-color: #E8F0FE;\n",
              "      border: none;\n",
              "      border-radius: 50%;\n",
              "      cursor: pointer;\n",
              "      display: none;\n",
              "      fill: #1967D2;\n",
              "      height: 32px;\n",
              "      padding: 0 0 0 0;\n",
              "      width: 32px;\n",
              "    }\n",
              "\n",
              "    .colab-df-convert:hover {\n",
              "      background-color: #E2EBFA;\n",
              "      box-shadow: 0px 1px 2px rgba(60, 64, 67, 0.3), 0px 1px 3px 1px rgba(60, 64, 67, 0.15);\n",
              "      fill: #174EA6;\n",
              "    }\n",
              "\n",
              "    .colab-df-buttons div {\n",
              "      margin-bottom: 4px;\n",
              "    }\n",
              "\n",
              "    [theme=dark] .colab-df-convert {\n",
              "      background-color: #3B4455;\n",
              "      fill: #D2E3FC;\n",
              "    }\n",
              "\n",
              "    [theme=dark] .colab-df-convert:hover {\n",
              "      background-color: #434B5C;\n",
              "      box-shadow: 0px 1px 3px 1px rgba(0, 0, 0, 0.15);\n",
              "      filter: drop-shadow(0px 1px 2px rgba(0, 0, 0, 0.3));\n",
              "      fill: #FFFFFF;\n",
              "    }\n",
              "  </style>\n",
              "\n",
              "    <script>\n",
              "      const buttonEl =\n",
              "        document.querySelector('#df-ddd6d5fd-dfff-45bd-86a8-b5ddc5f7eb99 button.colab-df-convert');\n",
              "      buttonEl.style.display =\n",
              "        google.colab.kernel.accessAllowed ? 'block' : 'none';\n",
              "\n",
              "      async function convertToInteractive(key) {\n",
              "        const element = document.querySelector('#df-ddd6d5fd-dfff-45bd-86a8-b5ddc5f7eb99');\n",
              "        const dataTable =\n",
              "          await google.colab.kernel.invokeFunction('convertToInteractive',\n",
              "                                                    [key], {});\n",
              "        if (!dataTable) return;\n",
              "\n",
              "        const docLinkHtml = 'Like what you see? Visit the ' +\n",
              "          '<a target=\"_blank\" href=https://colab.research.google.com/notebooks/data_table.ipynb>data table notebook</a>'\n",
              "          + ' to learn more about interactive tables.';\n",
              "        element.innerHTML = '';\n",
              "        dataTable['output_type'] = 'display_data';\n",
              "        await google.colab.output.renderOutput(dataTable, element);\n",
              "        const docLink = document.createElement('div');\n",
              "        docLink.innerHTML = docLinkHtml;\n",
              "        element.appendChild(docLink);\n",
              "      }\n",
              "    </script>\n",
              "  </div>\n",
              "\n",
              "\n",
              "<div id=\"df-def1c253-fe4b-4283-a1ff-cdac7ea16ada\">\n",
              "  <button class=\"colab-df-quickchart\" onclick=\"quickchart('df-def1c253-fe4b-4283-a1ff-cdac7ea16ada')\"\n",
              "            title=\"Suggest charts\"\n",
              "            style=\"display:none;\">\n",
              "\n",
              "<svg xmlns=\"http://www.w3.org/2000/svg\" height=\"24px\"viewBox=\"0 0 24 24\"\n",
              "     width=\"24px\">\n",
              "    <g>\n",
              "        <path d=\"M19 3H5c-1.1 0-2 .9-2 2v14c0 1.1.9 2 2 2h14c1.1 0 2-.9 2-2V5c0-1.1-.9-2-2-2zM9 17H7v-7h2v7zm4 0h-2V7h2v10zm4 0h-2v-4h2v4z\"/>\n",
              "    </g>\n",
              "</svg>\n",
              "  </button>\n",
              "\n",
              "<style>\n",
              "  .colab-df-quickchart {\n",
              "      --bg-color: #E8F0FE;\n",
              "      --fill-color: #1967D2;\n",
              "      --hover-bg-color: #E2EBFA;\n",
              "      --hover-fill-color: #174EA6;\n",
              "      --disabled-fill-color: #AAA;\n",
              "      --disabled-bg-color: #DDD;\n",
              "  }\n",
              "\n",
              "  [theme=dark] .colab-df-quickchart {\n",
              "      --bg-color: #3B4455;\n",
              "      --fill-color: #D2E3FC;\n",
              "      --hover-bg-color: #434B5C;\n",
              "      --hover-fill-color: #FFFFFF;\n",
              "      --disabled-bg-color: #3B4455;\n",
              "      --disabled-fill-color: #666;\n",
              "  }\n",
              "\n",
              "  .colab-df-quickchart {\n",
              "    background-color: var(--bg-color);\n",
              "    border: none;\n",
              "    border-radius: 50%;\n",
              "    cursor: pointer;\n",
              "    display: none;\n",
              "    fill: var(--fill-color);\n",
              "    height: 32px;\n",
              "    padding: 0;\n",
              "    width: 32px;\n",
              "  }\n",
              "\n",
              "  .colab-df-quickchart:hover {\n",
              "    background-color: var(--hover-bg-color);\n",
              "    box-shadow: 0 1px 2px rgba(60, 64, 67, 0.3), 0 1px 3px 1px rgba(60, 64, 67, 0.15);\n",
              "    fill: var(--button-hover-fill-color);\n",
              "  }\n",
              "\n",
              "  .colab-df-quickchart-complete:disabled,\n",
              "  .colab-df-quickchart-complete:disabled:hover {\n",
              "    background-color: var(--disabled-bg-color);\n",
              "    fill: var(--disabled-fill-color);\n",
              "    box-shadow: none;\n",
              "  }\n",
              "\n",
              "  .colab-df-spinner {\n",
              "    border: 2px solid var(--fill-color);\n",
              "    border-color: transparent;\n",
              "    border-bottom-color: var(--fill-color);\n",
              "    animation:\n",
              "      spin 1s steps(1) infinite;\n",
              "  }\n",
              "\n",
              "  @keyframes spin {\n",
              "    0% {\n",
              "      border-color: transparent;\n",
              "      border-bottom-color: var(--fill-color);\n",
              "      border-left-color: var(--fill-color);\n",
              "    }\n",
              "    20% {\n",
              "      border-color: transparent;\n",
              "      border-left-color: var(--fill-color);\n",
              "      border-top-color: var(--fill-color);\n",
              "    }\n",
              "    30% {\n",
              "      border-color: transparent;\n",
              "      border-left-color: var(--fill-color);\n",
              "      border-top-color: var(--fill-color);\n",
              "      border-right-color: var(--fill-color);\n",
              "    }\n",
              "    40% {\n",
              "      border-color: transparent;\n",
              "      border-right-color: var(--fill-color);\n",
              "      border-top-color: var(--fill-color);\n",
              "    }\n",
              "    60% {\n",
              "      border-color: transparent;\n",
              "      border-right-color: var(--fill-color);\n",
              "    }\n",
              "    80% {\n",
              "      border-color: transparent;\n",
              "      border-right-color: var(--fill-color);\n",
              "      border-bottom-color: var(--fill-color);\n",
              "    }\n",
              "    90% {\n",
              "      border-color: transparent;\n",
              "      border-bottom-color: var(--fill-color);\n",
              "    }\n",
              "  }\n",
              "</style>\n",
              "\n",
              "  <script>\n",
              "    async function quickchart(key) {\n",
              "      const quickchartButtonEl =\n",
              "        document.querySelector('#' + key + ' button');\n",
              "      quickchartButtonEl.disabled = true;  // To prevent multiple clicks.\n",
              "      quickchartButtonEl.classList.add('colab-df-spinner');\n",
              "      try {\n",
              "        const charts = await google.colab.kernel.invokeFunction(\n",
              "            'suggestCharts', [key], {});\n",
              "      } catch (error) {\n",
              "        console.error('Error during call to suggestCharts:', error);\n",
              "      }\n",
              "      quickchartButtonEl.classList.remove('colab-df-spinner');\n",
              "      quickchartButtonEl.classList.add('colab-df-quickchart-complete');\n",
              "    }\n",
              "    (() => {\n",
              "      let quickchartButtonEl =\n",
              "        document.querySelector('#df-def1c253-fe4b-4283-a1ff-cdac7ea16ada button');\n",
              "      quickchartButtonEl.style.display =\n",
              "        google.colab.kernel.accessAllowed ? 'block' : 'none';\n",
              "    })();\n",
              "  </script>\n",
              "</div>\n",
              "\n",
              "    </div>\n",
              "  </div>\n"
            ],
            "application/vnd.google.colaboratory.intrinsic+json": {
              "type": "dataframe",
              "variable_name": "df_final",
              "summary": "{\n  \"name\": \"df_final\",\n  \"rows\": 620,\n  \"fields\": [\n    {\n      \"column\": \"Track\",\n      \"properties\": {\n        \"dtype\": \"string\",\n        \"num_unique_values\": 616,\n        \"samples\": [\n          \"Nothin'onYou\",\n          \"AnyOl'Barstool\",\n          \"AfterHours\"\n        ],\n        \"semantic_type\": \"\",\n        \"description\": \"\"\n      }\n    },\n    {\n      \"column\": \"Artist\",\n      \"properties\": {\n        \"dtype\": \"category\",\n        \"num_unique_values\": 87,\n        \"samples\": [\n          \"Stephen Sanchez\",\n          \"Ariana Grande\",\n          \"Harry Styles\"\n        ],\n        \"semantic_type\": \"\",\n        \"description\": \"\"\n      }\n    },\n    {\n      \"column\": \"Album\",\n      \"properties\": {\n        \"dtype\": \"string\",\n        \"num_unique_values\": 419,\n        \"samples\": [\n          \"The Fame\",\n          \"The Pinkprint (Deluxe Edition)\",\n          \"Worship You\"\n        ],\n        \"semantic_type\": \"\",\n        \"description\": \"\"\n      }\n    },\n    {\n      \"column\": \"Year\",\n      \"properties\": {\n        \"dtype\": \"number\",\n        \"std\": 4,\n        \"min\": 2001,\n        \"max\": 2023,\n        \"num_unique_values\": 23,\n        \"samples\": [\n          2007,\n          2013,\n          2019\n        ],\n        \"semantic_type\": \"\",\n        \"description\": \"\"\n      }\n    },\n    {\n      \"column\": \"Duration\",\n      \"properties\": {\n        \"dtype\": \"number\",\n        \"std\": 43636,\n        \"min\": 36226,\n        \"max\": 613026,\n        \"num_unique_values\": 613,\n        \"samples\": [\n          231906,\n          199733,\n          187040\n        ],\n        \"semantic_type\": \"\",\n        \"description\": \"\"\n      }\n    },\n    {\n      \"column\": \"Time_Signature\",\n      \"properties\": {\n        \"dtype\": \"number\",\n        \"std\": 0,\n        \"min\": 1,\n        \"max\": 5,\n        \"num_unique_values\": 4,\n        \"samples\": [\n          3,\n          5,\n          4\n        ],\n        \"semantic_type\": \"\",\n        \"description\": \"\"\n      }\n    },\n    {\n      \"column\": \"Danceability\",\n      \"properties\": {\n        \"dtype\": \"number\",\n        \"std\": 0.13967379359578186,\n        \"min\": 0.261,\n        \"max\": 0.968,\n        \"num_unique_values\": 370,\n        \"samples\": [\n          0.585,\n          0.632,\n          0.86\n        ],\n        \"semantic_type\": \"\",\n        \"description\": \"\"\n      }\n    },\n    {\n      \"column\": \"Energy\",\n      \"properties\": {\n        \"dtype\": \"number\",\n        \"std\": 0.17658866856496758,\n        \"min\": 0.0436,\n        \"max\": 0.97,\n        \"num_unique_values\": 392,\n        \"samples\": [\n          0.849,\n          0.511,\n          0.66\n        ],\n        \"semantic_type\": \"\",\n        \"description\": \"\"\n      }\n    },\n    {\n      \"column\": \"Key\",\n      \"properties\": {\n        \"dtype\": \"number\",\n        \"std\": 3,\n        \"min\": 0,\n        \"max\": 11,\n        \"num_unique_values\": 12,\n        \"samples\": [\n          5,\n          10,\n          1\n        ],\n        \"semantic_type\": \"\",\n        \"description\": \"\"\n      }\n    },\n    {\n      \"column\": \"Loudness\",\n      \"properties\": {\n        \"dtype\": \"number\",\n        \"std\": 2.302341425468046,\n        \"min\": -15.608,\n        \"max\": -1.702,\n        \"num_unique_values\": 593,\n        \"samples\": [\n          -6.902,\n          -3.426,\n          -4.494\n        ],\n        \"semantic_type\": \"\",\n        \"description\": \"\"\n      }\n    },\n    {\n      \"column\": \"Mode\",\n      \"properties\": {\n        \"dtype\": \"number\",\n        \"std\": 0,\n        \"min\": 0,\n        \"max\": 1,\n        \"num_unique_values\": 2,\n        \"samples\": [\n          1,\n          0\n        ],\n        \"semantic_type\": \"\",\n        \"description\": \"\"\n      }\n    },\n    {\n      \"column\": \"Speechiness\",\n      \"properties\": {\n        \"dtype\": \"number\",\n        \"std\": 0.10622692801277124,\n        \"min\": 0.0229,\n        \"max\": 0.879,\n        \"num_unique_values\": 428,\n        \"samples\": [\n          0.0294,\n          0.0229\n        ],\n        \"semantic_type\": \"\",\n        \"description\": \"\"\n      }\n    },\n    {\n      \"column\": \"Acousticness\",\n      \"properties\": {\n        \"dtype\": \"number\",\n        \"std\": 0.25279390816210645,\n        \"min\": 9.91e-05,\n        \"max\": 0.978,\n        \"num_unique_values\": 512,\n        \"samples\": [\n          0.013,\n          0.645\n        ],\n        \"semantic_type\": \"\",\n        \"description\": \"\"\n      }\n    },\n    {\n      \"column\": \"Instrumentalness\",\n      \"properties\": {\n        \"dtype\": \"number\",\n        \"std\": 0.03860769873870047,\n        \"min\": 0.0,\n        \"max\": 0.657,\n        \"num_unique_values\": 293,\n        \"samples\": [\n          0.00103,\n          0.000302\n        ],\n        \"semantic_type\": \"\",\n        \"description\": \"\"\n      }\n    },\n    {\n      \"column\": \"Liveness\",\n      \"properties\": {\n        \"dtype\": \"number\",\n        \"std\": 0.11979434356380414,\n        \"min\": 0.0232,\n        \"max\": 0.831,\n        \"num_unique_values\": 343,\n        \"samples\": [\n          0.0839,\n          0.153\n        ],\n        \"semantic_type\": \"\",\n        \"description\": \"\"\n      }\n    },\n    {\n      \"column\": \"Valence\",\n      \"properties\": {\n        \"dtype\": \"number\",\n        \"std\": 0.21940411265524143,\n        \"min\": 0.0499,\n        \"max\": 0.98,\n        \"num_unique_values\": 438,\n        \"samples\": [\n          0.809,\n          0.87\n        ],\n        \"semantic_type\": \"\",\n        \"description\": \"\"\n      }\n    },\n    {\n      \"column\": \"Tempo\",\n      \"properties\": {\n        \"dtype\": \"number\",\n        \"std\": 29.132836602282552,\n        \"min\": 69.877,\n        \"max\": 203.903,\n        \"num_unique_values\": 611,\n        \"samples\": [\n          160.087,\n          140.068\n        ],\n        \"semantic_type\": \"\",\n        \"description\": \"\"\n      }\n    },\n    {\n      \"column\": \"Popularity\",\n      \"properties\": {\n        \"dtype\": \"number\",\n        \"std\": 13,\n        \"min\": 0,\n        \"max\": 98,\n        \"num_unique_values\": 70,\n        \"samples\": [\n          81,\n          50\n        ],\n        \"semantic_type\": \"\",\n        \"description\": \"\"\n      }\n    },\n    {\n      \"column\": \"Genre\",\n      \"properties\": {\n        \"dtype\": \"category\",\n        \"num_unique_values\": 4,\n        \"samples\": [\n          \"EDM\",\n          \"R&B\"\n        ],\n        \"semantic_type\": \"\",\n        \"description\": \"\"\n      }\n    },\n    {\n      \"column\": \"Track_n_artist\",\n      \"properties\": {\n        \"dtype\": \"string\",\n        \"num_unique_values\": 620,\n        \"samples\": [\n          \"BeCareful_Cardi B\",\n          \"FavoriteSong_Toosii\"\n        ],\n        \"semantic_type\": \"\",\n        \"description\": \"\"\n      }\n    }\n  ]\n}"
            }
          },
          "metadata": {},
          "execution_count": 4
        }
      ]
    },
    {
      "cell_type": "markdown",
      "source": [
        "<hr>"
      ],
      "metadata": {
        "id": "pEbDewlAIpNK"
      }
    },
    {
      "cell_type": "markdown",
      "source": [
        "<h1>Clustering Data"
      ],
      "metadata": {
        "id": "wWYeua8mJMMy"
      }
    },
    {
      "cell_type": "markdown",
      "source": [
        "**1. Key**\n",
        "*   Musical key of the track, represented by integers (0 = C, 1 = C#/Db, etc.).\n",
        "\n"
      ],
      "metadata": {
        "id": "NlxbZ28Kn-Yk"
      }
    },
    {
      "cell_type": "code",
      "source": [
        "df_final['Cluster_Key'] = np.where(df_final['Key'] == 0, 'C',\n",
        "                                         np.where(df_final['Key'] == 1, 'C#/Db',\n",
        "                                        np.where(df_final['Key'] == 2, 'D',\n",
        "                                        np.where(df_final['Key'] == 3, 'Eb',\n",
        "                                        np.where(df_final['Key'] == 4, 'E',\n",
        "                                        np.where(df_final['Key'] == 5, 'F',\n",
        "                                        np.where(df_final['Key'] == 6, 'F#/Gb',\n",
        "                                        np.where(df_final['Key'] == 7, 'G',\n",
        "                                        np.where(df_final['Key'] == 8, 'G#/Ab',\n",
        "                                        np.where(df_final['Key'] == 9, 'A',\n",
        "                                        np.where(df_final['Key'] ==  10, 'A#/Bb',\n",
        "                                        np.where(df_final['Key'] ==  11, 'B',''))))))))))))"
      ],
      "metadata": {
        "id": "i_iXIkGRbub9"
      },
      "execution_count": null,
      "outputs": []
    },
    {
      "cell_type": "markdown",
      "source": [
        "**2. Mode**\n",
        "* Indicates whether the track is in a major (1) or minor (0) key."
      ],
      "metadata": {
        "id": "RlzzQgUtJSnp"
      }
    },
    {
      "cell_type": "code",
      "source": [
        "df_final['Cluster_Mode'] = np.where(df_final['Mode'] == 0, 'Minor',\n",
        "                                      np.where(df_final['Mode'] == 1, 'Major',''))"
      ],
      "metadata": {
        "id": "967Hy7g1JfYm"
      },
      "execution_count": null,
      "outputs": []
    },
    {
      "cell_type": "markdown",
      "source": [
        "**3. Duration**\n",
        "- Length of the track, usually in milliseconds.\n",
        " - Short: 0 - 180,000 ms (0 - 3 minutes)\n",
        " - Medium: 180,001 - 300,000 ms (3 - 5 minutes)\n",
        " - Long: 300,001 ms and above (5+ minutes)"
      ],
      "metadata": {
        "id": "ss5thT7yHOCs"
      }
    },
    {
      "cell_type": "code",
      "source": [
        "df_final['Cluster_Duration(Min)'] = np.where(df_final['Duration'] < 180000, '0-3mins',\n",
        "                                                  np.where(df_final['Duration'] < 300000, '3-5mins', '5+mins'))"
      ],
      "metadata": {
        "id": "JFs-ySmsD_Yu"
      },
      "execution_count": null,
      "outputs": []
    },
    {
      "cell_type": "markdown",
      "source": [
        "**4. Danceability**\n",
        "- How suitable a track is for dancing, from 0.0 to 1.0.\n",
        " - Low: 0.0 - 0.4 (e.g., classical, ambient)\n",
        " - Medium: 0.4 - 0.7 (e.g., soft rock, indie)\n",
        " - High: 0.7 - 1.0 (e.g., pop, dance, hip-hop)"
      ],
      "metadata": {
        "id": "ScMhvQ3qgkyw"
      }
    },
    {
      "cell_type": "code",
      "source": [
        "df_final['Cluster_Danceability'] = np.where(df_final['Danceability'] <= 0.4, 'Low_Dance',\n",
        "                                               np.where(df_final['Danceability'] <= 0.7, 'Mid_Dance',\n",
        "                                               np.where(df_final['Danceability'] <=  1,'High_Dance','')))"
      ],
      "metadata": {
        "id": "-xXlv-e_gpip"
      },
      "execution_count": null,
      "outputs": []
    },
    {
      "cell_type": "markdown",
      "source": [
        "**5. Energy**\n",
        "- Measure of intensity and activity in the track, from 0.0 to 1.0.\n",
        " - Low Energy: 0.0 - 0.4 (e.g., acoustic, ambient, soft ballads)\n",
        " - Medium Energy: 0.4 - 0.7 (e.g., indie rock, chill electronic)\n",
        " - High Energy: 0.7 - 1.0 (e.g., EDM, rock, fast-paced pop)"
      ],
      "metadata": {
        "id": "q7S_2bxZh-k9"
      }
    },
    {
      "cell_type": "code",
      "source": [
        "df_final['Cluster_Energy'] = np.where(df_final['Energy'] <= 0.4, 'Low_Energy',\n",
        "                                        np.where(df_final['Energy'] <= 0.7, 'Mid_Energy',\n",
        "                                        np.where(df_final['Energy'] <=  1, 'High_Energy','')))"
      ],
      "metadata": {
        "id": "IdsGzo-xiESu"
      },
      "execution_count": null,
      "outputs": []
    },
    {
      "cell_type": "markdown",
      "source": [
        "**6.Loudness**\n",
        "- Spotify offers three loudness settings to control how normalization is applied:\n",
        "\n",
        " - Loud : This applies a normalization level of around -11 dB LUFS, suitable for noisier environments where higher volume is needed.\n",
        " - Normal (default) : This is the standard setting at -14 dB LUFS, aiming for balanced playback across all tracks.\n",
        " - Quiet : This setting lowers the loudness normalization target to -23 dB LUFS, ideal for quiet environments or more dynamic listening experiences."
      ],
      "metadata": {
        "id": "13iRr6ah79tD"
      }
    },
    {
      "cell_type": "code",
      "source": [
        "df_final['Cluster_Loudness'] = np.where(df_final['Loudness'] >= -11, 'High_Loud',\n",
        "                                            np.where(df_final['Loudness'] >= -14, 'Mid_Loud', 'Low_Loud'))"
      ],
      "metadata": {
        "id": "nRxU2U93ecGz"
      },
      "execution_count": null,
      "outputs": []
    },
    {
      "cell_type": "markdown",
      "source": [
        "**7. Speechiness**\n",
        "-  Detects the presence of spoken words in a track, from 0.0 to 1.0.\n",
        " - Low Speechiness: 0.0 - 0.33 (e.g., music without much spoken word)\n",
        " - Medium Speechiness: 0.33 - 0.66 (e.g., tracks with both music and speech, like rap)\n",
        " - High Speechiness: 0.66 - 1.0 (e.g., podcasts, spoken word tracks)"
      ],
      "metadata": {
        "id": "GnY6QkWpkM2G"
      }
    },
    {
      "cell_type": "code",
      "source": [
        "df_final['Cluster_Speechiness'] = np.where(df_final['Speechiness'] <= 0.333, 'Low_Speech',\n",
        "                                               np.where(df_final['Speechiness'] <= 0.666, 'Mid_Speech',\n",
        "                                               np.where(df_final['Speechiness'] <=  1, 'High_Speech','')))"
      ],
      "metadata": {
        "id": "NYWuMDIVkRLQ"
      },
      "execution_count": null,
      "outputs": []
    },
    {
      "cell_type": "markdown",
      "source": [
        "**8. Acousticness**\n",
        "- Confidence level that the track is acoustic, from 0.0 to 1.0.\n",
        " - Low Acousticness: 0.0 - 0.3 (e.g., electronic, heavily produced)\n",
        " - Medium Acousticness: 0.3 - 0.7 (e.g., some balance between acoustic and electronic elements)\n",
        " - High Acousticness: 0.7 - 1.0 (e.g., acoustic tracks, singer-songwriter)"
      ],
      "metadata": {
        "id": "qz5_sBCHkoDi"
      }
    },
    {
      "cell_type": "code",
      "source": [
        "df_final['Cluster_Acousticness'] = np.where(df_final['Acousticness'] <= 0.3, 'Low_Acoustic',\n",
        "                                                np.where(df_final['Acousticness'] <= 0.7, 'Mid_Acoustic',\n",
        "                                                np.where(df_final['Acousticness'] <=  1, 'High_Acoustic','')))"
      ],
      "metadata": {
        "id": "J2JxXaGOkvP_"
      },
      "execution_count": null,
      "outputs": []
    },
    {
      "cell_type": "markdown",
      "source": [
        "**9. Instrumentalness**\n",
        "- Probability that the track contains no vocals, from 0.0 to 1.0.\n",
        " - Vocal-heavy: 0.0 - 0.1 (most mainstream music)\n",
        " - Medium Instrumentalness: 0.1 - 0.5 (vocals present but not dominant)\n",
        " - Instrumental: 0.5 - 1.0 (mostly instrumental, no vocals)"
      ],
      "metadata": {
        "id": "SOSqwFysk8L0"
      }
    },
    {
      "cell_type": "code",
      "source": [
        "df_final['Cluster_Instrumentalness'] = np.where(df_final['Instrumentalness'] <= 0.1, 'Low_Instru',\n",
        "                                                      np.where(df_final['Instrumentalness'] <= 0.5, 'Mid_Instru',\n",
        "                                                      np.where(df_final['Instrumentalness'] <=  1, 'High_Instru','')))"
      ],
      "metadata": {
        "id": "1sz9ME0jlAUI"
      },
      "execution_count": null,
      "outputs": []
    },
    {
      "cell_type": "markdown",
      "source": [
        "**10. Liveness**\n",
        "- Detects the presence of a live audience in the recording, from 0.0 to 1.0.\n",
        " - Studio-like: 0.0 - 0.3 (recorded in a studio without live ambiance)\n",
        " - Medium Liveness: 0.3 - 0.6 (some audience noise or live characteristics)\n",
        " - Live Recording: 0.6 - 1.0 (recorded live in concert with audience presence)"
      ],
      "metadata": {
        "id": "tNiyhFwVlSQo"
      }
    },
    {
      "cell_type": "code",
      "source": [
        "df_final['Cluster_Liveness'] = np.where(df_final['Liveness'] <= 0.3, 'Studio_Liveness','Outdoor_Liveness')"
      ],
      "metadata": {
        "id": "nAJKX6ZOlXSg"
      },
      "execution_count": null,
      "outputs": []
    },
    {
      "cell_type": "markdown",
      "source": [
        "**11. Valence**\n",
        "- Describes the musical positiveness conveyed by a track, from 0.0 to 1.0.\n",
        " - Low Valence: 0.0 - 0.3 (e.g., sad, melancholic tracks)\n",
        " - Medium Valence: 0.3 - 0.6 (e.g., neutral or emotionally mixed tracks)\n",
        " - High Valence: 0.6 - 1.0 (e.g., happy, cheerful, upbeat tracks)"
      ],
      "metadata": {
        "id": "WVkKOC2alnXj"
      }
    },
    {
      "cell_type": "code",
      "source": [
        "df_final['Cluster_Valence'] = np.where(df_final['Valence'] <= 0.3, 'Low_Valence',\n",
        "                                         np.where(df_final['Valence'] <= 0.6, 'Mid_Valence',\n",
        "                                         np.where(df_final['Valence'] <=  1, 'High_Valence','')))"
      ],
      "metadata": {
        "id": "weRX37e0lsMP"
      },
      "execution_count": null,
      "outputs": []
    },
    {
      "cell_type": "markdown",
      "source": [
        "**12. Tempo**\n",
        "- Speed of the track in beats per minute (BPM).\n",
        " - Slow: 0 - 60 BPM (e.g., ballads, ambient music)\n",
        " - Medium: 60 - 120 BPM (e.g., pop, mid-tempo rock)\n",
        " - Fast: 120 - 180+ BPM (e.g., dance, EDM, upbeat tracks)"
      ],
      "metadata": {
        "id": "TvGO-f0Ql4fc"
      }
    },
    {
      "cell_type": "code",
      "source": [
        "df_final['Cluster_Tempo'] = np.where(df_final['Tempo'] <= 60 , 'Low_Tempo',\n",
        "                                       np.where(df_final['Tempo'] <= 120 , 'Mid_Tempo', 'High_Tempo'))"
      ],
      "metadata": {
        "id": "lfz0pKb3l9yc"
      },
      "execution_count": null,
      "outputs": []
    },
    {
      "cell_type": "markdown",
      "source": [
        "<hr>"
      ],
      "metadata": {
        "id": "3HPpbUQ5rDA2"
      }
    },
    {
      "cell_type": "markdown",
      "source": [
        "<h1>Challenge"
      ],
      "metadata": {
        "id": "tJxWJhf6zYRR"
      }
    },
    {
      "cell_type": "markdown",
      "source": [
        "<h1>Pearson's"
      ],
      "metadata": {
        "id": "eGNECGaNiZeK"
      }
    },
    {
      "cell_type": "code",
      "source": [
        "from scipy.stats import pearsonr\n",
        "\n",
        "# Example: Load your data into a DataFrame\n",
        "# Replace 'your_data.csv' with the path to your CSV file\n",
        "df = pd.read_csv('Pearson_material.csv')\n",
        "\n",
        "# List to store results\n",
        "correlation_results = {}\n",
        "\n",
        "# Calculate Pearson's r for each feature against 'Popularity'\n",
        "for column in df.columns:\n",
        "    if column != 'Streams':\n",
        "        # Calculate Pearson's r using pandas\n",
        "        correlation = df['Streams'].corr(df[column])\n",
        "\n",
        "        # Alternatively, calculate Pearson's r using scipy\n",
        "        # correlation, _ = pearsonr(df['Popularity'], df[column])\n",
        "\n",
        "        correlation_results[column] = correlation\n",
        "\n",
        "# Convert results to a DataFrame for better visualization\n",
        "correlation_df = pd.DataFrame(correlation_results.items(), columns=['Feature', 'Pearson_r'])\n",
        "print(correlation_df)"
      ],
      "metadata": {
        "colab": {
          "base_uri": "https://localhost:8080/"
        },
        "id": "B67K2C3pFORF",
        "outputId": "1952450b-e115-45d7-d881-ed5bc1680a81"
      },
      "execution_count": null,
      "outputs": [
        {
          "output_type": "stream",
          "name": "stdout",
          "text": [
            "             Feature  Pearson_r\n",
            "0           Duration   0.114120\n",
            "1     Time_Signature   0.016736\n",
            "2       Danceability   0.003988\n",
            "3             Energy  -0.120006\n",
            "4                Key  -0.079695\n",
            "5           Loudness  -0.028149\n",
            "6               Mode  -0.038582\n",
            "7        Speechiness  -0.025790\n",
            "8       Acousticness   0.099209\n",
            "9   Instrumentalness   0.089646\n",
            "10          Liveness   0.000527\n",
            "11           Valence  -0.097101\n",
            "12             Tempo  -0.058948\n"
          ]
        }
      ]
    },
    {
      "cell_type": "code",
      "source": [
        "import seaborn as sns\n",
        "import matplotlib.pyplot as plt\n",
        "\n",
        "# Assuming 'df' is your original DataFrame and 'Popularity' is the target column\n",
        "popularity_corr = df.corr()[['Streams']]  # Select only the 'Popularity' row\n",
        "\n",
        "plt.figure(figsize=(10, 8))  # Adjust figure size as needed\n",
        "sns.heatmap(popularity_corr, annot=True, cmap='coolwarm', fmt=\".2f\")\n",
        "plt.title(\"Pearson Correlation with Streams\")\n",
        "plt.show()"
      ],
      "metadata": {
        "colab": {
          "base_uri": "https://localhost:8080/",
          "height": 541
        },
        "id": "QHdDgZCO0vld",
        "outputId": "509130c3-2d60-4a5d-e43e-e0f07a798d62"
      },
      "execution_count": null,
      "outputs": [
        {
          "output_type": "display_data",
          "data": {
            "text/plain": [
              "<Figure size 1000x800 with 2 Axes>"
            ],
            "image/png": "[encoded data removed]"
          },
          "metadata": {}
        }
      ]
    },
    {
      "cell_type": "code",
      "source": [
        "import plotly.express as px\n",
        "\n",
        "fig=px.imshow(df.corr(),text_auto=True,height=800,width=800,color_continuous_scale=px.colors.sequential.Greens,aspect='auto',title='<b>paiwise correlation of columns')\n",
        "fig.update_layout(title_x=0.5)\n",
        "fig.show()"
      ],
      "metadata": {
        "colab": {
          "base_uri": "https://localhost:8080/",
          "height": 837
        },
        "id": "zXVowm-fV6GS",
        "outputId": "ddbf4844-7e35-4fc7-88ef-8d4263921d70"
      },
      "execution_count": null,
      "outputs": [
        {
          "output_type": "display_data",
          "data": {
            "text/html": [
              "<html>\n",
              "<head><meta charset=\"utf-8\" /></head>\n",
              "<body>\n",
              "    <div>            <script src=\"https://cdnjs.cloudflare.com/ajax/libs/mathjax/2.7.5/MathJax.js?config=TeX-AMS-MML_SVG\"></script><script type=\"text/javascript\">if (window.MathJax && window.MathJax.Hub && window.MathJax.Hub.Config) {window.MathJax.Hub.Config({SVG: {font: \"STIX-Web\"}});}</script>                <script type=\"text/javascript\">window.PlotlyConfig = {MathJaxConfig: 'local'};</script>\n",
              "        <script charset=\"utf-8\" src=\"https://cdn.plot.ly/plotly-2.24.1.min.js\"></script>                <div id=\"f79011b5-a9d2-4427-aab1-b4304f603d79\" class=\"plotly-graph-div\" style=\"height:800px; width:800px;\"></div>            <script type=\"text/javascript\">                                    window.PLOTLYENV=window.PLOTLYENV || {};                                    if (document.getElementById(\"f79011b5-a9d2-4427-aab1-b4304f603d79\")) {                    Plotly.newPlot(                        \"f79011b5-a9d2-4427-aab1-b4304f603d79\",                        [{\"coloraxis\":\"coloraxis\",\"name\":\"0\",\"texttemplate\":\"%{z}\",\"x\":[\"Duration\",\"Time_Signature\",\"Danceability\",\"Energy\",\"Key\",\"Loudness\",\"Mode\",\"Speechiness\",\"Acousticness\",\"Instrumentalness\",\"Liveness\",\"Valence\",\"Tempo\",\"Streams\"],\"y\":[\"Duration\",\"Time_Signature\",\"Danceability\",\"Energy\",\"Key\",\"Loudness\",\"Mode\",\"Speechiness\",\"Acousticness\",\"Instrumentalness\",\"Liveness\",\"Valence\",\"Tempo\",\"Streams\"],\"z\":[[1.0,-0.051789513400917496,-0.16004470460647927,-0.07675996260689018,-0.10303438843800708,-0.046506748348023826,0.004320117428038946,-0.1566985972583741,-0.005346138568884106,-0.0399948809546903,-0.028480451685449014,-0.19779121670003566,-0.06491117371291795,0.11411993627812032],[-0.051789513400917496,1.0,0.12047294726320326,0.12251488731953851,0.031183419020387196,0.01690513067594939,0.019908304479560185,0.09345933316409415,-0.1297356708880175,-0.0013630516255049986,0.07084843916802504,0.0542004538023628,-0.030472556369726286,0.01673589554206455],[-0.16004470460647927,0.12047294726320326,1.0,0.039744739869462316,0.037145141426592754,0.04188612957587366,-0.15477286158021916,0.26060665754918266,-0.22186093325502798,-0.009108227793268,-0.021912283526937634,0.3548285035934799,-0.1245707314762869,0.0039877650013552595],[-0.07675996260689018,0.12251488731953851,0.039744739869462316,1.0,0.08888208045590584,0.7880569391584274,-0.04298531760110871,-0.06780752913968192,-0.6104173298052853,-0.12006441282045015,0.15084464534505856,0.5084650707344394,0.12385456254842676,-0.12000555051882551],[-0.10303438843800708,0.031183419020387196,0.037145141426592754,0.08888208045590584,1.0,0.035623249240969865,-0.18196814100579833,0.027029498378738283,-0.04129139809986408,0.04786531675653961,-0.07153956856419388,0.11416088374056367,0.028133794628458556,-0.07969515417379189],[-0.046506748348023826,0.01690513067594939,0.04188612957587366,0.7880569391584274,0.035623249240969865,1.0,-0.026580004529790886,-0.15693661099800316,-0.5318548636305509,-0.18390464381639768,0.07196376542624104,0.42341017026483063,0.048912135376295234,-0.028149066203708793],[0.004320117428038946,0.019908304479560185,-0.15477286158021916,-0.04298531760110871,-0.18196814100579833,-0.026580004529790886,1.0,-0.060626513839318656,0.12228812558933395,0.0004657466741808182,-0.02675977499473604,-0.02184349510080071,0.06155390505597777,-0.038581971018171894],[-0.1566985972583741,0.09345933316409415,0.26060665754918266,-0.06780752913968192,0.027029498378738283,-0.15693661099800316,-0.060626513839318656,1.0,-0.09540913419970352,-0.005035518892554588,0.045063049865235794,0.03127903427463439,0.14569866485171742,-0.02579006167242221],[-0.005346138568884106,-0.1297356708880175,-0.22186093325502798,-0.6104173298052853,-0.04129139809986408,-0.5318548636305509,0.12228812558933395,-0.09540913419970352,1.0,0.1341790925753679,-0.09895236262011621,-0.21452473734546887,-0.0958521577310506,0.09920912746449698],[-0.0399948809546903,-0.0013630516255049986,-0.009108227793268,-0.12006441282045015,0.04786531675653961,-0.18390464381639768,0.0004657466741808182,-0.005035518892554588,0.1341790925753679,1.0,-0.0274945982356813,-0.09664032754075426,-0.040135774206472165,0.0896464585224284],[-0.028480451685449014,0.07084843916802504,-0.021912283526937634,0.15084464534505856,-0.07153956856419388,0.07196376542624104,-0.02675977499473604,0.045063049865235794,-0.09895236262011621,-0.0274945982356813,1.0,0.05838523971172114,-0.01841136180607704,0.000526870639024354],[-0.19779121670003566,0.0542004538023628,0.3548285035934799,0.5084650707344394,0.11416088374056367,0.42341017026483063,-0.02184349510080071,0.03127903427463439,-0.21452473734546887,-0.09664032754075426,0.05838523971172114,1.0,0.032345127080243584,-0.09710058261410548],[-0.06491117371291795,-0.030472556369726286,-0.1245707314762869,0.12385456254842676,0.028133794628458556,0.048912135376295234,0.06155390505597777,0.14569866485171742,-0.0958521577310506,-0.040135774206472165,-0.01841136180607704,0.032345127080243584,1.0,-0.0589479088381792],[0.11411993627812032,0.01673589554206455,0.0039877650013552595,-0.12000555051882551,-0.07969515417379189,-0.028149066203708793,-0.038581971018171894,-0.02579006167242221,0.09920912746449698,0.0896464585224284,0.000526870639024354,-0.09710058261410548,-0.0589479088381792,1.0]],\"type\":\"heatmap\",\"xaxis\":\"x\",\"yaxis\":\"y\",\"hovertemplate\":\"x: %{x}\\u003cbr\\u003ey: %{y}\\u003cbr\\u003ecolor: %{z}\\u003cextra\\u003e\\u003c\\u002fextra\\u003e\"}],                        {\"template\":{\"data\":{\"histogram2dcontour\":[{\"type\":\"histogram2dcontour\",\"colorbar\":{\"outlinewidth\":0,\"ticks\":\"\"},\"colorscale\":[[0.0,\"#0d0887\"],[0.1111111111111111,\"#46039f\"],[0.2222222222222222,\"#7201a8\"],[0.3333333333333333,\"#9c179e\"],[0.4444444444444444,\"#bd3786\"],[0.5555555555555556,\"#d8576b\"],[0.6666666666666666,\"#ed7953\"],[0.7777777777777778,\"#fb9f3a\"],[0.8888888888888888,\"#fdca26\"],[1.0,\"#f0f921\"]]}],\"choropleth\":[{\"type\":\"choropleth\",\"colorbar\":{\"outlinewidth\":0,\"ticks\":\"\"}}],\"histogram2d\":[{\"type\":\"histogram2d\",\"colorbar\":{\"outlinewidth\":0,\"ticks\":\"\"},\"colorscale\":[[0.0,\"#0d0887\"],[0.1111111111111111,\"#46039f\"],[0.2222222222222222,\"#7201a8\"],[0.3333333333333333,\"#9c179e\"],[0.4444444444444444,\"#bd3786\"],[0.5555555555555556,\"#d8576b\"],[0.6666666666666666,\"#ed7953\"],[0.7777777777777778,\"#fb9f3a\"],[0.8888888888888888,\"#fdca26\"],[1.0,\"#f0f921\"]]}],\"heatmap\":[{\"type\":\"heatmap\",\"colorbar\":{\"outlinewidth\":0,\"ticks\":\"\"},\"colorscale\":[[0.0,\"#0d0887\"],[0.1111111111111111,\"#46039f\"],[0.2222222222222222,\"#7201a8\"],[0.3333333333333333,\"#9c179e\"],[0.4444444444444444,\"#bd3786\"],[0.5555555555555556,\"#d8576b\"],[0.6666666666666666,\"#ed7953\"],[0.7777777777777778,\"#fb9f3a\"],[0.8888888888888888,\"#fdca26\"],[1.0,\"#f0f921\"]]}],\"heatmapgl\":[{\"type\":\"heatmapgl\",\"colorbar\":{\"outlinewidth\":0,\"ticks\":\"\"},\"colorscale\":[[0.0,\"#0d0887\"],[0.1111111111111111,\"#46039f\"],[0.2222222222222222,\"#7201a8\"],[0.3333333333333333,\"#9c179e\"],[0.4444444444444444,\"#bd3786\"],[0.5555555555555556,\"#d8576b\"],[0.6666666666666666,\"#ed7953\"],[0.7777777777777778,\"#fb9f3a\"],[0.8888888888888888,\"#fdca26\"],[1.0,\"#f0f921\"]]}],\"contourcarpet\":[{\"type\":\"contourcarpet\",\"colorbar\":{\"outlinewidth\":0,\"ticks\":\"\"}}],\"contour\":[{\"type\":\"contour\",\"colorbar\":{\"outlinewidth\":0,\"ticks\":\"\"},\"colorscale\":[[0.0,\"#0d0887\"],[0.1111111111111111,\"#46039f\"],[0.2222222222222222,\"#7201a8\"],[0.3333333333333333,\"#9c179e\"],[0.4444444444444444,\"#bd3786\"],[0.5555555555555556,\"#d8576b\"],[0.6666666666666666,\"#ed7953\"],[0.7777777777777778,\"#fb9f3a\"],[0.8888888888888888,\"#fdca26\"],[1.0,\"#f0f921\"]]}],\"surface\":[{\"type\":\"surface\",\"colorbar\":{\"outlinewidth\":0,\"ticks\":\"\"},\"colorscale\":[[0.0,\"#0d0887\"],[0.1111111111111111,\"#46039f\"],[0.2222222222222222,\"#7201a8\"],[0.3333333333333333,\"#9c179e\"],[0.4444444444444444,\"#bd3786\"],[0.5555555555555556,\"#d8576b\"],[0.6666666666666666,\"#ed7953\"],[0.7777777777777778,\"#fb9f3a\"],[0.8888888888888888,\"#fdca26\"],[1.0,\"#f0f921\"]]}],\"mesh3d\":[{\"type\":\"mesh3d\",\"colorbar\":{\"outlinewidth\":0,\"ticks\":\"\"}}],\"scatter\":[{\"fillpattern\":{\"fillmode\":\"overlay\",\"size\":10,\"solidity\":0.2},\"type\":\"scatter\"}],\"parcoords\":[{\"type\":\"parcoords\",\"line\":{\"colorbar\":{\"outlinewidth\":0,\"ticks\":\"\"}}}],\"scatterpolargl\":[{\"type\":\"scatterpolargl\",\"marker\":{\"colorbar\":{\"outlinewidth\":0,\"ticks\":\"\"}}}],\"bar\":[{\"error_x\":{\"color\":\"#2a3f5f\"},\"error_y\":{\"color\":\"#2a3f5f\"},\"marker\":{\"line\":{\"color\":\"#E5ECF6\",\"width\":0.5},\"pattern\":{\"fillmode\":\"overlay\",\"size\":10,\"solidity\":0.2}},\"type\":\"bar\"}],\"scattergeo\":[{\"type\":\"scattergeo\",\"marker\":{\"colorbar\":{\"outlinewidth\":0,\"ticks\":\"\"}}}],\"scatterpolar\":[{\"type\":\"scatterpolar\",\"marker\":{\"colorbar\":{\"outlinewidth\":0,\"ticks\":\"\"}}}],\"histogram\":[{\"marker\":{\"pattern\":{\"fillmode\":\"overlay\",\"size\":10,\"solidity\":0.2}},\"type\":\"histogram\"}],\"scattergl\":[{\"type\":\"scattergl\",\"marker\":{\"colorbar\":{\"outlinewidth\":0,\"ticks\":\"\"}}}],\"scatter3d\":[{\"type\":\"scatter3d\",\"line\":{\"colorbar\":{\"outlinewidth\":0,\"ticks\":\"\"}},\"marker\":{\"colorbar\":{\"outlinewidth\":0,\"ticks\":\"\"}}}],\"scattermapbox\":[{\"type\":\"scattermapbox\",\"marker\":{\"colorbar\":{\"outlinewidth\":0,\"ticks\":\"\"}}}],\"scatterternary\":[{\"type\":\"scatterternary\",\"marker\":{\"colorbar\":{\"outlinewidth\":0,\"ticks\":\"\"}}}],\"scattercarpet\":[{\"type\":\"scattercarpet\",\"marker\":{\"colorbar\":{\"outlinewidth\":0,\"ticks\":\"\"}}}],\"carpet\":[{\"aaxis\":{\"endlinecolor\":\"#2a3f5f\",\"gridcolor\":\"white\",\"linecolor\":\"white\",\"minorgridcolor\":\"white\",\"startlinecolor\":\"#2a3f5f\"},\"baxis\":{\"endlinecolor\":\"#2a3f5f\",\"gridcolor\":\"white\",\"linecolor\":\"white\",\"minorgridcolor\":\"white\",\"startlinecolor\":\"#2a3f5f\"},\"type\":\"carpet\"}],\"table\":[{\"cells\":{\"fill\":{\"color\":\"#EBF0F8\"},\"line\":{\"color\":\"white\"}},\"header\":{\"fill\":{\"color\":\"#C8D4E3\"},\"line\":{\"color\":\"white\"}},\"type\":\"table\"}],\"barpolar\":[{\"marker\":{\"line\":{\"color\":\"#E5ECF6\",\"width\":0.5},\"pattern\":{\"fillmode\":\"overlay\",\"size\":10,\"solidity\":0.2}},\"type\":\"barpolar\"}],\"pie\":[{\"automargin\":true,\"type\":\"pie\"}]},\"layout\":{\"autotypenumbers\":\"strict\",\"colorway\":[\"#636efa\",\"#EF553B\",\"#00cc96\",\"#ab63fa\",\"#FFA15A\",\"#19d3f3\",\"#FF6692\",\"#B6E880\",\"#FF97FF\",\"#FECB52\"],\"font\":{\"color\":\"#2a3f5f\"},\"hovermode\":\"closest\",\"hoverlabel\":{\"align\":\"left\"},\"paper_bgcolor\":\"white\",\"plot_bgcolor\":\"#E5ECF6\",\"polar\":{\"bgcolor\":\"#E5ECF6\",\"angularaxis\":{\"gridcolor\":\"white\",\"linecolor\":\"white\",\"ticks\":\"\"},\"radialaxis\":{\"gridcolor\":\"white\",\"linecolor\":\"white\",\"ticks\":\"\"}},\"ternary\":{\"bgcolor\":\"#E5ECF6\",\"aaxis\":{\"gridcolor\":\"white\",\"linecolor\":\"white\",\"ticks\":\"\"},\"baxis\":{\"gridcolor\":\"white\",\"linecolor\":\"white\",\"ticks\":\"\"},\"caxis\":{\"gridcolor\":\"white\",\"linecolor\":\"white\",\"ticks\":\"\"}},\"coloraxis\":{\"colorbar\":{\"outlinewidth\":0,\"ticks\":\"\"}},\"colorscale\":{\"sequential\":[[0.0,\"#0d0887\"],[0.1111111111111111,\"#46039f\"],[0.2222222222222222,\"#7201a8\"],[0.3333333333333333,\"#9c179e\"],[0.4444444444444444,\"#bd3786\"],[0.5555555555555556,\"#d8576b\"],[0.6666666666666666,\"#ed7953\"],[0.7777777777777778,\"#fb9f3a\"],[0.8888888888888888,\"#fdca26\"],[1.0,\"#f0f921\"]],\"sequentialminus\":[[0.0,\"#0d0887\"],[0.1111111111111111,\"#46039f\"],[0.2222222222222222,\"#7201a8\"],[0.3333333333333333,\"#9c179e\"],[0.4444444444444444,\"#bd3786\"],[0.5555555555555556,\"#d8576b\"],[0.6666666666666666,\"#ed7953\"],[0.7777777777777778,\"#fb9f3a\"],[0.8888888888888888,\"#fdca26\"],[1.0,\"#f0f921\"]],\"diverging\":[[0,\"#8e0152\"],[0.1,\"#c51b7d\"],[0.2,\"#de77ae\"],[0.3,\"#f1b6da\"],[0.4,\"#fde0ef\"],[0.5,\"#f7f7f7\"],[0.6,\"#e6f5d0\"],[0.7,\"#b8e186\"],[0.8,\"#7fbc41\"],[0.9,\"#4d9221\"],[1,\"#276419\"]]},\"xaxis\":{\"gridcolor\":\"white\",\"linecolor\":\"white\",\"ticks\":\"\",\"title\":{\"standoff\":15},\"zerolinecolor\":\"white\",\"automargin\":true,\"zerolinewidth\":2},\"yaxis\":{\"gridcolor\":\"white\",\"linecolor\":\"white\",\"ticks\":\"\",\"title\":{\"standoff\":15},\"zerolinecolor\":\"white\",\"automargin\":true,\"zerolinewidth\":2},\"scene\":{\"xaxis\":{\"backgroundcolor\":\"#E5ECF6\",\"gridcolor\":\"white\",\"linecolor\":\"white\",\"showbackground\":true,\"ticks\":\"\",\"zerolinecolor\":\"white\",\"gridwidth\":2},\"yaxis\":{\"backgroundcolor\":\"#E5ECF6\",\"gridcolor\":\"white\",\"linecolor\":\"white\",\"showbackground\":true,\"ticks\":\"\",\"zerolinecolor\":\"white\",\"gridwidth\":2},\"zaxis\":{\"backgroundcolor\":\"#E5ECF6\",\"gridcolor\":\"white\",\"linecolor\":\"white\",\"showbackground\":true,\"ticks\":\"\",\"zerolinecolor\":\"white\",\"gridwidth\":2}},\"shapedefaults\":{\"line\":{\"color\":\"#2a3f5f\"}},\"annotationdefaults\":{\"arrowcolor\":\"#2a3f5f\",\"arrowhead\":0,\"arrowwidth\":1},\"geo\":{\"bgcolor\":\"white\",\"landcolor\":\"#E5ECF6\",\"subunitcolor\":\"white\",\"showland\":true,\"showlakes\":true,\"lakecolor\":\"white\"},\"title\":{\"x\":0.05},\"mapbox\":{\"style\":\"light\"}}},\"xaxis\":{\"anchor\":\"y\",\"domain\":[0.0,1.0]},\"yaxis\":{\"anchor\":\"x\",\"domain\":[0.0,1.0],\"autorange\":\"reversed\"},\"coloraxis\":{\"colorscale\":[[0.0,\"rgb(247,252,245)\"],[0.125,\"rgb(229,245,224)\"],[0.25,\"rgb(199,233,192)\"],[0.375,\"rgb(161,217,155)\"],[0.5,\"rgb(116,196,118)\"],[0.625,\"rgb(65,171,93)\"],[0.75,\"rgb(35,139,69)\"],[0.875,\"rgb(0,109,44)\"],[1.0,\"rgb(0,68,27)\"]]},\"title\":{\"text\":\"\\u003cb\\u003epaiwise correlation of columns\",\"x\":0.5},\"height\":800,\"width\":800},                        {\"responsive\": true}                    ).then(function(){\n",
              "                            \n",
              "var gd = document.getElementById('f79011b5-a9d2-4427-aab1-b4304f603d79');\n",
              "var x = new MutationObserver(function (mutations, observer) {{\n",
              "        var display = window.getComputedStyle(gd).display;\n",
              "        if (!display || display === 'none') {{\n",
              "            console.log([gd, 'removed!']);\n",
              "            Plotly.purge(gd);\n",
              "            observer.disconnect();\n",
              "        }}\n",
              "}});\n",
              "\n",
              "// Listen for the removal of the full notebook cells\n",
              "var notebookContainer = gd.closest('#notebook-container');\n",
              "if (notebookContainer) {{\n",
              "    x.observe(notebookContainer, {childList: true});\n",
              "}}\n",
              "\n",
              "// Listen for the clearing of the current output cell\n",
              "var outputEl = gd.closest('.output');\n",
              "if (outputEl) {{\n",
              "    x.observe(outputEl, {childList: true});\n",
              "}}\n",
              "\n",
              "                        })                };                            </script>        </div>\n",
              "</body>\n",
              "</html>"
            ]
          },
          "metadata": {}
        }
      ]
    },
    {
      "cell_type": "markdown",
      "source": [
        "<hr>"
      ],
      "metadata": {
        "id": "pny78xXznXUj"
      }
    },
    {
      "cell_type": "markdown",
      "source": [
        "<h1>Test graph"
      ],
      "metadata": {
        "id": "gdKLl6_wiciQ"
      }
    },
    {
      "cell_type": "code",
      "source": [
        "!pip install plotly==5.15.0\n",
        "\n"
      ],
      "metadata": {
        "colab": {
          "base_uri": "https://localhost:8080/"
        },
        "id": "2BQB5VCme1d7",
        "outputId": "6a44d9b9-3f28-4959-a60f-b5c910421e3f"
      },
      "execution_count": null,
      "outputs": [
        {
          "output_type": "stream",
          "name": "stdout",
          "text": [
            "Requirement already satisfied: plotly==5.15.0 in /usr/local/lib/python3.10/dist-packages (5.15.0)\n",
            "Requirement already satisfied: tenacity>=6.2.0 in /usr/local/lib/python3.10/dist-packages (from plotly==5.15.0) (9.0.0)\n",
            "Requirement already satisfied: packaging in /usr/local/lib/python3.10/dist-packages (from plotly==5.15.0) (24.1)\n"
          ]
        }
      ]
    },
    {
      "cell_type": "code",
      "source": [
        "import plotly.graph_objects as go\n",
        "from plotly.subplots import make_subplots\n",
        "import plotly.io as pio"
      ],
      "metadata": {
        "id": "EDYKekT1hZs7"
      },
      "execution_count": null,
      "outputs": []
    },
    {
      "cell_type": "code",
      "source": [
        "fig = make_subplots(\n",
        "    rows=3,\n",
        "    cols=3,\n",
        "    subplot_titles=('<i>Popularity', '<i>Danceability', '<i>Energy', '<i>Loudness', '<i>Speechiness', '<i>Acousticness', '<i>Liveness', '<i>Valence', '<i>Tempo')\n",
        ")\n",
        "\n",
        "fig.add_trace(go.Histogram(x=df_final['Popularity'], name='Popularity'), row=1, col=1)\n",
        "fig.add_trace(go.Histogram(x=df_final['Danceability'], name='Danceability'), row=1, col=2)\n",
        "fig.add_trace(go.Histogram(x=df_final['Energy'], name='Energy'), row=1, col=3)\n",
        "fig.add_trace(go.Histogram(x=df_final['Loudness'], name='Loudness'), row=2, col=1)\n",
        "fig.add_trace(go.Histogram(x=df_final['Speechiness'], name='Speechiness'), row=2, col=2)\n",
        "fig.add_trace(go.Histogram(x=df_final['Acousticness'], name='Acousticness'), row=2, col=3)\n",
        "fig.add_trace(go.Histogram(x=df_final['Liveness'], name='Liveness'), row=3, col=1)\n",
        "fig.add_trace(go.Histogram(x=df_final['Valence'], name='Valence'), row=3, col=2)\n",
        "fig.add_trace(go.Histogram(x=df_final['Tempo'], name='Tempo'), row=3, col=3)\n",
        "\n",
        "fig.update_layout(height=900, width=900, title_text='<b>Feature Distribution')\n",
        "fig.update_layout(template='plotly_dark', title_x=0.5)\n",
        "\n",
        "# Show the figure\n",
        "fig.show()\n"
      ],
      "metadata": {
        "colab": {
          "base_uri": "https://localhost:8080/",
          "height": 937
        },
        "id": "7S3NirdGgn9D",
        "outputId": "cc30bd46-4a32-4783-9fd2-cc5c7ffb54ad"
      },
      "execution_count": null,
      "outputs": [
        {
          "output_type": "display_data",
          "data": {
            "text/html": [
              "<html>\n",
              "<head><meta charset=\"utf-8\" /></head>\n",
              "<body>\n",
              "    <div>            <script src=\"https://cdnjs.cloudflare.com/ajax/libs/mathjax/2.7.5/MathJax.js?config=TeX-AMS-MML_SVG\"></script><script type=\"text/javascript\">if (window.MathJax && window.MathJax.Hub && window.MathJax.Hub.Config) {window.MathJax.Hub.Config({SVG: {font: \"STIX-Web\"}});}</script>                <script type=\"text/javascript\">window.PlotlyConfig = {MathJaxConfig: 'local'};</script>\n",
              "        <script charset=\"utf-8\" src=\"https://cdn.plot.ly/plotly-2.24.1.min.js\"></script>                <div id=\"a08dd5cb-2f1f-4689-ae24-765193f533c7\" class=\"plotly-graph-div\" style=\"height:900px; width:900px;\"></div>            <script type=\"text/javascript\">                                    window.PLOTLYENV=window.PLOTLYENV || {};                                    if (document.getElementById(\"a08dd5cb-2f1f-4689-ae24-765193f533c7\")) {                    Plotly.newPlot(                        \"a08dd5cb-2f1f-4689-ae24-765193f533c7\",                        [{\"name\":\"Popularity\",\"x\":[50,76,70,75,71,75,82,79,66,78,76,77,75,74,69,71,75,64,77,79,55,53,80,70,71,53,51,52,54,79,71,68,72,64,69,73,69,70,66,81,73,82,77,87,67,72,83,72,60,67,70,54,77,69,75,61,65,77,61,76,74,74,76,73,57,75,67,49,0,55,65,65,51,74,67,53,75,50,63,63,69,73,46,51,46,71,47,61,64,60,29,54,74,39,42,61,56,55,59,65,68,61,84,60,86,74,69,62,62,67,62,49,56,60,58,64,70,87,66,71,72,66,51,51,59,73,53,76,67,81,81,72,75,80,56,82,76,67,75,84,79,77,72,82,78,68,80,78,77,75,74,86,82,85,82,81,71,74,44,28,44,71,79,84,62,63,78,81,79,57,68,69,60,66,70,65,63,34,79,42,82,91,79,74,69,69,81,71,62,86,23,10,60,73,86,67,64,52,64,84,76,57,57,67,55,74,69,80,59,67,65,55,72,58,64,62,72,72,65,52,77,33,69,55,74,55,80,48,77,52,69,66,71,78,71,86,90,77,77,81,78,67,77,76,67,66,80,64,82,52,62,71,61,60,71,45,70,88,82,74,75,71,73,83,96,74,65,60,61,44,56,75,64,47,37,52,46,56,48,48,36,46,63,57,50,82,76,83,67,67,86,74,77,83,61,69,73,47,48,60,49,71,51,49,51,65,58,36,45,28,35,39,54,47,69,48,54,54,48,43,63,53,70,37,0,60,40,49,56,71,48,83,81,74,66,77,78,69,74,83,84,71,70,76,59,73,70,66,63,73,41,73,77,48,78,69,71,73,37,64,79,79,67,71,64,47,62,72,87,34,65,68,88,73,70,78,72,65,64,76,78,78,79,73,79,76,60,72,72,82,80,77,83,86,62,63,74,76,76,72,74,78,71,73,79,79,81,83,60,52,66,60,69,55,74,79,62,58,71,61,62,75,72,57,80,74,83,77,73,72,58,90,81,61,31,68,59,60,80,36,63,60,63,62,60,46,76,77,77,84,83,75,83,83,82,82,84,67,67,68,40,56,41,58,67,74,73,69,81,62,56,72,64,54,83,71,55,45,44,78,34,51,56,45,57,73,65,49,48,42,63,72,71,71,84,77,65,74,82,84,73,78,57,69,68,66,69,68,56,98,88,97,68,71,63,76,67,83,70,65,61,83,83,78,63,70,64,69,62,63,76,58,69,76,74,45,87,75,69,70,60,74,76,66,62,75,78,82,81,86,49,70,54,68,82,82,68,76,68,70,79,76,87,74,80,84,63,70,85,81,65,70,76,81,80,89,81,72,77,72,85,88,85,32,66,48,62,48,44,38,78,49,67,72,26,47,68,84,50,44,54,34,78,69,54,59,69,58,75,73,69,82,78,71,86,89,63,65,87,67],\"type\":\"histogram\",\"xaxis\":\"x\",\"yaxis\":\"y\"},{\"name\":\"Danceability\",\"x\":[0.78,0.686,0.664,0.602,0.623,0.699,0.628,0.737,0.649,0.72,0.608,0.731,0.816,0.607,0.886,0.86,0.524,0.584,0.57,0.582,0.502,0.509,0.431,0.63,0.643,0.704,0.659,0.466,0.394,0.646,0.583,0.896,0.508,0.632,0.447,0.652,0.418,0.732,0.426,0.701,0.905,0.704,0.483,0.351,0.444,0.879,0.367,0.632,0.908,0.82,0.926,0.968,0.816,0.95,0.747,0.888,0.868,0.935,0.654,0.672,0.729,0.841,0.696,0.846,0.803,0.662,0.705,0.57,0.66,0.669,0.401,0.587,0.508,0.62,0.4,0.539,0.588,0.596,0.358,0.443,0.512,0.501,0.774,0.916,0.847,0.948,0.885,0.507,0.576,0.56,0.412,0.542,0.607,0.481,0.336,0.489,0.478,0.478,0.469,0.659,0.406,0.504,0.575,0.672,0.571,0.37,0.531,0.596,0.773,0.561,0.691,0.491,0.604,0.705,0.675,0.608,0.574,0.508,0.4,0.564,0.484,0.841,0.841,0.822,0.622,0.74,0.596,0.707,0.785,0.764,0.868,0.651,0.787,0.749,0.789,0.824,0.828,0.661,0.73,0.793,0.836,0.695,0.659,0.762,0.647,0.722,0.807,0.461,0.624,0.522,0.798,0.599,0.614,0.825,0.788,0.781,0.681,0.555,0.62,0.871,0.459,0.537,0.809,0.69,0.748,0.819,0.57,0.497,0.571,0.848,0.825,0.773,0.8,0.817,0.639,0.536,0.542,0.504,0.663,0.635,0.676,0.52,0.567,0.448,0.375,0.575,0.516,0.427,0.653,0.548,0.573,0.756,0.749,0.793,0.635,0.767,0.811,0.613,0.749,0.756,0.639,0.679,0.772,0.657,0.729,0.677,0.898,0.495,0.539,0.623,0.682,0.431,0.68,0.697,0.41,0.496,0.553,0.542,0.763,0.39,0.502,0.748,0.677,0.458,0.365,0.582,0.586,0.519,0.549,0.752,0.491,0.523,0.592,0.853,0.709,0.79,0.711,0.529,0.671,0.675,0.723,0.641,0.515,0.422,0.707,0.625,0.642,0.611,0.653,0.608,0.626,0.677,0.701,0.545,0.612,0.63,0.646,0.912,0.85,0.635,0.826,0.627,0.727,0.863,0.924,0.803,0.583,0.548,0.446,0.514,0.561,0.662,0.562,0.75,0.702,0.728,0.693,0.737,0.768,0.627,0.88,0.563,0.914,0.958,0.893,0.549,0.668,0.695,0.591,0.587,0.521,0.666,0.851,0.577,0.747,0.494,0.587,0.476,0.596,0.576,0.539,0.659,0.52,0.632,0.862,0.935,0.774,0.874,0.79,0.684,0.587,0.481,0.774,0.911,0.846,0.713,0.678,0.79,0.447,0.545,0.795,0.566,0.682,0.766,0.779,0.827,0.803,0.693,0.833,0.715,0.67,0.551,0.538,0.552,0.598,0.487,0.464,0.572,0.544,0.533,0.551,0.714,0.833,0.593,0.493,0.573,0.635,0.38,0.603,0.807,0.886,0.756,0.655,0.605,0.63,0.775,0.934,0.557,0.849,0.913,0.634,0.901,0.625,0.776,0.556,0.593,0.379,0.674,0.684,0.566,0.529,0.583,0.706,0.573,0.699,0.652,0.781,0.534,0.327,0.613,0.53,0.466,0.631,0.549,0.62,0.403,0.657,0.605,0.59,0.505,0.616,0.576,0.698,0.732,0.681,0.506,0.473,0.461,0.811,0.847,0.752,0.814,0.525,0.599,0.593,0.804,0.776,0.699,0.964,0.813,0.686,0.665,0.475,0.391,0.747,0.723,0.89,0.879,0.787,0.828,0.847,0.831,0.893,0.859,0.666,0.485,0.669,0.394,0.505,0.693,0.523,0.664,0.586,0.617,0.656,0.758,0.424,0.651,0.706,0.334,0.687,0.498,0.725,0.703,0.692,0.748,0.678,0.473,0.672,0.442,0.561,0.638,0.369,0.563,0.395,0.695,0.38,0.461,0.591,0.655,0.562,0.483,0.534,0.562,0.409,0.69,0.784,0.702,0.664,0.544,0.647,0.616,0.804,0.499,0.829,0.771,0.689,0.582,0.635,0.538,0.725,0.807,0.749,0.627,0.463,0.811,0.923,0.567,0.759,0.889,0.805,0.732,0.562,0.834,0.789,0.563,0.621,0.518,0.585,0.735,0.719,0.723,0.694,0.678,0.732,0.874,0.599,0.55,0.81,0.701,0.74,0.669,0.557,0.46,0.633,0.741,0.561,0.678,0.418,0.67,0.539,0.413,0.715,0.719,0.261,0.6,0.965,0.545,0.609,0.811,0.516,0.838,0.616,0.725,0.694,0.541,0.778,0.74,0.8,0.865,0.616,0.764,0.794,0.445,0.389,0.432,0.539,0.686,0.414,0.603,0.824,0.838,0.482,0.788,0.784,0.692,0.73,0.436,0.679,0.533,0.644,0.795,0.559,0.4,0.631,0.633,0.65,0.753,0.613,0.75,0.618,0.647,0.392,0.632,0.658,0.513,0.705,0.657,0.537,0.505,0.679,0.679,0.585,0.539,0.814,0.82,0.708,0.774,0.785,0.611,0.447,0.529,0.602,0.657,0.8,0.808,0.775,0.812,0.752,0.887,0.887,0.831,0.566,0.667,0.411,0.531,0.712,0.699,0.715,0.801,0.686,0.508,0.447,0.583,0.68,0.429,0.553,0.543,0.369,0.552],\"type\":\"histogram\",\"xaxis\":\"x2\",\"yaxis\":\"y2\"},{\"name\":\"Energy\",\"x\":[0.321,0.702,0.602,0.658,0.734,0.713,0.593,0.802,0.736,0.654,0.626,0.573,0.538,0.829,0.672,0.758,0.643,0.68,0.67,0.568,0.877,0.803,0.837,0.694,0.783,0.722,0.877,0.659,0.718,0.77,0.621,0.621,0.72,0.518,0.694,0.749,0.441,0.899,0.584,0.425,0.389,0.225,0.412,0.296,0.309,0.365,0.111,0.284,0.524,0.568,0.703,0.589,0.726,0.59,0.57,0.525,0.795,0.454,0.731,0.82,0.658,0.522,0.454,0.482,0.79,0.693,0.882,0.512,0.334,0.55,0.749,0.447,0.689,0.507,0.647,0.786,0.807,0.58,0.358,0.538,0.709,0.815,0.412,0.824,0.405,0.512,0.353,0.372,0.849,0.555,0.586,0.797,0.912,0.775,0.758,0.641,0.653,0.768,0.813,0.823,0.843,0.736,0.45,0.253,0.544,0.358,0.307,0.73,0.813,0.87,0.921,0.857,0.788,0.794,0.862,0.614,0.408,0.43,0.335,0.412,0.457,0.725,0.879,0.627,0.78,0.758,0.617,0.955,0.652,0.705,0.538,0.724,0.673,0.463,0.604,0.764,0.621,0.651,0.729,0.793,0.544,0.884,0.667,0.7,0.844,0.588,0.893,0.834,0.876,0.385,0.676,0.448,0.379,0.652,0.859,0.445,0.664,0.832,0.461,0.595,0.543,0.602,0.849,0.482,0.739,0.48,0.71,0.644,0.72,0.649,0.458,0.422,0.754,0.556,0.839,0.751,0.962,0.891,0.77,0.97,0.771,0.731,0.267,0.838,0.93,0.621,0.595,0.262,0.869,0.816,0.514,0.606,0.629,0.768,0.574,0.722,0.528,0.668,0.512,0.646,0.791,0.648,0.498,0.421,0.739,0.638,0.283,0.722,0.722,0.59,0.795,0.841,0.74,0.877,0.9,0.709,0.872,0.571,0.603,0.791,0.771,0.679,0.404,0.542,0.541,0.868,0.559,0.738,0.608,0.655,0.907,0.837,0.891,0.824,0.879,0.831,0.809,0.469,0.839,0.725,0.59,0.905,0.593,0.44,0.474,0.684,0.706,0.454,0.524,0.735,0.516,0.556,0.5,0.854,0.799,0.496,0.573,0.7,0.562,0.706,0.552,0.858,0.482,0.502,0.668,0.715,0.584,0.889,0.701,0.91,0.245,0.741,0.939,0.888,0.685,0.863,0.853,0.602,0.729,0.838,0.674,0.879,0.696,0.523,0.558,0.502,0.78,0.921,0.634,0.828,0.592,0.423,0.806,0.385,0.521,0.956,0.632,0.846,0.54,0.723,0.839,0.683,0.816,0.832,0.235,0.807,0.622,0.617,0.61,0.464,0.848,0.728,0.603,0.667,0.48,0.551,0.623,0.56,0.813,0.525,0.526,0.66,0.919,0.885,0.741,0.731,0.833,0.849,0.722,0.624,0.966,0.402,0.863,0.225,0.846,0.65,0.813,0.949,0.781,0.907,0.801,0.665,0.467,0.734,0.581,0.795,0.537,0.488,0.46,0.887,0.734,0.789,0.782,0.684,0.53,0.825,0.694,0.803,0.686,0.571,0.401,0.464,0.576,0.603,0.618,0.589,0.608,0.506,0.607,0.511,0.894,0.655,0.691,0.781,0.805,0.698,0.67,0.538,0.588,0.622,0.422,0.786,0.591,0.44,0.869,0.537,0.54,0.88,0.882,0.657,0.68,0.715,0.891,0.873,0.686,0.757,0.751,0.887,0.648,0.638,0.65,0.641,0.526,0.446,0.935,0.771,0.817,0.708,0.605,0.782,0.73,0.848,0.882,0.604,0.716,0.86,0.667,0.875,0.713,0.837,0.912,0.793,0.514,0.596,0.665,0.215,0.606,0.256,0.624,0.524,0.626,0.5,0.358,0.632,0.704,0.867,0.837,0.782,0.358,0.738,0.793,0.804,0.438,0.0859,0.0436,0.176,0.264,0.203,0.526,0.612,0.431,0.259,0.272,0.664,0.443,0.575,0.339,0.718,0.928,0.482,0.691,0.443,0.774,0.683,0.713,0.597,0.826,0.68,0.769,0.888,0.871,0.856,0.609,0.856,0.617,0.565,0.872,0.889,0.785,0.742,0.511,0.533,0.82,0.512,0.847,0.781,0.657,0.577,0.564,0.798,0.525,0.747,0.709,0.669,0.706,0.75,0.31,0.467,0.828,0.766,0.847,0.534,0.652,0.567,0.387,0.443,0.61,0.637,0.759,0.76,0.697,0.586,0.457,0.809,0.557,0.52,0.682,0.484,0.332,0.841,0.383,0.42,0.372,0.454,0.302,0.725,0.414,0.787,0.674,0.507,0.342,0.541,0.789,0.804,0.81,0.628,0.824,0.783,0.692,0.69,0.597,0.887,0.832,0.549,0.505,0.714,0.508,0.494,0.473,0.784,0.716,0.535,0.788,0.939,0.554,0.684,0.457,0.655,0.516,0.417,0.728,0.594,0.551,0.366,0.518,0.648,0.802,0.678,0.581,0.404,0.741,0.785,0.574,0.773,0.572,0.73,0.769,0.291,0.746,0.68,0.825,0.587,0.564,0.354,0.38,0.386,0.44,0.451,0.632,0.693,0.341,0.789,0.796,0.871,0.503,0.571,0.465,0.479,0.6,0.589,0.598,0.829,0.713,0.381,0.558,0.403,0.807,0.819,0.584,0.759,0.576,0.296,0.441,0.0819,0.246,0.453,0.823,0.117,0.192,0.411],\"type\":\"histogram\",\"xaxis\":\"x3\",\"yaxis\":\"y3\"},{\"name\":\"Loudness\",\"x\":[-10.747,-5.325,-5.369,-5.934,-5.948,-5.507,-5.036,-4.771,-5.84,-5.634,-4.773,-10.059,-6.354,-4.074,-4.394,-5.16,-6.055,-6.781,-6.519,-7.3,-2.847,-5.543,-5.067,-6.257,-6.458,-3.524,-5.089,-6.077,-6.336,-6.596,-6.902,-6.857,-5.908,-6.126,-4.637,-5.248,-11.522,-4.237,-5.293,-10.965,-14.505,-14.454,-8.461,-10.109,-10.956,-7.781,-14.084,-14.025,-7.955,-8.23,-6.337,-7.808,-3.998,-6.508,-6.711,-5.665,-6.044,-7.509,-4.767,-4.456,-3.386,-5.963,-6.756,-6.721,-4.353,-4.298,-3.201,-6.725,-12.621,-5.352,-2.341,-6.765,-3.265,-5.891,-7.279,-4.884,-3.426,-6.318,-7.18,-5.477,-5.766,-4.865,-8.619,-4.444,-10.901,-5.74,-10.484,-8.433,-3.057,-7.612,-4.572,-4.45,-3.449,-5.494,-4.187,-4.455,-7.058,-4.784,-4.875,-5.77,-5.124,-6.079,-9.306,-12.71,-10.613,-10.633,-8.92,-4.091,-4.609,-6.103,-1.702,-2.634,-3.673,-2.266,-4.614,-3.727,-9.733,-9.475,-8.355,-9.23,-10.205,-5.314,-4.336,-5.826,-6.441,-5.851,-7.52,-4.593,-2.607,-3.463,-8.603,-5.457,-4.583,-8.433,-7.616,-4.175,-6.414,-3.771,-3.434,-4.521,-5.975,-2.278,-4.668,-6.021,-3.756,-5.932,-3.745,-4.868,-3.374,-7.355,-5.041,-6.312,-10.48,-3.183,-2.724,-6.061,-8.019,-3.691,-7.688,-7.584,-8.763,-4.631,-6.769,-6.335,-1.972,-6.966,-4.526,-4.309,-4.089,-6.083,-7.47,-4.572,-5.259,-7.178,-4.99,-5.472,-3.096,-4.784,-4.88,-4.03,-3.675,-5.338,-6.502,-5.257,-2.631,-8.165,-4.63,-8.541,-3.725,-4.209,-8.364,-3.303,-5.434,-6.244,-7.453,-6.586,-7.278,-5.812,-9.28,-5.795,-4.443,-5.892,-7.661,-11.378,-9.5,-8.631,-12.335,-8.108,-4.163,-5.014,-6.652,-2.988,-5.064,-3.885,-4.249,-5.174,-2.832,-5.299,-9.201,-4.777,-4.246,-7.219,-9.552,-6.989,-7.489,-3.927,-6.725,-5.452,-8.253,-6.07,-3.594,-4.494,-3.144,-3.287,-4.218,-4.185,-4.389,-6.967,-2.645,-4.766,-7.688,-3.694,-4.801,-5.53,-4.603,-6.146,-6.832,-9.166,-9.016,-5.497,-6.05,-6.544,-8.82,-4.968,-4.603,-7.011,-5.716,-3.331,-7.863,-3.224,-5.167,-2.824,-6.193,-7.912,-6.795,-3.28,-5.362,-4.682,-4.179,-2.978,-6.372,-5.406,-4.282,-4.524,-5.287,-4.67,-4.241,-5.292,-3.521,-4.352,-6.143,-4.735,-4.482,-6.1,-6.556,-5.972,-4.287,-3.752,-6.365,-5.108,-7.777,-8.012,-4.618,-6.362,-7.439,-4.67,-5.416,-4.362,-8.82,-4.411,-4.408,-5.623,-7.358,-3.185,-15.545,-3.838,-6.989,-7.205,-6.958,-5.796,-4.385,-6.147,-4.424,-6.606,-8.618,-7.593,-5.034,-7.039,-2.126,-8.147,-9.086,-4.039,-3.18,-3.001,-5.503,-5.524,-4.5,-4.517,-5.563,-3.046,-1.994,-7.431,-4.483,-11.501,-4.956,-5.195,-6.185,-4.865,-6.16,-3.793,-5.069,-7.736,-7.89,-5.416,-6.133,-5.561,-6.296,-6.637,-8.178,-3.726,-4.431,-7.002,-4.789,-5.254,-7.259,-5.402,-5.849,-3.599,-2.674,-8.82,-11.212,-9.789,-5.693,-5.696,-7.471,-6.401,-7.011,-10.532,-8.127,-8.595,-3.599,-5.407,-4.775,-6.406,-5.535,-4.667,-3.912,-6.673,-6.611,-5.794,-6.262,-5.13,-5.806,-8.192,-5.479,-6.628,-7.675,-3.388,-3.041,-5.24,-4.581,-5.755,-5.003,-5.965,-6.398,-4.802,-5.196,-4.871,-3.684,-3.764,-6.683,-5.957,-7.03,-6.511,-3.43,-4.067,-6.018,-4.182,-6.223,-6.005,-5.077,-4.926,-3.883,-8.104,-2.457,-4.357,-6.862,-1.868,-5.252,-3.963,-3.129,-4.127,-4.776,-7.021,-7.181,-12.124,-7.193,-10.944,-6.526,-9.696,-8.214,-6.935,-9.761,-5.381,-4.906,-5.087,-4.453,-4.295,-8.331,-5.28,-3.577,-3.995,-9.602,-15.608,-13.093,-11.1,-12.384,-12.627,-6.446,-7.222,-8.81,-10.706,-10.497,-5.044,-9.72,-6.334,-7.885,-5.627,-3.925,-8.453,-4.702,-6.791,-6.058,-4.427,-6.713,-7.494,-6.34,-5.451,-5.056,-5.003,-7.144,-6.098,-7.848,-5.705,-8.497,-9.407,-4.786,-4.386,-4.421,-5.355,-6.472,-4.899,-6.114,-7.401,-6.776,-6.333,-5.173,-7.833,-3.584,-6.62,-7.376,-4.58,-4.92,-5.582,-4.233,-4.496,-10.164,-7.536,-4.603,-4.485,-6.34,-6.238,-8.751,-8.927,-8.47,-9.628,-8.633,-5.212,-3.029,-5.478,-4.912,-6.073,-5.372,-5.415,-4.917,-7.513,-4.931,-5.795,-9.482,-5.217,-9.461,-6.444,-8.237,-7.384,-8.19,-4.866,-6.408,-4.095,-6.484,-7.161,-8.985,-6.746,-4.874,-4.614,-3.556,-4.682,-5.892,-5.367,-5.57,-7.448,-5.328,-6.088,-4.862,-7.134,-7.777,-7.933,-6.05,-7.093,-8.911,-4.023,-7.089,-6.303,-6.307,-7.327,-6.417,-7.364,-7.26,-8.37,-6.371,-8.665,-5.75,-6.2,-7.231,-9.405,-8.771,-6.645,-6.114,-5.421,-8.588,-10.178,-3.95,-5.414,-9.195,-4.856,-6.099,-5.94,-5.526,-8.275,-5.507,-4.993,-5.487,-7.015,-7.063,-11.112,-9.34,-8.508,-10.852,-8.942,-6.448,-6.363,-9.769,-5.511,-5.609,-4.614,-8.064,-5.161,-8.365,-5.678,-9.687,-6.291,-6.89,-5.887,-4.25,-7.494,-7.393,-7.195,-3.976,-5.111,-8.231,-5.398,-6.633,-10.513,-7.658,-15.249,-14.112,-7.746,-3.194,-15.153,-12.151,-7.946],\"type\":\"histogram\",\"xaxis\":\"x4\",\"yaxis\":\"y4\"},{\"name\":\"Speechiness\",\"x\":[0.372,0.0455,0.0412,0.0558,0.107,0.0594,0.0323,0.0878,0.23,0.0647,0.301,0.0544,0.0617,0.379,0.188,0.0695,0.0297,0.0351,0.0274,0.0275,0.0746,0.0272,0.0432,0.0253,0.0856,0.045,0.0288,0.115,0.0607,0.226,0.0479,0.237,0.0628,0.0313,0.382,0.0886,0.283,0.143,0.296,0.375,0.332,0.0994,0.0402,0.0333,0.062,0.0924,0.0972,0.0801,0.181,0.411,0.103,0.255,0.129,0.29,0.081,0.305,0.269,0.375,0.0568,0.0459,0.225,0.049,0.153,0.129,0.125,0.0698,0.0445,0.0518,0.879,0.108,0.17,0.0641,0.0764,0.0307,0.0337,0.0269,0.0283,0.0229,0.0307,0.0309,0.0329,0.0436,0.378,0.422,0.584,0.146,0.0912,0.0303,0.0386,0.0318,0.0318,0.0379,0.0611,0.0597,0.0451,0.0282,0.0312,0.0342,0.0422,0.0415,0.0526,0.0352,0.0259,0.0395,0.0299,0.0317,0.0316,0.151,0.0797,0.343,0.0535,0.0656,0.103,0.0593,0.0253,0.0285,0.0359,0.0335,0.0389,0.0274,0.0376,0.0624,0.0743,0.126,0.341,0.0921,0.286,0.222,0.0668,0.0284,0.174,0.166,0.159,0.0842,0.25,0.0854,0.0565,0.0499,0.0884,0.083,0.0943,0.0753,0.0339,0.0694,0.0457,0.0544,0.0347,0.0989,0.1,0.0288,0.0442,0.0232,0.0476,0.0802,0.0856,0.0295,0.0353,0.0412,0.0268,0.189,0.408,0.0458,0.0738,0.2,0.0381,0.0489,0.0304,0.0443,0.0458,0.315,0.0577,0.187,0.216,0.14,0.0364,0.0342,0.0911,0.0492,0.0371,0.0481,0.0483,0.0557,0.0299,0.0557,0.0561,0.032,0.0313,0.0276,0.0382,0.0465,0.242,0.0298,0.216,0.144,0.322,0.31,0.275,0.2,0.19,0.319,0.254,0.445,0.649,0.412,0.338,0.333,0.356,0.357,0.0282,0.028,0.0489,0.0371,0.0355,0.0348,0.0654,0.0292,0.0781,0.028,0.0788,0.0568,0.032,0.0384,0.027,0.0313,0.0304,0.0522,0.05,0.0327,0.0481,0.0366,0.0481,0.0335,0.0512,0.103,0.042,0.044,0.0955,0.0358,0.0866,0.0334,0.0341,0.0334,0.0322,0.0544,0.0672,0.0496,0.0507,0.0257,0.0502,0.0371,0.0388,0.0306,0.0303,0.0289,0.0275,0.0329,0.041,0.068,0.0724,0.125,0.144,0.386,0.115,0.0496,0.0469,0.298,0.0314,0.0382,0.0295,0.0714,0.0344,0.0334,0.0475,0.0426,0.0879,0.0675,0.0503,0.204,0.0743,0.183,0.206,0.0907,0.134,0.0591,0.152,0.0405,0.053,0.0363,0.0291,0.161,0.0304,0.0429,0.0787,0.03,0.0351,0.0729,0.0311,0.0338,0.0442,0.0528,0.045,0.0312,0.0583,0.0334,0.699,0.114,0.361,0.234,0.102,0.506,0.346,0.143,0.11,0.277,0.359,0.29,0.0828,0.341,0.254,0.367,0.204,0.0479,0.0875,0.102,0.0962,0.088,0.0859,0.0892,0.136,0.114,0.177,0.0262,0.0481,0.0477,0.0355,0.0253,0.0416,0.06,0.0311,0.0406,0.0303,0.0509,0.0619,0.0514,0.0327,0.0558,0.0476,0.029,0.0281,0.0503,0.0752,0.0324,0.185,0.142,0.0434,0.0464,0.101,0.213,0.0506,0.166,0.0446,0.0645,0.175,0.0343,0.0463,0.0366,0.134,0.0434,0.1,0.0347,0.0412,0.0315,0.0633,0.0555,0.0345,0.042,0.0452,0.0327,0.0336,0.0334,0.0342,0.0328,0.0277,0.0264,0.0462,0.031,0.0287,0.0322,0.0349,0.0318,0.0288,0.0354,0.0341,0.0321,0.0462,0.037,0.0318,0.0429,0.0368,0.0575,0.12,0.111,0.0534,0.0833,0.225,0.0433,0.0748,0.0496,0.179,0.218,0.374,0.0386,0.351,0.212,0.0751,0.203,0.0521,0.18,0.401,0.0559,0.257,0.369,0.424,0.329,0.0534,0.0348,0.0292,0.036,0.0373,0.0407,0.047,0.0651,0.0308,0.0371,0.0858,0.0475,0.0472,0.0718,0.0347,0.0437,0.0333,0.0332,0.0575,0.0364,0.0717,0.0514,0.0622,0.102,0.0599,0.112,0.0578,0.0898,0.0364,0.154,0.133,0.116,0.0338,0.0666,0.0316,0.0305,0.0328,0.034,0.0284,0.0296,0.03,0.0395,0.0538,0.0373,0.184,0.116,0.0936,0.0457,0.0633,0.061,0.14,0.0299,0.0477,0.0491,0.25,0.114,0.046,0.0443,0.0478,0.123,0.0511,0.0428,0.0605,0.134,0.0502,0.256,0.0638,0.0424,0.0424,0.0637,0.0429,0.127,0.0283,0.162,0.124,0.0384,0.0919,0.0891,0.296,0.101,0.0741,0.241,0.24,0.163,0.0376,0.0285,0.034,0.054,0.0335,0.326,0.203,0.0656,0.0856,0.0361,0.0492,0.18,0.0424,0.0416,0.0443,0.0707,0.0339,0.0487,0.0712,0.0521,0.0502,0.117,0.0425,0.0708,0.0377,0.0422,0.0661,0.0603,0.0707,0.0427,0.0614,0.0443,0.0415,0.176,0.0407,0.0307,0.037,0.0384,0.0288,0.0355,0.116,0.062,0.0526,0.0432,0.0432,0.0544,0.03,0.155,0.283,0.0583,0.0452,0.148,0.0351,0.0748,0.132,0.0597,0.0303,0.062,0.181,0.0644,0.0424,0.0682,0.031,0.165,0.17,0.0346,0.0308,0.0598,0.0425,0.0348,0.15,0.0714,0.0309,0.276,0.0515,0.447,0.0494,0.0598,0.0884,0.239,0.234,0.256,0.0457,0.0576,0.0465,0.0675,0.0612,0.0656,0.365,0.333,0.0931,0.0602,0.1,0.0873,0.0418,0.0294,0.038,0.0338,0.0297,0.058,0.0296,0.0378,0.0284,0.0755,0.0456,0.04,0.058,0.0459,0.0689,0.0389,0.04,0.0434],\"type\":\"histogram\",\"xaxis\":\"x5\",\"yaxis\":\"y5\"},{\"name\":\"Acousticness\",\"x\":[0.562,0.00637,0.0529,0.0233,0.0162,0.04,0.093,0.468,0.0528,0.227,0.597,0.401,0.0142,0.0103,0.0363,0.021,0.451,0.285,0.426,0.577,0.0129,0.0772,0.259,0.00281,0.047,0.0522,0.0878,0.00282,0.706,0.00249,0.00972,0.00532,0.272,0.107,0.0293,0.0848,0.029,0.00496,0.0383,0.328,0.74,0.902,0.737,0.934,0.795,0.227,0.978,0.932,0.00111,0.0256,0.0659,0.0511,0.099,0.00534,0.0642,0.029,0.0012,0.0194,0.0419,0.0368,0.0506,0.0168,0.123,0.0246,0.00863,0.134,0.000369,0.0715,0.452,0.203,0.322,0.698,0.137,0.111,0.176,0.00228,0.0835,0.257,0.566,0.327,0.0415,0.0513,0.026,0.222,0.232,0.0269,0.0866,0.481,0.511,0.166,0.292,0.00111,0.124,0.0169,0.00275,0.0592,0.0819,0.102,0.00714,0.0174,0.0889,0.00216,0.531,0.864,0.453,0.799,0.852,0.24,0.0331,0.0015,0.174,0.0834,0.0678,0.0488,0.0165,0.227,0.799,0.83,0.673,0.554,0.649,0.00821,0.0055,0.143,0.0702,0.061,0.481,0.127,0.102,0.259,0.269,0.172,0.264,0.21,0.0768,0.0888,0.0164,0.117,0.167,0.0123,0.0403,0.0561,0.00173,0.00261,0.0137,0.0319,0.0451,0.0232,0.0735,0.536,0.0902,0.163,0.607,0.581,0.281,0.474,0.335,0.28,0.605,0.165,0.637,0.296,0.251,0.523,0.461,0.685,0.0898,0.188,0.213,0.232,0.114,0.00783,0.0668,0.469,0.0529,0.0506,0.000474,0.00527,0.0876,0.0087,0.0237,0.342,0.839,0.21,0.00064,0.0392,0.0275,0.746,0.128,0.122,0.496,0.54,0.21,0.118,0.229,0.678,0.291,0.591,0.0526,0.152,0.0275,0.145,0.115,0.352,0.696,0.589,0.319,0.0697,0.314,0.646,0.305,0.13,0.342,0.00913,0.0166,0.0507,0.196,0.156,0.176,0.223,0.0123,0.492,0.653,0.357,0.0419,0.146,0.639,0.133,0.682,0.118,0.0491,0.301,0.0267,0.0322,0.158,0.312,0.0447,0.0899,0.179,0.0839,0.246,0.435,0.653,0.617,0.578,0.132,0.518,0.498,0.112,0.0156,0.4,0.263,0.46,0.00244,0.00898,0.388,0.00949,0.163,0.169,0.256,0.167,0.263,0.933,0.61,0.446,0.295,0.254,0.00165,0.0298,0.00168,0.904,0.00165,0.046,0.0147,0.00187,0.0139,0.00329,0.0393,0.101,0.0247,0.0457,0.00125,0.00225,0.0293,0.278,0.299,0.0265,0.00314,0.0107,0.00327,0.308,0.494,0.119,0.371,0.233,0.0266,0.148,0.0716,0.243,0.134,0.0216,0.513,0.0363,0.0019,0.0241,0.0514,0.000692,0.195,0.0613,0.202,0.0364,0.279,0.000204,0.0313,0.269,0.107,0.16,0.0787,0.0258,0.0134,0.067,0.0156,0.256,0.00666,0.0261,0.13,0.259,0.00466,0.0573,0.11,0.0292,0.676,0.0139,0.827,0.0527,0.191,0.0153,0.00165,0.00585,0.0292,0.013,0.0996,0.0339,0.02,0.302,0.129,0.0467,0.126,0.356,0.0573,0.0294,0.53,0.375,0.333,0.4,0.0506,0.0971,0.0124,0.00209,0.0709,0.731,0.368,0.0543,0.0728,0.00558,0.462,0.00311,0.173,0.0267,0.00275,0.308,0.111,0.0584,0.0767,0.00161,0.00112,0.0103,0.173,0.0834,0.00882,0.407,0.417,0.667,0.232,0.615,0.59,0.662,0.0462,0.0803,0.373,0.361,0.335,0.0942,0.0449,0.588,0.0798,9.91e-05,0.000219,0.236,0.0596,0.653,0.027,0.634,0.731,0.268,0.357,0.18,0.185,0.0668,0.0227,0.278,0.0148,0.406,0.00812,0.135,0.271,0.0572,0.0808,0.0849,0.0295,0.0781,0.0195,0.0245,0.0194,0.309,0.703,0.124,0.765,0.0253,0.267,0.119,0.799,0.556,0.0675,0.589,0.152,0.0373,0.295,0.677,0.0058,0.302,0.125,0.593,0.825,0.943,0.799,0.753,0.941,0.0311,0.584,0.768,0.753,0.866,0.335,0.765,0.198,0.691,0.139,0.00441,0.411,0.00265,0.611,0.0135,0.00531,0.434,0.311,0.0965,0.24,0.406,0.00311,0.0976,0.516,0.68,0.0544,0.227,0.672,0.0965,0.021,0.442,0.138,0.275,0.176,0.0205,0.584,0.0307,0.376,0.199,0.134,0.589,0.0245,0.119,0.0206,0.00124,0.0341,0.112,0.113,0.945,0.248,0.00906,0.025,0.00201,0.0747,0.248,0.0454,0.0493,0.147,0.213,0.597,0.111,0.107,0.0268,0.274,0.428,0.0422,0.169,0.447,0.153,0.529,0.771,0.204,0.283,0.588,0.638,0.0138,0.769,0.0933,0.189,0.00999,0.179,0.0146,0.55,0.207,0.053,0.124,0.122,0.733,0.284,0.0297,0.342,0.285,0.691,0.00987,0.237,0.0703,0.538,0.0876,0.727,0.613,0.663,0.446,0.000916,0.0714,0.115,0.0723,0.00548,0.131,0.0705,0.499,0.199,0.514,0.0543,0.112,0.141,0.242,0.274,0.121,0.0871,0.085,0.537,0.216,0.17,0.0561,0.833,0.0623,0.0811,0.00143,0.113,0.405,0.0236,0.0796,0.0212,0.141,0.0671,0.37,0.274,0.334,0.615,0.0533,0.0312,0.0049,0.806,0.00398,0.146,0.0031,0.054,0.345,0.609,0.213,0.103,0.107,0.099,0.45,0.645,0.455,0.162,0.551,0.0244,0.0886,0.432,0.657,0.443,0.897,0.874,0.869,0.783,0.554,0.0201,0.811,0.555,0.794],\"type\":\"histogram\",\"xaxis\":\"x6\",\"yaxis\":\"y6\"},{\"name\":\"Liveness\",\"x\":[0.0881,0.204,0.356,0.237,0.145,0.294,0.096,0.0931,0.235,0.101,0.25,0.113,0.099,0.107,0.101,0.344,0.221,0.0901,0.108,0.105,0.244,0.133,0.0879,0.0719,0.083,0.0645,0.094,0.273,0.116,0.0715,0.181,0.196,0.0563,0.354,0.167,0.604,0.306,0.372,0.188,0.1,0.106,0.106,0.116,0.095,0.352,0.0583,0.0897,0.233,0.383,0.0952,0.231,0.0731,0.372,0.11,0.0832,0.137,0.0461,0.0824,0.122,0.184,0.0693,0.188,0.155,0.393,0.0441,0.145,0.0934,0.1,0.335,0.127,0.117,0.113,0.18,0.101,0.11,0.121,0.109,0.196,0.104,0.0866,0.107,0.106,0.088,0.0661,0.0944,0.0504,0.173,0.271,0.109,0.0837,0.128,0.0906,0.332,0.0978,0.189,0.0857,0.106,0.101,0.131,0.11,0.158,0.129,0.124,0.0787,0.322,0.142,0.157,0.325,0.192,0.246,0.331,0.344,0.127,0.575,0.169,0.157,0.15,0.093,0.0856,0.151,0.148,0.519,0.101,0.146,0.331,0.0967,0.659,0.202,0.0697,0.12,0.0901,0.13,0.0904,0.338,0.137,0.117,0.0845,0.056,0.349,0.0951,0.0824,0.213,0.1,0.153,0.102,0.183,0.366,0.14,0.327,0.135,0.0894,0.106,0.0986,0.0931,0.0424,0.184,0.0418,0.0894,0.0758,0.379,0.0886,0.0715,0.325,0.0728,0.0834,0.116,0.292,0.114,0.271,0.101,0.102,0.129,0.278,0.131,0.0854,0.1,0.166,0.341,0.352,0.393,0.102,0.311,0.089,0.131,0.318,0.141,0.109,0.068,0.046,0.335,0.271,0.141,0.0849,0.114,0.126,0.231,0.0787,0.169,0.116,0.108,0.362,0.182,0.0898,0.187,0.164,0.193,0.11,0.113,0.117,0.295,0.109,0.0517,0.117,0.0726,0.339,0.182,0.0659,0.101,0.0863,0.0683,0.0801,0.142,0.249,0.114,0.281,0.103,0.0872,0.0986,0.0966,0.0909,0.242,0.172,0.352,0.0859,0.441,0.0797,0.339,0.831,0.0748,0.334,0.201,0.185,0.25,0.0837,0.11,0.137,0.243,0.15,0.203,0.361,0.142,0.105,0.234,0.249,0.172,0.088,0.0932,0.174,0.104,0.108,0.101,0.21,0.388,0.11,0.0678,0.0574,0.123,0.197,0.0931,0.224,0.0933,0.114,0.112,0.0759,0.227,0.167,0.123,0.236,0.0774,0.223,0.0279,0.166,0.0979,0.106,0.104,0.764,0.143,0.0842,0.113,0.331,0.122,0.106,0.121,0.231,0.101,0.665,0.158,0.315,0.347,0.123,0.174,0.133,0.0897,0.201,0.123,0.349,0.748,0.239,0.243,0.111,0.246,0.139,0.184,0.0854,0.0989,0.294,0.151,0.344,0.136,0.109,0.134,0.234,0.442,0.348,0.25,0.418,0.152,0.503,0.358,0.123,0.185,0.0928,0.0874,0.111,0.113,0.0933,0.254,0.163,0.191,0.386,0.265,0.226,0.09,0.138,0.169,0.186,0.0853,0.115,0.119,0.124,0.304,0.157,0.317,0.0819,0.177,0.111,0.477,0.737,0.0839,0.0599,0.334,0.238,0.187,0.111,0.153,0.0937,0.248,0.0866,0.191,0.585,0.254,0.113,0.0232,0.0813,0.249,0.0886,0.0761,0.248,0.104,0.37,0.107,0.125,0.11,0.107,0.131,0.112,0.123,0.0915,0.146,0.126,0.116,0.0772,0.133,0.347,0.114,0.0885,0.118,0.104,0.0761,0.0894,0.105,0.0993,0.103,0.105,0.286,0.108,0.146,0.0921,0.214,0.0956,0.106,0.1,0.241,0.0443,0.251,0.598,0.108,0.327,0.717,0.147,0.142,0.259,0.142,0.0489,0.0961,0.115,0.112,0.116,0.314,0.0839,0.107,0.0966,0.11,0.108,0.213,0.308,0.0665,0.107,0.107,0.115,0.1,0.167,0.0842,0.0754,0.114,0.201,0.302,0.126,0.28,0.37,0.106,0.219,0.147,0.0849,0.0839,0.0614,0.12,0.0968,0.291,0.114,0.105,0.0981,0.103,0.107,0.206,0.0727,0.123,0.111,0.17,0.076,0.173,0.245,0.261,0.0734,0.0618,0.195,0.117,0.687,0.0935,0.0934,0.0762,0.284,0.0775,0.128,0.117,0.121,0.108,0.145,0.0899,0.0671,0.0779,0.15,0.109,0.0535,0.0586,0.0788,0.117,0.0941,0.0426,0.108,0.221,0.0919,0.0293,0.41,0.141,0.124,0.151,0.129,0.0919,0.185,0.224,0.104,0.0567,0.138,0.0671,0.222,0.0763,0.0766,0.109,0.229,0.0865,0.11,0.169,0.318,0.0863,0.12,0.0767,0.0809,0.069,0.342,0.21,0.103,0.142,0.204,0.141,0.056,0.405,0.123,0.0554,0.225,0.104,0.0585,0.203,0.176,0.216,0.27,0.174,0.402,0.128,0.119,0.299,0.208,0.344,0.133,0.0995,0.156,0.124,0.688,0.0965,0.114,0.161,0.162,0.11,0.126,0.088,0.161,0.148,0.13,0.25,0.0911,0.0822,0.148,0.145,0.0885,0.121,0.0897,0.105,0.0771,0.156,0.0465,0.543,0.137,0.135,0.126,0.098,0.0991,0.151,0.078,0.11,0.0962,0.686,0.291,0.125,0.102,0.125,0.0844,0.114,0.0756,0.0554,0.137,0.101,0.0915,0.114,0.116,0.0879,0.105,0.0905,0.143,0.095,0.0897,0.212,0.11,0.188,0.103,0.106,0.102,0.111,0.147,0.0954,0.248],\"type\":\"histogram\",\"xaxis\":\"x7\",\"yaxis\":\"y7\"},{\"name\":\"Valence\",\"x\":[0.315,0.29,0.289,0.268,0.37,0.354,0.104,0.682,0.612,0.411,0.246,0.145,0.156,0.685,0.526,0.453,0.397,0.55,0.593,0.394,0.696,0.373,0.648,0.216,0.579,0.675,0.471,0.36,0.247,0.681,0.399,0.818,0.472,0.427,0.509,0.651,0.172,0.759,0.272,0.562,0.196,0.243,0.247,0.12,0.0875,0.663,0.198,0.208,0.109,0.535,0.485,0.268,0.65,0.219,0.65,0.243,0.819,0.357,0.59,0.438,0.551,0.616,0.136,0.212,0.712,0.655,0.7,0.295,0.418,0.133,0.474,0.315,0.528,0.266,0.274,0.503,0.674,0.409,0.158,0.245,0.261,0.46,0.38,0.87,0.588,0.599,0.316,0.257,0.666,0.328,0.3,0.593,0.722,0.273,0.236,0.303,0.348,0.465,0.406,0.405,0.271,0.46,0.263,0.409,0.216,0.186,0.25,0.525,0.707,0.498,0.802,0.395,0.301,0.412,0.498,0.402,0.134,0.324,0.208,0.29,0.17,0.731,0.458,0.5,0.755,0.757,0.906,0.575,0.484,0.781,0.732,0.686,0.779,0.189,0.765,0.881,0.436,0.368,0.467,0.679,0.51,0.914,0.468,0.608,0.746,0.59,0.537,0.471,0.781,0.236,0.843,0.168,0.201,0.931,0.822,0.591,0.861,0.43,0.561,0.369,0.556,0.753,0.753,0.356,0.962,0.759,0.752,0.779,0.542,0.629,0.161,0.488,0.334,0.314,0.528,0.51,0.659,0.329,0.772,0.712,0.569,0.662,0.0592,0.254,0.491,0.27,0.222,0.228,0.697,0.557,0.706,0.95,0.577,0.261,0.592,0.52,0.635,0.716,0.111,0.429,0.933,0.635,0.351,0.181,0.749,0.435,0.469,0.539,0.497,0.578,0.64,0.486,0.644,0.768,0.56,0.504,0.638,0.506,0.402,0.487,0.557,0.255,0.355,0.26,0.329,0.555,0.437,0.506,0.399,0.669,0.631,0.523,0.674,0.888,0.34,0.872,0.816,0.344,0.882,0.469,0.587,0.875,0.153,0.332,0.538,0.133,0.86,0.354,0.553,0.773,0.769,0.521,0.409,0.436,0.687,0.387,0.109,0.535,0.293,0.443,0.532,0.342,0.487,0.567,0.787,0.574,0.136,0.425,0.394,0.472,0.402,0.404,0.684,0.935,0.573,0.489,0.432,0.88,0.772,0.536,0.859,0.602,0.572,0.309,0.647,0.291,0.738,0.714,0.44,0.493,0.535,0.154,0.774,0.331,0.673,0.772,0.392,0.821,0.476,0.778,0.971,0.397,0.75,0.885,0.398,0.813,0.388,0.819,0.62,0.213,0.673,0.703,0.254,0.78,0.419,0.237,0.103,0.133,0.121,0.26,0.194,0.52,0.535,0.831,0.928,0.607,0.784,0.767,0.588,0.412,0.77,0.382,0.637,0.67,0.328,0.456,0.515,0.53,0.527,0.7,0.625,0.842,0.767,0.518,0.317,0.705,0.511,0.268,0.556,0.961,0.25,0.873,0.832,0.587,0.417,0.95,0.833,0.657,0.652,0.203,0.494,0.638,0.235,0.921,0.121,0.306,0.241,0.183,0.498,0.338,0.543,0.201,0.632,0.343,0.232,0.47,0.595,0.289,0.329,0.484,0.349,0.571,0.494,0.214,0.597,0.414,0.625,0.761,0.792,0.252,0.687,0.497,0.696,0.662,0.961,0.489,0.569,0.411,0.695,0.661,0.532,0.183,0.562,0.567,0.783,0.739,0.515,0.863,0.646,0.681,0.474,0.196,0.369,0.168,0.751,0.667,0.522,0.763,0.761,0.821,0.88,0.833,0.555,0.479,0.474,0.159,0.69,0.215,0.413,0.453,0.323,0.801,0.365,0.564,0.928,0.964,0.554,0.945,0.478,0.49,0.673,0.697,0.76,0.343,0.197,0.426,0.528,0.419,0.28,0.178,0.137,0.269,0.218,0.688,0.338,0.699,0.0849,0.334,0.619,0.191,0.483,0.215,0.435,0.384,0.725,0.453,0.893,0.86,0.542,0.746,0.643,0.75,0.713,0.394,0.81,0.444,0.362,0.438,0.809,0.25,0.489,0.853,0.534,0.57,0.625,0.824,0.734,0.719,0.519,0.594,0.693,0.506,0.401,0.547,0.638,0.812,0.125,0.559,0.584,0.6,0.443,0.551,0.759,0.154,0.242,0.298,0.434,0.535,0.615,0.69,0.732,0.579,0.328,0.609,0.623,0.347,0.359,0.493,0.171,0.742,0.153,0.185,0.474,0.224,0.0883,0.506,0.729,0.574,0.228,0.438,0.0993,0.637,0.621,0.31,0.824,0.364,0.758,0.812,0.917,0.867,0.362,0.816,0.871,0.218,0.244,0.322,0.227,0.7,0.409,0.769,0.771,0.894,0.85,0.98,0.634,0.406,0.549,0.412,0.716,0.376,0.43,0.409,0.392,0.161,0.205,0.49,0.295,0.583,0.551,0.0499,0.296,0.943,0.529,0.474,0.144,0.334,0.583,0.405,0.252,0.539,0.644,0.486,0.137,0.214,0.434,0.381,0.421,0.429,0.334,0.447,0.371,0.453,0.53,0.532,0.497,0.62,0.707,0.559,0.608,0.651,0.768,0.865,0.805,0.199,0.379,0.431,0.936,0.654,0.609,0.821,0.72,0.134,0.286,0.167,0.388,0.155,0.552,0.395,0.148,0.501],\"type\":\"histogram\",\"xaxis\":\"x8\",\"yaxis\":\"y8\"},{\"name\":\"Tempo\",\"x\":[139.961,129.948,134.049,145.031,107.853,121.993,125.025,144.015,159.182,106.976,176.086,109.928,97.055,96.172,91.976,97.014,135.962,146.093,140.924,121.991,170.123,138.022,170.041,97.005,154.084,122.094,119.992,186.169,151.912,99.165,140.036,121.966,79.983,90.007,175.868,94.103,175.928,127.091,193.437,135.128,120.046,120.006,170.163,115.284,104.745,94.016,82.642,129.642,138.015,152.279,125.022,129.993,136.048,130.003,133.992,133.983,166.0,133.073,104.002,120.005,140.043,99.059,92.928,100.969,94.982,86.009,130.0,82.568,88.774,79.99,177.165,124.669,79.907,120.065,84.08,88.969,110.014,93.979,134.629,157.97,97.981,160.087,139.943,139.926,156.999,105.004,134.079,86.422,137.982,153.986,79.234,113.95,134.944,136.035,77.807,136.095,152.005,110.046,120.894,112.931,150.054,148.014,132.039,76.481,132.052,147.581,118.652,85.979,127.93,129.98,130.072,129.971,126.06,127.961,129.967,127.885,126.127,130.09,99.378,144.689,116.9,127.047,128.966,120.057,113.184,171.925,98.099,125.989,170.024,110.97,99.968,144.146,110.962,90.035,159.979,107.998,128.986,87.46,113.011,123.95,97.028,103.014,115.982,116.073,146.967,134.01,126.011,135.007,99.943,89.792,101.956,95.05,107.989,95.977,141.02,78.998,102.166,170.124,97.659,132.042,170.881,157.437,126.0,100.029,115.966,114.04,172.719,162.542,83.827,118.04,145.115,77.502,134.136,126.991,126.057,143.977,150.025,144.99,132.058,117.981,99.048,173.93,110.011,139.863,147.124,101.987,119.972,104.085,122.017,95.39,186.611,101.792,161.945,140.141,153.938,141.075,166.084,141.826,165.093,176.088,92.603,94.378,81.817,174.063,90.306,82.81,138.97,175.627,143.78,137.073,135.941,180.975,127.024,121.533,176.96,158.124,172.139,131.877,140.068,179.68,157.978,129.952,83.087,79.747,86.041,90.105,177.945,155.972,78.534,89.97,199.943,82.006,99.983,108.044,114.99,124.987,106.017,87.864,83.845,92.513,97.481,94.874,94.467,128.934,109.991,104.023,136.854,87.945,83.97,90.007,153.653,80.006,97.028,91.967,125.976,78.024,134.979,106.981,122.029,88.863,96.981,92.523,74.93,111.029,128.027,101.085,140.039,90.048,159.958,145.907,109.558,131.0,116.044,115.973,159.88,111.972,119.948,109.039,110.02,120.0,111.985,107.013,130.028,102.039,94.034,129.842,139.945,119.007,99.998,123.907,157.969,129.893,119.001,95.82,141.983,171.977,139.974,159.956,77.049,176.141,160.049,139.931,155.934,114.007,150.062,106.017,150.137,144.98,145.88,180.323,169.65,79.829,155.048,147.976,143.029,82.637,160.021,145.012,84.758,159.073,140.037,162.159,95.982,119.908,119.97,118.992,129.993,99.021,107.019,158.087,113.046,103.313,77.001,138.002,144.04,151.964,75.977,118.974,144.075,150.99,128.027,78.515,139.971,125.937,138.075,128.101,107.421,156.031,81.04,134.052,109.981,127.987,79.427,200.049,108.038,139.091,123.831,92.134,112.032,123.966,150.174,109.004,179.063,96.888,80.985,148.055,81.822,145.965,81.001,149.799,108.024,119.759,118.048,139.934,109.976,96.021,127.99,148.016,161.074,80.003,119.964,203.903,97.087,128.01,126.019,69.877,136.97,137.986,129.929,196.0,149.951,199.942,124.054,128.029,109.191,79.984,110.025,95.964,104.988,156.935,134.993,133.854,85.274,179.877,99.976,126.956,149.921,108.887,129.996,150.003,128.943,119.897,98.001,169.391,125.006,126.979,105.103,95.021,175.046,116.955,81.486,144.967,120.077,140.064,116.002,172.122,112.108,94.367,170.076,156.529,121.291,117.896,169.925,151.988,172.015,102.018,180.175,171.987,75.991,143.985,100.993,166.054,83.984,110.028,104.891,95.397,121.722,168.884,123.999,180.917,143.875,88.485,172.929,166.928,168.924,163.929,100.607,162.187,105.025,98.013,128.059,125.017,149.961,132.0,97.029,185.084,138.078,122.895,134.97,171.69,129.928,157.109,133.043,163.956,125.605,132.339,134.994,121.977,102.742,96.107,110.063,124.006,120.066,95.334,114.962,107.007,110.015,200.008,99.966,119.969,100.033,117.993,91.958,122.669,125.918,173.909,111.881,79.965,174.034,127.975,127.96,91.974,87.966,156.975,157.875,118.004,159.933,84.448,104.993,103.969,138.992,107.071,105.918,157.184,89.672,102.998,165.944,82.004,119.164,133.918,88.051,84.126,91.931,131.007,81.418,102.056,121.032,80.158,88.945,111.016,102.819,114.996,83.066,124.996,137.968,80.027,100.024,100.011,112.002,121.983,165.508,126.974,107.657,109.25,121.775,176.009,101.358,168.946,100.0,172.041,107.997,119.946,191.772,137.002,104.01,112.912,111.352,121.002,120.074,106.534,88.993,135.002,143.008,73.313,93.023,96.888,170.146,96.006,130.033,95.045,118.984,160.015,81.112,130.033,108.968,171.001,107.949,119.782,170.083,168.022,118.049,186.003,113.003,170.094,116.029,116.014,131.805,126.955,73.534,150.918,138.969,139.853,106.005,114.974,82.025,170.037,169.781,169.922,79.994,95.01,95.01,96.969,169.861,135.975,81.274,76.125,105.024,104.02,90.99,129.971,83.969,82.532,122.811,79.385,110.23,77.639,133.781,83.607,175.212,78.095],\"type\":\"histogram\",\"xaxis\":\"x9\",\"yaxis\":\"y9\"}],                        {\"template\":{\"data\":{\"barpolar\":[{\"marker\":{\"line\":{\"color\":\"rgb(17,17,17)\",\"width\":0.5},\"pattern\":{\"fillmode\":\"overlay\",\"size\":10,\"solidity\":0.2}},\"type\":\"barpolar\"}],\"bar\":[{\"error_x\":{\"color\":\"#f2f5fa\"},\"error_y\":{\"color\":\"#f2f5fa\"},\"marker\":{\"line\":{\"color\":\"rgb(17,17,17)\",\"width\":0.5},\"pattern\":{\"fillmode\":\"overlay\",\"size\":10,\"solidity\":0.2}},\"type\":\"bar\"}],\"carpet\":[{\"aaxis\":{\"endlinecolor\":\"#A2B1C6\",\"gridcolor\":\"#506784\",\"linecolor\":\"#506784\",\"minorgridcolor\":\"#506784\",\"startlinecolor\":\"#A2B1C6\"},\"baxis\":{\"endlinecolor\":\"#A2B1C6\",\"gridcolor\":\"#506784\",\"linecolor\":\"#506784\",\"minorgridcolor\":\"#506784\",\"startlinecolor\":\"#A2B1C6\"},\"type\":\"carpet\"}],\"choropleth\":[{\"colorbar\":{\"outlinewidth\":0,\"ticks\":\"\"},\"type\":\"choropleth\"}],\"contourcarpet\":[{\"colorbar\":{\"outlinewidth\":0,\"ticks\":\"\"},\"type\":\"contourcarpet\"}],\"contour\":[{\"colorbar\":{\"outlinewidth\":0,\"ticks\":\"\"},\"colorscale\":[[0.0,\"#0d0887\"],[0.1111111111111111,\"#46039f\"],[0.2222222222222222,\"#7201a8\"],[0.3333333333333333,\"#9c179e\"],[0.4444444444444444,\"#bd3786\"],[0.5555555555555556,\"#d8576b\"],[0.6666666666666666,\"#ed7953\"],[0.7777777777777778,\"#fb9f3a\"],[0.8888888888888888,\"#fdca26\"],[1.0,\"#f0f921\"]],\"type\":\"contour\"}],\"heatmapgl\":[{\"colorbar\":{\"outlinewidth\":0,\"ticks\":\"\"},\"colorscale\":[[0.0,\"#0d0887\"],[0.1111111111111111,\"#46039f\"],[0.2222222222222222,\"#7201a8\"],[0.3333333333333333,\"#9c179e\"],[0.4444444444444444,\"#bd3786\"],[0.5555555555555556,\"#d8576b\"],[0.6666666666666666,\"#ed7953\"],[0.7777777777777778,\"#fb9f3a\"],[0.8888888888888888,\"#fdca26\"],[1.0,\"#f0f921\"]],\"type\":\"heatmapgl\"}],\"heatmap\":[{\"colorbar\":{\"outlinewidth\":0,\"ticks\":\"\"},\"colorscale\":[[0.0,\"#0d0887\"],[0.1111111111111111,\"#46039f\"],[0.2222222222222222,\"#7201a8\"],[0.3333333333333333,\"#9c179e\"],[0.4444444444444444,\"#bd3786\"],[0.5555555555555556,\"#d8576b\"],[0.6666666666666666,\"#ed7953\"],[0.7777777777777778,\"#fb9f3a\"],[0.8888888888888888,\"#fdca26\"],[1.0,\"#f0f921\"]],\"type\":\"heatmap\"}],\"histogram2dcontour\":[{\"colorbar\":{\"outlinewidth\":0,\"ticks\":\"\"},\"colorscale\":[[0.0,\"#0d0887\"],[0.1111111111111111,\"#46039f\"],[0.2222222222222222,\"#7201a8\"],[0.3333333333333333,\"#9c179e\"],[0.4444444444444444,\"#bd3786\"],[0.5555555555555556,\"#d8576b\"],[0.6666666666666666,\"#ed7953\"],[0.7777777777777778,\"#fb9f3a\"],[0.8888888888888888,\"#fdca26\"],[1.0,\"#f0f921\"]],\"type\":\"histogram2dcontour\"}],\"histogram2d\":[{\"colorbar\":{\"outlinewidth\":0,\"ticks\":\"\"},\"colorscale\":[[0.0,\"#0d0887\"],[0.1111111111111111,\"#46039f\"],[0.2222222222222222,\"#7201a8\"],[0.3333333333333333,\"#9c179e\"],[0.4444444444444444,\"#bd3786\"],[0.5555555555555556,\"#d8576b\"],[0.6666666666666666,\"#ed7953\"],[0.7777777777777778,\"#fb9f3a\"],[0.8888888888888888,\"#fdca26\"],[1.0,\"#f0f921\"]],\"type\":\"histogram2d\"}],\"histogram\":[{\"marker\":{\"pattern\":{\"fillmode\":\"overlay\",\"size\":10,\"solidity\":0.2}},\"type\":\"histogram\"}],\"mesh3d\":[{\"colorbar\":{\"outlinewidth\":0,\"ticks\":\"\"},\"type\":\"mesh3d\"}],\"parcoords\":[{\"line\":{\"colorbar\":{\"outlinewidth\":0,\"ticks\":\"\"}},\"type\":\"parcoords\"}],\"pie\":[{\"automargin\":true,\"type\":\"pie\"}],\"scatter3d\":[{\"line\":{\"colorbar\":{\"outlinewidth\":0,\"ticks\":\"\"}},\"marker\":{\"colorbar\":{\"outlinewidth\":0,\"ticks\":\"\"}},\"type\":\"scatter3d\"}],\"scattercarpet\":[{\"marker\":{\"colorbar\":{\"outlinewidth\":0,\"ticks\":\"\"}},\"type\":\"scattercarpet\"}],\"scattergeo\":[{\"marker\":{\"colorbar\":{\"outlinewidth\":0,\"ticks\":\"\"}},\"type\":\"scattergeo\"}],\"scattergl\":[{\"marker\":{\"line\":{\"color\":\"#283442\"}},\"type\":\"scattergl\"}],\"scattermapbox\":[{\"marker\":{\"colorbar\":{\"outlinewidth\":0,\"ticks\":\"\"}},\"type\":\"scattermapbox\"}],\"scatterpolargl\":[{\"marker\":{\"colorbar\":{\"outlinewidth\":0,\"ticks\":\"\"}},\"type\":\"scatterpolargl\"}],\"scatterpolar\":[{\"marker\":{\"colorbar\":{\"outlinewidth\":0,\"ticks\":\"\"}},\"type\":\"scatterpolar\"}],\"scatter\":[{\"marker\":{\"line\":{\"color\":\"#283442\"}},\"type\":\"scatter\"}],\"scatterternary\":[{\"marker\":{\"colorbar\":{\"outlinewidth\":0,\"ticks\":\"\"}},\"type\":\"scatterternary\"}],\"surface\":[{\"colorbar\":{\"outlinewidth\":0,\"ticks\":\"\"},\"colorscale\":[[0.0,\"#0d0887\"],[0.1111111111111111,\"#46039f\"],[0.2222222222222222,\"#7201a8\"],[0.3333333333333333,\"#9c179e\"],[0.4444444444444444,\"#bd3786\"],[0.5555555555555556,\"#d8576b\"],[0.6666666666666666,\"#ed7953\"],[0.7777777777777778,\"#fb9f3a\"],[0.8888888888888888,\"#fdca26\"],[1.0,\"#f0f921\"]],\"type\":\"surface\"}],\"table\":[{\"cells\":{\"fill\":{\"color\":\"#506784\"},\"line\":{\"color\":\"rgb(17,17,17)\"}},\"header\":{\"fill\":{\"color\":\"#2a3f5f\"},\"line\":{\"color\":\"rgb(17,17,17)\"}},\"type\":\"table\"}]},\"layout\":{\"annotationdefaults\":{\"arrowcolor\":\"#f2f5fa\",\"arrowhead\":0,\"arrowwidth\":1},\"autotypenumbers\":\"strict\",\"coloraxis\":{\"colorbar\":{\"outlinewidth\":0,\"ticks\":\"\"}},\"colorscale\":{\"diverging\":[[0,\"#8e0152\"],[0.1,\"#c51b7d\"],[0.2,\"#de77ae\"],[0.3,\"#f1b6da\"],[0.4,\"#fde0ef\"],[0.5,\"#f7f7f7\"],[0.6,\"#e6f5d0\"],[0.7,\"#b8e186\"],[0.8,\"#7fbc41\"],[0.9,\"#4d9221\"],[1,\"#276419\"]],\"sequential\":[[0.0,\"#0d0887\"],[0.1111111111111111,\"#46039f\"],[0.2222222222222222,\"#7201a8\"],[0.3333333333333333,\"#9c179e\"],[0.4444444444444444,\"#bd3786\"],[0.5555555555555556,\"#d8576b\"],[0.6666666666666666,\"#ed7953\"],[0.7777777777777778,\"#fb9f3a\"],[0.8888888888888888,\"#fdca26\"],[1.0,\"#f0f921\"]],\"sequentialminus\":[[0.0,\"#0d0887\"],[0.1111111111111111,\"#46039f\"],[0.2222222222222222,\"#7201a8\"],[0.3333333333333333,\"#9c179e\"],[0.4444444444444444,\"#bd3786\"],[0.5555555555555556,\"#d8576b\"],[0.6666666666666666,\"#ed7953\"],[0.7777777777777778,\"#fb9f3a\"],[0.8888888888888888,\"#fdca26\"],[1.0,\"#f0f921\"]]},\"colorway\":[\"#636efa\",\"#EF553B\",\"#00cc96\",\"#ab63fa\",\"#FFA15A\",\"#19d3f3\",\"#FF6692\",\"#B6E880\",\"#FF97FF\",\"#FECB52\"],\"font\":{\"color\":\"#f2f5fa\"},\"geo\":{\"bgcolor\":\"rgb(17,17,17)\",\"lakecolor\":\"rgb(17,17,17)\",\"landcolor\":\"rgb(17,17,17)\",\"showlakes\":true,\"showland\":true,\"subunitcolor\":\"#506784\"},\"hoverlabel\":{\"align\":\"left\"},\"hovermode\":\"closest\",\"mapbox\":{\"style\":\"dark\"},\"paper_bgcolor\":\"rgb(17,17,17)\",\"plot_bgcolor\":\"rgb(17,17,17)\",\"polar\":{\"angularaxis\":{\"gridcolor\":\"#506784\",\"linecolor\":\"#506784\",\"ticks\":\"\"},\"bgcolor\":\"rgb(17,17,17)\",\"radialaxis\":{\"gridcolor\":\"#506784\",\"linecolor\":\"#506784\",\"ticks\":\"\"}},\"scene\":{\"xaxis\":{\"backgroundcolor\":\"rgb(17,17,17)\",\"gridcolor\":\"#506784\",\"gridwidth\":2,\"linecolor\":\"#506784\",\"showbackground\":true,\"ticks\":\"\",\"zerolinecolor\":\"#C8D4E3\"},\"yaxis\":{\"backgroundcolor\":\"rgb(17,17,17)\",\"gridcolor\":\"#506784\",\"gridwidth\":2,\"linecolor\":\"#506784\",\"showbackground\":true,\"ticks\":\"\",\"zerolinecolor\":\"#C8D4E3\"},\"zaxis\":{\"backgroundcolor\":\"rgb(17,17,17)\",\"gridcolor\":\"#506784\",\"gridwidth\":2,\"linecolor\":\"#506784\",\"showbackground\":true,\"ticks\":\"\",\"zerolinecolor\":\"#C8D4E3\"}},\"shapedefaults\":{\"line\":{\"color\":\"#f2f5fa\"}},\"sliderdefaults\":{\"bgcolor\":\"#C8D4E3\",\"bordercolor\":\"rgb(17,17,17)\",\"borderwidth\":1,\"tickwidth\":0},\"ternary\":{\"aaxis\":{\"gridcolor\":\"#506784\",\"linecolor\":\"#506784\",\"ticks\":\"\"},\"baxis\":{\"gridcolor\":\"#506784\",\"linecolor\":\"#506784\",\"ticks\":\"\"},\"bgcolor\":\"rgb(17,17,17)\",\"caxis\":{\"gridcolor\":\"#506784\",\"linecolor\":\"#506784\",\"ticks\":\"\"}},\"title\":{\"x\":0.05},\"updatemenudefaults\":{\"bgcolor\":\"#506784\",\"borderwidth\":0},\"xaxis\":{\"automargin\":true,\"gridcolor\":\"#283442\",\"linecolor\":\"#506784\",\"ticks\":\"\",\"title\":{\"standoff\":15},\"zerolinecolor\":\"#283442\",\"zerolinewidth\":2},\"yaxis\":{\"automargin\":true,\"gridcolor\":\"#283442\",\"linecolor\":\"#506784\",\"ticks\":\"\",\"title\":{\"standoff\":15},\"zerolinecolor\":\"#283442\",\"zerolinewidth\":2}}},\"xaxis\":{\"anchor\":\"y\",\"domain\":[0.0,0.2888888888888889]},\"yaxis\":{\"anchor\":\"x\",\"domain\":[0.7777777777777778,1.0]},\"xaxis2\":{\"anchor\":\"y2\",\"domain\":[0.35555555555555557,0.6444444444444445]},\"yaxis2\":{\"anchor\":\"x2\",\"domain\":[0.7777777777777778,1.0]},\"xaxis3\":{\"anchor\":\"y3\",\"domain\":[0.7111111111111111,1.0]},\"yaxis3\":{\"anchor\":\"x3\",\"domain\":[0.7777777777777778,1.0]},\"xaxis4\":{\"anchor\":\"y4\",\"domain\":[0.0,0.2888888888888889]},\"yaxis4\":{\"anchor\":\"x4\",\"domain\":[0.3888888888888889,0.6111111111111112]},\"xaxis5\":{\"anchor\":\"y5\",\"domain\":[0.35555555555555557,0.6444444444444445]},\"yaxis5\":{\"anchor\":\"x5\",\"domain\":[0.3888888888888889,0.6111111111111112]},\"xaxis6\":{\"anchor\":\"y6\",\"domain\":[0.7111111111111111,1.0]},\"yaxis6\":{\"anchor\":\"x6\",\"domain\":[0.3888888888888889,0.6111111111111112]},\"xaxis7\":{\"anchor\":\"y7\",\"domain\":[0.0,0.2888888888888889]},\"yaxis7\":{\"anchor\":\"x7\",\"domain\":[0.0,0.22222222222222224]},\"xaxis8\":{\"anchor\":\"y8\",\"domain\":[0.35555555555555557,0.6444444444444445]},\"yaxis8\":{\"anchor\":\"x8\",\"domain\":[0.0,0.22222222222222224]},\"xaxis9\":{\"anchor\":\"y9\",\"domain\":[0.7111111111111111,1.0]},\"yaxis9\":{\"anchor\":\"x9\",\"domain\":[0.0,0.22222222222222224]},\"annotations\":[{\"font\":{\"size\":16},\"showarrow\":false,\"text\":\"\\u003ci\\u003ePopularity\",\"x\":0.14444444444444446,\"xanchor\":\"center\",\"xref\":\"paper\",\"y\":1.0,\"yanchor\":\"bottom\",\"yref\":\"paper\"},{\"font\":{\"size\":16},\"showarrow\":false,\"text\":\"\\u003ci\\u003eDanceability\",\"x\":0.5,\"xanchor\":\"center\",\"xref\":\"paper\",\"y\":1.0,\"yanchor\":\"bottom\",\"yref\":\"paper\"},{\"font\":{\"size\":16},\"showarrow\":false,\"text\":\"\\u003ci\\u003eEnergy\",\"x\":0.8555555555555556,\"xanchor\":\"center\",\"xref\":\"paper\",\"y\":1.0,\"yanchor\":\"bottom\",\"yref\":\"paper\"},{\"font\":{\"size\":16},\"showarrow\":false,\"text\":\"\\u003ci\\u003eLoudness\",\"x\":0.14444444444444446,\"xanchor\":\"center\",\"xref\":\"paper\",\"y\":0.6111111111111112,\"yanchor\":\"bottom\",\"yref\":\"paper\"},{\"font\":{\"size\":16},\"showarrow\":false,\"text\":\"\\u003ci\\u003eSpeechiness\",\"x\":0.5,\"xanchor\":\"center\",\"xref\":\"paper\",\"y\":0.6111111111111112,\"yanchor\":\"bottom\",\"yref\":\"paper\"},{\"font\":{\"size\":16},\"showarrow\":false,\"text\":\"\\u003ci\\u003eAcousticness\",\"x\":0.8555555555555556,\"xanchor\":\"center\",\"xref\":\"paper\",\"y\":0.6111111111111112,\"yanchor\":\"bottom\",\"yref\":\"paper\"},{\"font\":{\"size\":16},\"showarrow\":false,\"text\":\"\\u003ci\\u003eLiveness\",\"x\":0.14444444444444446,\"xanchor\":\"center\",\"xref\":\"paper\",\"y\":0.22222222222222224,\"yanchor\":\"bottom\",\"yref\":\"paper\"},{\"font\":{\"size\":16},\"showarrow\":false,\"text\":\"\\u003ci\\u003eValence\",\"x\":0.5,\"xanchor\":\"center\",\"xref\":\"paper\",\"y\":0.22222222222222224,\"yanchor\":\"bottom\",\"yref\":\"paper\"},{\"font\":{\"size\":16},\"showarrow\":false,\"text\":\"\\u003ci\\u003eTempo\",\"x\":0.8555555555555556,\"xanchor\":\"center\",\"xref\":\"paper\",\"y\":0.22222222222222224,\"yanchor\":\"bottom\",\"yref\":\"paper\"}],\"title\":{\"text\":\"\\u003cb\\u003eFeature Distribution\",\"x\":0.5},\"height\":900,\"width\":900},                        {\"responsive\": true}                    ).then(function(){\n",
              "                            \n",
              "var gd = document.getElementById('a08dd5cb-2f1f-4689-ae24-765193f533c7');\n",
              "var x = new MutationObserver(function (mutations, observer) {{\n",
              "        var display = window.getComputedStyle(gd).display;\n",
              "        if (!display || display === 'none') {{\n",
              "            console.log([gd, 'removed!']);\n",
              "            Plotly.purge(gd);\n",
              "            observer.disconnect();\n",
              "        }}\n",
              "}});\n",
              "\n",
              "// Listen for the removal of the full notebook cells\n",
              "var notebookContainer = gd.closest('#notebook-container');\n",
              "if (notebookContainer) {{\n",
              "    x.observe(notebookContainer, {childList: true});\n",
              "}}\n",
              "\n",
              "// Listen for the clearing of the current output cell\n",
              "var outputEl = gd.closest('.output');\n",
              "if (outputEl) {{\n",
              "    x.observe(outputEl, {childList: true});\n",
              "}}\n",
              "\n",
              "                        })                };                            </script>        </div>\n",
              "</body>\n",
              "</html>"
            ]
          },
          "metadata": {}
        }
      ]
    },
    {
      "cell_type": "markdown",
      "source": [
        "<hr>"
      ],
      "metadata": {
        "id": "RB4LmJUiigcy"
      }
    },
    {
      "cell_type": "code",
      "source": [],
      "metadata": {
        "id": "4qTX_I9aihBt"
      },
      "execution_count": null,
      "outputs": []
    }
  ]
}