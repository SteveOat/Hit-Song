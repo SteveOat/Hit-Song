{
  "nbformat": 4,
  "nbformat_minor": 0,
  "metadata": {
    "colab": {
      "provenance": [],
      "include_colab_link": true
    },
    "kernelspec": {
      "name": "python3",
      "display_name": "Python 3"
    },
    "language_info": {
      "name": "python"
    }
  },
  "cells": [
    {
      "cell_type": "markdown",
      "metadata": {
        "id": "view-in-github",
        "colab_type": "text"
      },
      "source": [
        "<a href=\"https://colab.research.google.com/github/SteveOat/Hit-Song/blob/main/%E0%B9%80%E0%B8%AD%E0%B8%B2%E0%B8%AD%E0%B8%B1%E0%B8%99%E0%B8%99%E0%B8%B5%E0%B9%89.ipynb\" target=\"_parent\"><img src=\"https://colab.research.google.com/assets/colab-badge.svg\" alt=\"Open In Colab\"/></a>"
      ]
    },
    {
      "cell_type": "code",
      "execution_count": 65,
      "metadata": {
        "id": "OxecRdkNA7ji"
      },
      "outputs": [],
      "source": [
        "import pandas as pd\n",
        "import numpy as np\n",
        "from IPython.display import display_html\n",
        "\n",
        "df_1 = pd.read_csv('Hot100.csv')\n",
        "df_2 = pd.read_csv('spotify_full_list_20102023.csv')"
      ]
    },
    {
      "cell_type": "markdown",
      "source": [
        "<h1>Preparing Data"
      ],
      "metadata": {
        "id": "hmBSQywindGJ"
      }
    },
    {
      "cell_type": "markdown",
      "source": [
        "Remove **bracket ()**  from \"Track\" column to match the text format of song's name."
      ],
      "metadata": {
        "id": "bUYkK45ZDSfg"
      }
    },
    {
      "cell_type": "code",
      "source": [
        "df_1['Track'] = df_1['Track'].str.replace(r'\\(.*\\)', '', regex=True)\n",
        "df_2['Artist and Title'] = df_2['Artist and Title'].str.replace(r'\\(.*\\)', '', regex=True)\n"
      ],
      "metadata": {
        "id": "1uPtIQiVT-dV"
      },
      "execution_count": 66,
      "outputs": []
    },
    {
      "cell_type": "markdown",
      "source": [
        "ดึง main genre"
      ],
      "metadata": {
        "id": "WLFlcCsfJx9N"
      }
    },
    {
      "cell_type": "markdown",
      "source": [
        "Select the \"Genre\" column from the \"df_2\" table to merge it with the \"df_1\" table, where the song names and artists match.\n",
        "\n",
        "Delete the duplicate rows, then merge the rows that have the same song name but are sung by different artists to differentiate them.\n",
        "\n",
        "แยกคอลัมน์ และ clean lower ' '"
      ],
      "metadata": {
        "id": "kRsMsnSKDZuk"
      }
    },
    {
      "cell_type": "code",
      "source": [
        "df_1['Track'] = df_1['Track'].str.replace(' ','').str.lower()\n",
        "df_1['Artist'] = df_1['Artist'].str.replace(' ','').str.lower()\n",
        "\n",
        "\n",
        "df_2[['Artist', 'Title']] = df_2['Artist and Title'].str.split('-', n=1, expand=True)\n",
        "\n",
        "df_2['Artist'] = df_2['Artist'].str.replace(' ','').str.lower()\n",
        "df_2['Title'] = df_2['Title'].str.replace(' ','').str.lower()\n",
        "df_2_rename = df_2.rename(columns={'Title': 'Track'})\n"
      ],
      "metadata": {
        "id": "HLskID3FCYso"
      },
      "execution_count": 80,
      "outputs": []
    },
    {
      "cell_type": "markdown",
      "source": [
        "Merge & fill NaN"
      ],
      "metadata": {
        "id": "Dq-PrzgwM4uV"
      }
    },
    {
      "cell_type": "code",
      "source": [
        "df_column = df_2_rename[['Track', 'Artist', 'main_genre']]\n",
        "df_final = pd.merge( df_1, df_column, left_on=['Track','Artist'], right_on=['Track','Artist'], how='left' )\n",
        "df_final['main_genre'] = df_final['main_genre'].fillna('Unknown')\n",
        "df_final"
      ],
      "metadata": {
        "colab": {
          "base_uri": "https://localhost:8080/",
          "height": 600
        },
        "id": "56O4E4lpM32s",
        "outputId": "48bc1b7e-a7ec-4a9b-feea-3896faac4997"
      },
      "execution_count": 78,
      "outputs": [
        {
          "output_type": "execute_result",
          "data": {
            "text/plain": [
              "                    Track        Artist                    Album  Year  \\\n",
              "0                  7rings  arianagrande            thank u, next  2019   \n",
              "1               breakfree  arianagrande   My Everything - Deluxe  2014   \n",
              "2          dangerouswoman  arianagrande          Dangerous Woman  2016   \n",
              "3             godisawoman  arianagrande                Sweetener  2018   \n",
              "4                 intoyou  arianagrande          Dangerous Woman  2016   \n",
              "..                    ...           ...                      ...   ...   \n",
              "639   iremembereverything     zachbryan               Zach Bryan  2022   \n",
              "640     ifshewantsacowboy     zachbryan      American Heartbreak  2023   \n",
              "641      lettingsomeonego     zachbryan                    DeAnn  2022   \n",
              "642  somethingintheorange     zachbryan  Something in the Orange  2022   \n",
              "643       summertimeblues     zachbryan         Summertime Blues  2022   \n",
              "\n",
              "     Duration  Time_Signature  Danceability  Energy  Key  Loudness  Mode  \\\n",
              "0      178626               4         0.780   0.321    1   -10.747     0   \n",
              "1      214840               4         0.686   0.702    7    -5.325     0   \n",
              "2      235946               3         0.664   0.602    4    -5.369     0   \n",
              "3      197546               4         0.602   0.658    1    -5.934     1   \n",
              "4      244453               4         0.623   0.734    9    -5.948     1   \n",
              "..        ...             ...           ...     ...  ...       ...   ...   \n",
              "639    227195               4         0.429   0.453    0    -7.746     1   \n",
              "640    192293               4         0.553   0.823    7    -3.194     1   \n",
              "641    239761               4         0.543   0.117    0   -15.153     1   \n",
              "642    228013               3         0.369   0.192    4   -12.151     0   \n",
              "643    181239               4         0.552   0.411    1    -7.946     1   \n",
              "\n",
              "     Speechiness  Acousticness  Instrumentalness  Liveness  Valence    Tempo  \\\n",
              "0         0.3720       0.56200          0.000000    0.0881    0.315  139.961   \n",
              "1         0.0455       0.00637          0.000045    0.2040    0.290  129.948   \n",
              "2         0.0412       0.05290          0.000000    0.3560    0.289  134.049   \n",
              "3         0.0558       0.02330          0.000060    0.2370    0.268  145.031   \n",
              "4         0.1070       0.01620          0.000002    0.1450    0.370  107.853   \n",
              "..           ...           ...               ...       ...      ...      ...   \n",
              "639       0.0459       0.55400          0.000002    0.1020    0.155   77.639   \n",
              "640       0.0689       0.02010          0.000000    0.1110    0.552  133.781   \n",
              "641       0.0389       0.81100          0.000000    0.1470    0.395   83.607   \n",
              "642       0.0400       0.55500          0.000008    0.0954    0.148  175.212   \n",
              "643       0.0434       0.79400          0.000003    0.2480    0.501   78.095   \n",
              "\n",
              "     Popularity         main_genre  \n",
              "0            50                Pop  \n",
              "1            76                Pop  \n",
              "2            70                Pop  \n",
              "3            75                Pop  \n",
              "4            71                Pop  \n",
              "..          ...                ...  \n",
              "639          89  World/Traditional  \n",
              "640          63            Unknown  \n",
              "641          65            Unknown  \n",
              "642          87  World/Traditional  \n",
              "643          67            Unknown  \n",
              "\n",
              "[644 rows x 19 columns]"
            ],
            "text/html": [
              "\n",
              "  <div id=\"df-72eb1999-f474-43a3-bd31-92885ad1a2a3\" class=\"colab-df-container\">\n",
              "    <div>\n",
              "<style scoped>\n",
              "    .dataframe tbody tr th:only-of-type {\n",
              "        vertical-align: middle;\n",
              "    }\n",
              "\n",
              "    .dataframe tbody tr th {\n",
              "        vertical-align: top;\n",
              "    }\n",
              "\n",
              "    .dataframe thead th {\n",
              "        text-align: right;\n",
              "    }\n",
              "</style>\n",
              "<table border=\"1\" class=\"dataframe\">\n",
              "  <thead>\n",
              "    <tr style=\"text-align: right;\">\n",
              "      <th></th>\n",
              "      <th>Track</th>\n",
              "      <th>Artist</th>\n",
              "      <th>Album</th>\n",
              "      <th>Year</th>\n",
              "      <th>Duration</th>\n",
              "      <th>Time_Signature</th>\n",
              "      <th>Danceability</th>\n",
              "      <th>Energy</th>\n",
              "      <th>Key</th>\n",
              "      <th>Loudness</th>\n",
              "      <th>Mode</th>\n",
              "      <th>Speechiness</th>\n",
              "      <th>Acousticness</th>\n",
              "      <th>Instrumentalness</th>\n",
              "      <th>Liveness</th>\n",
              "      <th>Valence</th>\n",
              "      <th>Tempo</th>\n",
              "      <th>Popularity</th>\n",
              "      <th>main_genre</th>\n",
              "    </tr>\n",
              "  </thead>\n",
              "  <tbody>\n",
              "    <tr>\n",
              "      <th>0</th>\n",
              "      <td>7rings</td>\n",
              "      <td>arianagrande</td>\n",
              "      <td>thank u, next</td>\n",
              "      <td>2019</td>\n",
              "      <td>178626</td>\n",
              "      <td>4</td>\n",
              "      <td>0.780</td>\n",
              "      <td>0.321</td>\n",
              "      <td>1</td>\n",
              "      <td>-10.747</td>\n",
              "      <td>0</td>\n",
              "      <td>0.3720</td>\n",
              "      <td>0.56200</td>\n",
              "      <td>0.000000</td>\n",
              "      <td>0.0881</td>\n",
              "      <td>0.315</td>\n",
              "      <td>139.961</td>\n",
              "      <td>50</td>\n",
              "      <td>Pop</td>\n",
              "    </tr>\n",
              "    <tr>\n",
              "      <th>1</th>\n",
              "      <td>breakfree</td>\n",
              "      <td>arianagrande</td>\n",
              "      <td>My Everything - Deluxe</td>\n",
              "      <td>2014</td>\n",
              "      <td>214840</td>\n",
              "      <td>4</td>\n",
              "      <td>0.686</td>\n",
              "      <td>0.702</td>\n",
              "      <td>7</td>\n",
              "      <td>-5.325</td>\n",
              "      <td>0</td>\n",
              "      <td>0.0455</td>\n",
              "      <td>0.00637</td>\n",
              "      <td>0.000045</td>\n",
              "      <td>0.2040</td>\n",
              "      <td>0.290</td>\n",
              "      <td>129.948</td>\n",
              "      <td>76</td>\n",
              "      <td>Pop</td>\n",
              "    </tr>\n",
              "    <tr>\n",
              "      <th>2</th>\n",
              "      <td>dangerouswoman</td>\n",
              "      <td>arianagrande</td>\n",
              "      <td>Dangerous Woman</td>\n",
              "      <td>2016</td>\n",
              "      <td>235946</td>\n",
              "      <td>3</td>\n",
              "      <td>0.664</td>\n",
              "      <td>0.602</td>\n",
              "      <td>4</td>\n",
              "      <td>-5.369</td>\n",
              "      <td>0</td>\n",
              "      <td>0.0412</td>\n",
              "      <td>0.05290</td>\n",
              "      <td>0.000000</td>\n",
              "      <td>0.3560</td>\n",
              "      <td>0.289</td>\n",
              "      <td>134.049</td>\n",
              "      <td>70</td>\n",
              "      <td>Pop</td>\n",
              "    </tr>\n",
              "    <tr>\n",
              "      <th>3</th>\n",
              "      <td>godisawoman</td>\n",
              "      <td>arianagrande</td>\n",
              "      <td>Sweetener</td>\n",
              "      <td>2018</td>\n",
              "      <td>197546</td>\n",
              "      <td>4</td>\n",
              "      <td>0.602</td>\n",
              "      <td>0.658</td>\n",
              "      <td>1</td>\n",
              "      <td>-5.934</td>\n",
              "      <td>1</td>\n",
              "      <td>0.0558</td>\n",
              "      <td>0.02330</td>\n",
              "      <td>0.000060</td>\n",
              "      <td>0.2370</td>\n",
              "      <td>0.268</td>\n",
              "      <td>145.031</td>\n",
              "      <td>75</td>\n",
              "      <td>Pop</td>\n",
              "    </tr>\n",
              "    <tr>\n",
              "      <th>4</th>\n",
              "      <td>intoyou</td>\n",
              "      <td>arianagrande</td>\n",
              "      <td>Dangerous Woman</td>\n",
              "      <td>2016</td>\n",
              "      <td>244453</td>\n",
              "      <td>4</td>\n",
              "      <td>0.623</td>\n",
              "      <td>0.734</td>\n",
              "      <td>9</td>\n",
              "      <td>-5.948</td>\n",
              "      <td>1</td>\n",
              "      <td>0.1070</td>\n",
              "      <td>0.01620</td>\n",
              "      <td>0.000002</td>\n",
              "      <td>0.1450</td>\n",
              "      <td>0.370</td>\n",
              "      <td>107.853</td>\n",
              "      <td>71</td>\n",
              "      <td>Pop</td>\n",
              "    </tr>\n",
              "    <tr>\n",
              "      <th>...</th>\n",
              "      <td>...</td>\n",
              "      <td>...</td>\n",
              "      <td>...</td>\n",
              "      <td>...</td>\n",
              "      <td>...</td>\n",
              "      <td>...</td>\n",
              "      <td>...</td>\n",
              "      <td>...</td>\n",
              "      <td>...</td>\n",
              "      <td>...</td>\n",
              "      <td>...</td>\n",
              "      <td>...</td>\n",
              "      <td>...</td>\n",
              "      <td>...</td>\n",
              "      <td>...</td>\n",
              "      <td>...</td>\n",
              "      <td>...</td>\n",
              "      <td>...</td>\n",
              "      <td>...</td>\n",
              "    </tr>\n",
              "    <tr>\n",
              "      <th>639</th>\n",
              "      <td>iremembereverything</td>\n",
              "      <td>zachbryan</td>\n",
              "      <td>Zach Bryan</td>\n",
              "      <td>2022</td>\n",
              "      <td>227195</td>\n",
              "      <td>4</td>\n",
              "      <td>0.429</td>\n",
              "      <td>0.453</td>\n",
              "      <td>0</td>\n",
              "      <td>-7.746</td>\n",
              "      <td>1</td>\n",
              "      <td>0.0459</td>\n",
              "      <td>0.55400</td>\n",
              "      <td>0.000002</td>\n",
              "      <td>0.1020</td>\n",
              "      <td>0.155</td>\n",
              "      <td>77.639</td>\n",
              "      <td>89</td>\n",
              "      <td>World/Traditional</td>\n",
              "    </tr>\n",
              "    <tr>\n",
              "      <th>640</th>\n",
              "      <td>ifshewantsacowboy</td>\n",
              "      <td>zachbryan</td>\n",
              "      <td>American Heartbreak</td>\n",
              "      <td>2023</td>\n",
              "      <td>192293</td>\n",
              "      <td>4</td>\n",
              "      <td>0.553</td>\n",
              "      <td>0.823</td>\n",
              "      <td>7</td>\n",
              "      <td>-3.194</td>\n",
              "      <td>1</td>\n",
              "      <td>0.0689</td>\n",
              "      <td>0.02010</td>\n",
              "      <td>0.000000</td>\n",
              "      <td>0.1110</td>\n",
              "      <td>0.552</td>\n",
              "      <td>133.781</td>\n",
              "      <td>63</td>\n",
              "      <td>Unknown</td>\n",
              "    </tr>\n",
              "    <tr>\n",
              "      <th>641</th>\n",
              "      <td>lettingsomeonego</td>\n",
              "      <td>zachbryan</td>\n",
              "      <td>DeAnn</td>\n",
              "      <td>2022</td>\n",
              "      <td>239761</td>\n",
              "      <td>4</td>\n",
              "      <td>0.543</td>\n",
              "      <td>0.117</td>\n",
              "      <td>0</td>\n",
              "      <td>-15.153</td>\n",
              "      <td>1</td>\n",
              "      <td>0.0389</td>\n",
              "      <td>0.81100</td>\n",
              "      <td>0.000000</td>\n",
              "      <td>0.1470</td>\n",
              "      <td>0.395</td>\n",
              "      <td>83.607</td>\n",
              "      <td>65</td>\n",
              "      <td>Unknown</td>\n",
              "    </tr>\n",
              "    <tr>\n",
              "      <th>642</th>\n",
              "      <td>somethingintheorange</td>\n",
              "      <td>zachbryan</td>\n",
              "      <td>Something in the Orange</td>\n",
              "      <td>2022</td>\n",
              "      <td>228013</td>\n",
              "      <td>3</td>\n",
              "      <td>0.369</td>\n",
              "      <td>0.192</td>\n",
              "      <td>4</td>\n",
              "      <td>-12.151</td>\n",
              "      <td>0</td>\n",
              "      <td>0.0400</td>\n",
              "      <td>0.55500</td>\n",
              "      <td>0.000008</td>\n",
              "      <td>0.0954</td>\n",
              "      <td>0.148</td>\n",
              "      <td>175.212</td>\n",
              "      <td>87</td>\n",
              "      <td>World/Traditional</td>\n",
              "    </tr>\n",
              "    <tr>\n",
              "      <th>643</th>\n",
              "      <td>summertimeblues</td>\n",
              "      <td>zachbryan</td>\n",
              "      <td>Summertime Blues</td>\n",
              "      <td>2022</td>\n",
              "      <td>181239</td>\n",
              "      <td>4</td>\n",
              "      <td>0.552</td>\n",
              "      <td>0.411</td>\n",
              "      <td>1</td>\n",
              "      <td>-7.946</td>\n",
              "      <td>1</td>\n",
              "      <td>0.0434</td>\n",
              "      <td>0.79400</td>\n",
              "      <td>0.000003</td>\n",
              "      <td>0.2480</td>\n",
              "      <td>0.501</td>\n",
              "      <td>78.095</td>\n",
              "      <td>67</td>\n",
              "      <td>Unknown</td>\n",
              "    </tr>\n",
              "  </tbody>\n",
              "</table>\n",
              "<p>644 rows × 19 columns</p>\n",
              "</div>\n",
              "    <div class=\"colab-df-buttons\">\n",
              "\n",
              "  <div class=\"colab-df-container\">\n",
              "    <button class=\"colab-df-convert\" onclick=\"convertToInteractive('df-72eb1999-f474-43a3-bd31-92885ad1a2a3')\"\n",
              "            title=\"Convert this dataframe to an interactive table.\"\n",
              "            style=\"display:none;\">\n",
              "\n",
              "  <svg xmlns=\"http://www.w3.org/2000/svg\" height=\"24px\" viewBox=\"0 -960 960 960\">\n",
              "    <path d=\"M120-120v-720h720v720H120Zm60-500h600v-160H180v160Zm220 220h160v-160H400v160Zm0 220h160v-160H400v160ZM180-400h160v-160H180v160Zm440 0h160v-160H620v160ZM180-180h160v-160H180v160Zm440 0h160v-160H620v160Z\"/>\n",
              "  </svg>\n",
              "    </button>\n",
              "\n",
              "  <style>\n",
              "    .colab-df-container {\n",
              "      display:flex;\n",
              "      gap: 12px;\n",
              "    }\n",
              "\n",
              "    .colab-df-convert {\n",
              "      background-color: #E8F0FE;\n",
              "      border: none;\n",
              "      border-radius: 50%;\n",
              "      cursor: pointer;\n",
              "      display: none;\n",
              "      fill: #1967D2;\n",
              "      height: 32px;\n",
              "      padding: 0 0 0 0;\n",
              "      width: 32px;\n",
              "    }\n",
              "\n",
              "    .colab-df-convert:hover {\n",
              "      background-color: #E2EBFA;\n",
              "      box-shadow: 0px 1px 2px rgba(60, 64, 67, 0.3), 0px 1px 3px 1px rgba(60, 64, 67, 0.15);\n",
              "      fill: #174EA6;\n",
              "    }\n",
              "\n",
              "    .colab-df-buttons div {\n",
              "      margin-bottom: 4px;\n",
              "    }\n",
              "\n",
              "    [theme=dark] .colab-df-convert {\n",
              "      background-color: #3B4455;\n",
              "      fill: #D2E3FC;\n",
              "    }\n",
              "\n",
              "    [theme=dark] .colab-df-convert:hover {\n",
              "      background-color: #434B5C;\n",
              "      box-shadow: 0px 1px 3px 1px rgba(0, 0, 0, 0.15);\n",
              "      filter: drop-shadow(0px 1px 2px rgba(0, 0, 0, 0.3));\n",
              "      fill: #FFFFFF;\n",
              "    }\n",
              "  </style>\n",
              "\n",
              "    <script>\n",
              "      const buttonEl =\n",
              "        document.querySelector('#df-72eb1999-f474-43a3-bd31-92885ad1a2a3 button.colab-df-convert');\n",
              "      buttonEl.style.display =\n",
              "        google.colab.kernel.accessAllowed ? 'block' : 'none';\n",
              "\n",
              "      async function convertToInteractive(key) {\n",
              "        const element = document.querySelector('#df-72eb1999-f474-43a3-bd31-92885ad1a2a3');\n",
              "        const dataTable =\n",
              "          await google.colab.kernel.invokeFunction('convertToInteractive',\n",
              "                                                    [key], {});\n",
              "        if (!dataTable) return;\n",
              "\n",
              "        const docLinkHtml = 'Like what you see? Visit the ' +\n",
              "          '<a target=\"_blank\" href=https://colab.research.google.com/notebooks/data_table.ipynb>data table notebook</a>'\n",
              "          + ' to learn more about interactive tables.';\n",
              "        element.innerHTML = '';\n",
              "        dataTable['output_type'] = 'display_data';\n",
              "        await google.colab.output.renderOutput(dataTable, element);\n",
              "        const docLink = document.createElement('div');\n",
              "        docLink.innerHTML = docLinkHtml;\n",
              "        element.appendChild(docLink);\n",
              "      }\n",
              "    </script>\n",
              "  </div>\n",
              "\n",
              "\n",
              "<div id=\"df-580e1a1e-172c-4b39-b46d-83cfdb55aee4\">\n",
              "  <button class=\"colab-df-quickchart\" onclick=\"quickchart('df-580e1a1e-172c-4b39-b46d-83cfdb55aee4')\"\n",
              "            title=\"Suggest charts\"\n",
              "            style=\"display:none;\">\n",
              "\n",
              "<svg xmlns=\"http://www.w3.org/2000/svg\" height=\"24px\"viewBox=\"0 0 24 24\"\n",
              "     width=\"24px\">\n",
              "    <g>\n",
              "        <path d=\"M19 3H5c-1.1 0-2 .9-2 2v14c0 1.1.9 2 2 2h14c1.1 0 2-.9 2-2V5c0-1.1-.9-2-2-2zM9 17H7v-7h2v7zm4 0h-2V7h2v10zm4 0h-2v-4h2v4z\"/>\n",
              "    </g>\n",
              "</svg>\n",
              "  </button>\n",
              "\n",
              "<style>\n",
              "  .colab-df-quickchart {\n",
              "      --bg-color: #E8F0FE;\n",
              "      --fill-color: #1967D2;\n",
              "      --hover-bg-color: #E2EBFA;\n",
              "      --hover-fill-color: #174EA6;\n",
              "      --disabled-fill-color: #AAA;\n",
              "      --disabled-bg-color: #DDD;\n",
              "  }\n",
              "\n",
              "  [theme=dark] .colab-df-quickchart {\n",
              "      --bg-color: #3B4455;\n",
              "      --fill-color: #D2E3FC;\n",
              "      --hover-bg-color: #434B5C;\n",
              "      --hover-fill-color: #FFFFFF;\n",
              "      --disabled-bg-color: #3B4455;\n",
              "      --disabled-fill-color: #666;\n",
              "  }\n",
              "\n",
              "  .colab-df-quickchart {\n",
              "    background-color: var(--bg-color);\n",
              "    border: none;\n",
              "    border-radius: 50%;\n",
              "    cursor: pointer;\n",
              "    display: none;\n",
              "    fill: var(--fill-color);\n",
              "    height: 32px;\n",
              "    padding: 0;\n",
              "    width: 32px;\n",
              "  }\n",
              "\n",
              "  .colab-df-quickchart:hover {\n",
              "    background-color: var(--hover-bg-color);\n",
              "    box-shadow: 0 1px 2px rgba(60, 64, 67, 0.3), 0 1px 3px 1px rgba(60, 64, 67, 0.15);\n",
              "    fill: var(--button-hover-fill-color);\n",
              "  }\n",
              "\n",
              "  .colab-df-quickchart-complete:disabled,\n",
              "  .colab-df-quickchart-complete:disabled:hover {\n",
              "    background-color: var(--disabled-bg-color);\n",
              "    fill: var(--disabled-fill-color);\n",
              "    box-shadow: none;\n",
              "  }\n",
              "\n",
              "  .colab-df-spinner {\n",
              "    border: 2px solid var(--fill-color);\n",
              "    border-color: transparent;\n",
              "    border-bottom-color: var(--fill-color);\n",
              "    animation:\n",
              "      spin 1s steps(1) infinite;\n",
              "  }\n",
              "\n",
              "  @keyframes spin {\n",
              "    0% {\n",
              "      border-color: transparent;\n",
              "      border-bottom-color: var(--fill-color);\n",
              "      border-left-color: var(--fill-color);\n",
              "    }\n",
              "    20% {\n",
              "      border-color: transparent;\n",
              "      border-left-color: var(--fill-color);\n",
              "      border-top-color: var(--fill-color);\n",
              "    }\n",
              "    30% {\n",
              "      border-color: transparent;\n",
              "      border-left-color: var(--fill-color);\n",
              "      border-top-color: var(--fill-color);\n",
              "      border-right-color: var(--fill-color);\n",
              "    }\n",
              "    40% {\n",
              "      border-color: transparent;\n",
              "      border-right-color: var(--fill-color);\n",
              "      border-top-color: var(--fill-color);\n",
              "    }\n",
              "    60% {\n",
              "      border-color: transparent;\n",
              "      border-right-color: var(--fill-color);\n",
              "    }\n",
              "    80% {\n",
              "      border-color: transparent;\n",
              "      border-right-color: var(--fill-color);\n",
              "      border-bottom-color: var(--fill-color);\n",
              "    }\n",
              "    90% {\n",
              "      border-color: transparent;\n",
              "      border-bottom-color: var(--fill-color);\n",
              "    }\n",
              "  }\n",
              "</style>\n",
              "\n",
              "  <script>\n",
              "    async function quickchart(key) {\n",
              "      const quickchartButtonEl =\n",
              "        document.querySelector('#' + key + ' button');\n",
              "      quickchartButtonEl.disabled = true;  // To prevent multiple clicks.\n",
              "      quickchartButtonEl.classList.add('colab-df-spinner');\n",
              "      try {\n",
              "        const charts = await google.colab.kernel.invokeFunction(\n",
              "            'suggestCharts', [key], {});\n",
              "      } catch (error) {\n",
              "        console.error('Error during call to suggestCharts:', error);\n",
              "      }\n",
              "      quickchartButtonEl.classList.remove('colab-df-spinner');\n",
              "      quickchartButtonEl.classList.add('colab-df-quickchart-complete');\n",
              "    }\n",
              "    (() => {\n",
              "      let quickchartButtonEl =\n",
              "        document.querySelector('#df-580e1a1e-172c-4b39-b46d-83cfdb55aee4 button');\n",
              "      quickchartButtonEl.style.display =\n",
              "        google.colab.kernel.accessAllowed ? 'block' : 'none';\n",
              "    })();\n",
              "  </script>\n",
              "</div>\n",
              "\n",
              "  <div id=\"id_70664069-a88a-4d0b-93e5-148f8237aa6e\">\n",
              "    <style>\n",
              "      .colab-df-generate {\n",
              "        background-color: #E8F0FE;\n",
              "        border: none;\n",
              "        border-radius: 50%;\n",
              "        cursor: pointer;\n",
              "        display: none;\n",
              "        fill: #1967D2;\n",
              "        height: 32px;\n",
              "        padding: 0 0 0 0;\n",
              "        width: 32px;\n",
              "      }\n",
              "\n",
              "      .colab-df-generate:hover {\n",
              "        background-color: #E2EBFA;\n",
              "        box-shadow: 0px 1px 2px rgba(60, 64, 67, 0.3), 0px 1px 3px 1px rgba(60, 64, 67, 0.15);\n",
              "        fill: #174EA6;\n",
              "      }\n",
              "\n",
              "      [theme=dark] .colab-df-generate {\n",
              "        background-color: #3B4455;\n",
              "        fill: #D2E3FC;\n",
              "      }\n",
              "\n",
              "      [theme=dark] .colab-df-generate:hover {\n",
              "        background-color: #434B5C;\n",
              "        box-shadow: 0px 1px 3px 1px rgba(0, 0, 0, 0.15);\n",
              "        filter: drop-shadow(0px 1px 2px rgba(0, 0, 0, 0.3));\n",
              "        fill: #FFFFFF;\n",
              "      }\n",
              "    </style>\n",
              "    <button class=\"colab-df-generate\" onclick=\"generateWithVariable('df_final')\"\n",
              "            title=\"Generate code using this dataframe.\"\n",
              "            style=\"display:none;\">\n",
              "\n",
              "  <svg xmlns=\"http://www.w3.org/2000/svg\" height=\"24px\"viewBox=\"0 0 24 24\"\n",
              "       width=\"24px\">\n",
              "    <path d=\"M7,19H8.4L18.45,9,17,7.55,7,17.6ZM5,21V16.75L18.45,3.32a2,2,0,0,1,2.83,0l1.4,1.43a1.91,1.91,0,0,1,.58,1.4,1.91,1.91,0,0,1-.58,1.4L9.25,21ZM18.45,9,17,7.55Zm-12,3A5.31,5.31,0,0,0,4.9,8.1,5.31,5.31,0,0,0,1,6.5,5.31,5.31,0,0,0,4.9,4.9,5.31,5.31,0,0,0,6.5,1,5.31,5.31,0,0,0,8.1,4.9,5.31,5.31,0,0,0,12,6.5,5.46,5.46,0,0,0,6.5,12Z\"/>\n",
              "  </svg>\n",
              "    </button>\n",
              "    <script>\n",
              "      (() => {\n",
              "      const buttonEl =\n",
              "        document.querySelector('#id_70664069-a88a-4d0b-93e5-148f8237aa6e button.colab-df-generate');\n",
              "      buttonEl.style.display =\n",
              "        google.colab.kernel.accessAllowed ? 'block' : 'none';\n",
              "\n",
              "      buttonEl.onclick = () => {\n",
              "        google.colab.notebook.generateWithVariable('df_final');\n",
              "      }\n",
              "      })();\n",
              "    </script>\n",
              "  </div>\n",
              "\n",
              "    </div>\n",
              "  </div>\n"
            ],
            "application/vnd.google.colaboratory.intrinsic+json": {
              "type": "dataframe",
              "variable_name": "df_final",
              "summary": "{\n  \"name\": \"df_final\",\n  \"rows\": 644,\n  \"fields\": [\n    {\n      \"column\": \"Track\",\n      \"properties\": {\n        \"dtype\": \"string\",\n        \"num_unique_values\": 614,\n        \"samples\": [\n          \"bangdemsticks\",\n          \"wecan'tstop\",\n          \"nel\"\n        ],\n        \"semantic_type\": \"\",\n        \"description\": \"\"\n      }\n    },\n    {\n      \"column\": \"Artist\",\n      \"properties\": {\n        \"dtype\": \"category\",\n        \"num_unique_values\": 87,\n        \"samples\": [\n          \"stephensanchez\",\n          \"arianagrande\",\n          \"harrystyles\"\n        ],\n        \"semantic_type\": \"\",\n        \"description\": \"\"\n      }\n    },\n    {\n      \"column\": \"Album\",\n      \"properties\": {\n        \"dtype\": \"string\",\n        \"num_unique_values\": 419,\n        \"samples\": [\n          \"The Fame\",\n          \"The Pinkprint (Deluxe Edition)\",\n          \"Worship You\"\n        ],\n        \"semantic_type\": \"\",\n        \"description\": \"\"\n      }\n    },\n    {\n      \"column\": \"Year\",\n      \"properties\": {\n        \"dtype\": \"number\",\n        \"std\": 4,\n        \"min\": 2001,\n        \"max\": 2023,\n        \"num_unique_values\": 23,\n        \"samples\": [\n          2007,\n          2013,\n          2019\n        ],\n        \"semantic_type\": \"\",\n        \"description\": \"\"\n      }\n    },\n    {\n      \"column\": \"Duration\",\n      \"properties\": {\n        \"dtype\": \"number\",\n        \"std\": 48872,\n        \"min\": 36226,\n        \"max\": 613026,\n        \"num_unique_values\": 613,\n        \"samples\": [\n          231906,\n          199733,\n          187040\n        ],\n        \"semantic_type\": \"\",\n        \"description\": \"\"\n      }\n    },\n    {\n      \"column\": \"Time_Signature\",\n      \"properties\": {\n        \"dtype\": \"number\",\n        \"std\": 0,\n        \"min\": 1,\n        \"max\": 5,\n        \"num_unique_values\": 4,\n        \"samples\": [\n          3,\n          5,\n          4\n        ],\n        \"semantic_type\": \"\",\n        \"description\": \"\"\n      }\n    },\n    {\n      \"column\": \"Danceability\",\n      \"properties\": {\n        \"dtype\": \"number\",\n        \"std\": 0.13918918729567717,\n        \"min\": 0.261,\n        \"max\": 0.968,\n        \"num_unique_values\": 370,\n        \"samples\": [\n          0.585,\n          0.632,\n          0.86\n        ],\n        \"semantic_type\": \"\",\n        \"description\": \"\"\n      }\n    },\n    {\n      \"column\": \"Energy\",\n      \"properties\": {\n        \"dtype\": \"number\",\n        \"std\": 0.17601361367856577,\n        \"min\": 0.0436,\n        \"max\": 0.97,\n        \"num_unique_values\": 392,\n        \"samples\": [\n          0.849,\n          0.511,\n          0.66\n        ],\n        \"semantic_type\": \"\",\n        \"description\": \"\"\n      }\n    },\n    {\n      \"column\": \"Key\",\n      \"properties\": {\n        \"dtype\": \"number\",\n        \"std\": 3,\n        \"min\": 0,\n        \"max\": 11,\n        \"num_unique_values\": 12,\n        \"samples\": [\n          5,\n          10,\n          1\n        ],\n        \"semantic_type\": \"\",\n        \"description\": \"\"\n      }\n    },\n    {\n      \"column\": \"Loudness\",\n      \"properties\": {\n        \"dtype\": \"number\",\n        \"std\": 2.30166545733383,\n        \"min\": -15.608,\n        \"max\": -1.702,\n        \"num_unique_values\": 593,\n        \"samples\": [\n          -6.902,\n          -3.426,\n          -4.494\n        ],\n        \"semantic_type\": \"\",\n        \"description\": \"\"\n      }\n    },\n    {\n      \"column\": \"Mode\",\n      \"properties\": {\n        \"dtype\": \"number\",\n        \"std\": 0,\n        \"min\": 0,\n        \"max\": 1,\n        \"num_unique_values\": 2,\n        \"samples\": [\n          1,\n          0\n        ],\n        \"semantic_type\": \"\",\n        \"description\": \"\"\n      }\n    },\n    {\n      \"column\": \"Speechiness\",\n      \"properties\": {\n        \"dtype\": \"number\",\n        \"std\": 0.10572685926073024,\n        \"min\": 0.0229,\n        \"max\": 0.879,\n        \"num_unique_values\": 428,\n        \"samples\": [\n          0.0294,\n          0.0229\n        ],\n        \"semantic_type\": \"\",\n        \"description\": \"\"\n      }\n    },\n    {\n      \"column\": \"Acousticness\",\n      \"properties\": {\n        \"dtype\": \"number\",\n        \"std\": 0.25208441890278066,\n        \"min\": 9.91e-05,\n        \"max\": 0.978,\n        \"num_unique_values\": 512,\n        \"samples\": [\n          0.013,\n          0.645\n        ],\n        \"semantic_type\": \"\",\n        \"description\": \"\"\n      }\n    },\n    {\n      \"column\": \"Instrumentalness\",\n      \"properties\": {\n        \"dtype\": \"number\",\n        \"std\": 0.03875031778866793,\n        \"min\": 0.0,\n        \"max\": 0.657,\n        \"num_unique_values\": 293,\n        \"samples\": [\n          0.00103,\n          0.000302\n        ],\n        \"semantic_type\": \"\",\n        \"description\": \"\"\n      }\n    },\n    {\n      \"column\": \"Liveness\",\n      \"properties\": {\n        \"dtype\": \"number\",\n        \"std\": 0.11998675885630614,\n        \"min\": 0.0232,\n        \"max\": 0.831,\n        \"num_unique_values\": 343,\n        \"samples\": [\n          0.0839,\n          0.153\n        ],\n        \"semantic_type\": \"\",\n        \"description\": \"\"\n      }\n    },\n    {\n      \"column\": \"Valence\",\n      \"properties\": {\n        \"dtype\": \"number\",\n        \"std\": 0.22129599760752133,\n        \"min\": 0.0499,\n        \"max\": 0.98,\n        \"num_unique_values\": 438,\n        \"samples\": [\n          0.809,\n          0.87\n        ],\n        \"semantic_type\": \"\",\n        \"description\": \"\"\n      }\n    },\n    {\n      \"column\": \"Tempo\",\n      \"properties\": {\n        \"dtype\": \"number\",\n        \"std\": 29.257417001152504,\n        \"min\": 69.877,\n        \"max\": 203.903,\n        \"num_unique_values\": 611,\n        \"samples\": [\n          160.087,\n          140.068\n        ],\n        \"semantic_type\": \"\",\n        \"description\": \"\"\n      }\n    },\n    {\n      \"column\": \"Popularity\",\n      \"properties\": {\n        \"dtype\": \"number\",\n        \"std\": 13,\n        \"min\": 0,\n        \"max\": 98,\n        \"num_unique_values\": 70,\n        \"samples\": [\n          81,\n          50\n        ],\n        \"semantic_type\": \"\",\n        \"description\": \"\"\n      }\n    },\n    {\n      \"column\": \"main_genre\",\n      \"properties\": {\n        \"dtype\": \"category\",\n        \"num_unique_values\": 7,\n        \"samples\": [\n          \"Pop\",\n          \"World/Traditional\"\n        ],\n        \"semantic_type\": \"\",\n        \"description\": \"\"\n      }\n    }\n  ]\n}"
            }
          },
          "metadata": {},
          "execution_count": 78
        }
      ]
    },
    {
      "cell_type": "markdown",
      "source": [
        "<hr>"
      ],
      "metadata": {
        "id": "pEbDewlAIpNK"
      }
    },
    {
      "cell_type": "markdown",
      "source": [
        "<h1>Clustering Data"
      ],
      "metadata": {
        "id": "wWYeua8mJMMy"
      }
    },
    {
      "cell_type": "markdown",
      "source": [
        "**1. Key**\n",
        "*   Musical key of the track, represented by integers (0 = C, 1 = C#/Db, etc.).\n",
        "\n"
      ],
      "metadata": {
        "id": "NlxbZ28Kn-Yk"
      }
    },
    {
      "cell_type": "code",
      "source": [
        "df_final['Cluster_Key'] = np.where(df_final['Key'] == 0, 'C',\n",
        "                                         np.where(df_final['Key'] == 1, 'C#/Db',\n",
        "                                        np.where(df_final['Key'] == 2, 'D',\n",
        "                                        np.where(df_final['Key'] == 3, 'Eb',\n",
        "                                        np.where(df_final['Key'] == 4, 'E',\n",
        "                                        np.where(df_final['Key'] == 5, 'F',\n",
        "                                        np.where(df_final['Key'] == 6, 'F#/Gb',\n",
        "                                        np.where(df_final['Key'] == 7, 'G',\n",
        "                                        np.where(df_final['Key'] == 8, 'G#/Ab',\n",
        "                                        np.where(df_final['Key'] == 9, 'A',\n",
        "                                        np.where(df_final['Key'] ==  10, 'A#/Bb',\n",
        "                                        np.where(df_final['Key'] ==  11, 'B',''))))))))))))"
      ],
      "metadata": {
        "id": "i_iXIkGRbub9"
      },
      "execution_count": 82,
      "outputs": []
    },
    {
      "cell_type": "markdown",
      "source": [
        "**2. Mode**\n",
        "* Indicates whether the track is in a major (1) or minor (0) key."
      ],
      "metadata": {
        "id": "RlzzQgUtJSnp"
      }
    },
    {
      "cell_type": "code",
      "source": [
        "df_final['Cluster_Mode'] = np.where(df_final['Mode'] == 0, 'Minor',\n",
        "                                      np.where(df_final['Mode'] == 1, 'Major',''))"
      ],
      "metadata": {
        "id": "967Hy7g1JfYm"
      },
      "execution_count": 83,
      "outputs": []
    },
    {
      "cell_type": "markdown",
      "source": [
        "**3. Duration**\n",
        "- Length of the track, usually in milliseconds.\n",
        " - Short: 0 - 180,000 ms (0 - 3 minutes)\n",
        " - Medium: 180,001 - 300,000 ms (3 - 5 minutes)\n",
        " - Long: 300,001 ms and above (5+ minutes)"
      ],
      "metadata": {
        "id": "ss5thT7yHOCs"
      }
    },
    {
      "cell_type": "code",
      "source": [
        "df_final['Cluster_Duration(Min)'] = np.where(df_final['Duration'] < 180000, '0-3mins',\n",
        "                                                  np.where(df_final['Duration'] < 300000, '3-5mins', '5+mins'))"
      ],
      "metadata": {
        "id": "JFs-ySmsD_Yu"
      },
      "execution_count": 84,
      "outputs": []
    },
    {
      "cell_type": "markdown",
      "source": [
        "**4. Danceability**\n",
        "- How suitable a track is for dancing, from 0.0 to 1.0.\n",
        " - Low: 0.0 - 0.4 (e.g., classical, ambient)\n",
        " - Medium: 0.4 - 0.7 (e.g., soft rock, indie)\n",
        " - High: 0.7 - 1.0 (e.g., pop, dance, hip-hop)"
      ],
      "metadata": {
        "id": "ScMhvQ3qgkyw"
      }
    },
    {
      "cell_type": "code",
      "source": [
        "df_final['Cluster_Danceability'] = np.where(df_final['Danceability'] <= 0.4, 'Low_Dance',\n",
        "                                               np.where(df_final['Danceability'] <= 0.7, 'Mid_Dance',\n",
        "                                               np.where(df_final['Danceability'] <=  1,'High_Dance','')))"
      ],
      "metadata": {
        "id": "-xXlv-e_gpip"
      },
      "execution_count": 85,
      "outputs": []
    },
    {
      "cell_type": "markdown",
      "source": [
        "**5. Energy**\n",
        "- Measure of intensity and activity in the track, from 0.0 to 1.0.\n",
        " - Low Energy: 0.0 - 0.4 (e.g., acoustic, ambient, soft ballads)\n",
        " - Medium Energy: 0.4 - 0.7 (e.g., indie rock, chill electronic)\n",
        " - High Energy: 0.7 - 1.0 (e.g., EDM, rock, fast-paced pop)"
      ],
      "metadata": {
        "id": "q7S_2bxZh-k9"
      }
    },
    {
      "cell_type": "code",
      "source": [
        "df_final['Cluster_Energy'] = np.where(df_final['Energy'] <= 0.4, 'Low_Energy',\n",
        "                                        np.where(df_final['Energy'] <= 0.7, 'Mid_Energy',\n",
        "                                        np.where(df_final['Energy'] <=  1, 'High_Energy','')))"
      ],
      "metadata": {
        "id": "IdsGzo-xiESu"
      },
      "execution_count": 86,
      "outputs": []
    },
    {
      "cell_type": "markdown",
      "source": [
        "**6.Loudness**\n",
        "- Spotify offers three loudness settings to control how normalization is applied:\n",
        "\n",
        " - Loud : This applies a normalization level of around -11 dB LUFS, suitable for noisier environments where higher volume is needed.\n",
        " - Normal (default) : This is the standard setting at -14 dB LUFS, aiming for balanced playback across all tracks.\n",
        " - Quiet : This setting lowers the loudness normalization target to -23 dB LUFS, ideal for quiet environments or more dynamic listening experiences."
      ],
      "metadata": {
        "id": "13iRr6ah79tD"
      }
    },
    {
      "cell_type": "code",
      "source": [
        "df_final['Cluster_Loudness'] = np.where(df_final['Loudness'] >= -11, 'High_Loud',\n",
        "                                            np.where(df_final['Loudness'] >= -14, 'Mid_Loud', 'Low_Loud'))"
      ],
      "metadata": {
        "id": "nRxU2U93ecGz"
      },
      "execution_count": 87,
      "outputs": []
    },
    {
      "cell_type": "markdown",
      "source": [
        "**7. Speechiness**\n",
        "-  Detects the presence of spoken words in a track, from 0.0 to 1.0.\n",
        " - Low Speechiness: 0.0 - 0.33 (e.g., music without much spoken word)\n",
        " - Medium Speechiness: 0.33 - 0.66 (e.g., tracks with both music and speech, like rap)\n",
        " - High Speechiness: 0.66 - 1.0 (e.g., podcasts, spoken word tracks)"
      ],
      "metadata": {
        "id": "GnY6QkWpkM2G"
      }
    },
    {
      "cell_type": "code",
      "source": [
        "df_final['Cluster_Speechiness'] = np.where(df_final['Speechiness'] <= 0.333, 'Low_Speech',\n",
        "                                               np.where(df_final['Speechiness'] <= 0.666, 'Mid_Speech',\n",
        "                                               np.where(df_final['Speechiness'] <=  1, 'High_Speech','')))"
      ],
      "metadata": {
        "id": "NYWuMDIVkRLQ"
      },
      "execution_count": 88,
      "outputs": []
    },
    {
      "cell_type": "markdown",
      "source": [
        "**8. Acousticness**\n",
        "- Confidence level that the track is acoustic, from 0.0 to 1.0.\n",
        " - Low Acousticness: 0.0 - 0.3 (e.g., electronic, heavily produced)\n",
        " - Medium Acousticness: 0.3 - 0.7 (e.g., some balance between acoustic and electronic elements)\n",
        " - High Acousticness: 0.7 - 1.0 (e.g., acoustic tracks, singer-songwriter)"
      ],
      "metadata": {
        "id": "qz5_sBCHkoDi"
      }
    },
    {
      "cell_type": "code",
      "source": [
        "df_final['Cluster_Acousticness'] = np.where(df_final['Acousticness'] <= 0.3, 'Low_Acoustic',\n",
        "                                                np.where(df_final['Acousticness'] <= 0.7, 'Mid_Acoustic',\n",
        "                                                np.where(df_final['Acousticness'] <=  1, 'High_Acoustic','')))"
      ],
      "metadata": {
        "id": "J2JxXaGOkvP_"
      },
      "execution_count": 89,
      "outputs": []
    },
    {
      "cell_type": "markdown",
      "source": [
        "**9. Instrumentalness**\n",
        "- Probability that the track contains no vocals, from 0.0 to 1.0.\n",
        " - Vocal-heavy: 0.0 - 0.1 (most mainstream music)\n",
        " - Medium Instrumentalness: 0.1 - 0.5 (vocals present but not dominant)\n",
        " - Instrumental: 0.5 - 1.0 (mostly instrumental, no vocals)"
      ],
      "metadata": {
        "id": "SOSqwFysk8L0"
      }
    },
    {
      "cell_type": "code",
      "source": [
        "df_final['Cluster_Instrumentalness'] = np.where(df_final['Instrumentalness'] <= 0.1, 'Low_Instru',\n",
        "                                                      np.where(df_final['Instrumentalness'] <= 0.5, 'Mid_Instru',\n",
        "                                                      np.where(df_final['Instrumentalness'] <=  1, 'High_Instru','')))"
      ],
      "metadata": {
        "id": "1sz9ME0jlAUI"
      },
      "execution_count": 90,
      "outputs": []
    },
    {
      "cell_type": "markdown",
      "source": [
        "**10. Liveness**\n",
        "- Detects the presence of a live audience in the recording, from 0.0 to 1.0.\n",
        " - Studio-like: 0.0 - 0.3 (recorded in a studio without live ambiance)\n",
        " - Medium Liveness: 0.3 - 0.6 (some audience noise or live characteristics)\n",
        " - Live Recording: 0.6 - 1.0 (recorded live in concert with audience presence)"
      ],
      "metadata": {
        "id": "tNiyhFwVlSQo"
      }
    },
    {
      "cell_type": "code",
      "source": [
        "df_final['Cluster_Liveness'] = np.where(df_final['Liveness'] <= 0.3, 'Studio_Liveness','Outdoor_Liveness')"
      ],
      "metadata": {
        "id": "nAJKX6ZOlXSg"
      },
      "execution_count": 91,
      "outputs": []
    },
    {
      "cell_type": "markdown",
      "source": [
        "**11. Valence**\n",
        "- Describes the musical positiveness conveyed by a track, from 0.0 to 1.0.\n",
        " - Low Valence: 0.0 - 0.3 (e.g., sad, melancholic tracks)\n",
        " - Medium Valence: 0.3 - 0.6 (e.g., neutral or emotionally mixed tracks)\n",
        " - High Valence: 0.6 - 1.0 (e.g., happy, cheerful, upbeat tracks)"
      ],
      "metadata": {
        "id": "WVkKOC2alnXj"
      }
    },
    {
      "cell_type": "code",
      "source": [
        "df_final['Cluster_Valence'] = np.where(df_final['Valence'] <= 0.3, 'Low_Valence',\n",
        "                                         np.where(df_final['Valence'] <= 0.6, 'Mid_Valence',\n",
        "                                         np.where(df_final['Valence'] <=  1, 'High_Valence','')))"
      ],
      "metadata": {
        "id": "weRX37e0lsMP"
      },
      "execution_count": 92,
      "outputs": []
    },
    {
      "cell_type": "markdown",
      "source": [
        "**12. Tempo**\n",
        "- Speed of the track in beats per minute (BPM).\n",
        " - Slow: 0 - 60 BPM (e.g., ballads, ambient music)\n",
        " - Medium: 60 - 120 BPM (e.g., pop, mid-tempo rock)\n",
        " - Fast: 120 - 180+ BPM (e.g., dance, EDM, upbeat tracks)"
      ],
      "metadata": {
        "id": "TvGO-f0Ql4fc"
      }
    },
    {
      "cell_type": "code",
      "source": [
        "df_final['Cluster_Tempo'] = np.where(df_final['Tempo'] <= 60 , 'Low_Tempo',\n",
        "                                       np.where(df_final['Tempo'] <= 120 , 'Mid_Tempo', 'High_Tempo'))"
      ],
      "metadata": {
        "id": "lfz0pKb3l9yc"
      },
      "execution_count": 93,
      "outputs": []
    },
    {
      "cell_type": "code",
      "source": [
        "output_file = 'output.csv'\n",
        "df_final.to_csv(output_file, index=False)\n",
        "from google.colab import files\n",
        "\n",
        "files.download(output_file)"
      ],
      "metadata": {
        "colab": {
          "base_uri": "https://localhost:8080/",
          "height": 17
        },
        "id": "xT389TkO4mH6",
        "outputId": "b11d0aed-5124-42ab-efe8-931765ad05e3"
      },
      "execution_count": 94,
      "outputs": [
        {
          "output_type": "display_data",
          "data": {
            "text/plain": [
              "<IPython.core.display.Javascript object>"
            ],
            "application/javascript": [
              "\n",
              "    async function download(id, filename, size) {\n",
              "      if (!google.colab.kernel.accessAllowed) {\n",
              "        return;\n",
              "      }\n",
              "      const div = document.createElement('div');\n",
              "      const label = document.createElement('label');\n",
              "      label.textContent = `Downloading \"${filename}\": `;\n",
              "      div.appendChild(label);\n",
              "      const progress = document.createElement('progress');\n",
              "      progress.max = size;\n",
              "      div.appendChild(progress);\n",
              "      document.body.appendChild(div);\n",
              "\n",
              "      const buffers = [];\n",
              "      let downloaded = 0;\n",
              "\n",
              "      const channel = await google.colab.kernel.comms.open(id);\n",
              "      // Send a message to notify the kernel that we're ready.\n",
              "      channel.send({})\n",
              "\n",
              "      for await (const message of channel.messages) {\n",
              "        // Send a message to notify the kernel that we're ready.\n",
              "        channel.send({})\n",
              "        if (message.buffers) {\n",
              "          for (const buffer of message.buffers) {\n",
              "            buffers.push(buffer);\n",
              "            downloaded += buffer.byteLength;\n",
              "            progress.value = downloaded;\n",
              "          }\n",
              "        }\n",
              "      }\n",
              "      const blob = new Blob(buffers, {type: 'application/binary'});\n",
              "      const a = document.createElement('a');\n",
              "      a.href = window.URL.createObjectURL(blob);\n",
              "      a.download = filename;\n",
              "      div.appendChild(a);\n",
              "      a.click();\n",
              "      div.remove();\n",
              "    }\n",
              "  "
            ]
          },
          "metadata": {}
        },
        {
          "output_type": "display_data",
          "data": {
            "text/plain": [
              "<IPython.core.display.Javascript object>"
            ],
            "application/javascript": [
              "download(\"download_f9c2ba75-0314-4f7c-ae8b-003b738b4d1a\", \"output.csv\", 161557)"
            ]
          },
          "metadata": {}
        }
      ]
    },
    {
      "cell_type": "markdown",
      "source": [
        "<hr>"
      ],
      "metadata": {
        "id": "3HPpbUQ5rDA2"
      }
    },
    {
      "cell_type": "markdown",
      "source": [
        "<h1>Challenge"
      ],
      "metadata": {
        "id": "tJxWJhf6zYRR"
      }
    },
    {
      "cell_type": "markdown",
      "source": [
        "<h1>Pearson's"
      ],
      "metadata": {
        "id": "eGNECGaNiZeK"
      }
    },
    {
      "cell_type": "code",
      "source": [
        "from scipy.stats import pearsonr\n",
        "\n",
        "# Example: Load your data into a DataFrame\n",
        "# Replace 'your_data.csv' with the path to your CSV file\n",
        "df = pd.read_csv('Pearson_material.csv')\n",
        "\n",
        "# List to store results\n",
        "correlation_results = {}\n",
        "\n",
        "# Calculate Pearson's r for each feature against 'Popularity'\n",
        "for column in df.columns:\n",
        "    if column != 'Streams':\n",
        "        # Calculate Pearson's r using pandas\n",
        "        correlation = df['Streams'].corr(df[column])\n",
        "\n",
        "        # Alternatively, calculate Pearson's r using scipy\n",
        "        # correlation, _ = pearsonr(df['Popularity'], df[column])\n",
        "\n",
        "        correlation_results[column] = correlation\n",
        "\n",
        "# Convert results to a DataFrame for better visualization\n",
        "correlation_df = pd.DataFrame(correlation_results.items(), columns=['Feature', 'Pearson_r'])\n",
        "print(correlation_df)"
      ],
      "metadata": {
        "colab": {
          "base_uri": "https://localhost:8080/",
          "height": 373
        },
        "id": "B67K2C3pFORF",
        "outputId": "11db9494-fa00-4d84-b2fb-9ee3727c330d"
      },
      "execution_count": 17,
      "outputs": [
        {
          "output_type": "error",
          "ename": "FileNotFoundError",
          "evalue": "[Errno 2] No such file or directory: 'Pearson_material.csv'",
          "traceback": [
            "\u001b[0;31m---------------------------------------------------------------------------\u001b[0m",
            "\u001b[0;31mFileNotFoundError\u001b[0m                         Traceback (most recent call last)",
            "\u001b[0;32m<ipython-input-17-4bf2c476df82>\u001b[0m in \u001b[0;36m<cell line: 5>\u001b[0;34m()\u001b[0m\n\u001b[1;32m      3\u001b[0m \u001b[0;31m# Example: Load your data into a DataFrame\u001b[0m\u001b[0;34m\u001b[0m\u001b[0;34m\u001b[0m\u001b[0m\n\u001b[1;32m      4\u001b[0m \u001b[0;31m# Replace 'your_data.csv' with the path to your CSV file\u001b[0m\u001b[0;34m\u001b[0m\u001b[0;34m\u001b[0m\u001b[0m\n\u001b[0;32m----> 5\u001b[0;31m \u001b[0mdf\u001b[0m \u001b[0;34m=\u001b[0m \u001b[0mpd\u001b[0m\u001b[0;34m.\u001b[0m\u001b[0mread_csv\u001b[0m\u001b[0;34m(\u001b[0m\u001b[0;34m'Pearson_material.csv'\u001b[0m\u001b[0;34m)\u001b[0m\u001b[0;34m\u001b[0m\u001b[0;34m\u001b[0m\u001b[0m\n\u001b[0m\u001b[1;32m      6\u001b[0m \u001b[0;34m\u001b[0m\u001b[0m\n\u001b[1;32m      7\u001b[0m \u001b[0;31m# List to store results\u001b[0m\u001b[0;34m\u001b[0m\u001b[0;34m\u001b[0m\u001b[0m\n",
            "\u001b[0;32m/usr/local/lib/python3.10/dist-packages/pandas/io/parsers/readers.py\u001b[0m in \u001b[0;36mread_csv\u001b[0;34m(filepath_or_buffer, sep, delimiter, header, names, index_col, usecols, dtype, engine, converters, true_values, false_values, skipinitialspace, skiprows, skipfooter, nrows, na_values, keep_default_na, na_filter, verbose, skip_blank_lines, parse_dates, infer_datetime_format, keep_date_col, date_parser, date_format, dayfirst, cache_dates, iterator, chunksize, compression, thousands, decimal, lineterminator, quotechar, quoting, doublequote, escapechar, comment, encoding, encoding_errors, dialect, on_bad_lines, delim_whitespace, low_memory, memory_map, float_precision, storage_options, dtype_backend)\u001b[0m\n\u001b[1;32m    946\u001b[0m     \u001b[0mkwds\u001b[0m\u001b[0;34m.\u001b[0m\u001b[0mupdate\u001b[0m\u001b[0;34m(\u001b[0m\u001b[0mkwds_defaults\u001b[0m\u001b[0;34m)\u001b[0m\u001b[0;34m\u001b[0m\u001b[0;34m\u001b[0m\u001b[0m\n\u001b[1;32m    947\u001b[0m \u001b[0;34m\u001b[0m\u001b[0m\n\u001b[0;32m--> 948\u001b[0;31m     \u001b[0;32mreturn\u001b[0m \u001b[0m_read\u001b[0m\u001b[0;34m(\u001b[0m\u001b[0mfilepath_or_buffer\u001b[0m\u001b[0;34m,\u001b[0m \u001b[0mkwds\u001b[0m\u001b[0;34m)\u001b[0m\u001b[0;34m\u001b[0m\u001b[0;34m\u001b[0m\u001b[0m\n\u001b[0m\u001b[1;32m    949\u001b[0m \u001b[0;34m\u001b[0m\u001b[0m\n\u001b[1;32m    950\u001b[0m \u001b[0;34m\u001b[0m\u001b[0m\n",
            "\u001b[0;32m/usr/local/lib/python3.10/dist-packages/pandas/io/parsers/readers.py\u001b[0m in \u001b[0;36m_read\u001b[0;34m(filepath_or_buffer, kwds)\u001b[0m\n\u001b[1;32m    609\u001b[0m \u001b[0;34m\u001b[0m\u001b[0m\n\u001b[1;32m    610\u001b[0m     \u001b[0;31m# Create the parser.\u001b[0m\u001b[0;34m\u001b[0m\u001b[0;34m\u001b[0m\u001b[0m\n\u001b[0;32m--> 611\u001b[0;31m     \u001b[0mparser\u001b[0m \u001b[0;34m=\u001b[0m \u001b[0mTextFileReader\u001b[0m\u001b[0;34m(\u001b[0m\u001b[0mfilepath_or_buffer\u001b[0m\u001b[0;34m,\u001b[0m \u001b[0;34m**\u001b[0m\u001b[0mkwds\u001b[0m\u001b[0;34m)\u001b[0m\u001b[0;34m\u001b[0m\u001b[0;34m\u001b[0m\u001b[0m\n\u001b[0m\u001b[1;32m    612\u001b[0m \u001b[0;34m\u001b[0m\u001b[0m\n\u001b[1;32m    613\u001b[0m     \u001b[0;32mif\u001b[0m \u001b[0mchunksize\u001b[0m \u001b[0;32mor\u001b[0m \u001b[0miterator\u001b[0m\u001b[0;34m:\u001b[0m\u001b[0;34m\u001b[0m\u001b[0;34m\u001b[0m\u001b[0m\n",
            "\u001b[0;32m/usr/local/lib/python3.10/dist-packages/pandas/io/parsers/readers.py\u001b[0m in \u001b[0;36m__init__\u001b[0;34m(self, f, engine, **kwds)\u001b[0m\n\u001b[1;32m   1446\u001b[0m \u001b[0;34m\u001b[0m\u001b[0m\n\u001b[1;32m   1447\u001b[0m         \u001b[0mself\u001b[0m\u001b[0;34m.\u001b[0m\u001b[0mhandles\u001b[0m\u001b[0;34m:\u001b[0m \u001b[0mIOHandles\u001b[0m \u001b[0;34m|\u001b[0m \u001b[0;32mNone\u001b[0m \u001b[0;34m=\u001b[0m \u001b[0;32mNone\u001b[0m\u001b[0;34m\u001b[0m\u001b[0;34m\u001b[0m\u001b[0m\n\u001b[0;32m-> 1448\u001b[0;31m         \u001b[0mself\u001b[0m\u001b[0;34m.\u001b[0m\u001b[0m_engine\u001b[0m \u001b[0;34m=\u001b[0m \u001b[0mself\u001b[0m\u001b[0;34m.\u001b[0m\u001b[0m_make_engine\u001b[0m\u001b[0;34m(\u001b[0m\u001b[0mf\u001b[0m\u001b[0;34m,\u001b[0m \u001b[0mself\u001b[0m\u001b[0;34m.\u001b[0m\u001b[0mengine\u001b[0m\u001b[0;34m)\u001b[0m\u001b[0;34m\u001b[0m\u001b[0;34m\u001b[0m\u001b[0m\n\u001b[0m\u001b[1;32m   1449\u001b[0m \u001b[0;34m\u001b[0m\u001b[0m\n\u001b[1;32m   1450\u001b[0m     \u001b[0;32mdef\u001b[0m \u001b[0mclose\u001b[0m\u001b[0;34m(\u001b[0m\u001b[0mself\u001b[0m\u001b[0;34m)\u001b[0m \u001b[0;34m->\u001b[0m \u001b[0;32mNone\u001b[0m\u001b[0;34m:\u001b[0m\u001b[0;34m\u001b[0m\u001b[0;34m\u001b[0m\u001b[0m\n",
            "\u001b[0;32m/usr/local/lib/python3.10/dist-packages/pandas/io/parsers/readers.py\u001b[0m in \u001b[0;36m_make_engine\u001b[0;34m(self, f, engine)\u001b[0m\n\u001b[1;32m   1703\u001b[0m                 \u001b[0;32mif\u001b[0m \u001b[0;34m\"b\"\u001b[0m \u001b[0;32mnot\u001b[0m \u001b[0;32min\u001b[0m \u001b[0mmode\u001b[0m\u001b[0;34m:\u001b[0m\u001b[0;34m\u001b[0m\u001b[0;34m\u001b[0m\u001b[0m\n\u001b[1;32m   1704\u001b[0m                     \u001b[0mmode\u001b[0m \u001b[0;34m+=\u001b[0m \u001b[0;34m\"b\"\u001b[0m\u001b[0;34m\u001b[0m\u001b[0;34m\u001b[0m\u001b[0m\n\u001b[0;32m-> 1705\u001b[0;31m             self.handles = get_handle(\n\u001b[0m\u001b[1;32m   1706\u001b[0m                 \u001b[0mf\u001b[0m\u001b[0;34m,\u001b[0m\u001b[0;34m\u001b[0m\u001b[0;34m\u001b[0m\u001b[0m\n\u001b[1;32m   1707\u001b[0m                 \u001b[0mmode\u001b[0m\u001b[0;34m,\u001b[0m\u001b[0;34m\u001b[0m\u001b[0;34m\u001b[0m\u001b[0m\n",
            "\u001b[0;32m/usr/local/lib/python3.10/dist-packages/pandas/io/common.py\u001b[0m in \u001b[0;36mget_handle\u001b[0;34m(path_or_buf, mode, encoding, compression, memory_map, is_text, errors, storage_options)\u001b[0m\n\u001b[1;32m    861\u001b[0m         \u001b[0;32mif\u001b[0m \u001b[0mioargs\u001b[0m\u001b[0;34m.\u001b[0m\u001b[0mencoding\u001b[0m \u001b[0;32mand\u001b[0m \u001b[0;34m\"b\"\u001b[0m \u001b[0;32mnot\u001b[0m \u001b[0;32min\u001b[0m \u001b[0mioargs\u001b[0m\u001b[0;34m.\u001b[0m\u001b[0mmode\u001b[0m\u001b[0;34m:\u001b[0m\u001b[0;34m\u001b[0m\u001b[0;34m\u001b[0m\u001b[0m\n\u001b[1;32m    862\u001b[0m             \u001b[0;31m# Encoding\u001b[0m\u001b[0;34m\u001b[0m\u001b[0;34m\u001b[0m\u001b[0m\n\u001b[0;32m--> 863\u001b[0;31m             handle = open(\n\u001b[0m\u001b[1;32m    864\u001b[0m                 \u001b[0mhandle\u001b[0m\u001b[0;34m,\u001b[0m\u001b[0;34m\u001b[0m\u001b[0;34m\u001b[0m\u001b[0m\n\u001b[1;32m    865\u001b[0m                 \u001b[0mioargs\u001b[0m\u001b[0;34m.\u001b[0m\u001b[0mmode\u001b[0m\u001b[0;34m,\u001b[0m\u001b[0;34m\u001b[0m\u001b[0;34m\u001b[0m\u001b[0m\n",
            "\u001b[0;31mFileNotFoundError\u001b[0m: [Errno 2] No such file or directory: 'Pearson_material.csv'"
          ]
        }
      ]
    },
    {
      "cell_type": "code",
      "source": [
        "import seaborn as sns\n",
        "import matplotlib.pyplot as plt\n",
        "\n",
        "# Assuming 'df' is your original DataFrame and 'Popularity' is the target column\n",
        "popularity_corr = df.corr()[['Streams']]  # Select only the 'Popularity' row\n",
        "\n",
        "plt.figure(figsize=(10, 8))  # Adjust figure size as needed\n",
        "sns.heatmap(popularity_corr, annot=True, cmap='coolwarm', fmt=\".2f\")\n",
        "plt.title(\"Pearson Correlation with Streams\")\n",
        "plt.show()"
      ],
      "metadata": {
        "colab": {
          "base_uri": "https://localhost:8080/",
          "height": 211
        },
        "id": "QHdDgZCO0vld",
        "outputId": "ef885887-f812-42dc-a234-aa8a6bf5b02c"
      },
      "execution_count": 18,
      "outputs": [
        {
          "output_type": "error",
          "ename": "NameError",
          "evalue": "name 'df' is not defined",
          "traceback": [
            "\u001b[0;31m---------------------------------------------------------------------------\u001b[0m",
            "\u001b[0;31mNameError\u001b[0m                                 Traceback (most recent call last)",
            "\u001b[0;32m<ipython-input-18-2ab6652f30e1>\u001b[0m in \u001b[0;36m<cell line: 5>\u001b[0;34m()\u001b[0m\n\u001b[1;32m      3\u001b[0m \u001b[0;34m\u001b[0m\u001b[0m\n\u001b[1;32m      4\u001b[0m \u001b[0;31m# Assuming 'df' is your original DataFrame and 'Popularity' is the target column\u001b[0m\u001b[0;34m\u001b[0m\u001b[0;34m\u001b[0m\u001b[0m\n\u001b[0;32m----> 5\u001b[0;31m \u001b[0mpopularity_corr\u001b[0m \u001b[0;34m=\u001b[0m \u001b[0mdf\u001b[0m\u001b[0;34m.\u001b[0m\u001b[0mcorr\u001b[0m\u001b[0;34m(\u001b[0m\u001b[0;34m)\u001b[0m\u001b[0;34m[\u001b[0m\u001b[0;34m[\u001b[0m\u001b[0;34m'Streams'\u001b[0m\u001b[0;34m]\u001b[0m\u001b[0;34m]\u001b[0m  \u001b[0;31m# Select only the 'Popularity' row\u001b[0m\u001b[0;34m\u001b[0m\u001b[0;34m\u001b[0m\u001b[0m\n\u001b[0m\u001b[1;32m      6\u001b[0m \u001b[0;34m\u001b[0m\u001b[0m\n\u001b[1;32m      7\u001b[0m \u001b[0mplt\u001b[0m\u001b[0;34m.\u001b[0m\u001b[0mfigure\u001b[0m\u001b[0;34m(\u001b[0m\u001b[0mfigsize\u001b[0m\u001b[0;34m=\u001b[0m\u001b[0;34m(\u001b[0m\u001b[0;36m10\u001b[0m\u001b[0;34m,\u001b[0m \u001b[0;36m8\u001b[0m\u001b[0;34m)\u001b[0m\u001b[0;34m)\u001b[0m  \u001b[0;31m# Adjust figure size as needed\u001b[0m\u001b[0;34m\u001b[0m\u001b[0;34m\u001b[0m\u001b[0m\n",
            "\u001b[0;31mNameError\u001b[0m: name 'df' is not defined"
          ]
        }
      ]
    },
    {
      "cell_type": "code",
      "source": [
        "import plotly.express as px\n",
        "\n",
        "fig=px.imshow(df.corr(),text_auto=True,height=800,width=800,color_continuous_scale=px.colors.sequential.Greens,aspect='auto',title='<b>paiwise correlation of columns')\n",
        "fig.update_layout(title_x=0.5)\n",
        "fig.show()"
      ],
      "metadata": {
        "id": "zXVowm-fV6GS"
      },
      "execution_count": null,
      "outputs": []
    },
    {
      "cell_type": "markdown",
      "source": [
        "<hr>"
      ],
      "metadata": {
        "id": "pny78xXznXUj"
      }
    },
    {
      "cell_type": "markdown",
      "source": [
        "<h1>Test graph"
      ],
      "metadata": {
        "id": "gdKLl6_wiciQ"
      }
    },
    {
      "cell_type": "code",
      "source": [
        "!pip install plotly==5.15.0\n",
        "\n"
      ],
      "metadata": {
        "id": "2BQB5VCme1d7"
      },
      "execution_count": null,
      "outputs": []
    },
    {
      "cell_type": "code",
      "source": [
        "import plotly.graph_objects as go\n",
        "from plotly.subplots import make_subplots\n",
        "import plotly.io as pio"
      ],
      "metadata": {
        "id": "EDYKekT1hZs7"
      },
      "execution_count": null,
      "outputs": []
    },
    {
      "cell_type": "code",
      "source": [
        "fig = make_subplots(\n",
        "    rows=3,\n",
        "    cols=3,\n",
        "    subplot_titles=('<i>Popularity', '<i>Danceability', '<i>Energy', '<i>Loudness', '<i>Speechiness', '<i>Acousticness', '<i>Liveness', '<i>Valence', '<i>Tempo')\n",
        ")\n",
        "\n",
        "fig.add_trace(go.Histogram(x=df_final['Popularity'], name='Popularity'), row=1, col=1)\n",
        "fig.add_trace(go.Histogram(x=df_final['Danceability'], name='Danceability'), row=1, col=2)\n",
        "fig.add_trace(go.Histogram(x=df_final['Energy'], name='Energy'), row=1, col=3)\n",
        "fig.add_trace(go.Histogram(x=df_final['Loudness'], name='Loudness'), row=2, col=1)\n",
        "fig.add_trace(go.Histogram(x=df_final['Speechiness'], name='Speechiness'), row=2, col=2)\n",
        "fig.add_trace(go.Histogram(x=df_final['Acousticness'], name='Acousticness'), row=2, col=3)\n",
        "fig.add_trace(go.Histogram(x=df_final['Liveness'], name='Liveness'), row=3, col=1)\n",
        "fig.add_trace(go.Histogram(x=df_final['Valence'], name='Valence'), row=3, col=2)\n",
        "fig.add_trace(go.Histogram(x=df_final['Tempo'], name='Tempo'), row=3, col=3)\n",
        "\n",
        "fig.update_layout(height=900, width=900, title_text='<b>Feature Distribution')\n",
        "fig.update_layout(template='plotly_dark', title_x=0.5)\n",
        "\n",
        "# Show the figure\n",
        "fig.show()\n"
      ],
      "metadata": {
        "id": "7S3NirdGgn9D"
      },
      "execution_count": null,
      "outputs": []
    },
    {
      "cell_type": "markdown",
      "source": [
        "<hr>"
      ],
      "metadata": {
        "id": "RB4LmJUiigcy"
      }
    },
    {
      "cell_type": "code",
      "source": [
        "import matplotlib.pyplot as plt\n",
        "import seaborn as sns"
      ],
      "metadata": {
        "id": "4qTX_I9aihBt"
      },
      "execution_count": 19,
      "outputs": []
    },
    {
      "cell_type": "markdown",
      "source": [
        "Key VS Popularity"
      ],
      "metadata": {
        "id": "tFf1c9rQ88DD"
      }
    },
    {
      "cell_type": "code",
      "source": [
        "# Assuming 'df_final' is your DataFrame\n",
        "\n",
        "# Group by 'Cluster_Key' and count 'Track'\n",
        "cluster_key_count = df_final.groupby('Cluster_Key')['Track'].count().reset_index()\n",
        "\n",
        "# Create the bar plot\n",
        "keyplot = sns.barplot(x='Cluster_Key', y='Track', data=cluster_key_count,color='skyblue')\n",
        "\n",
        "# Add labels to the bars\n",
        "for p in keyplot.patches:\n",
        "    keyplot.annotate(format(p.get_height(), '.0f'),\n",
        "                (p.get_x() + p.get_width() / 2., p.get_height()),\n",
        "                ha='center', va='center',\n",
        "                xytext=(0, 10), textcoords='offset points')\n",
        "\n",
        "plt.xlabel(\"Cluster Key\")\n",
        "plt.ylabel(\"Count of Track\")\n",
        "plt.title(\"Track Count by Cluster Key\")\n",
        "plt.xticks(rotation=45, ha='right')  # Rotate x-axis labels if needed\n",
        "plt.tight_layout()\n",
        "plt.show()"
      ],
      "metadata": {
        "colab": {
          "base_uri": "https://localhost:8080/",
          "height": 487
        },
        "id": "_p23ogN27tR3",
        "outputId": "887a4029-a142-467f-b543-8ef95b09ec3e"
      },
      "execution_count": 95,
      "outputs": [
        {
          "output_type": "display_data",
          "data": {
            "text/plain": [
              "<Figure size 640x480 with 1 Axes>"
            ],
            "image/png": "[encoded data removed]"
          },
          "metadata": {}
        }
      ]
    },
    {
      "cell_type": "markdown",
      "source": [
        "Mode VS Track"
      ],
      "metadata": {
        "id": "8s4YWS469fRi"
      }
    },
    {
      "cell_type": "code",
      "source": [
        "cluster_mode_count = df_final.groupby('Cluster_Mode')['Track'].count().reset_index()\n",
        "\n",
        "\n",
        "track_counts = df_final['Cluster_Mode'].value_counts()\n",
        "\n",
        "plt.figure(figsize=(8, 6))\n",
        "plt.pie(track_counts, labels=track_counts.index, autopct='%1.2f%%',\n",
        "        startangle=90, colors=sns.color_palette('pastel'))\n",
        "plt.title('Track Count by Cluster Mode')\n",
        "plt.show()"
      ],
      "metadata": {
        "colab": {
          "base_uri": "https://localhost:8080/",
          "height": 521
        },
        "id": "Rlozu2TM9mfp",
        "outputId": "e28f09b3-e8f2-4581-b51f-265d2d034825"
      },
      "execution_count": 96,
      "outputs": [
        {
          "output_type": "display_data",
          "data": {
            "text/plain": [
              "<Figure size 800x600 with 1 Axes>"
            ],
            "image/png": "[encoded data removed]"
          },
          "metadata": {}
        }
      ]
    },
    {
      "cell_type": "markdown",
      "source": [
        "Duration VS Track"
      ],
      "metadata": {
        "id": "KubpdFkgC2oy"
      }
    },
    {
      "cell_type": "code",
      "source": [
        "cluster_duration_count = df_final.groupby('Cluster_Duration(Min)')['Track'].count().reset_index()\n",
        "\n",
        "keyplot = sns.barplot(x='Cluster_Duration(Min)', y='Track', data=cluster_key_count,color='#CBC3E3')\n",
        "\n",
        "for p in keyplot.patches:\n",
        "    keyplot.annotate(format(p.get_height(), '.0f'),\n",
        "                (p.get_x() + p.get_width() / 2., p.get_height()),\n",
        "                ha='center', va='center',\n",
        "                xytext=(0, 10), textcoords='offset points')\n",
        "\n",
        "plt.xlabel(\"Cluster Duration\")\n",
        "plt.ylabel(\"Count of Track\")\n",
        "plt.title(\"Track Count by Cluster Duration\")\n",
        "plt.xticks(rotation=45, ha='right')\n",
        "plt.tight_layout()\n",
        "plt.show()"
      ],
      "metadata": {
        "colab": {
          "base_uri": "https://localhost:8080/",
          "height": 487
        },
        "id": "iOzX3kNeTGwy",
        "outputId": "94fd3e0d-b920-4de1-ff77-85bcfa01dea4"
      },
      "execution_count": 101,
      "outputs": [
        {
          "output_type": "display_data",
          "data": {
            "text/plain": [
              "<Figure size 640x480 with 1 Axes>"
            ],
            "image/png": "[encoded data removed]"
          },
          "metadata": {}
        }
      ]
    },
    {
      "cell_type": "markdown",
      "source": [
        "Danceability VS Track"
      ],
      "metadata": {
        "id": "VrDG42oFUapi"
      }
    },
    {
      "cell_type": "code",
      "source": [
        "cluster_dance_count = df_final.groupby('Cluster_Danceability')['Track'].count().reset_index()\n",
        "\n",
        "keyplot = sns.barplot(x='Cluster_Danceability', y='Track', data=cluster_key_count,color='#ADD8E6')\n",
        "\n",
        "for p in keyplot.patches:\n",
        "    keyplot.annotate(format(p.get_height(), '.0f'),\n",
        "                (p.get_x() + p.get_width() / 2., p.get_height()),\n",
        "                ha='center', va='center',\n",
        "                xytext=(0, 10), textcoords='offset points')\n",
        "\n",
        "plt.xlabel(\"Cluster Danceability\")\n",
        "plt.ylabel(\"Count of Track\")\n",
        "plt.title(\"Track Count by Cluster Danceability\")\n",
        "plt.xticks(rotation=45, ha='right')\n",
        "plt.tight_layout()\n",
        "plt.show()"
      ],
      "metadata": {
        "colab": {
          "base_uri": "https://localhost:8080/",
          "height": 487
        },
        "id": "KuFVj8H_UqF-",
        "outputId": "7280cfa5-4473-4f3b-b515-c8ddb116d5b2"
      },
      "execution_count": 108,
      "outputs": [
        {
          "output_type": "display_data",
          "data": {
            "text/plain": [
              "<Figure size 640x480 with 1 Axes>"
            ],
            "image/png": "[encoded data removed]"
          },
          "metadata": {}
        }
      ]
    },
    {
      "cell_type": "markdown",
      "source": [
        "Energy VS Track"
      ],
      "metadata": {
        "id": "WI2EbIFJX0ih"
      }
    },
    {
      "cell_type": "code",
      "source": [
        "cluster_energy_count = df_final.groupby('Cluster_Energy')['Track'].count().reset_index()\n",
        "\n",
        "energy_order = ['Low_Energy', 'Mid_Energy', 'High_Energy']\n",
        "sort_energy_count = cluster_energy_count.sort_values('Cluster_Energy', key=lambda x: x.map({k: i for i, k in enumerate(energy_order)}))\n",
        "\n",
        "\n",
        "eyplot = sns.barplot(x='Cluster_Energy', y='Track', data=cluster_key_count,color='#FFFFE0', order = sort_energy_count['Cluster_Energy'])\n",
        "\n",
        "for p in keyplot.patches:\n",
        "    keyplot.annotate(format(p.get_height(), '.0f'),\n",
        "                (p.get_x() + p.get_width() / 2., p.get_height()),\n",
        "                ha='center', va='center',\n",
        "                xytext=(0, 10), textcoords='offset points')\n",
        "\n",
        "\n",
        "\n",
        "plt.xlabel(\"Cluster Energy\")\n",
        "plt.ylabel(\"Count of Track\")\n",
        "plt.title(\"Track Count by Cluster Energy\")\n",
        "plt.xticks(rotation=45, ha='right')\n",
        "plt.tight_layout()\n",
        "plt.show()"
      ],
      "metadata": {
        "colab": {
          "base_uri": "https://localhost:8080/",
          "height": 487
        },
        "id": "9bn4zkwSXzOV",
        "outputId": "8c3735cb-f8e4-4db3-b396-102f27eefdc4"
      },
      "execution_count": 113,
      "outputs": [
        {
          "output_type": "display_data",
          "data": {
            "text/plain": [
              "<Figure size 640x480 with 1 Axes>"
            ],
            "image/png": "[encoded data removed]"
          },
          "metadata": {}
        }
      ]
    },
    {
      "cell_type": "code",
      "source": [
        "sns.scatterplot(\n",
        "    data=average_data,\n",
        "    x='Average_Energy',\n",
        "    y='Average_Popularity',\n",
        "    hue='Cluster_Energy',  # Legend based on cluster energy\n",
        ")\n",
        "\n",
        "plt.title('Average Energy vs. Average Popularity')\n",
        "plt.xlabel('Average Energy')\n",
        "plt.ylabel('Average Popularity')\n",
        "plt.show("
      ],
      "metadata": {
        "colab": {
          "base_uri": "https://localhost:8080/",
          "height": 106
        },
        "id": "YtAXzKhJdcWg",
        "outputId": "931f1498-a683-45a7-a877-623c8e12267c"
      },
      "execution_count": 114,
      "outputs": [
        {
          "output_type": "error",
          "ename": "SyntaxError",
          "evalue": "incomplete input (<ipython-input-114-41b596bf886e>, line 11)",
          "traceback": [
            "\u001b[0;36m  File \u001b[0;32m\"<ipython-input-114-41b596bf886e>\"\u001b[0;36m, line \u001b[0;32m11\u001b[0m\n\u001b[0;31m    plt.show(\u001b[0m\n\u001b[0m             ^\u001b[0m\n\u001b[0;31mSyntaxError\u001b[0m\u001b[0;31m:\u001b[0m incomplete input\n"
          ]
        }
      ]
    }
  ]
}